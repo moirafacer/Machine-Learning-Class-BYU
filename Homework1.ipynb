{
 "cells": [
  {
   "cell_type": "markdown",
   "metadata": {},
   "source": [
    "# Homework 1"
   ]
  },
  {
   "cell_type": "code",
   "execution_count": 873,
   "metadata": {},
   "outputs": [],
   "source": [
    "import pandas as pd \n",
    "import requests\n",
    "import seaborn as sns\n",
    "import json\n",
    "import sqlite3\n",
    "import datetime"
   ]
  },
  {
   "cell_type": "markdown",
   "metadata": {},
   "source": [
    "## JSON"
   ]
  },
  {
   "cell_type": "markdown",
   "metadata": {},
   "source": [
    "I will first read in a JSON Of Nobel prize winners"
   ]
  },
  {
   "cell_type": "code",
   "execution_count": 874,
   "metadata": {},
   "outputs": [],
   "source": [
    "request_get = requests.get(\"http://api.nobelprize.org/v1/prize.json\")\n",
    "data_dict = json.loads(request_get.text)"
   ]
  },
  {
   "cell_type": "code",
   "execution_count": 875,
   "metadata": {},
   "outputs": [
    {
     "data": {
      "text/plain": [
       "dict_keys(['prizes'])"
      ]
     },
     "execution_count": 875,
     "metadata": {},
     "output_type": "execute_result"
    }
   ],
   "source": [
    "data_dict.keys()"
   ]
  },
  {
   "cell_type": "markdown",
   "metadata": {},
   "source": [
    "Since the data has been read in, my next step is to turn the json into a dataset to determine if it was read in correctly and if there are any errors"
   ]
  },
  {
   "cell_type": "code",
   "execution_count": 876,
   "metadata": {},
   "outputs": [],
   "source": [
    "Nobel = pd.DataFrame(data_dict['prizes'])"
   ]
  },
  {
   "cell_type": "code",
   "execution_count": 877,
   "metadata": {},
   "outputs": [
    {
     "data": {
      "text/html": [
       "<div>\n",
       "<style scoped>\n",
       "    .dataframe tbody tr th:only-of-type {\n",
       "        vertical-align: middle;\n",
       "    }\n",
       "\n",
       "    .dataframe tbody tr th {\n",
       "        vertical-align: top;\n",
       "    }\n",
       "\n",
       "    .dataframe thead th {\n",
       "        text-align: right;\n",
       "    }\n",
       "</style>\n",
       "<table border=\"1\" class=\"dataframe\">\n",
       "  <thead>\n",
       "    <tr style=\"text-align: right;\">\n",
       "      <th></th>\n",
       "      <th>category</th>\n",
       "      <th>laureates</th>\n",
       "      <th>overallMotivation</th>\n",
       "      <th>year</th>\n",
       "    </tr>\n",
       "  </thead>\n",
       "  <tbody>\n",
       "    <tr>\n",
       "      <th>0</th>\n",
       "      <td>physics</td>\n",
       "      <td>[{'id': '960', 'firstname': 'Arthur', 'surname...</td>\n",
       "      <td>“for groundbreaking inventions in the field of...</td>\n",
       "      <td>2018</td>\n",
       "    </tr>\n",
       "    <tr>\n",
       "      <th>1</th>\n",
       "      <td>chemistry</td>\n",
       "      <td>[{'id': '963', 'firstname': 'Frances H.', 'sur...</td>\n",
       "      <td>NaN</td>\n",
       "      <td>2018</td>\n",
       "    </tr>\n",
       "    <tr>\n",
       "      <th>2</th>\n",
       "      <td>medicine</td>\n",
       "      <td>[{'id': '958', 'firstname': 'James P.', 'surna...</td>\n",
       "      <td>NaN</td>\n",
       "      <td>2018</td>\n",
       "    </tr>\n",
       "    <tr>\n",
       "      <th>3</th>\n",
       "      <td>peace</td>\n",
       "      <td>[{'id': '966', 'firstname': 'Denis', 'surname'...</td>\n",
       "      <td>NaN</td>\n",
       "      <td>2018</td>\n",
       "    </tr>\n",
       "    <tr>\n",
       "      <th>4</th>\n",
       "      <td>economics</td>\n",
       "      <td>[{'id': '968', 'firstname': 'William D.', 'sur...</td>\n",
       "      <td>NaN</td>\n",
       "      <td>2018</td>\n",
       "    </tr>\n",
       "  </tbody>\n",
       "</table>\n",
       "</div>"
      ],
      "text/plain": [
       "    category                                          laureates  \\\n",
       "0    physics  [{'id': '960', 'firstname': 'Arthur', 'surname...   \n",
       "1  chemistry  [{'id': '963', 'firstname': 'Frances H.', 'sur...   \n",
       "2   medicine  [{'id': '958', 'firstname': 'James P.', 'surna...   \n",
       "3      peace  [{'id': '966', 'firstname': 'Denis', 'surname'...   \n",
       "4  economics  [{'id': '968', 'firstname': 'William D.', 'sur...   \n",
       "\n",
       "                                   overallMotivation  year  \n",
       "0  “for groundbreaking inventions in the field of...  2018  \n",
       "1                                                NaN  2018  \n",
       "2                                                NaN  2018  \n",
       "3                                                NaN  2018  \n",
       "4                                                NaN  2018  "
      ]
     },
     "execution_count": 877,
     "metadata": {},
     "output_type": "execute_result"
    }
   ],
   "source": [
    "Nobel.head()"
   ]
  },
  {
   "cell_type": "markdown",
   "metadata": {},
   "source": [
    "Another way that I can read I can assess my data is by using .text to get the raw text and analyze it that way"
   ]
  },
  {
   "cell_type": "code",
   "execution_count": 878,
   "metadata": {},
   "outputs": [
    {
     "data": {
      "text/plain": [
       "'{\"prizes\":[{\"year\":\"2018\",\"category\":\"physics\",\"overallMotivation\":\"\\\\u201cfor groundbreaking inventions in the field of laser physics\\\\u201d\",\"laureates\":[{\"id\":\"960\",\"firstname\":\"Arthur\",\"surname\":\"Ashkin\",\"motivation\":\"\\\\\"for the optical tweezers and their application to biological systems\\\\\"\",\"share\":\"2\"},{\"id\":\"961\",\"firstname\":\"G\\\\u00e9rard\",\"surname\":\"Mourou\",\"motivation\":\"\\\\\"for their method of generating high-intensity, ultra-short optical pulses\\\\\"\",\"share\":\"4\"},{\"id\":\"962\",\"firstname\":\"Donna\",\"surname\":\"Strickland\",\"motivation\":\"\\\\\"for their method of generating high-intensity, ultra-short optical pulses\\\\\"\",\"share\":\"4\"}]},{\"year\":\"2018\",\"category\":\"chemistry\",\"laureates\":[{\"id\":\"963\",\"firstname\":\"Frances H.\",\"surname\":\"Arnold\",\"motivation\":\"\\\\\"for the directed evolution of enzymes\\\\\"\",\"share\":\"2\"},{\"id\":\"964\",\"firstname\":\"George P.\",\"surname\":\"Smith\",\"motivation\":\"\\\\\"for the phage display of peptides and antibodies\\\\\"\",\"share\":\"4\"},{\"id\":\"965\",\"firstname\":\"Sir Gregory P.\",\"surname\":\"Winter\",\"motivation\":\"\\\\\"for the phage display of peptides and antibodies\\\\\"\",\"share\":\"4\"}]},{\"year\":\"2018\",\"category\":\"medicine\",\"laureates\":[{\"id\":\"958\",\"firstname\":\"James P.\",\"surname\":\"Allison\",\"motivation\":\"\\\\\"for their discovery of cancer therapy by inhibition of negative immune regulation\\\\\"\",\"share\":\"2\"},{\"id\":\"959\",\"firstname\":\"Tasuku\",\"surname\":\"Honjo\",\"motivation\":\"\\\\\"for their discovery of cancer therapy by inhibition of negative immune regulation\\\\\"\",\"share\":\"2\"}]},{\"year\":\"2018\",\"category\":\"peace\",\"laureates\":[{\"id\":\"966\",\"firstname\":\"Denis\",\"surname\":\"Mukwege\",\"motivation\":\"\\\\\"for their efforts to end the use of sexual violence as a weapon of war and armed conflict\\\\\"\",\"share\":\"2\"},{\"id\":\"967\",\"firstname\":\"Nadia\",\"surname\":\"Murad\",\"motivation\":\"\\\\\"for their efforts to end the use of sexual violence as a weapon of war and armed conflict\\\\\"\",\"share\":\"2\"}]},{\"year\":\"2018\",\"category\":\"economics\",\"laureates\":[{\"id\":\"968\",\"firstname\":\"William D.\",\"surname\":\"Nordhaus\",\"motivation\":\"\\\\\"for integrating climate change into long-run macroeconomic analysis\\\\\"\",\"share\":\"2\"},{\"id\":\"969\",\"firstname\":\"Paul M.\",\"surname\":\"Romer\",\"motivation\":\"\\\\\"for integrating technological innovations into long-run macroeconomic analysis\\\\\"\",\"share\":\"2\"}]},{\"year\":\"2017\",\"category\":\"physics\",\"laureates\":[{\"id\":\"941\",\"firstname\":\"Rainer\",\"surname\":\"Weiss\",\"motivation\":\"\\\\\"for decisive contributions to the LIGO detector and the observation of gravitational waves\\\\\"\",\"share\":\"2\"},{\"id\":\"942\",\"firstname\":\"Barry C.\",\"surname\":\"Barish\",\"motivation\":\"\\\\\"for decisive contributions to the LIGO detector and the observation of gravitational waves\\\\\"\",\"share\":\"4\"},{\"id\":\"943\",\"firstname\":\"Kip S.\",\"surname\":\"Thorne\",\"motivation\":\"\\\\\"for decisive contributions to the LIGO detector and the observation of gravitational waves\\\\\"\",\"share\":\"4\"}]},{\"year\":\"2017\",\"category\":\"chemistry\",\"laureates\":[{\"id\":\"944\",\"firstname\":\"Jacques\",\"surname\":\"Dubochet\",\"motivation\":\"\\\\\"for developing cryo-electron microscopy for the high-resolution structure determination of biomolecules in solution\\\\\"\",\"share\":\"3\"},{\"id\":\"945\",\"firstname\":\"Joachim\",\"surname\":\"Frank\",\"motivation\":\"\\\\\"for developing cryo-electron microscopy for the high-resolution structure determination of biomolecules in solution\\\\\"\",\"share\":\"3\"},{\"id\":\"946\",\"firstname\":\"Richard\",\"surname\":\"Henderson\",\"motivation\":\"\\\\\"for developing cryo-electron microscopy for the high-resolution structure determination of biomolecules in solution\\\\\"\",\"share\":\"3\"}]},{\"year\":\"2017\",\"category\":\"medicine\",\"laureates\":[{\"id\":\"938\",\"firstname\":\"Jeffrey C.\",\"surname\":\"Hall\",\"motivation\":\"\\\\\"for their discoveries of molecular mechanisms controlling the circadian rhythm\\\\\"\",\"share\":\"3\"},{\"id\":\"939\",\"firstname\":\"Michael\",\"surname\":\"Rosbash\",\"motivation\":\"\\\\\"for their discoveries of molecular mechanisms controlling the circadian rhythm\\\\\"\",\"share\":\"3\"},{\"id\":\"940\",\"firstname\":\"Michael W.\",\"surname\":\"Young\",\"motivation\":\"\\\\\"for their discoveries of molecular mechanisms controlling the circadian rhythm\\\\\"\",\"share\":\"3\"}]},{\"year\":\"2017\",\"category\":\"literature\",\"laureates\":[{\"id\":\"947\",\"firstname\":\"Kazuo\",\"surname\":\"Ishiguro\",\"motivation\":\"\\\\\"who, in novels of great emotional force, has uncovered the abyss beneath our illusory sense of connection with the world\\\\\"\",\"share\":\"1\"}]},{\"year\":\"2017\",\"category\":\"peace\",\"laureates\":[{\"id\":\"948\",\"firstname\":\"International Campaign to Abolish Nuclear Weapons (ICAN)\",\"motivation\":\"\\\\\"for its work to draw attention to the catastrophic humanitarian consequences of any use of nuclear weapons and for its ground-breaking efforts to achieve a treaty-based prohibition of such weapons\\\\\"\",\"share\":\"1\",\"surname\":\"\"}]},{\"year\":\"2017\",\"category\":\"economics\",\"laureates\":[{\"id\":\"949\",\"firstname\":\"Richard H.\",\"surname\":\"Thaler\",\"motivation\":\"\\\\\"for his contributions to behavioural economics\\\\\"\",\"share\":\"1\"}]},{\"year\":\"2016\",\"category\":\"physics\",\"laureates\":[{\"id\":\"928\",\"firstname\":\"David J.\",\"surname\":\"Thouless\",\"motivation\":\"\\\\\"for theoretical discoveries of topological phase transitions and topological phases of matter\\\\\"\",\"share\":\"2\"},{\"id\":\"929\",\"firstname\":\"F. Duncan M.\",\"surname\":\"Haldane\",\"motivation\":\"\\\\\"for theoretical discoveries of topological phase transitions and topological phases of matter\\\\\"\",\"share\":\"4\"},{\"id\":\"930\",\"firstname\":\"J. Michael\",\"surname\":\"Kosterlitz\",\"motivation\":\"\\\\\"for theoretical discoveries of topological phase transitions and topological phases of matter\\\\\"\",\"share\":\"4\"}]},{\"year\":\"2016\",\"category\":\"chemistry\",\"laureates\":[{\"id\":\"931\",\"firstname\":\"Jean-Pierre\",\"surname\":\"Sauvage\",\"motivation\":\"\\\\\"for the design and synthesis of molecular machines\\\\\"\",\"share\":\"3\"},{\"id\":\"932\",\"firstname\":\"Sir J. Fraser\",\"surname\":\"Stoddart\",\"motivation\":\"\\\\\"for the design and synthesis of molecular machines\\\\\"\",\"share\":\"3\"},{\"id\":\"933\",\"firstname\":\"Bernard L.\",\"surname\":\"Feringa\",\"motivation\":\"\\\\\"for the design and synthesis of molecular machines\\\\\"\",\"share\":\"3\"}]},{\"year\":\"2016\",\"category\":\"medicine\",\"laureates\":[{\"id\":\"927\",\"firstname\":\"Yoshinori\",\"surname\":\"Ohsumi\",\"motivation\":\"\\\\\"for his discoveries of mechanisms for autophagy\\\\\"\",\"share\":\"1\"}]},{\"year\":\"2016\",\"category\":\"literature\",\"laureates\":[{\"id\":\"937\",\"firstname\":\"Bob\",\"surname\":\"Dylan\",\"motivation\":\"\\\\\"for having created new poetic expressions within the great American song tradition\\\\\"\",\"share\":\"1\"}]},{\"year\":\"2016\",\"category\":\"peace\",\"laureates\":[{\"id\":\"934\",\"firstname\":\"Juan Manuel\",\"surname\":\"Santos\",\"motivation\":\"\\\\\"for his resolute efforts to bring the country\\'s more than 50-year-long civil war to an end\\\\\"\",\"share\":\"1\"}]},{\"year\":\"2016\",\"category\":\"economics\",\"laureates\":[{\"id\":\"935\",\"firstname\":\"Oliver\",\"surname\":\"Hart\",\"motivation\":\"\\\\\"for their contributions to contract theory\\\\\"\",\"share\":\"2\"},{\"id\":\"936\",\"firstname\":\"Bengt\",\"surname\":\"Holmstr\\\\u00f6m\",\"motivation\":\"\\\\\"for their contributions to contract theory\\\\\"\",\"share\":\"2\"}]},{\"year\":\"2015\",\"category\":\"physics\",\"laureates\":[{\"id\":\"919\",\"firstname\":\"Takaaki\",\"surname\":\"Kajita\",\"motivation\":\"\\\\\"for the discovery of neutrino oscillations, which shows that neutrinos have mass\\\\\"\",\"share\":\"2\"},{\"id\":\"920\",\"firstname\":\"Arthur B.\",\"surname\":\"McDonald\",\"motivation\":\"\\\\\"for the discovery of neutrino oscillations, which shows that neutrinos have mass\\\\\"\",\"share\":\"2\"}]},{\"year\":\"2015\",\"category\":\"chemistry\",\"laureates\":[{\"id\":\"921\",\"firstname\":\"Tomas\",\"surname\":\"Lindahl\",\"motivation\":\"\\\\\"for mechanistic studies of DNA repair\\\\\"\",\"share\":\"3\"},{\"id\":\"922\",\"firstname\":\"Paul\",\"surname\":\"Modrich\",\"motivation\":\"\\\\\"for mechanistic studies of DNA repair\\\\\"\",\"share\":\"3\"},{\"id\":\"923\",\"firstname\":\"Aziz\",\"surname\":\"Sancar\",\"motivation\":\"\\\\\"for mechanistic studies of DNA repair\\\\\"\",\"share\":\"3\"}]},{\"year\":\"2015\",\"category\":\"medicine\",\"laureates\":[{\"id\":\"916\",\"firstname\":\"William C.\",\"surname\":\"Campbell\",\"motivation\":\"\\\\\"for their discoveries concerning a novel therapy against infections caused by roundworm parasites\\\\\"\",\"share\":\"4\"},{\"id\":\"917\",\"firstname\":\"Satoshi\",\"surname\":\"\\\\u014cmura\",\"motivation\":\"\\\\\"for their discoveries concerning a novel therapy against infections caused by roundworm parasites\\\\\"\",\"share\":\"4\"},{\"id\":\"918\",\"firstname\":\"Youyou\",\"surname\":\"Tu\",\"motivation\":\"\\\\\"for her discoveries concerning a novel therapy against Malaria\\\\\"\",\"share\":\"2\"}]},{\"year\":\"2015\",\"category\":\"literature\",\"laureates\":[{\"id\":\"924\",\"firstname\":\"Svetlana\",\"surname\":\"Alexievich\",\"motivation\":\"\\\\\"for her polyphonic writings, a monument to suffering and courage in our time\\\\\"\",\"share\":\"1\"}]},{\"year\":\"2015\",\"category\":\"peace\",\"laureates\":[{\"id\":\"925\",\"firstname\":\"National Dialogue Quartet\",\"motivation\":\"\\\\\"for its decisive contribution to the building of a pluralistic democracy in Tunisia in the wake of the Jasmine Revolution of 2011\\\\\"\",\"share\":\"1\",\"surname\":\"\"}]},{\"year\":\"2015\",\"category\":\"economics\",\"laureates\":[{\"id\":\"926\",\"firstname\":\"Angus\",\"surname\":\"Deaton\",\"motivation\":\"\\\\\"for his analysis of consumption, poverty, and welfare\\\\\"\",\"share\":\"1\"}]},{\"year\":\"2014\",\"category\":\"physics\",\"laureates\":[{\"id\":\"906\",\"firstname\":\"Isamu\",\"surname\":\"Akasaki\",\"motivation\":\"\\\\\"for the invention of efficient blue light-emitting diodes which has enabled bright and energy-saving white light sources\\\\\"\",\"share\":\"3\"},{\"id\":\"907\",\"firstname\":\"Hiroshi\",\"surname\":\"Amano\",\"motivation\":\"\\\\\"for the invention of efficient blue light-emitting diodes which has enabled bright and energy-saving white light sources\\\\\"\",\"share\":\"3\"},{\"id\":\"908\",\"firstname\":\"Shuji\",\"surname\":\"Nakamura\",\"motivation\":\"\\\\\"for the invention of efficient blue light-emitting diodes which has enabled bright and energy-saving white light sources\\\\\"\",\"share\":\"3\"}]},{\"year\":\"2014\",\"category\":\"chemistry\",\"laureates\":[{\"id\":\"909\",\"firstname\":\"Eric\",\"surname\":\"Betzig\",\"motivation\":\"\\\\\"for the development of super-resolved fluorescence microscopy\\\\\"\",\"share\":\"3\"},{\"id\":\"910\",\"firstname\":\"Stefan W.\",\"surname\":\"Hell\",\"motivation\":\"\\\\\"for the development of super-resolved fluorescence microscopy\\\\\"\",\"share\":\"3\"},{\"id\":\"911\",\"firstname\":\"William E.\",\"surname\":\"Moerner\",\"motivation\":\"\\\\\"for the development of super-resolved fluorescence microscopy\\\\\"\",\"share\":\"3\"}]},{\"year\":\"2014\",\"category\":\"medicine\",\"laureates\":[{\"id\":\"903\",\"firstname\":\"John\",\"surname\":\"O\\'Keefe\",\"motivation\":\"\\\\\"for their discoveries of cells that constitute a positioning system in the brain\\\\\"\",\"share\":\"2\"},{\"id\":\"904\",\"firstname\":\"May-Britt\",\"surname\":\"Moser\",\"motivation\":\"\\\\\"for their discoveries of cells that constitute a positioning system in the brain\\\\\"\",\"share\":\"4\"},{\"id\":\"905\",\"firstname\":\"Edvard I.\",\"surname\":\"Moser\",\"motivation\":\"\\\\\"for their discoveries of cells that constitute a positioning system in the brain\\\\\"\",\"share\":\"4\"}]},{\"year\":\"2014\",\"category\":\"literature\",\"laureates\":[{\"id\":\"912\",\"firstname\":\"Patrick\",\"surname\":\"Modiano\",\"motivation\":\"\\\\\"for the art of memory with which he has evoked the most ungraspable human destinies and\\\\r\\\\nuncovered the life-world of the occupation\\\\\"\",\"share\":\"1\"}]},{\"year\":\"2014\",\"category\":\"peace\",\"laureates\":[{\"id\":\"913\",\"firstname\":\"Kailash\",\"surname\":\"Satyarthi\",\"motivation\":\"\\\\\"for their struggle against the suppression of children and young people and for the right of all children to education\\\\\"\",\"share\":\"2\"},{\"id\":\"914\",\"firstname\":\"Malala\",\"surname\":\"Yousafzai\",\"motivation\":\"\\\\\"for their struggle against the suppression of children and young people and for the right of all children to education\\\\\"\",\"share\":\"2\"}]},{\"year\":\"2014\",\"category\":\"economics\",\"laureates\":[{\"id\":\"915\",\"firstname\":\"Jean\",\"surname\":\"Tirole\",\"motivation\":\"\\\\\"for his analysis of market power and regulation\\\\\"\",\"share\":\"1\"}]},{\"year\":\"2013\",\"category\":\"physics\",\"laureates\":[{\"id\":\"887\",\"firstname\":\"Fran\\\\u00e7ois\",\"surname\":\"Englert\",\"motivation\":\"\\\\\"for the theoretical discovery of a mechanism that contributes to our understanding of the origin of mass of subatomic particles, and which recently was confirmed through the discovery of the predicted fundamental particle, by the ATLAS and CMS experiments at CERN\\'s Large Hadron Collider\\\\\"\",\"share\":\"2\"},{\"id\":\"888\",\"firstname\":\"Peter W.\",\"surname\":\"Higgs\",\"motivation\":\"\\\\\"for the theoretical discovery of a mechanism that contributes to our understanding of the origin of mass of subatomic particles, and which recently was confirmed through the discovery of the predicted fundamental particle, by the ATLAS and CMS experiments at CERN\\'s Large Hadron Collider\\\\\"\",\"share\":\"2\"}]},{\"year\":\"2013\",\"category\":\"chemistry\",\"laureates\":[{\"id\":\"889\",\"firstname\":\"Martin\",\"surname\":\"Karplus\",\"motivation\":\"\\\\\"for the development of multiscale models for complex chemical systems\\\\\"\",\"share\":\"3\"},{\"id\":\"890\",\"firstname\":\"Michael\",\"surname\":\"Levitt\",\"motivation\":\"\\\\\"for the development of multiscale models for complex chemical systems\\\\\"\",\"share\":\"3\"},{\"id\":\"891\",\"firstname\":\"Arieh\",\"surname\":\"Warshel\",\"motivation\":\"\\\\\"for the development of multiscale models for complex chemical systems\\\\\"\",\"share\":\"3\"}]},{\"year\":\"2013\",\"category\":\"medicine\",\"laureates\":[{\"id\":\"884\",\"firstname\":\"James E.\",\"surname\":\"Rothman\",\"motivation\":\"\\\\\"for their discoveries of machinery regulating vesicle traffic, a major transport system in our cells\\\\\"\",\"share\":\"3\"},{\"id\":\"885\",\"firstname\":\"Randy W.\",\"surname\":\"Schekman\",\"motivation\":\"\\\\\"for their discoveries of machinery regulating vesicle traffic, a major transport system in our cells\\\\\"\",\"share\":\"3\"},{\"id\":\"886\",\"firstname\":\"Thomas C.\",\"surname\":\"S\\\\u00fcdhof\",\"motivation\":\"\\\\\"for their discoveries of machinery regulating vesicle traffic, a major transport system in our cells\\\\\"\",\"share\":\"3\"}]},{\"year\":\"2013\",\"category\":\"literature\",\"laureates\":[{\"id\":\"892\",\"firstname\":\"Alice\",\"surname\":\"Munro\",\"motivation\":\"\\\\\"master of the contemporary short story\\\\\"\",\"share\":\"1\"}]},{\"year\":\"2013\",\"category\":\"peace\",\"laureates\":[{\"id\":\"893\",\"firstname\":\"Organisation for the Prohibition of Chemical Weapons (OPCW)\",\"motivation\":\"\\\\\"for its extensive efforts to eliminate chemical weapons\\\\\"\",\"share\":\"1\",\"surname\":\"\"}]},{\"year\":\"2013\",\"category\":\"economics\",\"laureates\":[{\"id\":\"894\",\"firstname\":\"Eugene F.\",\"surname\":\"Fama\",\"motivation\":\"\\\\\"for their empirical analysis of asset prices\\\\\"\",\"share\":\"3\"},{\"id\":\"895\",\"firstname\":\"Lars Peter\",\"surname\":\"Hansen\",\"motivation\":\"\\\\\"for their empirical analysis of asset prices\\\\\"\",\"share\":\"3\"},{\"id\":\"896\",\"firstname\":\"Robert J.\",\"surname\":\"Shiller\",\"motivation\":\"\\\\\"for their empirical analysis of asset prices\\\\\"\",\"share\":\"3\"}]},{\"year\":\"2012\",\"category\":\"physics\",\"laureates\":[{\"id\":\"876\",\"firstname\":\"Serge\",\"surname\":\"Haroche\",\"motivation\":\"\\\\\"for ground-breaking experimental methods that enable measuring and manipulation of individual quantum systems\\\\\"\",\"share\":\"2\"},{\"id\":\"877\",\"firstname\":\"David J.\",\"surname\":\"Wineland\",\"motivation\":\"\\\\\"for ground-breaking experimental methods that enable measuring and manipulation of individual quantum systems\\\\\"\",\"share\":\"2\"}]},{\"year\":\"2012\",\"category\":\"chemistry\",\"laureates\":[{\"id\":\"878\",\"firstname\":\"Robert J.\",\"surname\":\"Lefkowitz\",\"motivation\":\"\\\\\"for studies of G-protein-coupled receptors\\\\\"\",\"share\":\"2\"},{\"id\":\"879\",\"firstname\":\"Brian K.\",\"surname\":\"Kobilka\",\"motivation\":\"\\\\\"for studies of G-protein-coupled receptors\\\\\"\",\"share\":\"2\"}]},{\"year\":\"2012\",\"category\":\"medicine\",\"laureates\":[{\"id\":\"874\",\"firstname\":\"Sir John B.\",\"surname\":\"Gurdon\",\"motivation\":\"\\\\\"for the discovery that mature cells can be reprogrammed to become pluripotent\\\\\"\",\"share\":\"2\"},{\"id\":\"875\",\"firstname\":\"Shinya\",\"surname\":\"Yamanaka\",\"motivation\":\"\\\\\"for the discovery that mature cells can be reprogrammed to become pluripotent\\\\\"\",\"share\":\"2\"}]},{\"year\":\"2012\",\"category\":\"literature\",\"laureates\":[{\"id\":\"880\",\"firstname\":\"Mo\",\"surname\":\"Yan\",\"motivation\":\"\\\\\"who with hallucinatory realism merges folk tales, history and the contemporary\\\\\"\",\"share\":\"1\"}]},{\"year\":\"2012\",\"category\":\"peace\",\"laureates\":[{\"id\":\"881\",\"firstname\":\"European Union (EU)\",\"motivation\":\"\\\\\"for over six decades contributed to the advancement of peace and reconciliation, democracy and human rights in Europe\\\\\"\",\"share\":\"1\",\"surname\":\"\"}]},{\"year\":\"2012\",\"category\":\"economics\",\"laureates\":[{\"id\":\"882\",\"firstname\":\"Alvin E.\",\"surname\":\"Roth\",\"motivation\":\"\\\\\"for the theory of stable allocations and the practice of market design\\\\\"\",\"share\":\"2\"},{\"id\":\"883\",\"firstname\":\"Lloyd S.\",\"surname\":\"Shapley\",\"motivation\":\"\\\\\"for the theory of stable allocations and the practice of market design\\\\\"\",\"share\":\"2\"}]},{\"year\":\"2011\",\"category\":\"physics\",\"laureates\":[{\"id\":\"864\",\"firstname\":\"Saul\",\"surname\":\"Perlmutter\",\"motivation\":\"\\\\\"for the discovery of the accelerating expansion of the Universe through observations of distant supernovae\\\\\"\",\"share\":\"2\"},{\"id\":\"865\",\"firstname\":\"Brian P.\",\"surname\":\"Schmidt\",\"motivation\":\"\\\\\"for the discovery of the accelerating expansion of the Universe through observations of distant supernovae\\\\\"\",\"share\":\"4\"},{\"id\":\"866\",\"firstname\":\"Adam G.\",\"surname\":\"Riess\",\"motivation\":\"\\\\\"for the discovery of the accelerating expansion of the Universe through observations of distant supernovae\\\\\"\",\"share\":\"4\"}]},{\"year\":\"2011\",\"category\":\"chemistry\",\"laureates\":[{\"id\":\"867\",\"firstname\":\"Dan\",\"surname\":\"Shechtman\",\"motivation\":\"\\\\\"for the discovery of quasicrystals\\\\\"\",\"share\":\"1\"}]},{\"year\":\"2011\",\"category\":\"medicine\",\"laureates\":[{\"id\":\"861\",\"firstname\":\"Bruce A.\",\"surname\":\"Beutler\",\"motivation\":\"\\\\\"for their discoveries concerning the activation of innate immunity\\\\\"\",\"share\":\"4\"},{\"id\":\"862\",\"firstname\":\"Jules A.\",\"surname\":\"Hoffmann\",\"motivation\":\"\\\\\"for their discoveries concerning the activation of innate immunity\\\\\"\",\"share\":\"4\"},{\"id\":\"863\",\"firstname\":\"Ralph M.\",\"surname\":\"Steinman\",\"motivation\":\"\\\\\"for his discovery of the dendritic cell and its role in adaptive immunity\\\\\"\",\"share\":\"2\"}]},{\"year\":\"2011\",\"category\":\"literature\",\"laureates\":[{\"id\":\"868\",\"firstname\":\"Tomas\",\"surname\":\"Transtr\\\\u00f6mer\",\"motivation\":\"\\\\\"because, through his condensed, translucent images, he gives us fresh access to reality\\\\\"\",\"share\":\"1\"}]},{\"year\":\"2011\",\"category\":\"peace\",\"laureates\":[{\"id\":\"869\",\"firstname\":\"Ellen\",\"surname\":\"Johnson Sirleaf\",\"motivation\":\"\\\\\"for their non-violent struggle for the safety of women and for women&apos;s rights to full participation in peace-building work\\\\\"\",\"share\":\"3\"},{\"id\":\"870\",\"firstname\":\"Leymah\",\"surname\":\"Gbowee\",\"motivation\":\"\\\\\"for their non-violent struggle for the safety of women and for women&apos;s rights to full participation in peace-building work\\\\\"\",\"share\":\"3\"},{\"id\":\"871\",\"firstname\":\"Tawakkol\",\"surname\":\"Karman\",\"motivation\":\"\\\\\"for their non-violent struggle for the safety of women and for women&apos;s rights to full participation in peace-building work\\\\\"\",\"share\":\"3\"}]},{\"year\":\"2011\",\"category\":\"economics\",\"laureates\":[{\"id\":\"872\",\"firstname\":\"Thomas J.\",\"surname\":\"Sargent\",\"motivation\":\"\\\\\"for their empirical research on cause and effect in the macroeconomy\\\\\"\",\"share\":\"2\"},{\"id\":\"873\",\"firstname\":\"Christopher A.\",\"surname\":\"Sims\",\"motivation\":\"\\\\\"for their empirical research on cause and effect in the macroeconomy\\\\\"\",\"share\":\"2\"}]},{\"year\":\"2010\",\"category\":\"physics\",\"laureates\":[{\"id\":\"849\",\"firstname\":\"Andre\",\"surname\":\"Geim\",\"motivation\":\"\\\\\"for groundbreaking experiments regarding the two-dimensional material graphene\\\\\"\",\"share\":\"2\"},{\"id\":\"850\",\"firstname\":\"Konstantin\",\"surname\":\"Novoselov\",\"motivation\":\"\\\\\"for groundbreaking experiments regarding the two-dimensional material graphene\\\\\"\",\"share\":\"2\"}]},{\"year\":\"2010\",\"category\":\"chemistry\",\"laureates\":[{\"id\":\"851\",\"firstname\":\"Richard F.\",\"surname\":\"Heck\",\"motivation\":\"\\\\\"for palladium-catalyzed cross couplings in organic synthesis\\\\\"\",\"share\":\"3\"},{\"id\":\"852\",\"firstname\":\"Ei-ichi\",\"surname\":\"Negishi\",\"motivation\":\"\\\\\"for palladium-catalyzed cross couplings in organic synthesis\\\\\"\",\"share\":\"3\"},{\"id\":\"853\",\"firstname\":\"Akira\",\"surname\":\"Suzuki\",\"motivation\":\"\\\\\"for palladium-catalyzed cross couplings in organic synthesis\\\\\"\",\"share\":\"3\"}]},{\"year\":\"2010\",\"category\":\"medicine\",\"laureates\":[{\"id\":\"848\",\"firstname\":\"Robert G.\",\"surname\":\"Edwards\",\"motivation\":\"\\\\\"for the development of in vitro fertilization\\\\\"\",\"share\":\"1\"}]},{\"year\":\"2010\",\"category\":\"literature\",\"laureates\":[{\"id\":\"854\",\"firstname\":\"Mario\",\"surname\":\"Vargas Llosa\",\"motivation\":\"\\\\\"for his cartography of structures of power and his trenchant images of the individual\\'s resistance, revolt, and defeat\\\\\"\",\"share\":\"1\"}]},{\"year\":\"2010\",\"category\":\"peace\",\"laureates\":[{\"id\":\"855\",\"firstname\":\"Liu\",\"surname\":\"Xiaobo\",\"motivation\":\"\\\\\"for his long and non-violent struggle for fundamental human rights in China\\\\\"\",\"share\":\"1\"}]},{\"year\":\"2010\",\"category\":\"economics\",\"laureates\":[{\"id\":\"856\",\"firstname\":\"Peter A.\",\"surname\":\"Diamond\",\"motivation\":\"\\\\\"for their analysis of markets with search frictions\\\\\"\",\"share\":\"3\"},{\"id\":\"857\",\"firstname\":\"Dale T.\",\"surname\":\"Mortensen\",\"motivation\":\"\\\\\"for their analysis of markets with search frictions\\\\\"\",\"share\":\"3\"},{\"id\":\"858\",\"firstname\":\"Christopher A.\",\"surname\":\"Pissarides\",\"motivation\":\"\\\\\"for their analysis of markets with search frictions\\\\\"\",\"share\":\"3\"}]},{\"year\":\"2009\",\"category\":\"physics\",\"laureates\":[{\"id\":\"838\",\"firstname\":\"Charles Kuen\",\"surname\":\"Kao\",\"motivation\":\"\\\\\"for groundbreaking achievements concerning the transmission of light in fibers for optical communication\\\\\"\",\"share\":\"2\"},{\"id\":\"839\",\"firstname\":\"Willard S.\",\"surname\":\"Boyle\",\"motivation\":\"\\\\\"for the invention of an imaging semiconductor circuit - the CCD sensor\\\\\"\",\"share\":\"4\"},{\"id\":\"840\",\"firstname\":\"George E.\",\"surname\":\"Smith\",\"motivation\":\"\\\\\"for the invention of an imaging semiconductor circuit - the CCD sensor\\\\\"\",\"share\":\"4\"}]},{\"year\":\"2009\",\"category\":\"chemistry\",\"laureates\":[{\"id\":\"841\",\"firstname\":\"Venkatraman\",\"surname\":\"Ramakrishnan\",\"motivation\":\"\\\\\"for studies of the structure and function of the ribosome\\\\\"\",\"share\":\"3\"},{\"id\":\"842\",\"firstname\":\"Thomas A.\",\"surname\":\"Steitz\",\"motivation\":\"\\\\\"for studies of the structure and function of the ribosome\\\\\"\",\"share\":\"3\"},{\"id\":\"843\",\"firstname\":\"Ada E.\",\"surname\":\"Yonath\",\"motivation\":\"\\\\\"for studies of the structure and function of the ribosome\\\\\"\",\"share\":\"3\"}]},{\"year\":\"2009\",\"category\":\"medicine\",\"laureates\":[{\"id\":\"835\",\"firstname\":\"Elizabeth H.\",\"surname\":\"Blackburn\",\"motivation\":\"\\\\\"for the discovery of how chromosomes are protected by telomeres and the enzyme telomerase\\\\\"\",\"share\":\"3\"},{\"id\":\"836\",\"firstname\":\"Carol W.\",\"surname\":\"Greider\",\"motivation\":\"\\\\\"for the discovery of how chromosomes are protected by telomeres and the enzyme telomerase\\\\\"\",\"share\":\"3\"},{\"id\":\"837\",\"firstname\":\"Jack W.\",\"surname\":\"Szostak\",\"motivation\":\"\\\\\"for the discovery of how chromosomes are protected by telomeres and the enzyme telomerase\\\\\"\",\"share\":\"3\"}]},{\"year\":\"2009\",\"category\":\"literature\",\"laureates\":[{\"id\":\"844\",\"firstname\":\"Herta\",\"surname\":\"M\\\\u00fcller\",\"motivation\":\"\\\\\"who, with the concentration of poetry and the frankness of prose, depicts the landscape of the dispossessed\\\\\"\",\"share\":\"1\"}]},{\"year\":\"2009\",\"category\":\"peace\",\"laureates\":[{\"id\":\"845\",\"firstname\":\"Barack H.\",\"surname\":\"Obama\",\"motivation\":\"\\\\\"for his extraordinary efforts to strengthen international diplomacy and cooperation between peoples\\\\\"\",\"share\":\"1\"}]},{\"year\":\"2009\",\"category\":\"economics\",\"laureates\":[{\"id\":\"846\",\"firstname\":\"Elinor\",\"surname\":\"Ostrom\",\"motivation\":\"\\\\\"for her analysis of economic governance, especially the commons\\\\\"\",\"share\":\"2\"},{\"id\":\"847\",\"firstname\":\"Oliver E.\",\"surname\":\"Williamson\",\"motivation\":\"\\\\\"for his analysis of economic governance, especially the boundaries of the firm\\\\\"\",\"share\":\"2\"}]},{\"year\":\"2008\",\"category\":\"physics\",\"laureates\":[{\"id\":\"826\",\"firstname\":\"Yoichiro\",\"surname\":\"Nambu\",\"motivation\":\"\\\\\"for the discovery of the mechanism of spontaneous broken symmetry in subatomic physics\\\\\"\",\"share\":\"2\"},{\"id\":\"827\",\"firstname\":\"Makoto\",\"surname\":\"Kobayashi\",\"motivation\":\"\\\\\"for the discovery of the origin of the broken symmetry which predicts the existence of at least three families of quarks in nature\\\\\"\",\"share\":\"4\"},{\"id\":\"828\",\"firstname\":\"Toshihide\",\"surname\":\"Maskawa\",\"motivation\":\"\\\\\"for the discovery of the origin of the broken symmetry which predicts the existence of at least three families of quarks in nature\\\\\"\",\"share\":\"4\"}]},{\"year\":\"2008\",\"category\":\"chemistry\",\"laureates\":[{\"id\":\"829\",\"firstname\":\"Osamu\",\"surname\":\"Shimomura\",\"motivation\":\"\\\\\"for the discovery and development of the green fluorescent protein, GFP\\\\\"\",\"share\":\"3\"},{\"id\":\"830\",\"firstname\":\"Martin\",\"surname\":\"Chalfie\",\"motivation\":\"\\\\\"for the discovery and development of the green fluorescent protein, GFP\\\\\"\",\"share\":\"3\"},{\"id\":\"831\",\"firstname\":\"Roger Y.\",\"surname\":\"Tsien\",\"motivation\":\"\\\\\"for the discovery and development of the green fluorescent protein, GFP\\\\\"\",\"share\":\"3\"}]},{\"year\":\"2008\",\"category\":\"medicine\",\"laureates\":[{\"id\":\"823\",\"firstname\":\"Harald\",\"surname\":\"zur Hausen\",\"motivation\":\"\\\\\"for his discovery of human papilloma viruses causing cervical cancer\\\\\"\",\"share\":\"2\"},{\"id\":\"824\",\"firstname\":\"Fran\\\\u00e7oise\",\"surname\":\"Barr\\\\u00e9-Sinoussi\",\"motivation\":\"\\\\\"for their discovery of human immunodeficiency virus\\\\\"\",\"share\":\"4\"},{\"id\":\"825\",\"firstname\":\"Luc\",\"surname\":\"Montagnier\",\"motivation\":\"\\\\\"for their discovery of human immunodeficiency virus\\\\\"\",\"share\":\"4\"}]},{\"year\":\"2008\",\"category\":\"literature\",\"laureates\":[{\"id\":\"832\",\"firstname\":\"Jean-Marie Gustave\",\"surname\":\"Le Cl\\\\u00e9zio\",\"motivation\":\"\\\\\"author of new departures, poetic adventure and sensual ecstasy, explorer of a humanity beyond and below the reigning civilization\\\\\"\",\"share\":\"1\"}]},{\"year\":\"2008\",\"category\":\"peace\",\"laureates\":[{\"id\":\"833\",\"firstname\":\"Martti\",\"surname\":\"Ahtisaari\",\"motivation\":\"\\\\\"for his important efforts, on several continents and over more than three decades, to resolve international conflicts\\\\\"\",\"share\":\"1\"}]},{\"year\":\"2008\",\"category\":\"economics\",\"laureates\":[{\"id\":\"834\",\"firstname\":\"Paul\",\"surname\":\"Krugman\",\"motivation\":\"\\\\\"for his analysis of trade patterns and location of economic activity\\\\\"\",\"share\":\"1\"}]},{\"year\":\"2007\",\"category\":\"physics\",\"laureates\":[{\"id\":\"814\",\"firstname\":\"Albert\",\"surname\":\"Fert\",\"motivation\":\"\\\\\"for the discovery of Giant Magnetoresistance\\\\\"\",\"share\":\"2\"},{\"id\":\"815\",\"firstname\":\"Peter\",\"surname\":\"Gr\\\\u00fcnberg\",\"motivation\":\"\\\\\"for the discovery of Giant Magnetoresistance\\\\\"\",\"share\":\"2\"}]},{\"year\":\"2007\",\"category\":\"chemistry\",\"laureates\":[{\"id\":\"816\",\"firstname\":\"Gerhard\",\"surname\":\"Ertl\",\"motivation\":\"\\\\\"for his studies of chemical processes on solid surfaces\\\\\"\",\"share\":\"1\"}]},{\"year\":\"2007\",\"category\":\"medicine\",\"laureates\":[{\"id\":\"811\",\"firstname\":\"Mario R.\",\"surname\":\"Capecchi\",\"motivation\":\"\\\\\"for their discoveries of principles for introducing specific gene modifications in mice by the use of embryonic stem cells\\\\\"\",\"share\":\"3\"},{\"id\":\"812\",\"firstname\":\"Sir Martin J.\",\"surname\":\"Evans\",\"motivation\":\"\\\\\"for their discoveries of principles for introducing specific gene modifications in mice by the use of embryonic stem cells\\\\\"\",\"share\":\"3\"},{\"id\":\"813\",\"firstname\":\"Oliver\",\"surname\":\"Smithies\",\"motivation\":\"\\\\\"for their discoveries of principles for introducing specific gene modifications in mice by the use of embryonic stem cells\\\\\"\",\"share\":\"3\"}]},{\"year\":\"2007\",\"category\":\"literature\",\"laureates\":[{\"id\":\"817\",\"firstname\":\"Doris\",\"surname\":\"Lessing\",\"motivation\":\"\\\\\"that epicist of the female experience, who with scepticism, fire and visionary power has subjected a divided civilisation to scrutiny\\\\\"\",\"share\":\"1\"}]},{\"year\":\"2007\",\"category\":\"peace\",\"laureates\":[{\"id\":\"818\",\"firstname\":\"Intergovernmental Panel on Climate Change (IPCC)\",\"motivation\":\"\\\\\"for their efforts to build up and disseminate greater knowledge about man-made climate change, and to lay the foundations for the measures that are needed to counteract such change\\\\\"\",\"share\":\"2\",\"surname\":\"\"},{\"id\":\"819\",\"firstname\":\"Albert Arnold (Al)\",\"surname\":\"Gore Jr.\",\"motivation\":\"\\\\\"for their efforts to build up and disseminate greater knowledge about man-made climate change, and to lay the foundations for the measures that are needed to counteract such change\\\\\"\",\"share\":\"2\"}]},{\"year\":\"2007\",\"category\":\"economics\",\"laureates\":[{\"id\":\"820\",\"firstname\":\"Leonid\",\"surname\":\"Hurwicz\",\"motivation\":\"\\\\\"for having laid the foundations of mechanism design theory\\\\\"\",\"share\":\"3\"},{\"id\":\"821\",\"firstname\":\"Eric S.\",\"surname\":\"Maskin\",\"motivation\":\"\\\\\"for having laid the foundations of mechanism design theory\\\\\"\",\"share\":\"3\"},{\"id\":\"822\",\"firstname\":\"Roger B.\",\"surname\":\"Myerson\",\"motivation\":\"\\\\\"for having laid the foundations of mechanism design theory\\\\\"\",\"share\":\"3\"}]},{\"year\":\"2006\",\"category\":\"physics\",\"laureates\":[{\"id\":\"804\",\"firstname\":\"John C.\",\"surname\":\"Mather\",\"motivation\":\"\\\\\"for their discovery of the blackbody form and anisotropy of the cosmic microwave background radiation\\\\\"\",\"share\":\"2\"},{\"id\":\"805\",\"firstname\":\"George F.\",\"surname\":\"Smoot\",\"motivation\":\"\\\\\"for their discovery of the blackbody form and anisotropy of the cosmic microwave background radiation\\\\\"\",\"share\":\"2\"}]},{\"year\":\"2006\",\"category\":\"chemistry\",\"laureates\":[{\"id\":\"806\",\"firstname\":\"Roger D.\",\"surname\":\"Kornberg\",\"motivation\":\"\\\\\"for his studies of the molecular basis of eukaryotic transcription\\\\\"\",\"share\":\"1\"}]},{\"year\":\"2006\",\"category\":\"medicine\",\"laureates\":[{\"id\":\"802\",\"firstname\":\"Andrew Z.\",\"surname\":\"Fire\",\"motivation\":\"\\\\\"for their discovery of RNA interference - gene silencing by double-stranded RNA\\\\\"\",\"share\":\"2\"},{\"id\":\"803\",\"firstname\":\"Craig C.\",\"surname\":\"Mello\",\"motivation\":\"\\\\\"for their discovery of RNA interference - gene silencing by double-stranded RNA\\\\\"\",\"share\":\"2\"}]},{\"year\":\"2006\",\"category\":\"literature\",\"laureates\":[{\"id\":\"808\",\"firstname\":\"Orhan\",\"surname\":\"Pamuk\",\"motivation\":\"\\\\\"who in the quest for the melancholic soul of his native city has discovered new symbols for the clash and interlacing of cultures\\\\\"\",\"share\":\"1\"}]},{\"year\":\"2006\",\"category\":\"peace\",\"laureates\":[{\"id\":\"809\",\"firstname\":\"Muhammad\",\"surname\":\"Yunus\",\"motivation\":\"\\\\\"for their efforts to create economic and social development from below\\\\\"\",\"share\":\"2\"},{\"id\":\"810\",\"firstname\":\"Grameen Bank\",\"motivation\":\"\\\\\"for their efforts to create economic and social development from below\\\\\"\",\"share\":\"2\",\"surname\":\"\"}]},{\"year\":\"2006\",\"category\":\"economics\",\"laureates\":[{\"id\":\"807\",\"firstname\":\"Edmund S.\",\"surname\":\"Phelps\",\"motivation\":\"\\\\\"for his analysis of intertemporal tradeoffs in macroeconomic policy\\\\\"\",\"share\":\"1\"}]},{\"year\":\"2005\",\"category\":\"physics\",\"laureates\":[{\"id\":\"791\",\"firstname\":\"Roy J.\",\"surname\":\"Glauber\",\"motivation\":\"\\\\\"for his contribution to the quantum theory of optical coherence\\\\\"\",\"share\":\"2\"},{\"id\":\"792\",\"firstname\":\"John L.\",\"surname\":\"Hall\",\"motivation\":\"\\\\\"for their contributions to the development of laser-based precision spectroscopy, including the optical frequency comb technique\\\\\"\",\"share\":\"4\"},{\"id\":\"793\",\"firstname\":\"Theodor W.\",\"surname\":\"H\\\\u00e4nsch\",\"motivation\":\"\\\\\"for their contributions to the development of laser-based precision spectroscopy, including the optical frequency comb technique\\\\\"\",\"share\":\"4\"}]},{\"year\":\"2005\",\"category\":\"chemistry\",\"laureates\":[{\"id\":\"794\",\"firstname\":\"Yves\",\"surname\":\"Chauvin\",\"motivation\":\"\\\\\"for the development of the metathesis method in organic synthesis\\\\\"\",\"share\":\"3\"},{\"id\":\"795\",\"firstname\":\"Robert H.\",\"surname\":\"Grubbs\",\"motivation\":\"\\\\\"for the development of the metathesis method in organic synthesis\\\\\"\",\"share\":\"3\"},{\"id\":\"796\",\"firstname\":\"Richard R.\",\"surname\":\"Schrock\",\"motivation\":\"\\\\\"for the development of the metathesis method in organic synthesis\\\\\"\",\"share\":\"3\"}]},{\"year\":\"2005\",\"category\":\"medicine\",\"laureates\":[{\"id\":\"789\",\"firstname\":\"Barry J.\",\"surname\":\"Marshall\",\"motivation\":\"\\\\\"for their discovery of the bacterium <i>Helicobacter pylori<\\\\/i> and its role in gastritis and peptic ulcer disease\\\\\"\",\"share\":\"2\"},{\"id\":\"790\",\"firstname\":\"J. Robin\",\"surname\":\"Warren\",\"motivation\":\"\\\\\"for their discovery of the bacterium <i>Helicobacter pylori<\\\\/i> and its role in gastritis and peptic ulcer disease\\\\\"\",\"share\":\"2\"}]},{\"year\":\"2005\",\"category\":\"literature\",\"laureates\":[{\"id\":\"801\",\"firstname\":\"Harold\",\"surname\":\"Pinter\",\"motivation\":\"\\\\\"who in his plays uncovers the precipice under everyday prattle and forces entry into oppression\\'s closed rooms\\\\\"\",\"share\":\"1\"}]},{\"year\":\"2005\",\"category\":\"peace\",\"laureates\":[{\"id\":\"797\",\"firstname\":\"International Atomic Energy Agency (IAEA)\",\"motivation\":\"\\\\\"for their efforts to prevent nuclear energy from being used for military purposes and to ensure that nuclear energy for peaceful purposes is used in the safest possible way\\\\\"\",\"share\":\"2\",\"surname\":\"\"},{\"id\":\"798\",\"firstname\":\"Mohamed\",\"surname\":\"ElBaradei\",\"motivation\":\"\\\\\"for their efforts to prevent nuclear energy from being used for military purposes and to ensure that nuclear energy for peaceful purposes is used in the safest possible way\\\\\"\",\"share\":\"2\"}]},{\"year\":\"2005\",\"category\":\"economics\",\"laureates\":[{\"id\":\"799\",\"firstname\":\"Robert J.\",\"surname\":\"Aumann\",\"motivation\":\"\\\\\"for having enhanced our understanding of conflict and cooperation through game-theory analysis\\\\\"\",\"share\":\"2\"},{\"id\":\"800\",\"firstname\":\"Thomas C.\",\"surname\":\"Schelling\",\"motivation\":\"\\\\\"for having enhanced our understanding of conflict and cooperation through game-theory analysis\\\\\"\",\"share\":\"2\"}]},{\"year\":\"2004\",\"category\":\"physics\",\"laureates\":[{\"id\":\"776\",\"firstname\":\"David J.\",\"surname\":\"Gross\",\"motivation\":\"\\\\\"for the discovery of asymptotic freedom in the theory of the strong interaction\\\\\"\",\"share\":\"3\"},{\"id\":\"777\",\"firstname\":\"H. David\",\"surname\":\"Politzer\",\"motivation\":\"\\\\\"for the discovery of asymptotic freedom in the theory of the strong interaction\\\\\"\",\"share\":\"3\"},{\"id\":\"778\",\"firstname\":\"Frank\",\"surname\":\"Wilczek\",\"motivation\":\"\\\\\"for the discovery of asymptotic freedom in the theory of the strong interaction\\\\\"\",\"share\":\"3\"}]},{\"year\":\"2004\",\"category\":\"chemistry\",\"laureates\":[{\"id\":\"779\",\"firstname\":\"Aaron\",\"surname\":\"Ciechanover\",\"motivation\":\"\\\\\"for the discovery of ubiquitin-mediated protein degradation\\\\\"\",\"share\":\"3\"},{\"id\":\"780\",\"firstname\":\"Avram\",\"surname\":\"Hershko\",\"motivation\":\"\\\\\"for the discovery of ubiquitin-mediated protein degradation\\\\\"\",\"share\":\"3\"},{\"id\":\"781\",\"firstname\":\"Irwin\",\"surname\":\"Rose\",\"motivation\":\"\\\\\"for the discovery of ubiquitin-mediated protein degradation\\\\\"\",\"share\":\"3\"}]},{\"year\":\"2004\",\"category\":\"medicine\",\"laureates\":[{\"id\":\"774\",\"firstname\":\"Richard\",\"surname\":\"Axel\",\"motivation\":\"\\\\\"for their discoveries of odorant receptors and the organization of the olfactory system\\\\\"\",\"share\":\"2\"},{\"id\":\"775\",\"firstname\":\"Linda B.\",\"surname\":\"Buck\",\"motivation\":\"\\\\\"for their discoveries of odorant receptors and the organization of the olfactory system\\\\\"\",\"share\":\"2\"}]},{\"year\":\"2004\",\"category\":\"literature\",\"laureates\":[{\"id\":\"782\",\"firstname\":\"Elfriede\",\"surname\":\"Jelinek\",\"motivation\":\"\\\\\"for her musical flow of voices and counter-voices in novels and plays that with extraordinary linguistic zeal reveal the absurdity of society\\'s clich&eacute;s and their subjugating power\\\\\"\",\"share\":\"1\"}]},{\"year\":\"2004\",\"category\":\"peace\",\"laureates\":[{\"id\":\"783\",\"firstname\":\"Wangari Muta\",\"surname\":\"Maathai\",\"motivation\":\"\\\\\"for her contribution to sustainable development, democracy and peace\\\\\"\",\"share\":\"1\"}]},{\"year\":\"2004\",\"category\":\"economics\",\"laureates\":[{\"id\":\"786\",\"firstname\":\"Finn E.\",\"surname\":\"Kydland\",\"motivation\":\"\\\\\"for their contributions to dynamic macroeconomics: the time consistency of economic policy and the driving forces behind business cycles\\\\\"\",\"share\":\"2\"},{\"id\":\"787\",\"firstname\":\"Edward C.\",\"surname\":\"Prescott\",\"motivation\":\"\\\\\"for their contributions to dynamic macroeconomics: the time consistency of economic policy and the driving forces behind business cycles\\\\\"\",\"share\":\"2\"}]},{\"year\":\"2003\",\"category\":\"physics\",\"laureates\":[{\"id\":\"766\",\"firstname\":\"Alexei A.\",\"surname\":\"Abrikosov\",\"motivation\":\"\\\\\"for pioneering contributions to the theory of superconductors and superfluids\\\\\"\",\"share\":\"3\"},{\"id\":\"767\",\"firstname\":\"Vitaly L.\",\"surname\":\"Ginzburg\",\"motivation\":\"\\\\\"for pioneering contributions to the theory of superconductors and superfluids\\\\\"\",\"share\":\"3\"},{\"id\":\"768\",\"firstname\":\"Anthony J.\",\"surname\":\"Leggett\",\"motivation\":\"\\\\\"for pioneering contributions to the theory of superconductors and superfluids\\\\\"\",\"share\":\"3\"}]},{\"year\":\"2003\",\"category\":\"chemistry\",\"overallMotivation\":\"\\\\\"for discoveries concerning channels in cell membranes\\\\\"\",\"laureates\":[{\"id\":\"769\",\"firstname\":\"Peter\",\"surname\":\"Agre\",\"motivation\":\"\\\\\"for the discovery of water channels\\\\\"\",\"share\":\"2\"},{\"id\":\"770\",\"firstname\":\"Roderick\",\"surname\":\"MacKinnon\",\"motivation\":\"\\\\\"for structural and mechanistic studies of ion channels\\\\\"\",\"share\":\"2\"}]},{\"year\":\"2003\",\"category\":\"medicine\",\"laureates\":[{\"id\":\"764\",\"firstname\":\"Paul C.\",\"surname\":\"Lauterbur\",\"motivation\":\"\\\\\"for their discoveries concerning magnetic resonance imaging\\\\\"\",\"share\":\"2\"},{\"id\":\"765\",\"firstname\":\"Sir Peter\",\"surname\":\"Mansfield\",\"motivation\":\"\\\\\"for their discoveries concerning magnetic resonance imaging\\\\\"\",\"share\":\"2\"}]},{\"year\":\"2003\",\"category\":\"literature\",\"laureates\":[{\"id\":\"763\",\"firstname\":\"John M.\",\"surname\":\"Coetzee\",\"motivation\":\"\\\\\"who in innumerable guises portrays the surprising involvement of the outsider\\\\\"\",\"share\":\"1\"}]},{\"year\":\"2003\",\"category\":\"peace\",\"laureates\":[{\"id\":\"773\",\"firstname\":\"Shirin\",\"surname\":\"Ebadi\",\"motivation\":\"\\\\\"for her efforts for democracy and human rights. She has focused especially on the struggle for the rights of women and children\\\\\"\",\"share\":\"1\"}]},{\"year\":\"2003\",\"category\":\"economics\",\"laureates\":[{\"id\":\"771\",\"firstname\":\"Robert F.\",\"surname\":\"Engle III\",\"motivation\":\"\\\\\"for methods of analyzing economic time series with time-varying volatility (ARCH)\\\\\"\",\"share\":\"2\"},{\"id\":\"772\",\"firstname\":\"Clive W.J.\",\"surname\":\"Granger\",\"motivation\":\"\\\\\"for methods of analyzing economic time series with common trends (cointegration)\\\\\"\",\"share\":\"2\"}]},{\"year\":\"2002\",\"category\":\"physics\",\"laureates\":[{\"id\":\"753\",\"firstname\":\"Raymond\",\"surname\":\"Davis Jr.\",\"motivation\":\"\\\\\"for pioneering contributions to astrophysics, in particular for the detection of cosmic neutrinos\\\\\"\",\"share\":\"4\"},{\"id\":\"754\",\"firstname\":\"Masatoshi\",\"surname\":\"Koshiba\",\"motivation\":\"\\\\\"for pioneering contributions to astrophysics, in particular for the detection of cosmic neutrinos\\\\\"\",\"share\":\"4\"},{\"id\":\"755\",\"firstname\":\"Riccardo\",\"surname\":\"Giacconi\",\"motivation\":\"\\\\\"for pioneering contributions to astrophysics, which have led to the discovery of cosmic X-ray sources\\\\\"\",\"share\":\"2\"}]},{\"year\":\"2002\",\"category\":\"chemistry\",\"overallMotivation\":\"\\\\\"for the development of methods for identification and structure analyses of biological macromolecules\\\\\"\",\"laureates\":[{\"id\":\"756\",\"firstname\":\"John B.\",\"surname\":\"Fenn\",\"motivation\":\"\\\\\"for their development of soft desorption ionisation methods for mass spectrometric analyses of biological macromolecules\\\\\"\",\"share\":\"4\"},{\"id\":\"757\",\"firstname\":\"Koichi\",\"surname\":\"Tanaka\",\"motivation\":\"\\\\\"for their development of soft desorption ionisation methods for mass spectrometric analyses of biological macromolecules\\\\\"\",\"share\":\"4\"},{\"id\":\"758\",\"firstname\":\"Kurt\",\"surname\":\"W\\\\u00fcthrich\",\"motivation\":\"\\\\\"for his development of nuclear magnetic resonance spectroscopy for determining the three-dimensional structure of biological macromolecules in solution\\\\\"\",\"share\":\"2\"}]},{\"year\":\"2002\",\"category\":\"medicine\",\"laureates\":[{\"id\":\"750\",\"firstname\":\"Sydney\",\"surname\":\"Brenner\",\"motivation\":\"\\\\\"for their discoveries concerning genetic regulation of organ development and programmed cell death\\'\\\\\"\",\"share\":\"3\"},{\"id\":\"751\",\"firstname\":\"H. Robert\",\"surname\":\"Horvitz\",\"motivation\":\"\\\\\"for their discoveries concerning genetic regulation of organ development and programmed cell death\\'\\\\\"\",\"share\":\"3\"},{\"id\":\"752\",\"firstname\":\"John E.\",\"surname\":\"Sulston\",\"motivation\":\"\\\\\"for their discoveries concerning genetic regulation of organ development and programmed cell death\\'\\\\\"\",\"share\":\"3\"}]},{\"year\":\"2002\",\"category\":\"literature\",\"laureates\":[{\"id\":\"761\",\"firstname\":\"Imre\",\"surname\":\"Kert\\\\u00e9sz\",\"motivation\":\"\\\\\"for writing that upholds the fragile experience of the individual against the barbaric arbitrariness of history\\\\\"\",\"share\":\"1\"}]},{\"year\":\"2002\",\"category\":\"peace\",\"laureates\":[{\"id\":\"762\",\"firstname\":\"Jimmy\",\"surname\":\"Carter\",\"motivation\":\"\\\\\"for his decades of untiring effort to find peaceful solutions to international conflicts, to advance democracy and human rights, and to promote economic and social development\\\\\"\",\"share\":\"1\"}]},{\"year\":\"2002\",\"category\":\"economics\",\"laureates\":[{\"id\":\"759\",\"firstname\":\"Daniel\",\"surname\":\"Kahneman\",\"motivation\":\"\\\\\"for having integrated insights from psychological research into economic science, especially concerning human judgment and decision-making under uncertainty\\\\\"\",\"share\":\"2\"},{\"id\":\"760\",\"firstname\":\"Vernon L.\",\"surname\":\"Smith\",\"motivation\":\"\\\\\"for having established laboratory experiments as a tool in empirical economic analysis, especially in the study of alternative market mechanisms\\\\\"\",\"share\":\"2\"}]},{\"year\":\"2001\",\"category\":\"physics\",\"laureates\":[{\"id\":\"738\",\"firstname\":\"Eric A.\",\"surname\":\"Cornell\",\"motivation\":\"\\\\\"for the achievement of Bose-Einstein condensation in dilute gases of alkali atoms, and for early fundamental studies of the properties of the condensates\\\\\"\",\"share\":\"3\"},{\"id\":\"739\",\"firstname\":\"Wolfgang\",\"surname\":\"Ketterle\",\"motivation\":\"\\\\\"for the achievement of Bose-Einstein condensation in dilute gases of alkali atoms, and for early fundamental studies of the properties of the condensates\\\\\"\",\"share\":\"3\"},{\"id\":\"740\",\"firstname\":\"Carl E.\",\"surname\":\"Wieman\",\"motivation\":\"\\\\\"for the achievement of Bose-Einstein condensation in dilute gases of alkali atoms, and for early fundamental studies of the properties of the condensates\\\\\"\",\"share\":\"3\"}]},{\"year\":\"2001\",\"category\":\"chemistry\",\"laureates\":[{\"id\":\"741\",\"firstname\":\"William S.\",\"surname\":\"Knowles\",\"motivation\":\"\\\\\"for their work on chirally catalysed hydrogenation reactions\\\\\"\",\"share\":\"4\"},{\"id\":\"742\",\"firstname\":\"Ryoji\",\"surname\":\"Noyori\",\"motivation\":\"\\\\\"for their work on chirally catalysed hydrogenation reactions\\\\\"\",\"share\":\"4\"},{\"id\":\"743\",\"firstname\":\"K. Barry\",\"surname\":\"Sharpless\",\"motivation\":\"\\\\\"for his work on chirally catalysed oxidation reactions\\\\\"\",\"share\":\"2\"}]},{\"year\":\"2001\",\"category\":\"medicine\",\"laureates\":[{\"id\":\"735\",\"firstname\":\"Leland H.\",\"surname\":\"Hartwell\",\"motivation\":\"\\\\\"for their discoveries of key regulators of the cell cycle\\\\\"\",\"share\":\"3\"},{\"id\":\"736\",\"firstname\":\"Tim\",\"surname\":\"Hunt\",\"motivation\":\"\\\\\"for their discoveries of key regulators of the cell cycle\\\\\"\",\"share\":\"3\"},{\"id\":\"737\",\"firstname\":\"Sir Paul M.\",\"surname\":\"Nurse\",\"motivation\":\"\\\\\"for their discoveries of key regulators of the cell cycle\\\\\"\",\"share\":\"3\"}]},{\"year\":\"2001\",\"category\":\"literature\",\"laureates\":[{\"id\":\"747\",\"firstname\":\"Sir Vidiadhar Surajprasad\",\"surname\":\"Naipaul\",\"motivation\":\"\\\\\"for having united perceptive narrative and incorruptible scrutiny in works that compel us to see the presence of suppressed histories\\\\\"\",\"share\":\"1\"}]},{\"year\":\"2001\",\"category\":\"peace\",\"laureates\":[{\"id\":\"748\",\"firstname\":\"United Nations (U.N.)\",\"motivation\":\"\\\\\"for their work for a better organized and more peaceful world\\\\\"\",\"share\":\"2\",\"surname\":\"\"},{\"id\":\"749\",\"firstname\":\"Kofi\",\"surname\":\"Annan\",\"motivation\":\"\\\\\"for their work for a better organized and more peaceful world\\\\\"\",\"share\":\"2\"}]},{\"year\":\"2001\",\"category\":\"economics\",\"laureates\":[{\"id\":\"744\",\"firstname\":\"George A.\",\"surname\":\"Akerlof\",\"motivation\":\"\\\\\"for their analyses of markets with asymmetric information\\\\\"\",\"share\":\"3\"},{\"id\":\"745\",\"firstname\":\"A. Michael\",\"surname\":\"Spence\",\"motivation\":\"\\\\\"for their analyses of markets with asymmetric information\\\\\"\",\"share\":\"3\"},{\"id\":\"746\",\"firstname\":\"Joseph E.\",\"surname\":\"Stiglitz\",\"motivation\":\"\\\\\"for their analyses of markets with asymmetric information\\\\\"\",\"share\":\"3\"}]},{\"year\":\"2000\",\"category\":\"physics\",\"overallMotivation\":\"\\\\\"for basic work on information and communication technology\\\\\"\",\"laureates\":[{\"id\":\"726\",\"firstname\":\"Zhores I.\",\"surname\":\"Alferov\",\"motivation\":\"\\\\\"for developing semiconductor heterostructures used in high-speed- and opto-electronics\\\\\"\",\"share\":\"4\"},{\"id\":\"727\",\"firstname\":\"Herbert\",\"surname\":\"Kroemer\",\"motivation\":\"\\\\\"for developing semiconductor heterostructures used in high-speed- and opto-electronics\\\\\"\",\"share\":\"4\"},{\"id\":\"728\",\"firstname\":\"Jack S.\",\"surname\":\"Kilby\",\"motivation\":\"\\\\\"for his part in the invention of the integrated circuit\\\\\"\",\"share\":\"2\"}]},{\"year\":\"2000\",\"category\":\"chemistry\",\"laureates\":[{\"id\":\"729\",\"firstname\":\"Alan J.\",\"surname\":\"Heeger\",\"motivation\":\"\\\\\"for the discovery and development of conductive polymers\\\\\"\",\"share\":\"3\"},{\"id\":\"730\",\"firstname\":\"Alan G.\",\"surname\":\"MacDiarmid\",\"motivation\":\"\\\\\"for the discovery and development of conductive polymers\\\\\"\",\"share\":\"3\"},{\"id\":\"731\",\"firstname\":\"Hideki\",\"surname\":\"Shirakawa\",\"motivation\":\"\\\\\"for the discovery and development of conductive polymers\\\\\"\",\"share\":\"3\"}]},{\"year\":\"2000\",\"category\":\"medicine\",\"laureates\":[{\"id\":\"722\",\"firstname\":\"Arvid\",\"surname\":\"Carlsson\",\"motivation\":\"\\\\\"for their discoveries concerning signal transduction in the nervous system\\\\\"\",\"share\":\"3\"},{\"id\":\"723\",\"firstname\":\"Paul\",\"surname\":\"Greengard\",\"motivation\":\"\\\\\"for their discoveries concerning signal transduction in the nervous system\\\\\"\",\"share\":\"3\"},{\"id\":\"724\",\"firstname\":\"Eric R.\",\"surname\":\"Kandel\",\"motivation\":\"\\\\\"for their discoveries concerning signal transduction in the nervous system\\\\\"\",\"share\":\"3\"}]},{\"year\":\"2000\",\"category\":\"literature\",\"laureates\":[{\"id\":\"734\",\"firstname\":\"Gao\",\"surname\":\"Xingjian\",\"motivation\":\"\\\\\"for an &aelig;uvre of universal validity, bitter insights and linguistic ingenuity, which has opened new paths for the Chinese novel and drama\\\\\"\",\"share\":\"1\"}]},{\"year\":\"2000\",\"category\":\"peace\",\"laureates\":[{\"id\":\"725\",\"firstname\":\"Kim\",\"surname\":\"Dae-jung\",\"motivation\":\"\\\\\"for his work for democracy and human rights in South Korea and in East Asia in general, and for peace and reconciliation with North Korea in particular\\\\\"\",\"share\":\"1\"}]},{\"year\":\"2000\",\"category\":\"economics\",\"laureates\":[{\"id\":\"732\",\"firstname\":\"James J.\",\"surname\":\"Heckman\",\"motivation\":\"\\\\\"for his development of theory and methods for analyzing selective samples\\\\\"\",\"share\":\"2\"},{\"id\":\"733\",\"firstname\":\"Daniel L.\",\"surname\":\"McFadden\",\"motivation\":\"\\\\\"for his development of theory and methods for analyzing discrete choice\\\\\"\",\"share\":\"2\"}]},{\"year\":\"1999\",\"category\":\"physics\",\"laureates\":[{\"id\":\"158\",\"firstname\":\"Gerardus\",\"surname\":\"\\'t Hooft\",\"motivation\":\"\\\\\"for elucidating the quantum structure of electroweak interactions in physics\\\\\"\",\"share\":\"2\"},{\"id\":\"159\",\"firstname\":\"Martinus J.G.\",\"surname\":\"Veltman\",\"motivation\":\"\\\\\"for elucidating the quantum structure of electroweak interactions in physics\\\\\"\",\"share\":\"2\"}]},{\"year\":\"1999\",\"category\":\"chemistry\",\"laureates\":[{\"id\":\"292\",\"firstname\":\"Ahmed H.\",\"surname\":\"Zewail\",\"motivation\":\"\\\\\"for his studies of the transition states of chemical reactions using femtosecond spectroscopy\\\\\"\",\"share\":\"1\"}]},{\"year\":\"1999\",\"category\":\"medicine\",\"laureates\":[{\"id\":\"461\",\"firstname\":\"G\\\\u00fcnter\",\"surname\":\"Blobel\",\"motivation\":\"\\\\\"for the discovery that proteins have intrinsic signals that govern their transport and localization in the cell\\\\\"\",\"share\":\"1\"}]},{\"year\":\"1999\",\"category\":\"literature\",\"laureates\":[{\"id\":\"676\",\"firstname\":\"G\\\\u00fcnter\",\"surname\":\"Grass\",\"motivation\":\"\\\\\"whose frolicsome black fables portray the forgotten face of history\\\\\"\",\"share\":\"1\"}]},{\"year\":\"1999\",\"category\":\"peace\",\"laureates\":[{\"id\":\"568\",\"firstname\":\"M\\\\u00e9decins Sans Fronti\\\\u00e8res\",\"motivation\":\"\\\\\"in recognition of the organization\\'s pioneering humanitarian work on several continents\\\\\"\",\"share\":\"1\",\"surname\":\"\"}]},{\"year\":\"1999\",\"category\":\"economics\",\"laureates\":[{\"id\":\"720\",\"firstname\":\"Robert A.\",\"surname\":\"Mundell\",\"motivation\":\"\\\\\"for his analysis of monetary and fiscal policy under different exchange rate regimes and his analysis of optimum currency areas\\\\\"\",\"share\":\"1\"}]},{\"year\":\"1998\",\"category\":\"physics\",\"laureates\":[{\"id\":\"155\",\"firstname\":\"Robert B.\",\"surname\":\"Laughlin\",\"motivation\":\"\\\\\"for their discovery of a new form of quantum fluid with fractionally charged excitations\\\\\"\",\"share\":\"3\"},{\"id\":\"156\",\"firstname\":\"Horst L.\",\"surname\":\"St\\\\u00f6rmer\",\"motivation\":\"\\\\\"for their discovery of a new form of quantum fluid with fractionally charged excitations\\\\\"\",\"share\":\"3\"},{\"id\":\"157\",\"firstname\":\"Daniel C.\",\"surname\":\"Tsui\",\"motivation\":\"\\\\\"for their discovery of a new form of quantum fluid with fractionally charged excitations\\\\\"\",\"share\":\"3\"}]},{\"year\":\"1998\",\"category\":\"chemistry\",\"laureates\":[{\"id\":\"290\",\"firstname\":\"Walter\",\"surname\":\"Kohn\",\"motivation\":\"\\\\\"for his development of the density-functional theory\\\\\"\",\"share\":\"2\"},{\"id\":\"291\",\"firstname\":\"John A.\",\"surname\":\"Pople\",\"motivation\":\"\\\\\"for his development of computational methods in quantum chemistry\\\\\"\",\"share\":\"2\"}]},{\"year\":\"1998\",\"category\":\"medicine\",\"laureates\":[{\"id\":\"458\",\"firstname\":\"Robert F.\",\"surname\":\"Furchgott\",\"motivation\":\"\\\\\"for their discoveries concerning nitric oxide as a signalling molecule in the cardiovascular system\\\\\"\",\"share\":\"3\"},{\"id\":\"459\",\"firstname\":\"Louis J.\",\"surname\":\"Ignarro\",\"motivation\":\"\\\\\"for their discoveries concerning nitric oxide as a signalling molecule in the cardiovascular system\\\\\"\",\"share\":\"3\"},{\"id\":\"460\",\"firstname\":\"Ferid\",\"surname\":\"Murad\",\"motivation\":\"\\\\\"for their discoveries concerning nitric oxide as a signalling molecule in the cardiovascular system\\\\\"\",\"share\":\"3\"}]},{\"year\":\"1998\",\"category\":\"literature\",\"laureates\":[{\"id\":\"675\",\"firstname\":\"Jos\\\\u00e9\",\"surname\":\"Saramago\",\"motivation\":\"\\\\\"who with parables sustained by imagination, compassion and irony continually enables us once again to apprehend an elusory reality\\\\\"\",\"share\":\"1\"}]},{\"year\":\"1998\",\"category\":\"peace\",\"laureates\":[{\"id\":\"566\",\"firstname\":\"John\",\"surname\":\"Hume\",\"motivation\":\"\\\\\"for their efforts to find a peaceful solution to the conflict in Northern Ireland\\\\\"\",\"share\":\"2\"},{\"id\":\"567\",\"firstname\":\"David\",\"surname\":\"Trimble\",\"motivation\":\"\\\\\"for their efforts to find a peaceful solution to the conflict in Northern Ireland\\\\\"\",\"share\":\"2\"}]},{\"year\":\"1998\",\"category\":\"economics\",\"laureates\":[{\"id\":\"719\",\"firstname\":\"Amartya\",\"surname\":\"Sen\",\"motivation\":\"\\\\\"for his contributions to welfare economics\\\\\"\",\"share\":\"1\"}]},{\"year\":\"1997\",\"category\":\"physics\",\"laureates\":[{\"id\":\"152\",\"firstname\":\"Steven\",\"surname\":\"Chu\",\"motivation\":\"\\\\\"for development of methods to cool and trap atoms with laser light\\\\\"\",\"share\":\"3\"},{\"id\":\"153\",\"firstname\":\"Claude\",\"surname\":\"Cohen-Tannoudji\",\"motivation\":\"\\\\\"for development of methods to cool and trap atoms with laser light\\\\\"\",\"share\":\"3\"},{\"id\":\"154\",\"firstname\":\"William D.\",\"surname\":\"Phillips\",\"motivation\":\"\\\\\"for development of methods to cool and trap atoms with laser light\\\\\"\",\"share\":\"3\"}]},{\"year\":\"1997\",\"category\":\"chemistry\",\"laureates\":[{\"id\":\"287\",\"firstname\":\"Paul D.\",\"surname\":\"Boyer\",\"motivation\":\"\\\\\"for their elucidation of the enzymatic mechanism underlying the synthesis of adenosine triphosphate (ATP)\\\\\"\",\"share\":\"4\"},{\"id\":\"288\",\"firstname\":\"John E.\",\"surname\":\"Walker\",\"motivation\":\"\\\\\"for their elucidation of the enzymatic mechanism underlying the synthesis of adenosine triphosphate (ATP)\\\\\"\",\"share\":\"4\"},{\"id\":\"289\",\"firstname\":\"Jens C.\",\"surname\":\"Skou\",\"motivation\":\"\\\\\"for the first discovery of an ion-transporting enzyme, Na+, K+ -ATPase\\\\\"\",\"share\":\"2\"}]},{\"year\":\"1997\",\"category\":\"medicine\",\"laureates\":[{\"id\":\"457\",\"firstname\":\"Stanley B.\",\"surname\":\"Prusiner\",\"motivation\":\"\\\\\"for his discovery of Prions - a new biological principle of infection\\\\\"\",\"share\":\"1\"}]},{\"year\":\"1997\",\"category\":\"literature\",\"laureates\":[{\"id\":\"674\",\"firstname\":\"Dario\",\"surname\":\"Fo\",\"motivation\":\"\\\\\"who emulates the jesters of the Middle Ages in scourging authority and upholding the dignity of the downtrodden\\\\\"\",\"share\":\"1\"}]},{\"year\":\"1997\",\"category\":\"peace\",\"laureates\":[{\"id\":\"564\",\"firstname\":\"International Campaign to Ban Landmines (ICBL)\",\"motivation\":\"\\\\\"for their work for the banning and clearing of anti-personnel mines\\\\\"\",\"share\":\"2\",\"surname\":\"\"},{\"id\":\"565\",\"firstname\":\"Jody\",\"surname\":\"Williams\",\"motivation\":\"\\\\\"for their work for the banning and clearing of anti-personnel mines\\\\\"\",\"share\":\"2\"}]},{\"year\":\"1997\",\"category\":\"economics\",\"laureates\":[{\"id\":\"717\",\"firstname\":\"Robert C.\",\"surname\":\"Merton\",\"motivation\":\"\\\\\"for a new method to determine the value of derivatives\\\\\"\",\"share\":\"2\"},{\"id\":\"718\",\"firstname\":\"Myron S.\",\"surname\":\"Scholes\",\"motivation\":\"\\\\\"for a new method to determine the value of derivatives\\\\\"\",\"share\":\"2\"}]},{\"year\":\"1996\",\"category\":\"physics\",\"laureates\":[{\"id\":\"149\",\"firstname\":\"David M.\",\"surname\":\"Lee\",\"motivation\":\"\\\\\"for their discovery of superfluidity in helium-3\\\\\"\",\"share\":\"3\"},{\"id\":\"150\",\"firstname\":\"Douglas D.\",\"surname\":\"Osheroff\",\"motivation\":\"\\\\\"for their discovery of superfluidity in helium-3\\\\\"\",\"share\":\"3\"},{\"id\":\"151\",\"firstname\":\"Robert C.\",\"surname\":\"Richardson\",\"motivation\":\"\\\\\"for their discovery of superfluidity in helium-3\\\\\"\",\"share\":\"3\"}]},{\"year\":\"1996\",\"category\":\"chemistry\",\"laureates\":[{\"id\":\"284\",\"firstname\":\"Robert F.\",\"surname\":\"Curl Jr.\",\"motivation\":\"\\\\\"for their discovery of fullerenes\\\\\"\",\"share\":\"3\"},{\"id\":\"285\",\"firstname\":\"Sir Harold W.\",\"surname\":\"Kroto\",\"motivation\":\"\\\\\"for their discovery of fullerenes\\\\\"\",\"share\":\"3\"},{\"id\":\"286\",\"firstname\":\"Richard E.\",\"surname\":\"Smalley\",\"motivation\":\"\\\\\"for their discovery of fullerenes\\\\\"\",\"share\":\"3\"}]},{\"year\":\"1996\",\"category\":\"medicine\",\"laureates\":[{\"id\":\"455\",\"firstname\":\"Peter C.\",\"surname\":\"Doherty\",\"motivation\":\"\\\\\"for their discoveries concerning the specificity of the cell mediated immune defence\\\\\"\",\"share\":\"2\"},{\"id\":\"456\",\"firstname\":\"Rolf M.\",\"surname\":\"Zinkernagel\",\"motivation\":\"\\\\\"for their discoveries concerning the specificity of the cell mediated immune defence\\\\\"\",\"share\":\"2\"}]},{\"year\":\"1996\",\"category\":\"literature\",\"laureates\":[{\"id\":\"673\",\"firstname\":\"Wislawa\",\"surname\":\"Szymborska\",\"motivation\":\"\\\\\"for poetry that with ironic precision allows the historical and biological context to come to light in fragments of human reality\\\\\"\",\"share\":\"1\"}]},{\"year\":\"1996\",\"category\":\"peace\",\"laureates\":[{\"id\":\"562\",\"firstname\":\"Carlos Filipe Ximenes\",\"surname\":\"Belo\",\"motivation\":\"\\\\\"for their work towards a just and peaceful solution to the conflict in East Timor\\\\\"\",\"share\":\"2\"},{\"id\":\"563\",\"firstname\":\"Jos\\\\u00e9\",\"surname\":\"Ramos-Horta\",\"motivation\":\"\\\\\"for their work towards a just and peaceful solution to the conflict in East Timor\\\\\"\",\"share\":\"2\"}]},{\"year\":\"1996\",\"category\":\"economics\",\"laureates\":[{\"id\":\"715\",\"firstname\":\"James A.\",\"surname\":\"Mirrlees\",\"motivation\":\"\\\\\"for their fundamental contributions to the economic theory of incentives under asymmetric information\\\\\"\",\"share\":\"2\"},{\"id\":\"716\",\"firstname\":\"William\",\"surname\":\"Vickrey\",\"motivation\":\"\\\\\"for their fundamental contributions to the economic theory of incentives under asymmetric information\\\\\"\",\"share\":\"2\"}]},{\"year\":\"1995\",\"category\":\"physics\",\"overallMotivation\":\"\\\\\"for pioneering experimental contributions to lepton physics\\\\\"\",\"laureates\":[{\"id\":\"147\",\"firstname\":\"Martin L.\",\"surname\":\"Perl\",\"motivation\":\"\\\\\"for the discovery of the tau lepton\\\\\"\",\"share\":\"2\"},{\"id\":\"148\",\"firstname\":\"Frederick\",\"surname\":\"Reines\",\"motivation\":\"\\\\\"for the detection of the neutrino\\\\\"\",\"share\":\"2\"}]},{\"year\":\"1995\",\"category\":\"chemistry\",\"laureates\":[{\"id\":\"281\",\"firstname\":\"Paul J.\",\"surname\":\"Crutzen\",\"motivation\":\"\\\\\"for their work in atmospheric chemistry, particularly concerning the formation and decomposition of ozone\\\\\"\",\"share\":\"3\"},{\"id\":\"282\",\"firstname\":\"Mario J.\",\"surname\":\"Molina\",\"motivation\":\"\\\\\"for their work in atmospheric chemistry, particularly concerning the formation and decomposition of ozone\\\\\"\",\"share\":\"3\"},{\"id\":\"283\",\"firstname\":\"F. Sherwood\",\"surname\":\"Rowland\",\"motivation\":\"\\\\\"for their work in atmospheric chemistry, particularly concerning the formation and decomposition of ozone\\\\\"\",\"share\":\"3\"}]},{\"year\":\"1995\",\"category\":\"medicine\",\"laureates\":[{\"id\":\"452\",\"firstname\":\"Edward B.\",\"surname\":\"Lewis\",\"motivation\":\"\\\\\"for their discoveries concerning the genetic control of early embryonic development\\\\\"\",\"share\":\"3\"},{\"id\":\"453\",\"firstname\":\"Christiane\",\"surname\":\"N\\\\u00fcsslein-Volhard\",\"motivation\":\"\\\\\"for their discoveries concerning the genetic control of early embryonic development\\\\\"\",\"share\":\"3\"},{\"id\":\"454\",\"firstname\":\"Eric F.\",\"surname\":\"Wieschaus\",\"motivation\":\"\\\\\"for their discoveries concerning the genetic control of early embryonic development\\\\\"\",\"share\":\"3\"}]},{\"year\":\"1995\",\"category\":\"literature\",\"laureates\":[{\"id\":\"672\",\"firstname\":\"Seamus\",\"surname\":\"Heaney\",\"motivation\":\"\\\\\"for works of lyrical beauty and ethical depth, which exalt everyday miracles and the living past\\\\\"\",\"share\":\"1\"}]},{\"year\":\"1995\",\"category\":\"peace\",\"laureates\":[{\"id\":\"560\",\"firstname\":\"Joseph\",\"surname\":\"Rotblat\",\"motivation\":\"\\\\\"for their efforts to diminish the part played by nuclear arms in international politics and, in the longer run, to eliminate such arms\\\\\"\",\"share\":\"2\"},{\"id\":\"561\",\"firstname\":\"Pugwash Conferences on Science and World Affairs\",\"motivation\":\"\\\\\"for their efforts to diminish the part played by nuclear arms in international politics and, in the longer run, to eliminate such arms\\\\\"\",\"share\":\"2\",\"surname\":\"\"}]},{\"year\":\"1995\",\"category\":\"economics\",\"laureates\":[{\"id\":\"714\",\"firstname\":\"Robert E.\",\"surname\":\"Lucas Jr.\",\"motivation\":\"\\\\\"for having developed and applied the hypothesis of rational expectations, and thereby having transformed macroeconomic analysis and deepened our understanding of economic policy\\\\\"\",\"share\":\"1\"}]},{\"year\":\"1994\",\"category\":\"physics\",\"overallMotivation\":\"\\\\\"for pioneering contributions to the development of neutron scattering techniques for studies of condensed matter\\\\\"\",\"laureates\":[{\"id\":\"145\",\"firstname\":\"Bertram N.\",\"surname\":\"Brockhouse\",\"motivation\":\"\\\\\"for the development of neutron spectroscopy\\\\\"\",\"share\":\"2\"},{\"id\":\"146\",\"firstname\":\"Clifford G.\",\"surname\":\"Shull\",\"motivation\":\"\\\\\"for the development of the neutron diffraction technique\\\\\"\",\"share\":\"2\"}]},{\"year\":\"1994\",\"category\":\"chemistry\",\"laureates\":[{\"id\":\"280\",\"firstname\":\"George A.\",\"surname\":\"Olah\",\"motivation\":\"\\\\\"for his contribution to carbocation chemistry\\\\\"\",\"share\":\"1\"}]},{\"year\":\"1994\",\"category\":\"medicine\",\"laureates\":[{\"id\":\"450\",\"firstname\":\"Alfred G.\",\"surname\":\"Gilman\",\"motivation\":\"\\\\\"for their discovery of G-proteins and the role of these proteins in signal transduction in cells\\\\\"\",\"share\":\"2\"},{\"id\":\"451\",\"firstname\":\"Martin\",\"surname\":\"Rodbell\",\"motivation\":\"\\\\\"for their discovery of G-proteins and the role of these proteins in signal transduction in cells\\\\\"\",\"share\":\"2\"}]},{\"year\":\"1994\",\"category\":\"literature\",\"laureates\":[{\"id\":\"671\",\"firstname\":\"Kenzaburo\",\"surname\":\"Oe\",\"motivation\":\"\\\\\"who with poetic force creates an imagined world, where life and myth condense to form a disconcerting picture of the human predicament today\\\\\"\",\"share\":\"1\"}]},{\"year\":\"1994\",\"category\":\"peace\",\"laureates\":[{\"id\":\"557\",\"firstname\":\"Yasser\",\"surname\":\"Arafat\",\"motivation\":\"\\\\\"for their efforts to create peace in the Middle East\\\\\"\",\"share\":\"3\"},{\"id\":\"558\",\"firstname\":\"Shimon\",\"surname\":\"Peres\",\"motivation\":\"\\\\\"for their efforts to create peace in the Middle East\\\\\"\",\"share\":\"3\"},{\"id\":\"559\",\"firstname\":\"Yitzhak\",\"surname\":\"Rabin\",\"motivation\":\"\\\\\"for their efforts to create peace in the Middle East\\\\\"\",\"share\":\"3\"}]},{\"year\":\"1994\",\"category\":\"economics\",\"laureates\":[{\"id\":\"711\",\"firstname\":\"John C.\",\"surname\":\"Harsanyi\",\"motivation\":\"\\\\\"for their pioneering analysis of equilibria in the theory of non-cooperative games\\\\\"\",\"share\":\"3\"},{\"id\":\"712\",\"firstname\":\"John F.\",\"surname\":\"Nash Jr.\",\"motivation\":\"\\\\\"for their pioneering analysis of equilibria in the theory of non-cooperative games\\\\\"\",\"share\":\"3\"},{\"id\":\"713\",\"firstname\":\"Reinhard\",\"surname\":\"Selten\",\"motivation\":\"\\\\\"for their pioneering analysis of equilibria in the theory of non-cooperative games\\\\\"\",\"share\":\"3\"}]},{\"year\":\"1993\",\"category\":\"physics\",\"laureates\":[{\"id\":\"143\",\"firstname\":\"Russell A.\",\"surname\":\"Hulse\",\"motivation\":\"\\\\\"for the discovery of a new type of pulsar, a discovery that has opened up new possibilities for the study of gravitation\\\\\"\",\"share\":\"2\"},{\"id\":\"144\",\"firstname\":\"Joseph H.\",\"surname\":\"Taylor Jr.\",\"motivation\":\"\\\\\"for the discovery of a new type of pulsar, a discovery that has opened up new possibilities for the study of gravitation\\\\\"\",\"share\":\"2\"}]},{\"year\":\"1993\",\"category\":\"chemistry\",\"overallMotivation\":\"\\\\\"for contributions to the developments of methods within DNA-based chemistry\\\\\"\",\"laureates\":[{\"id\":\"278\",\"firstname\":\"Kary B.\",\"surname\":\"Mullis\",\"motivation\":\"\\\\\"for his invention of the polymerase chain reaction (PCR) method\\\\\"\",\"share\":\"2\"},{\"id\":\"279\",\"firstname\":\"Michael\",\"surname\":\"Smith\",\"motivation\":\"\\\\\"for his fundamental contributions to the establishment of oligonucleotide-based, site-directed mutagenesis and its development for protein studies\\\\\"\",\"share\":\"2\"}]},{\"year\":\"1993\",\"category\":\"medicine\",\"laureates\":[{\"id\":\"448\",\"firstname\":\"Richard J.\",\"surname\":\"Roberts\",\"motivation\":\"\\\\\"for their discoveries of split genes\\\\\"\",\"share\":\"2\"},{\"id\":\"449\",\"firstname\":\"Phillip A.\",\"surname\":\"Sharp\",\"motivation\":\"\\\\\"for their discoveries of split genes\\\\\"\",\"share\":\"2\"}]},{\"year\":\"1993\",\"category\":\"literature\",\"laureates\":[{\"id\":\"670\",\"firstname\":\"Toni\",\"surname\":\"Morrison\",\"motivation\":\"\\\\\"who in novels characterized by visionary force and poetic import, gives life to an essential aspect of American reality\\\\\"\",\"share\":\"1\"}]},{\"year\":\"1993\",\"category\":\"peace\",\"laureates\":[{\"id\":\"555\",\"firstname\":\"Nelson\",\"surname\":\"Mandela\",\"motivation\":\"\\\\\"for their work for the peaceful termination of the apartheid regime, and for laying the foundations for a new democratic South Africa\\\\\"\",\"share\":\"2\"},{\"id\":\"556\",\"firstname\":\"Frederik Willem\",\"surname\":\"de Klerk\",\"motivation\":\"\\\\\"for their work for the peaceful termination of the apartheid regime, and for laying the foundations for a new democratic South Africa\\\\\"\",\"share\":\"2\"}]},{\"year\":\"1993\",\"category\":\"economics\",\"laureates\":[{\"id\":\"709\",\"firstname\":\"Robert W.\",\"surname\":\"Fogel\",\"motivation\":\"\\\\\"for having renewed research in economic history by applying economic theory and quantitative methods in order to explain economic and institutional change\\\\\"\",\"share\":\"2\"},{\"id\":\"710\",\"firstname\":\"Douglass C.\",\"surname\":\"North\",\"motivation\":\"\\\\\"for having renewed research in economic history by applying economic theory and quantitative methods in order to explain economic and institutional change\\\\\"\",\"share\":\"2\"}]},{\"year\":\"1992\",\"category\":\"physics\",\"laureates\":[{\"id\":\"142\",\"firstname\":\"Georges\",\"surname\":\"Charpak\",\"motivation\":\"\\\\\"for his invention and development of particle detectors, in particular the multiwire proportional chamber\\\\\"\",\"share\":\"1\"}]},{\"year\":\"1992\",\"category\":\"chemistry\",\"laureates\":[{\"id\":\"277\",\"firstname\":\"Rudolph A.\",\"surname\":\"Marcus\",\"motivation\":\"\\\\\"for his contributions to the theory of electron transfer reactions in chemical systems\\\\\"\",\"share\":\"1\"}]},{\"year\":\"1992\",\"category\":\"medicine\",\"laureates\":[{\"id\":\"446\",\"firstname\":\"Edmond H.\",\"surname\":\"Fischer\",\"motivation\":\"\\\\\"for their discoveries concerning reversible protein phosphorylation as a biological regulatory mechanism\\\\\"\",\"share\":\"2\"},{\"id\":\"447\",\"firstname\":\"Edwin G.\",\"surname\":\"Krebs\",\"motivation\":\"\\\\\"for their discoveries concerning reversible protein phosphorylation as a biological regulatory mechanism\\\\\"\",\"share\":\"2\"}]},{\"year\":\"1992\",\"category\":\"literature\",\"laureates\":[{\"id\":\"669\",\"firstname\":\"Derek\",\"surname\":\"Walcott\",\"motivation\":\"\\\\\"for a poetic oeuvre of great luminosity, sustained by a historical vision, the outcome of a multicultural commitment\\\\\"\",\"share\":\"1\"}]},{\"year\":\"1992\",\"category\":\"peace\",\"laureates\":[{\"id\":\"554\",\"firstname\":\"Rigoberta\",\"surname\":\"Mench\\\\u00fa Tum\",\"motivation\":\"\\\\\"in recognition of her work for social justice and ethno-cultural reconciliation based on respect for the rights of indigenous peoples\\\\\"\",\"share\":\"1\"}]},{\"year\":\"1992\",\"category\":\"economics\",\"laureates\":[{\"id\":\"708\",\"firstname\":\"Gary S.\",\"surname\":\"Becker\",\"motivation\":\"\\\\\"for having extended the domain of microeconomic analysis to a wide range of human behaviour and interaction, including nonmarket behaviour\\\\\"\",\"share\":\"1\"}]},{\"year\":\"1991\",\"category\":\"physics\",\"laureates\":[{\"id\":\"141\",\"firstname\":\"Pierre-Gilles\",\"surname\":\"de Gennes\",\"motivation\":\"\\\\\"for discovering that methods developed for studying order phenomena in simple systems can be generalized to more complex forms of matter, in particular to liquid crystals and polymers\\\\\"\",\"share\":\"1\"}]},{\"year\":\"1991\",\"category\":\"chemistry\",\"laureates\":[{\"id\":\"276\",\"firstname\":\"Richard R.\",\"surname\":\"Ernst\",\"motivation\":\"\\\\\"for his contributions to the development of the methodology of high resolution nuclear magnetic resonance (NMR) spectroscopy\\\\\"\",\"share\":\"1\"}]},{\"year\":\"1991\",\"category\":\"medicine\",\"laureates\":[{\"id\":\"444\",\"firstname\":\"Erwin\",\"surname\":\"Neher\",\"motivation\":\"\\\\\"for their discoveries concerning the function of single ion channels in cells\\\\\"\",\"share\":\"2\"},{\"id\":\"445\",\"firstname\":\"Bert\",\"surname\":\"Sakmann\",\"motivation\":\"\\\\\"for their discoveries concerning the function of single ion channels in cells\\\\\"\",\"share\":\"2\"}]},{\"year\":\"1991\",\"category\":\"literature\",\"laureates\":[{\"id\":\"668\",\"firstname\":\"Nadine\",\"surname\":\"Gordimer\",\"motivation\":\"\\\\\"who through her magnificent epic writing has - in the words of Alfred Nobel - been of very great benefit to humanity\\\\\"\",\"share\":\"1\"}]},{\"year\":\"1991\",\"category\":\"peace\",\"laureates\":[{\"id\":\"553\",\"firstname\":\"Aung San Suu Kyi\",\"motivation\":\"\\\\\"for her non-violent struggle for democracy and human rights\\\\\"\",\"share\":\"1\",\"surname\":\"\"}]},{\"year\":\"1991\",\"category\":\"economics\",\"laureates\":[{\"id\":\"707\",\"firstname\":\"Ronald H.\",\"surname\":\"Coase\",\"motivation\":\"\\\\\"for his discovery and clarification of the significance of transaction costs and property rights for the institutional structure and functioning of the economy\\\\\"\",\"share\":\"1\"}]},{\"year\":\"1990\",\"category\":\"physics\",\"laureates\":[{\"id\":\"138\",\"firstname\":\"Jerome I.\",\"surname\":\"Friedman\",\"motivation\":\"\\\\\"for their pioneering investigations concerning deep inelastic scattering of electrons on protons and bound neutrons, which have been of essential importance for the development of the quark model in particle physics\\\\\"\",\"share\":\"3\"},{\"id\":\"139\",\"firstname\":\"Henry W.\",\"surname\":\"Kendall\",\"motivation\":\"\\\\\"for their pioneering investigations concerning deep inelastic scattering of electrons on protons and bound neutrons, which have been of essential importance for the development of the quark model in particle physics\\\\\"\",\"share\":\"3\"},{\"id\":\"140\",\"firstname\":\"Richard E.\",\"surname\":\"Taylor\",\"motivation\":\"\\\\\"for their pioneering investigations concerning deep inelastic scattering of electrons on protons and bound neutrons, which have been of essential importance for the development of the quark model in particle physics\\\\\"\",\"share\":\"3\"}]},{\"year\":\"1990\",\"category\":\"chemistry\",\"laureates\":[{\"id\":\"275\",\"firstname\":\"Elias James\",\"surname\":\"Corey\",\"motivation\":\"\\\\\"for his development of the theory and methodology of organic synthesis\\\\\"\",\"share\":\"1\"}]},{\"year\":\"1990\",\"category\":\"medicine\",\"laureates\":[{\"id\":\"442\",\"firstname\":\"Joseph E.\",\"surname\":\"Murray\",\"motivation\":\"\\\\\"for their discoveries concerning organ and cell transplantation in the treatment of human disease\\\\\"\",\"share\":\"2\"},{\"id\":\"443\",\"firstname\":\"E. Donnall\",\"surname\":\"Thomas\",\"motivation\":\"\\\\\"for their discoveries concerning organ and cell transplantation in the treatment of human disease\\\\\"\",\"share\":\"2\"}]},{\"year\":\"1990\",\"category\":\"literature\",\"laureates\":[{\"id\":\"667\",\"firstname\":\"Octavio\",\"surname\":\"Paz\",\"motivation\":\"\\\\\"for impassioned writing with wide horizons, characterized by sensuous intelligence and humanistic integrity\\\\\"\",\"share\":\"1\"}]},{\"year\":\"1990\",\"category\":\"peace\",\"laureates\":[{\"id\":\"552\",\"firstname\":\"Mikhail Sergeyevich\",\"surname\":\"Gorbachev\",\"motivation\":\"\\\\\"for his leading role in the peace process which today characterizes important parts of the international community\\\\\"\",\"share\":\"1\"}]},{\"year\":\"1990\",\"category\":\"economics\",\"laureates\":[{\"id\":\"704\",\"firstname\":\"Harry M.\",\"surname\":\"Markowitz\",\"motivation\":\"\\\\\"for their pioneering work in the theory of financial economics\\\\\"\",\"share\":\"3\"},{\"id\":\"705\",\"firstname\":\"Merton H.\",\"surname\":\"Miller\",\"motivation\":\"\\\\\"for their pioneering work in the theory of financial economics\\\\\"\",\"share\":\"3\"},{\"id\":\"706\",\"firstname\":\"William F.\",\"surname\":\"Sharpe\",\"motivation\":\"\\\\\"for their pioneering work in the theory of financial economics\\\\\"\",\"share\":\"3\"}]},{\"year\":\"1989\",\"category\":\"physics\",\"laureates\":[{\"id\":\"135\",\"firstname\":\"Norman F.\",\"surname\":\"Ramsey\",\"motivation\":\"\\\\\"for the invention of the separated oscillatory fields method and its use in the hydrogen maser and other atomic clocks\\\\\"\",\"share\":\"2\"},{\"id\":\"136\",\"firstname\":\"Hans G.\",\"surname\":\"Dehmelt\",\"motivation\":\"\\\\\"for the development of the ion trap technique\\\\\"\",\"share\":\"4\"},{\"id\":\"137\",\"firstname\":\"Wolfgang\",\"surname\":\"Paul\",\"motivation\":\"\\\\\"for the development of the ion trap technique\\\\\"\",\"share\":\"4\"}]},{\"year\":\"1989\",\"category\":\"chemistry\",\"laureates\":[{\"id\":\"273\",\"firstname\":\"Sidney\",\"surname\":\"Altman\",\"motivation\":\"\\\\\"for their discovery of catalytic properties of RNA\\\\\"\",\"share\":\"2\"},{\"id\":\"274\",\"firstname\":\"Thomas R.\",\"surname\":\"Cech\",\"motivation\":\"\\\\\"for their discovery of catalytic properties of RNA\\\\\"\",\"share\":\"2\"}]},{\"year\":\"1989\",\"category\":\"medicine\",\"laureates\":[{\"id\":\"440\",\"firstname\":\"J. Michael\",\"surname\":\"Bishop\",\"motivation\":\"\\\\\"for their discovery of the cellular origin of retroviral oncogenes\\\\\"\",\"share\":\"2\"},{\"id\":\"441\",\"firstname\":\"Harold E.\",\"surname\":\"Varmus\",\"motivation\":\"\\\\\"for their discovery of the cellular origin of retroviral oncogenes\\\\\"\",\"share\":\"2\"}]},{\"year\":\"1989\",\"category\":\"literature\",\"laureates\":[{\"id\":\"666\",\"firstname\":\"Camilo Jos\\\\u00e9\",\"surname\":\"Cela\",\"motivation\":\"\\\\\"for a rich and intensive prose, which with restrained compassion forms a challenging vision of man\\'s vulnerability\\\\\"\",\"share\":\"1\"}]},{\"year\":\"1989\",\"category\":\"peace\",\"laureates\":[{\"id\":\"551\",\"firstname\":\"The 14th Dalai Lama (Tenzin Gyatso)\",\"share\":\"1\",\"surname\":\"\"}]},{\"year\":\"1989\",\"category\":\"economics\",\"laureates\":[{\"id\":\"703\",\"firstname\":\"Trygve\",\"surname\":\"Haavelmo\",\"motivation\":\"\\\\\"for his clarification of the probability theory foundations of econometrics and his analyses of simultaneous economic structures\\\\\"\",\"share\":\"1\"}]},{\"year\":\"1988\",\"category\":\"physics\",\"laureates\":[{\"id\":\"132\",\"firstname\":\"Leon M.\",\"surname\":\"Lederman\",\"motivation\":\"\\\\\"for the neutrino beam method and the demonstration of the doublet structure of the leptons through the discovery of the muon neutrino\\\\\"\",\"share\":\"3\"},{\"id\":\"133\",\"firstname\":\"Melvin\",\"surname\":\"Schwartz\",\"motivation\":\"\\\\\"for the neutrino beam method and the demonstration of the doublet structure of the leptons through the discovery of the muon neutrino\\\\\"\",\"share\":\"3\"},{\"id\":\"134\",\"firstname\":\"Jack\",\"surname\":\"Steinberger\",\"motivation\":\"\\\\\"for the neutrino beam method and the demonstration of the doublet structure of the leptons through the discovery of the muon neutrino\\\\\"\",\"share\":\"3\"}]},{\"year\":\"1988\",\"category\":\"chemistry\",\"laureates\":[{\"id\":\"270\",\"firstname\":\"Johann\",\"surname\":\"Deisenhofer\",\"motivation\":\"\\\\\"for the determination of the three-dimensional structure of a photosynthetic reaction centre\\\\\"\",\"share\":\"3\"},{\"id\":\"271\",\"firstname\":\"Robert\",\"surname\":\"Huber\",\"motivation\":\"\\\\\"for the determination of the three-dimensional structure of a photosynthetic reaction centre\\\\\"\",\"share\":\"3\"},{\"id\":\"272\",\"firstname\":\"Hartmut\",\"surname\":\"Michel\",\"motivation\":\"\\\\\"for the determination of the three-dimensional structure of a photosynthetic reaction centre\\\\\"\",\"share\":\"3\"}]},{\"year\":\"1988\",\"category\":\"medicine\",\"laureates\":[{\"id\":\"437\",\"firstname\":\"Sir James W.\",\"surname\":\"Black\",\"motivation\":\"\\\\\"for their discoveries of important principles for drug treatment\\\\\"\",\"share\":\"3\"},{\"id\":\"438\",\"firstname\":\"Gertrude B.\",\"surname\":\"Elion\",\"motivation\":\"\\\\\"for their discoveries of important principles for drug treatment\\\\\"\",\"share\":\"3\"},{\"id\":\"439\",\"firstname\":\"George H.\",\"surname\":\"Hitchings\",\"motivation\":\"\\\\\"for their discoveries of important principles for drug treatment\\\\\"\",\"share\":\"3\"}]},{\"year\":\"1988\",\"category\":\"literature\",\"laureates\":[{\"id\":\"665\",\"firstname\":\"Naguib\",\"surname\":\"Mahfouz\",\"motivation\":\"\\\\\"who, through works rich in nuance - now clear-sightedly realistic, now evocatively ambiguous - has formed an Arabian narrative art that applies to all mankind\\\\\"\",\"share\":\"1\"}]},{\"year\":\"1988\",\"category\":\"peace\",\"laureates\":[{\"id\":\"550\",\"firstname\":\"United Nations Peacekeeping Forces\",\"share\":\"1\",\"surname\":\"\"}]},{\"year\":\"1988\",\"category\":\"economics\",\"laureates\":[{\"id\":\"702\",\"firstname\":\"Maurice\",\"surname\":\"Allais\",\"motivation\":\"\\\\\"for his pioneering contributions to the theory of markets and efficient utilization of resources\\\\\"\",\"share\":\"1\"}]},{\"year\":\"1987\",\"category\":\"physics\",\"laureates\":[{\"id\":\"130\",\"firstname\":\"J. Georg\",\"surname\":\"Bednorz\",\"motivation\":\"\\\\\"for their important break-through in the discovery of superconductivity in ceramic materials\\\\\"\",\"share\":\"2\"},{\"id\":\"131\",\"firstname\":\"K. Alexander\",\"surname\":\"M\\\\u00fcller\",\"motivation\":\"\\\\\"for their important break-through in the discovery of superconductivity in ceramic materials\\\\\"\",\"share\":\"2\"}]},{\"year\":\"1987\",\"category\":\"chemistry\",\"laureates\":[{\"id\":\"267\",\"firstname\":\"Donald J.\",\"surname\":\"Cram\",\"motivation\":\"\\\\\"for their development and use of molecules with structure-specific interactions of high selectivity\\\\\"\",\"share\":\"3\"},{\"id\":\"268\",\"firstname\":\"Jean-Marie\",\"surname\":\"Lehn\",\"motivation\":\"\\\\\"for their development and use of molecules with structure-specific interactions of high selectivity\\\\\"\",\"share\":\"3\"},{\"id\":\"269\",\"firstname\":\"Charles J.\",\"surname\":\"Pedersen\",\"motivation\":\"\\\\\"for their development and use of molecules with structure-specific interactions of high selectivity\\\\\"\",\"share\":\"3\"}]},{\"year\":\"1987\",\"category\":\"medicine\",\"laureates\":[{\"id\":\"436\",\"firstname\":\"Susumu\",\"surname\":\"Tonegawa\",\"motivation\":\"\\\\\"for his discovery of the genetic principle for generation of antibody diversity\\\\\"\",\"share\":\"1\"}]},{\"year\":\"1987\",\"category\":\"literature\",\"laureates\":[{\"id\":\"664\",\"firstname\":\"Joseph\",\"surname\":\"Brodsky\",\"motivation\":\"\\\\\"for an all-embracing authorship, imbued with clarity of thought and poetic intensity\\\\\"\",\"share\":\"1\"}]},{\"year\":\"1987\",\"category\":\"peace\",\"laureates\":[{\"id\":\"549\",\"firstname\":\"Oscar\",\"surname\":\"Arias S\\\\u00e1nchez\",\"motivation\":\"\\\\\"for his work for peace in Central America, efforts which led to the accord signed in Guatemala on August 7 this year\\\\\"\",\"share\":\"1\"}]},{\"year\":\"1987\",\"category\":\"economics\",\"laureates\":[{\"id\":\"701\",\"firstname\":\"Robert M.\",\"surname\":\"Solow\",\"motivation\":\"\\\\\"for his contributions to the theory of economic growth\\\\\"\",\"share\":\"1\"}]},{\"year\":\"1986\",\"category\":\"physics\",\"laureates\":[{\"id\":\"127\",\"firstname\":\"Ernst\",\"surname\":\"Ruska\",\"motivation\":\"\\\\\"for his fundamental work in electron optics, and for the design of the first electron microscope\\\\\"\",\"share\":\"2\"},{\"id\":\"128\",\"firstname\":\"Gerd\",\"surname\":\"Binnig\",\"motivation\":\"\\\\\"for their design of the scanning tunneling microscope\\\\\"\",\"share\":\"4\"},{\"id\":\"129\",\"firstname\":\"Heinrich\",\"surname\":\"Rohrer\",\"motivation\":\"\\\\\"for their design of the scanning tunneling microscope\\\\\"\",\"share\":\"4\"}]},{\"year\":\"1986\",\"category\":\"chemistry\",\"laureates\":[{\"id\":\"264\",\"firstname\":\"Dudley R.\",\"surname\":\"Herschbach\",\"motivation\":\"\\\\\"for their contributions concerning the dynamics of chemical elementary processes\\\\\"\",\"share\":\"3\"},{\"id\":\"265\",\"firstname\":\"Yuan T.\",\"surname\":\"Lee\",\"motivation\":\"\\\\\"for their contributions concerning the dynamics of chemical elementary processes\\\\\"\",\"share\":\"3\"},{\"id\":\"266\",\"firstname\":\"John C.\",\"surname\":\"Polanyi\",\"motivation\":\"\\\\\"for their contributions concerning the dynamics of chemical elementary processes\\\\\"\",\"share\":\"3\"}]},{\"year\":\"1986\",\"category\":\"medicine\",\"laureates\":[{\"id\":\"434\",\"firstname\":\"Stanley\",\"surname\":\"Cohen\",\"motivation\":\"\\\\\"for their discoveries of growth factors\\\\\"\",\"share\":\"2\"},{\"id\":\"435\",\"firstname\":\"Rita\",\"surname\":\"Levi-Montalcini\",\"motivation\":\"\\\\\"for their discoveries of growth factors\\\\\"\",\"share\":\"2\"}]},{\"year\":\"1986\",\"category\":\"literature\",\"laureates\":[{\"id\":\"663\",\"firstname\":\"Wole\",\"surname\":\"Soyinka\",\"motivation\":\"\\\\\"who in a wide cultural perspective and with poetic overtones fashions the drama of existence\\\\\"\",\"share\":\"1\"}]},{\"year\":\"1986\",\"category\":\"peace\",\"laureates\":[{\"id\":\"548\",\"firstname\":\"Elie\",\"surname\":\"Wiesel\",\"share\":\"1\"}]},{\"year\":\"1986\",\"category\":\"economics\",\"laureates\":[{\"id\":\"700\",\"firstname\":\"James M.\",\"surname\":\"Buchanan Jr.\",\"motivation\":\"\\\\\"for his development of the contractual and constitutional bases for the theory of economic and political decision-making\\\\\"\",\"share\":\"1\"}]},{\"year\":\"1985\",\"category\":\"physics\",\"laureates\":[{\"id\":\"126\",\"firstname\":\"Klaus\",\"surname\":\"von Klitzing\",\"motivation\":\"\\\\\"for the discovery of the quantized Hall effect\\\\\"\",\"share\":\"1\"}]},{\"year\":\"1985\",\"category\":\"chemistry\",\"laureates\":[{\"id\":\"262\",\"firstname\":\"Herbert A.\",\"surname\":\"Hauptman\",\"motivation\":\"\\\\\"for their outstanding achievements in the development of direct methods for the determination of crystal structures\\\\\"\",\"share\":\"2\"},{\"id\":\"263\",\"firstname\":\"Jerome\",\"surname\":\"Karle\",\"motivation\":\"\\\\\"for their outstanding achievements in the development of direct methods for the determination of crystal structures\\\\\"\",\"share\":\"2\"}]},{\"year\":\"1985\",\"category\":\"medicine\",\"laureates\":[{\"id\":\"432\",\"firstname\":\"Michael S.\",\"surname\":\"Brown\",\"motivation\":\"\\\\\"for their discoveries concerning the regulation of cholesterol metabolism\\\\\"\",\"share\":\"2\"},{\"id\":\"433\",\"firstname\":\"Joseph L.\",\"surname\":\"Goldstein\",\"motivation\":\"\\\\\"for their discoveries concerning the regulation of cholesterol metabolism\\\\\"\",\"share\":\"2\"}]},{\"year\":\"1985\",\"category\":\"literature\",\"laureates\":[{\"id\":\"662\",\"firstname\":\"Claude\",\"surname\":\"Simon\",\"motivation\":\"\\\\\"who in his novel combines the poet\\'s and the painter\\'s creativeness with a deepened awareness of time in the depiction of the human condition\\\\\"\",\"share\":\"1\"}]},{\"year\":\"1985\",\"category\":\"peace\",\"laureates\":[{\"id\":\"547\",\"firstname\":\"International Physicians for the Prevention of Nuclear War\",\"share\":\"1\",\"surname\":\"\"}]},{\"year\":\"1985\",\"category\":\"economics\",\"laureates\":[{\"id\":\"699\",\"firstname\":\"Franco\",\"surname\":\"Modigliani\",\"motivation\":\"\\\\\"for his pioneering analyses of saving and of financial markets\\\\\"\",\"share\":\"1\"}]},{\"year\":\"1984\",\"category\":\"physics\",\"laureates\":[{\"id\":\"124\",\"firstname\":\"Carlo\",\"surname\":\"Rubbia\",\"motivation\":\"\\\\\"for their decisive contributions to the large project, which led to the discovery of the field particles W and Z, communicators of weak interaction\\\\\"\",\"share\":\"2\"},{\"id\":\"125\",\"firstname\":\"Simon\",\"surname\":\"van der Meer\",\"motivation\":\"\\\\\"for their decisive contributions to the large project, which led to the discovery of the field particles W and Z, communicators of weak interaction\\\\\"\",\"share\":\"2\"}]},{\"year\":\"1984\",\"category\":\"chemistry\",\"laureates\":[{\"id\":\"261\",\"firstname\":\"Robert Bruce\",\"surname\":\"Merrifield\",\"motivation\":\"\\\\\"for his development of methodology for chemical synthesis on a solid matrix\\\\\"\",\"share\":\"1\"}]},{\"year\":\"1984\",\"category\":\"medicine\",\"laureates\":[{\"id\":\"429\",\"firstname\":\"Niels K.\",\"surname\":\"Jerne\",\"motivation\":\"\\\\\"for theories concerning the specificity in development and control of the immune system and the discovery of the principle for production of monoclonal antibodies\\\\\"\",\"share\":\"3\"},{\"id\":\"430\",\"firstname\":\"Georges J.F.\",\"surname\":\"K\\\\u00f6hler\",\"motivation\":\"\\\\\"for theories concerning the specificity in development and control of the immune system and the discovery of the principle for production of monoclonal antibodies\\\\\"\",\"share\":\"3\"},{\"id\":\"431\",\"firstname\":\"C\\\\u00e9sar\",\"surname\":\"Milstein\",\"motivation\":\"\\\\\"for theories concerning the specificity in development and control of the immune system and the discovery of the principle for production of monoclonal antibodies\\\\\"\",\"share\":\"3\"}]},{\"year\":\"1984\",\"category\":\"literature\",\"laureates\":[{\"id\":\"661\",\"firstname\":\"Jaroslav\",\"surname\":\"Seifert\",\"motivation\":\"\\\\\"for his poetry which endowed with freshness, sensuality and rich inventiveness provides a liberating image of the indomitable spirit and versatility of man\\\\\"\",\"share\":\"1\"}]},{\"year\":\"1984\",\"category\":\"peace\",\"laureates\":[{\"id\":\"546\",\"firstname\":\"Desmond Mpilo\",\"surname\":\"Tutu\",\"share\":\"1\"}]},{\"year\":\"1984\",\"category\":\"economics\",\"laureates\":[{\"id\":\"698\",\"firstname\":\"Richard\",\"surname\":\"Stone\",\"motivation\":\"\\\\\"for having made fundamental contributions to the development of systems of national accounts and hence greatly improved the basis for empirical economic analysis\\\\\"\",\"share\":\"1\"}]},{\"year\":\"1983\",\"category\":\"physics\",\"laureates\":[{\"id\":\"122\",\"firstname\":\"Subramanyan\",\"surname\":\"Chandrasekhar\",\"motivation\":\"\\\\\"for his theoretical studies of the physical processes of importance to the structure and evolution of the stars\\\\\"\",\"share\":\"2\"},{\"id\":\"123\",\"firstname\":\"William Alfred\",\"surname\":\"Fowler\",\"motivation\":\"\\\\\"for his theoretical and experimental studies of the nuclear reactions of importance in the formation of the chemical elements in the universe\\\\\"\",\"share\":\"2\"}]},{\"year\":\"1983\",\"category\":\"chemistry\",\"laureates\":[{\"id\":\"260\",\"firstname\":\"Henry\",\"surname\":\"Taube\",\"motivation\":\"\\\\\"for his work on the mechanisms of electron transfer reactions, especially in metal complexes\\\\\"\",\"share\":\"1\"}]},{\"year\":\"1983\",\"category\":\"medicine\",\"laureates\":[{\"id\":\"428\",\"firstname\":\"Barbara\",\"surname\":\"McClintock\",\"motivation\":\"\\\\\"for her discovery of mobile genetic elements\\\\\"\",\"share\":\"1\"}]},{\"year\":\"1983\",\"category\":\"literature\",\"laureates\":[{\"id\":\"660\",\"firstname\":\"William\",\"surname\":\"Golding\",\"motivation\":\"\\\\\"for his novels which, with the perspicuity of realistic narrative art and the diversity and universality of myth, illuminate the human condition in the world of today\\\\\"\",\"share\":\"1\"}]},{\"year\":\"1983\",\"category\":\"peace\",\"laureates\":[{\"id\":\"545\",\"firstname\":\"Lech\",\"surname\":\"Walesa\",\"share\":\"1\"}]},{\"year\":\"1983\",\"category\":\"economics\",\"laureates\":[{\"id\":\"697\",\"firstname\":\"Gerard\",\"surname\":\"Debreu\",\"motivation\":\"\\\\\"for having incorporated new analytical methods into economic theory and for his rigorous reformulation of the theory of general equilibrium\\\\\"\",\"share\":\"1\"}]},{\"year\":\"1982\",\"category\":\"physics\",\"laureates\":[{\"id\":\"121\",\"firstname\":\"Kenneth G.\",\"surname\":\"Wilson\",\"motivation\":\"\\\\\"for his theory for critical phenomena in connection with phase transitions\\\\\"\",\"share\":\"1\"}]},{\"year\":\"1982\",\"category\":\"chemistry\",\"laureates\":[{\"id\":\"259\",\"firstname\":\"Aaron\",\"surname\":\"Klug\",\"motivation\":\"\\\\\"for his development of crystallographic electron microscopy and his structural elucidation of biologically important nucleic acid-protein complexes\\\\\"\",\"share\":\"1\"}]},{\"year\":\"1982\",\"category\":\"medicine\",\"laureates\":[{\"id\":\"425\",\"firstname\":\"Sune K.\",\"surname\":\"Bergstr\\\\u00f6m\",\"motivation\":\"\\\\\"for their discoveries concerning prostaglandins and related biologically active substances\\\\\"\",\"share\":\"3\"},{\"id\":\"426\",\"firstname\":\"Bengt I.\",\"surname\":\"Samuelsson\",\"motivation\":\"\\\\\"for their discoveries concerning prostaglandins and related biologically active substances\\\\\"\",\"share\":\"3\"},{\"id\":\"427\",\"firstname\":\"John R.\",\"surname\":\"Vane\",\"motivation\":\"\\\\\"for their discoveries concerning prostaglandins and related biologically active substances\\\\\"\",\"share\":\"3\"}]},{\"year\":\"1982\",\"category\":\"literature\",\"laureates\":[{\"id\":\"659\",\"firstname\":\"Gabriel\",\"surname\":\"Garc\\\\u00eda M\\\\u00e1rquez\",\"motivation\":\"\\\\\"for his novels and short stories, in which the fantastic and the realistic are combined in a richly composed world of imagination, reflecting a continent\\'s life and conflicts\\\\\"\",\"share\":\"1\"}]},{\"year\":\"1982\",\"category\":\"peace\",\"laureates\":[{\"id\":\"543\",\"firstname\":\"Alva\",\"surname\":\"Myrdal\",\"share\":\"2\"},{\"id\":\"544\",\"firstname\":\"Alfonso\",\"surname\":\"Garc\\\\u00eda Robles\",\"share\":\"2\"}]},{\"year\":\"1982\",\"category\":\"economics\",\"laureates\":[{\"id\":\"696\",\"firstname\":\"George J.\",\"surname\":\"Stigler\",\"motivation\":\"\\\\\"for his seminal studies of industrial structures, functioning of markets and causes and effects of public regulation\\\\\"\",\"share\":\"1\"}]},{\"year\":\"1981\",\"category\":\"physics\",\"laureates\":[{\"id\":\"118\",\"firstname\":\"Nicolaas\",\"surname\":\"Bloembergen\",\"motivation\":\"\\\\\"for their contribution to the development of laser spectroscopy\\\\\"\",\"share\":\"4\"},{\"id\":\"119\",\"firstname\":\"Arthur Leonard\",\"surname\":\"Schawlow\",\"motivation\":\"\\\\\"for their contribution to the development of laser spectroscopy\\\\\"\",\"share\":\"4\"},{\"id\":\"120\",\"firstname\":\"Kai M.\",\"surname\":\"Siegbahn\",\"motivation\":\"\\\\\"for his contribution to the development of high-resolution electron spectroscopy\\\\\"\",\"share\":\"2\"}]},{\"year\":\"1981\",\"category\":\"chemistry\",\"laureates\":[{\"id\":\"257\",\"firstname\":\"Kenichi\",\"surname\":\"Fukui\",\"motivation\":\"\\\\\"for their theories, developed independently, concerning the course of chemical reactions\\\\\"\",\"share\":\"2\"},{\"id\":\"258\",\"firstname\":\"Roald\",\"surname\":\"Hoffmann\",\"motivation\":\"\\\\\"for their theories, developed independently, concerning the course of chemical reactions\\\\\"\",\"share\":\"2\"}]},{\"year\":\"1981\",\"category\":\"medicine\",\"laureates\":[{\"id\":\"422\",\"firstname\":\"Roger W.\",\"surname\":\"Sperry\",\"motivation\":\"\\\\\"for his discoveries concerning the functional specialization of the cerebral hemispheres\\\\\"\",\"share\":\"2\"},{\"id\":\"423\",\"firstname\":\"David H.\",\"surname\":\"Hubel\",\"motivation\":\"\\\\\"for their discoveries concerning information processing in the visual system\\\\\"\",\"share\":\"4\"},{\"id\":\"424\",\"firstname\":\"Torsten N.\",\"surname\":\"Wiesel\",\"motivation\":\"\\\\\"for their discoveries concerning information processing in the visual system\\\\\"\",\"share\":\"4\"}]},{\"year\":\"1981\",\"category\":\"literature\",\"laureates\":[{\"id\":\"658\",\"firstname\":\"Elias\",\"surname\":\"Canetti\",\"motivation\":\"\\\\\"for writings marked by a broad outlook, a wealth of ideas and artistic power\\\\\"\",\"share\":\"1\"}]},{\"year\":\"1981\",\"category\":\"peace\",\"laureates\":[{\"id\":\"515\",\"firstname\":\"Office of the United Nations High Commissioner for Refugees (UNHCR)\",\"share\":\"1\",\"surname\":\"\"}]},{\"year\":\"1981\",\"category\":\"economics\",\"laureates\":[{\"id\":\"695\",\"firstname\":\"James\",\"surname\":\"Tobin\",\"motivation\":\"\\\\\"for his analysis of financial markets and their relations to expenditure decisions, employment, production and prices\\\\\"\",\"share\":\"1\"}]},{\"year\":\"1980\",\"category\":\"physics\",\"laureates\":[{\"id\":\"116\",\"firstname\":\"James Watson\",\"surname\":\"Cronin\",\"motivation\":\"\\\\\"for the discovery of violations of fundamental symmetry principles in the decay of neutral K-mesons\\\\\"\",\"share\":\"2\"},{\"id\":\"117\",\"firstname\":\"Val Logsdon\",\"surname\":\"Fitch\",\"motivation\":\"\\\\\"for the discovery of violations of fundamental symmetry principles in the decay of neutral K-mesons\\\\\"\",\"share\":\"2\"}]},{\"year\":\"1980\",\"category\":\"chemistry\",\"laureates\":[{\"id\":\"254\",\"firstname\":\"Paul\",\"surname\":\"Berg\",\"motivation\":\"\\\\\"for his fundamental studies of the biochemistry of nucleic acids, with particular regard to recombinant-DNA\\\\\"\",\"share\":\"2\"},{\"id\":\"255\",\"firstname\":\"Walter\",\"surname\":\"Gilbert\",\"motivation\":\"\\\\\"for their contributions concerning the determination of base sequences in nucleic acids\\\\\"\",\"share\":\"4\"},{\"id\":\"222\",\"firstname\":\"Frederick\",\"surname\":\"Sanger\",\"motivation\":\"\\\\\"for their contributions concerning the determination of base sequences in nucleic acids\\\\\"\",\"share\":\"4\"}]},{\"year\":\"1980\",\"category\":\"medicine\",\"laureates\":[{\"id\":\"419\",\"firstname\":\"Baruj\",\"surname\":\"Benacerraf\",\"motivation\":\"\\\\\"for their discoveries concerning genetically determined structures on the cell surface that regulate immunological reactions\\\\\"\",\"share\":\"3\"},{\"id\":\"420\",\"firstname\":\"Jean\",\"surname\":\"Dausset\",\"motivation\":\"\\\\\"for their discoveries concerning genetically determined structures on the cell surface that regulate immunological reactions\\\\\"\",\"share\":\"3\"},{\"id\":\"421\",\"firstname\":\"George D.\",\"surname\":\"Snell\",\"motivation\":\"\\\\\"for their discoveries concerning genetically determined structures on the cell surface that regulate immunological reactions\\\\\"\",\"share\":\"3\"}]},{\"year\":\"1980\",\"category\":\"literature\",\"laureates\":[{\"id\":\"657\",\"firstname\":\"Czeslaw\",\"surname\":\"Milosz\",\"motivation\":\"\\\\\"who with uncompromising clear-sightedness voices man\\'s exposed condition in a world of severe conflicts\\\\\"\",\"share\":\"1\"}]},{\"year\":\"1980\",\"category\":\"peace\",\"laureates\":[{\"id\":\"541\",\"firstname\":\"Adolfo\",\"surname\":\"P\\\\u00e9rez Esquivel\",\"share\":\"1\"}]},{\"year\":\"1980\",\"category\":\"economics\",\"laureates\":[{\"id\":\"694\",\"firstname\":\"Lawrence R.\",\"surname\":\"Klein\",\"motivation\":\"\\\\\"for the creation of econometric models and the application to the analysis of economic fluctuations and economic policies\\\\\"\",\"share\":\"1\"}]},{\"year\":\"1979\",\"category\":\"physics\",\"laureates\":[{\"id\":\"113\",\"firstname\":\"Sheldon Lee\",\"surname\":\"Glashow\",\"motivation\":\"\\\\\"for their contributions to the theory of the unified weak and electromagnetic interaction between elementary particles, including, inter alia, the prediction of the weak neutral current\\\\\"\",\"share\":\"3\"},{\"id\":\"114\",\"firstname\":\"Abdus\",\"surname\":\"Salam\",\"motivation\":\"\\\\\"for their contributions to the theory of the unified weak and electromagnetic interaction between elementary particles, including, inter alia, the prediction of the weak neutral current\\\\\"\",\"share\":\"3\"},{\"id\":\"115\",\"firstname\":\"Steven\",\"surname\":\"Weinberg\",\"motivation\":\"\\\\\"for their contributions to the theory of the unified weak and electromagnetic interaction between elementary particles, including, inter alia, the prediction of the weak neutral current\\\\\"\",\"share\":\"3\"}]},{\"year\":\"1979\",\"category\":\"chemistry\",\"laureates\":[{\"id\":\"252\",\"firstname\":\"Herbert C.\",\"surname\":\"Brown\",\"motivation\":\"\\\\\"for their development of the use of boron- and phosphorus-containing compounds, respectively, into important reagents in organic synthesis\\\\\"\",\"share\":\"2\"},{\"id\":\"253\",\"firstname\":\"Georg\",\"surname\":\"Wittig\",\"motivation\":\"\\\\\"for their development of the use of boron- and phosphorus-containing compounds, respectively, into important reagents in organic synthesis\\\\\"\",\"share\":\"2\"}]},{\"year\":\"1979\",\"category\":\"medicine\",\"laureates\":[{\"id\":\"417\",\"firstname\":\"Allan M.\",\"surname\":\"Cormack\",\"motivation\":\"\\\\\"for the development of computer assisted tomography\\\\\"\",\"share\":\"2\"},{\"id\":\"418\",\"firstname\":\"Godfrey N.\",\"surname\":\"Hounsfield\",\"motivation\":\"\\\\\"for the development of computer assisted tomography\\\\\"\",\"share\":\"2\"}]},{\"year\":\"1979\",\"category\":\"literature\",\"laureates\":[{\"id\":\"655\",\"firstname\":\"Odysseus\",\"surname\":\"Elytis\",\"motivation\":\"\\\\\"for his poetry, which, against the background of Greek tradition, depicts with sensuous strength and intellectual clear-sightedness modern man\\'s struggle for freedom and creativeness\\\\\"\",\"share\":\"1\"}]},{\"year\":\"1979\",\"category\":\"peace\",\"laureates\":[{\"id\":\"540\",\"firstname\":\"Mother Teresa\",\"share\":\"1\",\"surname\":\"\"}]},{\"year\":\"1979\",\"category\":\"economics\",\"laureates\":[{\"id\":\"692\",\"firstname\":\"Theodore W.\",\"surname\":\"Schultz\",\"motivation\":\"\\\\\"for their pioneering research into economic development research with particular consideration of the problems of developing countries\\\\\"\",\"share\":\"2\"},{\"id\":\"693\",\"firstname\":\"Sir Arthur\",\"surname\":\"Lewis\",\"motivation\":\"\\\\\"for their pioneering research into economic development research with particular consideration of the problems of developing countries\\\\\"\",\"share\":\"2\"}]},{\"year\":\"1978\",\"category\":\"physics\",\"laureates\":[{\"id\":\"110\",\"firstname\":\"Pyotr Leonidovich\",\"surname\":\"Kapitsa\",\"motivation\":\"\\\\\"for his basic inventions and discoveries in the area of low-temperature physics\\\\\"\",\"share\":\"2\"},{\"id\":\"111\",\"firstname\":\"Arno Allan\",\"surname\":\"Penzias\",\"motivation\":\"\\\\\"for their discovery of cosmic microwave background radiation\\\\\"\",\"share\":\"4\"},{\"id\":\"112\",\"firstname\":\"Robert Woodrow\",\"surname\":\"Wilson\",\"motivation\":\"\\\\\"for their discovery of cosmic microwave background radiation\\\\\"\",\"share\":\"4\"}]},{\"year\":\"1978\",\"category\":\"chemistry\",\"laureates\":[{\"id\":\"251\",\"firstname\":\"Peter D.\",\"surname\":\"Mitchell\",\"motivation\":\"\\\\\"for his contribution to the understanding of biological energy transfer through the formulation of the chemiosmotic theory\\\\\"\",\"share\":\"1\"}]},{\"year\":\"1978\",\"category\":\"medicine\",\"laureates\":[{\"id\":\"414\",\"firstname\":\"Werner\",\"surname\":\"Arber\",\"motivation\":\"\\\\\"for the discovery of restriction enzymes and their application to problems of molecular genetics\\\\\"\",\"share\":\"3\"},{\"id\":\"415\",\"firstname\":\"Daniel\",\"surname\":\"Nathans\",\"motivation\":\"\\\\\"for the discovery of restriction enzymes and their application to problems of molecular genetics\\\\\"\",\"share\":\"3\"},{\"id\":\"416\",\"firstname\":\"Hamilton O.\",\"surname\":\"Smith\",\"motivation\":\"\\\\\"for the discovery of restriction enzymes and their application to problems of molecular genetics\\\\\"\",\"share\":\"3\"}]},{\"year\":\"1978\",\"category\":\"literature\",\"laureates\":[{\"id\":\"654\",\"firstname\":\"Isaac Bashevis\",\"surname\":\"Singer\",\"motivation\":\"\\\\\"for his impassioned narrative art which, with roots in a Polish-Jewish cultural tradition, brings universal human conditions to life\\\\\"\",\"share\":\"1\"}]},{\"year\":\"1978\",\"category\":\"peace\",\"laureates\":[{\"id\":\"538\",\"firstname\":\"Mohamed Anwar\",\"surname\":\"al-Sadat\",\"share\":\"2\"},{\"id\":\"539\",\"firstname\":\"Menachem\",\"surname\":\"Begin\",\"share\":\"2\"}]},{\"year\":\"1978\",\"category\":\"economics\",\"laureates\":[{\"id\":\"691\",\"firstname\":\"Herbert A.\",\"surname\":\"Simon\",\"motivation\":\"\\\\\"for his pioneering research into the decision-making process within economic organizations\\\\\"\",\"share\":\"1\"}]},{\"year\":\"1977\",\"category\":\"physics\",\"laureates\":[{\"id\":\"107\",\"firstname\":\"Philip Warren\",\"surname\":\"Anderson\",\"motivation\":\"\\\\\"for their fundamental theoretical investigations of the electronic structure of magnetic and disordered systems\\\\\"\",\"share\":\"3\"},{\"id\":\"108\",\"firstname\":\"Sir Nevill Francis\",\"surname\":\"Mott\",\"motivation\":\"\\\\\"for their fundamental theoretical investigations of the electronic structure of magnetic and disordered systems\\\\\"\",\"share\":\"3\"},{\"id\":\"109\",\"firstname\":\"John Hasbrouck\",\"surname\":\"van Vleck\",\"motivation\":\"\\\\\"for their fundamental theoretical investigations of the electronic structure of magnetic and disordered systems\\\\\"\",\"share\":\"3\"}]},{\"year\":\"1977\",\"category\":\"chemistry\",\"laureates\":[{\"id\":\"250\",\"firstname\":\"Ilya\",\"surname\":\"Prigogine\",\"motivation\":\"\\\\\"for his contributions to non-equilibrium thermodynamics, particularly the theory of dissipative structures\\\\\"\",\"share\":\"1\"}]},{\"year\":\"1977\",\"category\":\"medicine\",\"laureates\":[{\"id\":\"411\",\"firstname\":\"Roger\",\"surname\":\"Guillemin\",\"motivation\":\"\\\\\"for their discoveries concerning the peptide hormone production of the brain\\\\\"\",\"share\":\"4\"},{\"id\":\"412\",\"firstname\":\"Andrew V.\",\"surname\":\"Schally\",\"motivation\":\"\\\\\"for their discoveries concerning the peptide hormone production of the brain\\\\\"\",\"share\":\"4\"},{\"id\":\"413\",\"firstname\":\"Rosalyn\",\"surname\":\"Yalow\",\"motivation\":\"\\\\\"for the development of radioimmunoassays of peptide hormones\\\\\"\",\"share\":\"2\"}]},{\"year\":\"1977\",\"category\":\"literature\",\"laureates\":[{\"id\":\"653\",\"firstname\":\"Vicente\",\"surname\":\"Aleixandre\",\"motivation\":\"\\\\\"for a creative poetic writing which illuminates man\\'s condition in the cosmos and in present-day society, at the same time representing the great renewal of the traditions of Spanish poetry between the wars\\\\\"\",\"share\":\"1\"}]},{\"year\":\"1977\",\"category\":\"peace\",\"laureates\":[{\"id\":\"537\",\"firstname\":\"Amnesty International\",\"share\":\"1\",\"surname\":\"\"}]},{\"year\":\"1977\",\"category\":\"economics\",\"laureates\":[{\"id\":\"689\",\"firstname\":\"Bertil\",\"surname\":\"Ohlin\",\"motivation\":\"\\\\\"for their pathbreaking contribution to the theory of international trade and international capital movements\\\\\"\",\"share\":\"2\"},{\"id\":\"690\",\"firstname\":\"James E.\",\"surname\":\"Meade\",\"motivation\":\"\\\\\"for their pathbreaking contribution to the theory of international trade and international capital movements\\\\\"\",\"share\":\"2\"}]},{\"year\":\"1976\",\"category\":\"physics\",\"laureates\":[{\"id\":\"105\",\"firstname\":\"Burton\",\"surname\":\"Richter\",\"motivation\":\"\\\\\"for their pioneering work in the discovery of a heavy elementary particle of a new kind\\\\\"\",\"share\":\"2\"},{\"id\":\"106\",\"firstname\":\"Samuel Chao Chung\",\"surname\":\"Ting\",\"motivation\":\"\\\\\"for their pioneering work in the discovery of a heavy elementary particle of a new kind\\\\\"\",\"share\":\"2\"}]},{\"year\":\"1976\",\"category\":\"chemistry\",\"laureates\":[{\"id\":\"249\",\"firstname\":\"William N.\",\"surname\":\"Lipscomb\",\"motivation\":\"\\\\\"for his studies on the structure of boranes illuminating problems of chemical bonding\\\\\"\",\"share\":\"1\"}]},{\"year\":\"1976\",\"category\":\"medicine\",\"laureates\":[{\"id\":\"409\",\"firstname\":\"Baruch S.\",\"surname\":\"Blumberg\",\"motivation\":\"\\\\\"for their discoveries concerning new mechanisms for the origin and dissemination of infectious diseases\\\\\"\",\"share\":\"2\"},{\"id\":\"410\",\"firstname\":\"D. Carleton\",\"surname\":\"Gajdusek\",\"motivation\":\"\\\\\"for their discoveries concerning new mechanisms for the origin and dissemination of infectious diseases\\\\\"\",\"share\":\"2\"}]},{\"year\":\"1976\",\"category\":\"literature\",\"laureates\":[{\"id\":\"652\",\"firstname\":\"Saul\",\"surname\":\"Bellow\",\"motivation\":\"\\\\\"for the human understanding and subtle analysis of contemporary culture that are combined in his work\\\\\"\",\"share\":\"1\"}]},{\"year\":\"1976\",\"category\":\"peace\",\"laureates\":[{\"id\":\"535\",\"firstname\":\"Betty\",\"surname\":\"Williams\",\"share\":\"2\"},{\"id\":\"536\",\"firstname\":\"Mairead\",\"surname\":\"Corrigan\",\"share\":\"2\"}]},{\"year\":\"1976\",\"category\":\"economics\",\"laureates\":[{\"id\":\"688\",\"firstname\":\"Milton\",\"surname\":\"Friedman\",\"motivation\":\"\\\\\"for his achievements in the fields of consumption analysis, monetary history and theory and for his demonstration of the complexity of stabilization policy\\\\\"\",\"share\":\"1\"}]},{\"year\":\"1975\",\"category\":\"physics\",\"laureates\":[{\"id\":\"102\",\"firstname\":\"Aage Niels\",\"surname\":\"Bohr\",\"motivation\":\"\\\\\"for the discovery of the connection between collective motion and particle motion in atomic nuclei and the development of the theory of the structure of the atomic nucleus based on this connection\\\\\"\",\"share\":\"3\"},{\"id\":\"103\",\"firstname\":\"Ben Roy\",\"surname\":\"Mottelson\",\"motivation\":\"\\\\\"for the discovery of the connection between collective motion and particle motion in atomic nuclei and the development of the theory of the structure of the atomic nucleus based on this connection\\\\\"\",\"share\":\"3\"},{\"id\":\"104\",\"firstname\":\"Leo James\",\"surname\":\"Rainwater\",\"motivation\":\"\\\\\"for the discovery of the connection between collective motion and particle motion in atomic nuclei and the development of the theory of the structure of the atomic nucleus based on this connection\\\\\"\",\"share\":\"3\"}]},{\"year\":\"1975\",\"category\":\"chemistry\",\"laureates\":[{\"id\":\"247\",\"firstname\":\"John Warcup\",\"surname\":\"Cornforth\",\"motivation\":\"\\\\\"for his work on the stereochemistry of enzyme-catalyzed reactions\\\\\"\",\"share\":\"2\"},{\"id\":\"248\",\"firstname\":\"Vladimir\",\"surname\":\"Prelog\",\"motivation\":\"\\\\\"for his research into the stereochemistry of organic molecules and reactions\\\\\"\",\"share\":\"2\"}]},{\"year\":\"1975\",\"category\":\"medicine\",\"laureates\":[{\"id\":\"406\",\"firstname\":\"David\",\"surname\":\"Baltimore\",\"motivation\":\"\\\\\"for their discoveries concerning the interaction between tumour viruses and the genetic material of the cell\\\\\"\",\"share\":\"3\"},{\"id\":\"407\",\"firstname\":\"Renato\",\"surname\":\"Dulbecco\",\"motivation\":\"\\\\\"for their discoveries concerning the interaction between tumour viruses and the genetic material of the cell\\\\\"\",\"share\":\"3\"},{\"id\":\"408\",\"firstname\":\"Howard Martin\",\"surname\":\"Temin\",\"motivation\":\"\\\\\"for their discoveries concerning the interaction between tumour viruses and the genetic material of the cell\\\\\"\",\"share\":\"3\"}]},{\"year\":\"1975\",\"category\":\"literature\",\"laureates\":[{\"id\":\"651\",\"firstname\":\"Eugenio\",\"surname\":\"Montale\",\"motivation\":\"\\\\\"for his distinctive poetry which, with great artistic sensitivity, has interpreted human values under the sign of an outlook on life with no illusions\\\\\"\",\"share\":\"1\"}]},{\"year\":\"1975\",\"category\":\"peace\",\"laureates\":[{\"id\":\"534\",\"firstname\":\"Andrei Dmitrievich\",\"surname\":\"Sakharov\",\"share\":\"1\"}]},{\"year\":\"1975\",\"category\":\"economics\",\"laureates\":[{\"id\":\"686\",\"firstname\":\"Leonid Vitaliyevich\",\"surname\":\"Kantorovich\",\"motivation\":\"\\\\\"for their contributions to the theory of optimum allocation of resources\\\\\"\",\"share\":\"2\"},{\"id\":\"687\",\"firstname\":\"Tjalling C.\",\"surname\":\"Koopmans\",\"motivation\":\"\\\\\"for their contributions to the theory of optimum allocation of resources\\\\\"\",\"share\":\"2\"}]},{\"year\":\"1974\",\"category\":\"physics\",\"laureates\":[{\"id\":\"100\",\"firstname\":\"Sir Martin\",\"surname\":\"Ryle\",\"motivation\":\"\\\\\"for their pioneering research in radio astrophysics: Ryle for his observations and inventions, in particular of the aperture synthesis technique, and Hewish for his decisive role in the discovery of pulsars\\\\\"\",\"share\":\"2\"},{\"id\":\"101\",\"firstname\":\"Antony\",\"surname\":\"Hewish\",\"motivation\":\"\\\\\"for their pioneering research in radio astrophysics: Ryle for his observations and inventions, in particular of the aperture synthesis technique, and Hewish for his decisive role in the discovery of pulsars\\\\\"\",\"share\":\"2\"}]},{\"year\":\"1974\",\"category\":\"chemistry\",\"laureates\":[{\"id\":\"246\",\"firstname\":\"Paul J.\",\"surname\":\"Flory\",\"motivation\":\"\\\\\"for his fundamental achievements, both theoretical and experimental, in the physical chemistry of the macromolecules\\\\\"\",\"share\":\"1\"}]},{\"year\":\"1974\",\"category\":\"medicine\",\"laureates\":[{\"id\":\"403\",\"firstname\":\"Albert\",\"surname\":\"Claude\",\"motivation\":\"\\\\\"for their discoveries concerning the structural and functional organization of the cell\\\\\"\",\"share\":\"3\"},{\"id\":\"404\",\"firstname\":\"Christian\",\"surname\":\"de Duve\",\"motivation\":\"\\\\\"for their discoveries concerning the structural and functional organization of the cell\\\\\"\",\"share\":\"3\"},{\"id\":\"405\",\"firstname\":\"George E.\",\"surname\":\"Palade\",\"motivation\":\"\\\\\"for their discoveries concerning the structural and functional organization of the cell\\\\\"\",\"share\":\"3\"}]},{\"year\":\"1974\",\"category\":\"literature\",\"laureates\":[{\"id\":\"649\",\"firstname\":\"Eyvind\",\"surname\":\"Johnson\",\"motivation\":\"\\\\\"for a narrative art, far-seeing in lands and ages, in the service of freedom\\\\\"\",\"share\":\"2\"},{\"id\":\"650\",\"firstname\":\"Harry\",\"surname\":\"Martinson\",\"motivation\":\"\\\\\"for writings that catch the dewdrop and reflect the cosmos\\\\\"\",\"share\":\"2\"}]},{\"year\":\"1974\",\"category\":\"peace\",\"laureates\":[{\"id\":\"532\",\"firstname\":\"Se\\\\u00e1n\",\"surname\":\"MacBride\",\"share\":\"2\"},{\"id\":\"533\",\"firstname\":\"Eisaku\",\"surname\":\"Sato\",\"share\":\"2\"}]},{\"year\":\"1974\",\"category\":\"economics\",\"laureates\":[{\"id\":\"684\",\"firstname\":\"Gunnar\",\"surname\":\"Myrdal\",\"motivation\":\"\\\\\"for their pioneering work in the theory of money and economic fluctuations and for their penetrating analysis of the interdependence of economic, social and institutional phenomena\\\\\"\",\"share\":\"2\"},{\"id\":\"685\",\"firstname\":\"Friedrich August\",\"surname\":\"von Hayek\",\"motivation\":\"\\\\\"for their pioneering work in the theory of money and economic fluctuations and for their penetrating analysis of the interdependence of economic, social and institutional phenomena\\\\\"\",\"share\":\"2\"}]},{\"year\":\"1973\",\"category\":\"physics\",\"laureates\":[{\"id\":\"97\",\"firstname\":\"Leo\",\"surname\":\"Esaki\",\"motivation\":\"\\\\\"for their experimental discoveries regarding tunneling phenomena in semiconductors and superconductors, respectively\\\\\"\",\"share\":\"4\"},{\"id\":\"98\",\"firstname\":\"Ivar\",\"surname\":\"Giaever\",\"motivation\":\"\\\\\"for their experimental discoveries regarding tunneling phenomena in semiconductors and superconductors, respectively\\\\\"\",\"share\":\"4\"},{\"id\":\"99\",\"firstname\":\"Brian David\",\"surname\":\"Josephson\",\"motivation\":\"\\\\\"for his theoretical predictions of the properties of a supercurrent through a tunnel barrier, in particular those phenomena which are generally known as the Josephson effects\\\\\"\",\"share\":\"2\"}]},{\"year\":\"1973\",\"category\":\"chemistry\",\"laureates\":[{\"id\":\"244\",\"firstname\":\"Ernst Otto\",\"surname\":\"Fischer\",\"motivation\":\"\\\\\"for their pioneering work, performed independently, on the chemistry of the organometallic, so called sandwich compounds\\\\\"\",\"share\":\"2\"},{\"id\":\"245\",\"firstname\":\"Geoffrey\",\"surname\":\"Wilkinson\",\"motivation\":\"\\\\\"for their pioneering work, performed independently, on the chemistry of the organometallic, so called sandwich compounds\\\\\"\",\"share\":\"2\"}]},{\"year\":\"1973\",\"category\":\"medicine\",\"laureates\":[{\"id\":\"400\",\"firstname\":\"Karl\",\"surname\":\"von Frisch\",\"motivation\":\"\\\\\"for their discoveries concerning organization and elicitation of individual and social behaviour patterns\\\\\"\",\"share\":\"3\"},{\"id\":\"401\",\"firstname\":\"Konrad\",\"surname\":\"Lorenz\",\"motivation\":\"\\\\\"for their discoveries concerning organization and elicitation of individual and social behaviour patterns\\\\\"\",\"share\":\"3\"},{\"id\":\"402\",\"firstname\":\"Nikolaas\",\"surname\":\"Tinbergen\",\"motivation\":\"\\\\\"for their discoveries concerning organization and elicitation of individual and social behaviour patterns\\\\\"\",\"share\":\"3\"}]},{\"year\":\"1973\",\"category\":\"literature\",\"laureates\":[{\"id\":\"648\",\"firstname\":\"Patrick\",\"surname\":\"White\",\"motivation\":\"\\\\\"for an epic and psychological narrative art which has introduced a new continent into literature\\\\\"\",\"share\":\"1\"}]},{\"year\":\"1973\",\"category\":\"peace\",\"laureates\":[{\"id\":\"530\",\"firstname\":\"Henry A.\",\"surname\":\"Kissinger\",\"share\":\"2\"},{\"id\":\"531\",\"firstname\":\"Le Duc Tho\",\"share\":\"2\",\"surname\":\"\"}]},{\"year\":\"1973\",\"category\":\"economics\",\"laureates\":[{\"id\":\"683\",\"firstname\":\"Wassily\",\"surname\":\"Leontief\",\"motivation\":\"\\\\\"for the development of the input-output method and for its application to important economic problems\\\\\"\",\"share\":\"1\"}]},{\"year\":\"1972\",\"category\":\"physics\",\"laureates\":[{\"id\":\"66\",\"firstname\":\"John\",\"surname\":\"Bardeen\",\"motivation\":\"\\\\\"for their jointly developed theory of superconductivity, usually called the BCS-theory\\\\\"\",\"share\":\"3\"},{\"id\":\"95\",\"firstname\":\"Leon Neil\",\"surname\":\"Cooper\",\"motivation\":\"\\\\\"for their jointly developed theory of superconductivity, usually called the BCS-theory\\\\\"\",\"share\":\"3\"},{\"id\":\"96\",\"firstname\":\"John Robert\",\"surname\":\"Schrieffer\",\"motivation\":\"\\\\\"for their jointly developed theory of superconductivity, usually called the BCS-theory\\\\\"\",\"share\":\"3\"}]},{\"year\":\"1972\",\"category\":\"chemistry\",\"laureates\":[{\"id\":\"241\",\"firstname\":\"Christian B.\",\"surname\":\"Anfinsen\",\"motivation\":\"\\\\\"for his work on ribonuclease, especially concerning the connection between the amino acid sequence and the biologically active conformation\\\\\"\",\"share\":\"2\"},{\"id\":\"242\",\"firstname\":\"Stanford\",\"surname\":\"Moore\",\"motivation\":\"\\\\\"for their contribution to the understanding of the connection between chemical structure and catalytic activity of the active centre of the ribonuclease molecule\\\\\"\",\"share\":\"4\"},{\"id\":\"243\",\"firstname\":\"William H.\",\"surname\":\"Stein\",\"motivation\":\"\\\\\"for their contribution to the understanding of the connection between chemical structure and catalytic activity of the active centre of the ribonuclease molecule\\\\\"\",\"share\":\"4\"}]},{\"year\":\"1972\",\"category\":\"medicine\",\"laureates\":[{\"id\":\"398\",\"firstname\":\"Gerald M.\",\"surname\":\"Edelman\",\"motivation\":\"\\\\\"for their discoveries concerning the chemical structure of antibodies\\\\\"\",\"share\":\"2\"},{\"id\":\"399\",\"firstname\":\"Rodney R.\",\"surname\":\"Porter\",\"motivation\":\"\\\\\"for their discoveries concerning the chemical structure of antibodies\\\\\"\",\"share\":\"2\"}]},{\"year\":\"1972\",\"category\":\"literature\",\"laureates\":[{\"id\":\"647\",\"firstname\":\"Heinrich\",\"surname\":\"B\\\\u00f6ll\",\"motivation\":\"\\\\\"for his writing which through its combination of a broad perspective on his time and a sensitive skill in characterization has contributed to a renewal of German literature\\\\\"\",\"share\":\"1\"}]},{\"year\":\"1972\",\"category\":\"economics\",\"laureates\":[{\"id\":\"681\",\"firstname\":\"John R.\",\"surname\":\"Hicks\",\"motivation\":\"\\\\\"for their pioneering contributions to general economic equilibrium theory and welfare theory\\\\\"\",\"share\":\"2\"},{\"id\":\"682\",\"firstname\":\"Kenneth J.\",\"surname\":\"Arrow\",\"motivation\":\"\\\\\"for their pioneering contributions to general economic equilibrium theory and welfare theory\\\\\"\",\"share\":\"2\"}]},{\"year\":\"1971\",\"category\":\"physics\",\"laureates\":[{\"id\":\"93\",\"firstname\":\"Dennis\",\"surname\":\"Gabor\",\"motivation\":\"\\\\\"for his invention and development of the holographic method\\\\\"\",\"share\":\"1\"}]},{\"year\":\"1971\",\"category\":\"chemistry\",\"laureates\":[{\"id\":\"240\",\"firstname\":\"Gerhard\",\"surname\":\"Herzberg\",\"motivation\":\"\\\\\"for his contributions to the knowledge of electronic structure and geometry of molecules, particularly free radicals\\\\\"\",\"share\":\"1\"}]},{\"year\":\"1971\",\"category\":\"medicine\",\"laureates\":[{\"id\":\"397\",\"firstname\":\"Earl W.\",\"surname\":\"Sutherland, Jr.\",\"motivation\":\"\\\\\"for his discoveries concerning the mechanisms of the action of hormones\\\\\"\",\"share\":\"1\"}]},{\"year\":\"1971\",\"category\":\"literature\",\"laureates\":[{\"id\":\"645\",\"firstname\":\"Pablo\",\"surname\":\"Neruda\",\"motivation\":\"\\\\\"for a poetry that with the action of an elemental force brings alive a continent\\'s destiny and dreams\\\\\"\",\"share\":\"1\"}]},{\"year\":\"1971\",\"category\":\"peace\",\"laureates\":[{\"id\":\"529\",\"firstname\":\"Willy\",\"surname\":\"Brandt\",\"share\":\"1\"}]},{\"year\":\"1971\",\"category\":\"economics\",\"laureates\":[{\"id\":\"680\",\"firstname\":\"Simon\",\"surname\":\"Kuznets\",\"motivation\":\"\\\\\"for his empirically founded interpretation of economic growth which has led to new and deepened insight into the economic and social structure and process of development\\\\\"\",\"share\":\"1\"}]},{\"year\":\"1970\",\"category\":\"physics\",\"laureates\":[{\"id\":\"91\",\"firstname\":\"Hannes Olof G\\\\u00f6sta\",\"surname\":\"Alfv\\\\u00e9n\",\"motivation\":\"\\\\\"for fundamental work and discoveries in magnetohydro-dynamics with fruitful applications in different parts of plasma physics\\\\\"\",\"share\":\"2\"},{\"id\":\"92\",\"firstname\":\"Louis Eug\\\\u00e8ne F\\\\u00e9lix\",\"surname\":\"N\\\\u00e9el\",\"motivation\":\"\\\\\"for fundamental work and discoveries concerning antiferromagnetism and ferrimagnetism which have led to important applications in solid state physics\\\\\"\",\"share\":\"2\"}]},{\"year\":\"1970\",\"category\":\"chemistry\",\"laureates\":[{\"id\":\"239\",\"firstname\":\"Luis F.\",\"surname\":\"Leloir\",\"motivation\":\"\\\\\"for his discovery of sugar nucleotides and their role in the biosynthesis of carbohydrates\\\\\"\",\"share\":\"1\"}]},{\"year\":\"1970\",\"category\":\"medicine\",\"laureates\":[{\"id\":\"394\",\"firstname\":\"Sir Bernard\",\"surname\":\"Katz\",\"motivation\":\"\\\\\"for their discoveries concerning the humoral transmittors in the nerve terminals and the mechanism for their storage, release and inactivation\\\\\"\",\"share\":\"3\"},{\"id\":\"395\",\"firstname\":\"Ulf\",\"surname\":\"von Euler\",\"motivation\":\"\\\\\"for their discoveries concerning the humoral transmittors in the nerve terminals and the mechanism for their storage, release and inactivation\\\\\"\",\"share\":\"3\"},{\"id\":\"396\",\"firstname\":\"Julius\",\"surname\":\"Axelrod\",\"motivation\":\"\\\\\"for their discoveries concerning the humoral transmittors in the nerve terminals and the mechanism for their storage, release and inactivation\\\\\"\",\"share\":\"3\"}]},{\"year\":\"1970\",\"category\":\"literature\",\"laureates\":[{\"id\":\"644\",\"firstname\":\"Aleksandr Isayevich\",\"surname\":\"Solzhenitsyn\",\"motivation\":\"\\\\\"for the ethical force with which he has pursued the indispensable traditions of Russian literature\\\\\"\",\"share\":\"1\"}]},{\"year\":\"1970\",\"category\":\"peace\",\"laureates\":[{\"id\":\"528\",\"firstname\":\"Norman E.\",\"surname\":\"Borlaug\",\"share\":\"1\"}]},{\"year\":\"1970\",\"category\":\"economics\",\"laureates\":[{\"id\":\"679\",\"firstname\":\"Paul A.\",\"surname\":\"Samuelson\",\"motivation\":\"\\\\\"for the scientific work through which he has developed static and dynamic economic theory and actively contributed to raising the level of analysis in economic science\\\\\"\",\"share\":\"1\"}]},{\"year\":\"1969\",\"category\":\"physics\",\"laureates\":[{\"id\":\"90\",\"firstname\":\"Murray\",\"surname\":\"Gell-Mann\",\"motivation\":\"\\\\\"for his contributions and discoveries concerning the classification of elementary particles and their interactions\\\\\"\",\"share\":\"1\"}]},{\"year\":\"1969\",\"category\":\"chemistry\",\"laureates\":[{\"id\":\"237\",\"firstname\":\"Derek H. R.\",\"surname\":\"Barton\",\"motivation\":\"\\\\\"for their contributions to the development of the concept of conformation and its application in chemistry\\\\\"\",\"share\":\"2\"},{\"id\":\"238\",\"firstname\":\"Odd\",\"surname\":\"Hassel\",\"motivation\":\"\\\\\"for their contributions to the development of the concept of conformation and its application in chemistry\\\\\"\",\"share\":\"2\"}]},{\"year\":\"1969\",\"category\":\"medicine\",\"laureates\":[{\"id\":\"391\",\"firstname\":\"Max\",\"surname\":\"Delbr\\\\u00fcck\",\"motivation\":\"\\\\\"for their discoveries concerning the replication mechanism and the genetic structure of viruses\\\\\"\",\"share\":\"3\"},{\"id\":\"392\",\"firstname\":\"Alfred D.\",\"surname\":\"Hershey\",\"motivation\":\"\\\\\"for their discoveries concerning the replication mechanism and the genetic structure of viruses\\\\\"\",\"share\":\"3\"},{\"id\":\"393\",\"firstname\":\"Salvador E.\",\"surname\":\"Luria\",\"motivation\":\"\\\\\"for their discoveries concerning the replication mechanism and the genetic structure of viruses\\\\\"\",\"share\":\"3\"}]},{\"year\":\"1969\",\"category\":\"literature\",\"laureates\":[{\"id\":\"643\",\"firstname\":\"Samuel\",\"surname\":\"Beckett\",\"motivation\":\"\\\\\"for his writing, which - in new forms for the novel and drama - in the destitution of modern man acquires its elevation\\\\\"\",\"share\":\"1\"}]},{\"year\":\"1969\",\"category\":\"peace\",\"laureates\":[{\"id\":\"527\",\"firstname\":\"International Labour Organization (I.L.O.)\",\"share\":\"1\",\"surname\":\"\"}]},{\"year\":\"1969\",\"category\":\"economics\",\"laureates\":[{\"id\":\"677\",\"firstname\":\"Ragnar\",\"surname\":\"Frisch\",\"motivation\":\"\\\\\"for having developed and applied dynamic models for the analysis of economic processes\\\\\"\",\"share\":\"2\"},{\"id\":\"678\",\"firstname\":\"Jan\",\"surname\":\"Tinbergen\",\"motivation\":\"\\\\\"for having developed and applied dynamic models for the analysis of economic processes\\\\\"\",\"share\":\"2\"}]},{\"year\":\"1968\",\"category\":\"physics\",\"laureates\":[{\"id\":\"89\",\"firstname\":\"Luis Walter\",\"surname\":\"Alvarez\",\"motivation\":\"\\\\\"for his decisive contributions to elementary particle physics, in particular the discovery of a large number of resonance states, made possible through his development of the technique of using hydrogen bubble chamber and data analysis\\\\\"\",\"share\":\"1\"}]},{\"year\":\"1968\",\"category\":\"chemistry\",\"laureates\":[{\"id\":\"236\",\"firstname\":\"Lars\",\"surname\":\"Onsager\",\"motivation\":\"\\\\\"for the discovery of the reciprocal relations bearing his name, which are fundamental for the thermodynamics of irreversible processes\\\\\"\",\"share\":\"1\"}]},{\"year\":\"1968\",\"category\":\"medicine\",\"laureates\":[{\"id\":\"388\",\"firstname\":\"Robert W.\",\"surname\":\"Holley\",\"motivation\":\"\\\\\"for their interpretation of the genetic code and its function in protein synthesis\\\\\"\",\"share\":\"3\"},{\"id\":\"389\",\"firstname\":\"Har Gobind\",\"surname\":\"Khorana\",\"motivation\":\"\\\\\"for their interpretation of the genetic code and its function in protein synthesis\\\\\"\",\"share\":\"3\"},{\"id\":\"390\",\"firstname\":\"Marshall W.\",\"surname\":\"Nirenberg\",\"motivation\":\"\\\\\"for their interpretation of the genetic code and its function in protein synthesis\\\\\"\",\"share\":\"3\"}]},{\"year\":\"1968\",\"category\":\"literature\",\"laureates\":[{\"id\":\"642\",\"firstname\":\"Yasunari\",\"surname\":\"Kawabata\",\"motivation\":\"\\\\\"for his narrative mastery, which with great sensibility expresses the essence of the Japanese mind\\\\\"\",\"share\":\"1\"}]},{\"year\":\"1968\",\"category\":\"peace\",\"laureates\":[{\"id\":\"526\",\"firstname\":\"Ren\\\\u00e9\",\"surname\":\"Cassin\",\"share\":\"1\"}]},{\"year\":\"1967\",\"category\":\"physics\",\"laureates\":[{\"id\":\"88\",\"firstname\":\"Hans Albrecht\",\"surname\":\"Bethe\",\"motivation\":\"\\\\\"for his contributions to the theory of nuclear reactions, especially his discoveries concerning the energy production in stars\\\\\"\",\"share\":\"1\"}]},{\"year\":\"1967\",\"category\":\"chemistry\",\"laureates\":[{\"id\":\"233\",\"firstname\":\"Manfred\",\"surname\":\"Eigen\",\"motivation\":\"\\\\\"for their studies of extremely fast chemical reactions, effected by disturbing the equilibrium by means of very short pulses of energy\\\\\"\",\"share\":\"2\"},{\"id\":\"234\",\"firstname\":\"Ronald George Wreyford\",\"surname\":\"Norrish\",\"motivation\":\"\\\\\"for their studies of extremely fast chemical reactions, effected by disturbing the equilibrium by means of very short pulses of energy\\\\\"\",\"share\":\"4\"},{\"id\":\"235\",\"firstname\":\"George\",\"surname\":\"Porter\",\"motivation\":\"\\\\\"for their studies of extremely fast chemical reactions, effected by disturbing the equilibrium by means of very short pulses of energy\\\\\"\",\"share\":\"4\"}]},{\"year\":\"1967\",\"category\":\"medicine\",\"laureates\":[{\"id\":\"385\",\"firstname\":\"Ragnar\",\"surname\":\"Granit\",\"motivation\":\"\\\\\"for their discoveries concerning the primary physiological and chemical visual processes in the eye\\\\\"\",\"share\":\"3\"},{\"id\":\"386\",\"firstname\":\"Haldan Keffer\",\"surname\":\"Hartline\",\"motivation\":\"\\\\\"for their discoveries concerning the primary physiological and chemical visual processes in the eye\\\\\"\",\"share\":\"3\"},{\"id\":\"387\",\"firstname\":\"George\",\"surname\":\"Wald\",\"motivation\":\"\\\\\"for their discoveries concerning the primary physiological and chemical visual processes in the eye\\\\\"\",\"share\":\"3\"}]},{\"year\":\"1967\",\"category\":\"literature\",\"laureates\":[{\"id\":\"641\",\"firstname\":\"Miguel Angel\",\"surname\":\"Asturias\",\"motivation\":\"\\\\\"for his vivid literary achievement, deep-rooted in the national traits and traditions of Indian peoples of Latin America\\\\\"\",\"share\":\"1\"}]},{\"year\":\"1966\",\"category\":\"physics\",\"laureates\":[{\"id\":\"87\",\"firstname\":\"Alfred\",\"surname\":\"Kastler\",\"motivation\":\"\\\\\"for the discovery and development of optical methods for studying Hertzian resonances in atoms\\\\\"\",\"share\":\"1\"}]},{\"year\":\"1966\",\"category\":\"chemistry\",\"laureates\":[{\"id\":\"232\",\"firstname\":\"Robert S.\",\"surname\":\"Mulliken\",\"motivation\":\"\\\\\"for his fundamental work concerning chemical bonds and the electronic structure of molecules by the molecular orbital method\\\\\"\",\"share\":\"1\"}]},{\"year\":\"1966\",\"category\":\"medicine\",\"laureates\":[{\"id\":\"383\",\"firstname\":\"Peyton\",\"surname\":\"Rous\",\"motivation\":\"\\\\\"for his discovery of tumour-inducing viruses\\\\\"\",\"share\":\"2\"},{\"id\":\"384\",\"firstname\":\"Charles Brenton\",\"surname\":\"Huggins\",\"motivation\":\"\\\\\"for his discoveries concerning hormonal treatment of prostatic cancer\\\\\"\",\"share\":\"2\"}]},{\"year\":\"1966\",\"category\":\"literature\",\"laureates\":[{\"id\":\"639\",\"firstname\":\"Shmuel Yosef\",\"surname\":\"Agnon\",\"motivation\":\"\\\\\"for his profoundly characteristic narrative art with motifs from the life of the Jewish people\\\\\"\",\"share\":\"2\"},{\"id\":\"640\",\"firstname\":\"Nelly\",\"surname\":\"Sachs\",\"motivation\":\"\\\\\"for her outstanding lyrical and dramatic writing, which interprets Israel\\'s destiny with touching strength\\\\\" \",\"share\":\"2\"}]},{\"year\":\"1965\",\"category\":\"physics\",\"laureates\":[{\"id\":\"84\",\"firstname\":\"Sin-Itiro\",\"surname\":\"Tomonaga\",\"motivation\":\"\\\\\"for their fundamental work in quantum electrodynamics, with deep-ploughing consequences for the physics of elementary particles\\\\\"\",\"share\":\"3\"},{\"id\":\"85\",\"firstname\":\"Julian\",\"surname\":\"Schwinger\",\"motivation\":\"\\\\\"for their fundamental work in quantum electrodynamics, with deep-ploughing consequences for the physics of elementary particles\\\\\"\",\"share\":\"3\"},{\"id\":\"86\",\"firstname\":\"Richard P.\",\"surname\":\"Feynman\",\"motivation\":\"\\\\\"for their fundamental work in quantum electrodynamics, with deep-ploughing consequences for the physics of elementary particles\\\\\"\",\"share\":\"3\"}]},{\"year\":\"1965\",\"category\":\"chemistry\",\"laureates\":[{\"id\":\"231\",\"firstname\":\"Robert Burns\",\"surname\":\"Woodward\",\"motivation\":\"\\\\\"for his outstanding achievements in the art of organic synthesis\\\\\"\",\"share\":\"1\"}]},{\"year\":\"1965\",\"category\":\"medicine\",\"laureates\":[{\"id\":\"380\",\"firstname\":\"Fran\\\\u00e7ois\",\"surname\":\"Jacob\",\"motivation\":\"\\\\\"for their discoveries concerning genetic control of enzyme and virus synthesis\\\\\"\",\"share\":\"3\"},{\"id\":\"381\",\"firstname\":\"Andr\\\\u00e9\",\"surname\":\"Lwoff\",\"motivation\":\"\\\\\"for their discoveries concerning genetic control of enzyme and virus synthesis\\\\\"\",\"share\":\"3\"},{\"id\":\"382\",\"firstname\":\"Jacques\",\"surname\":\"Monod\",\"motivation\":\"\\\\\"for their discoveries concerning genetic control of enzyme and virus synthesis\\\\\"\",\"share\":\"3\"}]},{\"year\":\"1965\",\"category\":\"literature\",\"laureates\":[{\"id\":\"638\",\"firstname\":\"Mikhail Aleksandrovich\",\"surname\":\"Sholokhov\",\"motivation\":\"\\\\\"for the artistic power and integrity with which, in his epic of the Don, he has given expression to a historic phase in the life of the Russian people\\\\\"\",\"share\":\"1\"}]},{\"year\":\"1965\",\"category\":\"peace\",\"laureates\":[{\"id\":\"525\",\"firstname\":\"United Nations Children\\'s Fund (UNICEF)\",\"share\":\"1\",\"surname\":\"\"}]},{\"year\":\"1964\",\"category\":\"physics\",\"laureates\":[{\"id\":\"81\",\"firstname\":\"Charles Hard\",\"surname\":\"Townes\",\"motivation\":\"\\\\\"for fundamental work in the field of quantum electronics, which has led to the construction of oscillators and amplifiers based on the maser-laser principle\\\\\"\",\"share\":\"2\"},{\"id\":\"82\",\"firstname\":\"Nicolay Gennadiyevich\",\"surname\":\"Basov\",\"motivation\":\"\\\\\"for fundamental work in the field of quantum electronics, which has led to the construction of oscillators and amplifiers based on the maser-laser principle\\\\\"\",\"share\":\"4\"},{\"id\":\"83\",\"firstname\":\"Aleksandr Mikhailovich\",\"surname\":\"Prokhorov\",\"motivation\":\"\\\\\"for fundamental work in the field of quantum electronics, which has led to the construction of oscillators and amplifiers based on the maser-laser principle\\\\\"\",\"share\":\"4\"}]},{\"year\":\"1964\",\"category\":\"chemistry\",\"laureates\":[{\"id\":\"230\",\"firstname\":\"Dorothy Crowfoot\",\"surname\":\"Hodgkin\",\"motivation\":\"\\\\\"for her determinations by X-ray techniques of the structures of important biochemical substances\\\\\"\",\"share\":\"1\"}]},{\"year\":\"1964\",\"category\":\"medicine\",\"laureates\":[{\"id\":\"378\",\"firstname\":\"Konrad\",\"surname\":\"Bloch\",\"motivation\":\"\\\\\"for their discoveries concerning the mechanism and regulation of the cholesterol and fatty acid metabolism\\\\\"\",\"share\":\"2\"},{\"id\":\"379\",\"firstname\":\"Feodor\",\"surname\":\"Lynen\",\"motivation\":\"\\\\\"for their discoveries concerning the mechanism and regulation of the cholesterol and fatty acid metabolism\\\\\"\",\"share\":\"2\"}]},{\"year\":\"1964\",\"category\":\"literature\",\"laureates\":[{\"id\":\"637\",\"firstname\":\"Jean-Paul\",\"surname\":\"Sartre\",\"motivation\":\"\\\\\"for his work which, rich in ideas and filled with the spirit of freedom and the quest for truth, has exerted a far-reaching influence on our age\\\\\"\",\"share\":\"1\"}]},{\"year\":\"1964\",\"category\":\"peace\",\"laureates\":[{\"id\":\"524\",\"firstname\":\"Martin Luther\",\"surname\":\"King Jr.\",\"share\":\"1\"}]},{\"year\":\"1963\",\"category\":\"physics\",\"laureates\":[{\"id\":\"78\",\"firstname\":\"Eugene Paul\",\"surname\":\"Wigner\",\"motivation\":\"\\\\\"for his contributions to the theory of the atomic nucleus and the elementary particles, particularly through the discovery and application of fundamental symmetry principles\\\\\"\",\"share\":\"2\"},{\"id\":\"79\",\"firstname\":\"Maria\",\"surname\":\"Goeppert Mayer\",\"motivation\":\"\\\\\"for their discoveries concerning nuclear shell structure\\\\\"\",\"share\":\"4\"},{\"id\":\"80\",\"firstname\":\"J. Hans D.\",\"surname\":\"Jensen\",\"motivation\":\"\\\\\"for their discoveries concerning nuclear shell structure\\\\\"\",\"share\":\"4\"}]},{\"year\":\"1963\",\"category\":\"chemistry\",\"laureates\":[{\"id\":\"228\",\"firstname\":\"Karl\",\"surname\":\"Ziegler\",\"motivation\":\"\\\\\"for their discoveries in the field of the chemistry and technology of high polymers\\\\\"\",\"share\":\"2\"},{\"id\":\"229\",\"firstname\":\"Giulio\",\"surname\":\"Natta\",\"motivation\":\"\\\\\"for their discoveries in the field of the chemistry and technology of high polymers\\\\\"\",\"share\":\"2\"}]},{\"year\":\"1963\",\"category\":\"medicine\",\"laureates\":[{\"id\":\"375\",\"firstname\":\"Sir John Carew\",\"surname\":\"Eccles\",\"motivation\":\"\\\\\"for their discoveries concerning the ionic mechanisms involved in excitation and inhibition in the peripheral and central portions of the nerve cell membrane\\\\\"\",\"share\":\"3\"},{\"id\":\"376\",\"firstname\":\"Alan Lloyd\",\"surname\":\"Hodgkin\",\"motivation\":\"\\\\\"for their discoveries concerning the ionic mechanisms involved in excitation and inhibition in the peripheral and central portions of the nerve cell membrane\\\\\"\",\"share\":\"3\"},{\"id\":\"377\",\"firstname\":\"Andrew Fielding\",\"surname\":\"Huxley\",\"motivation\":\"\\\\\"for their discoveries concerning the ionic mechanisms involved in excitation and inhibition in the peripheral and central portions of the nerve cell membrane\\\\\"\",\"share\":\"3\"}]},{\"year\":\"1963\",\"category\":\"literature\",\"laureates\":[{\"id\":\"635\",\"firstname\":\"Giorgos\",\"surname\":\"Seferis\",\"motivation\":\"\\\\\"for his eminent lyrical writing, inspired by a deep feeling for the Hellenic world of culture\\\\\"\",\"share\":\"1\"}]},{\"year\":\"1963\",\"category\":\"peace\",\"laureates\":[{\"id\":\"482\",\"firstname\":\"Comit\\\\u00e9 international de la Croix Rouge (International Committee of the Red Cross)\",\"share\":\"2\",\"surname\":\"\"},{\"id\":\"523\",\"firstname\":\"Ligue des Soci\\\\u00e9t\\\\u00e9s de la Croix-Rouge (League of Red Cross Societies)\",\"share\":\"2\",\"surname\":\"\"}]},{\"year\":\"1962\",\"category\":\"physics\",\"laureates\":[{\"id\":\"77\",\"firstname\":\"Lev Davidovich\",\"surname\":\"Landau\",\"motivation\":\"\\\\\"for his pioneering theories for condensed matter, especially liquid helium\\\\\"\",\"share\":\"1\"}]},{\"year\":\"1962\",\"category\":\"chemistry\",\"laureates\":[{\"id\":\"226\",\"firstname\":\"Max Ferdinand\",\"surname\":\"Perutz\",\"motivation\":\"\\\\\"for their studies of the structures of globular proteins\\\\\"\",\"share\":\"2\"},{\"id\":\"227\",\"firstname\":\"John Cowdery\",\"surname\":\"Kendrew\",\"motivation\":\"\\\\\"for their studies of the structures of globular proteins\\\\\"\",\"share\":\"2\"}]},{\"year\":\"1962\",\"category\":\"medicine\",\"laureates\":[{\"id\":\"372\",\"firstname\":\"Francis Harry Compton\",\"surname\":\"Crick\",\"motivation\":\"\\\\\"for their discoveries concerning the molecular structure of nucleic acids and its significance for information transfer in living material\\\\\"\",\"share\":\"3\"},{\"id\":\"373\",\"firstname\":\"James Dewey\",\"surname\":\"Watson\",\"motivation\":\"\\\\\"for their discoveries concerning the molecular structure of nucleic acids and its significance for information transfer in living material\\\\\"\",\"share\":\"3\"},{\"id\":\"374\",\"firstname\":\"Maurice Hugh Frederick\",\"surname\":\"Wilkins\",\"motivation\":\"\\\\\"for their discoveries concerning the molecular structure of nucleic acids and its significance for information transfer in living material\\\\\"\",\"share\":\"3\"}]},{\"year\":\"1962\",\"category\":\"literature\",\"laureates\":[{\"id\":\"634\",\"firstname\":\"John\",\"surname\":\"Steinbeck\",\"motivation\":\"\\\\\"for his realistic and imaginative writings, combining as they do sympathetic humour and keen social perception\\\\\"\",\"share\":\"1\"}]},{\"year\":\"1962\",\"category\":\"peace\",\"laureates\":[{\"id\":\"217\",\"firstname\":\"Linus Carl\",\"surname\":\"Pauling\",\"share\":\"1\"}]},{\"year\":\"1961\",\"category\":\"physics\",\"laureates\":[{\"id\":\"75\",\"firstname\":\"Robert\",\"surname\":\"Hofstadter\",\"motivation\":\"\\\\\"for his pioneering studies of electron scattering in atomic nuclei and for his thereby achieved discoveries concerning the structure of the nucleons\\\\\"\",\"share\":\"2\"},{\"id\":\"76\",\"firstname\":\"Rudolf Ludwig\",\"surname\":\"M\\\\u00f6ssbauer\",\"motivation\":\"\\\\\"for his researches concerning the resonance absorption of gamma radiation and his discovery in this connection of the effect which bears his name\\\\\"\",\"share\":\"2\"}]},{\"year\":\"1961\",\"category\":\"chemistry\",\"laureates\":[{\"id\":\"225\",\"firstname\":\"Melvin\",\"surname\":\"Calvin\",\"motivation\":\"\\\\\"for his research on the carbon dioxide assimilation in plants\\\\\"\",\"share\":\"1\"}]},{\"year\":\"1961\",\"category\":\"medicine\",\"laureates\":[{\"id\":\"371\",\"firstname\":\"Georg\",\"surname\":\"von B\\\\u00e9k\\\\u00e9sy\",\"motivation\":\"\\\\\"for his discoveries of the physical mechanism of stimulation within the cochlea\\\\\"\",\"share\":\"1\"}]},{\"year\":\"1961\",\"category\":\"literature\",\"laureates\":[{\"id\":\"633\",\"firstname\":\"Ivo\",\"surname\":\"Andric\",\"motivation\":\"\\\\\"for the epic force with which he has traced themes and depicted human destinies drawn from the history of his country\\\\\"\",\"share\":\"1\"}]},{\"year\":\"1961\",\"category\":\"peace\",\"laureates\":[{\"id\":\"520\",\"firstname\":\"Dag Hjalmar Agne Carl\",\"surname\":\"Hammarskj\\\\u00f6ld\",\"share\":\"1\"}]},{\"year\":\"1960\",\"category\":\"physics\",\"laureates\":[{\"id\":\"74\",\"firstname\":\"Donald Arthur\",\"surname\":\"Glaser\",\"motivation\":\"\\\\\"for the invention of the bubble chamber\\\\\"\",\"share\":\"1\"}]},{\"year\":\"1960\",\"category\":\"chemistry\",\"laureates\":[{\"id\":\"224\",\"firstname\":\"Willard Frank\",\"surname\":\"Libby\",\"motivation\":\"\\\\\"for his method to use carbon-14 for age determination in archaeology, geology, geophysics, and other branches of science\\\\\"\",\"share\":\"1\"}]},{\"year\":\"1960\",\"category\":\"medicine\",\"laureates\":[{\"id\":\"369\",\"firstname\":\"Sir Frank Macfarlane\",\"surname\":\"Burnet\",\"motivation\":\"\\\\\"for discovery of acquired immunological tolerance\\\\\"\",\"share\":\"2\"},{\"id\":\"370\",\"firstname\":\"Peter Brian\",\"surname\":\"Medawar\",\"motivation\":\"\\\\\"for discovery of acquired immunological tolerance\\\\\"\",\"share\":\"2\"}]},{\"year\":\"1960\",\"category\":\"literature\",\"laureates\":[{\"id\":\"631\",\"firstname\":\"Saint-John\",\"surname\":\"Perse\",\"motivation\":\"\\\\\"for the soaring flight and the evocative imagery of his poetry which in a visionary fashion reflects the conditions of our time\\\\\"\",\"share\":\"1\"}]},{\"year\":\"1960\",\"category\":\"peace\",\"laureates\":[{\"id\":\"519\",\"firstname\":\"Albert John\",\"surname\":\"Lutuli\",\"share\":\"1\"}]},{\"year\":\"1959\",\"category\":\"physics\",\"laureates\":[{\"id\":\"72\",\"firstname\":\"Emilio Gino\",\"surname\":\"Segr\\\\u00e8\",\"motivation\":\"\\\\\"for their discovery of the antiproton\\\\\"\",\"share\":\"2\"},{\"id\":\"73\",\"firstname\":\"Owen\",\"surname\":\"Chamberlain\",\"motivation\":\"\\\\\"for their discovery of the antiproton\\\\\"\",\"share\":\"2\"}]},{\"year\":\"1959\",\"category\":\"chemistry\",\"laureates\":[{\"id\":\"223\",\"firstname\":\"Jaroslav\",\"surname\":\"Heyrovsky\",\"motivation\":\"\\\\\"for his discovery and development of the polarographic methods of analysis\\\\\"\",\"share\":\"1\"}]},{\"year\":\"1959\",\"category\":\"medicine\",\"laureates\":[{\"id\":\"367\",\"firstname\":\"Severo\",\"surname\":\"Ochoa\",\"motivation\":\"\\\\\"for their discovery of the mechanisms in the biological synthesis of ribonucleic acid and deoxyribonucleic acid\\\\\"\",\"share\":\"2\"},{\"id\":\"368\",\"firstname\":\"Arthur\",\"surname\":\"Kornberg\",\"motivation\":\"\\\\\"for their discovery of the mechanisms in the biological synthesis of ribonucleic acid and deoxyribonucleic acid\\\\\"\",\"share\":\"2\"}]},{\"year\":\"1959\",\"category\":\"literature\",\"laureates\":[{\"id\":\"630\",\"firstname\":\"Salvatore\",\"surname\":\"Quasimodo\",\"motivation\":\"\\\\\"for his lyrical poetry, which with classical fire expresses the tragic experience of life in our own times\\\\\"\",\"share\":\"1\"}]},{\"year\":\"1959\",\"category\":\"peace\",\"laureates\":[{\"id\":\"518\",\"firstname\":\"Philip J.\",\"surname\":\"Noel-Baker\",\"share\":\"1\"}]},{\"year\":\"1958\",\"category\":\"physics\",\"laureates\":[{\"id\":\"70\",\"firstname\":\"Pavel Alekseyevich\",\"surname\":\"Cherenkov\",\"motivation\":\"\\\\\"for the discovery and the interpretation of the Cherenkov effect\\\\\"\",\"share\":\"3\"},{\"id\":\"721\",\"firstname\":\"Il\\\\u00b4ja Mikhailovich\",\"surname\":\"Frank\",\"motivation\":\"\\\\\"for the discovery and the interpretation of the Cherenkov effect\\\\\"\",\"share\":\"3\"},{\"id\":\"71\",\"firstname\":\"Igor Yevgenyevich\",\"surname\":\"Tamm\",\"motivation\":\"\\\\\"for the discovery and the interpretation of the Cherenkov effect\\\\\"\",\"share\":\"3\"}]},{\"year\":\"1958\",\"category\":\"chemistry\",\"laureates\":[{\"id\":\"222\",\"firstname\":\"Frederick\",\"surname\":\"Sanger\",\"motivation\":\"\\\\\"for his work on the structure of proteins, especially that of insulin\\\\\"\",\"share\":\"1\"}]},{\"year\":\"1958\",\"category\":\"medicine\",\"laureates\":[{\"id\":\"364\",\"firstname\":\"George Wells\",\"surname\":\"Beadle\",\"motivation\":\"\\\\\"for their discovery that genes act by regulating definite chemical events\\\\\"\",\"share\":\"4\"},{\"id\":\"365\",\"firstname\":\"Edward Lawrie\",\"surname\":\"Tatum\",\"motivation\":\"\\\\\"for their discovery that genes act by regulating definite chemical events\\\\\"\",\"share\":\"4\"},{\"id\":\"366\",\"firstname\":\"Joshua\",\"surname\":\"Lederberg\",\"motivation\":\"\\\\\"for his discoveries concerning genetic recombination and the organization of the genetic material of bacteria\\\\\"\",\"share\":\"2\"}]},{\"year\":\"1958\",\"category\":\"literature\",\"laureates\":[{\"id\":\"629\",\"firstname\":\"Boris Leonidovich\",\"surname\":\"Pasternak\",\"motivation\":\"\\\\\"for his important achievement both in contemporary lyrical poetry and in the field of the great Russian epic tradition\\\\\"\",\"share\":\"1\"}]},{\"year\":\"1958\",\"category\":\"peace\",\"laureates\":[{\"id\":\"517\",\"firstname\":\"Georges\",\"surname\":\"Pire\",\"share\":\"1\"}]},{\"year\":\"1957\",\"category\":\"physics\",\"laureates\":[{\"id\":\"68\",\"firstname\":\"Chen Ning\",\"surname\":\"Yang\",\"motivation\":\"\\\\\"for their penetrating investigation of the so-called parity laws which has led to important discoveries regarding the elementary particles\\\\\"\",\"share\":\"2\"},{\"id\":\"69\",\"firstname\":\"Tsung-Dao (T.D.)\",\"surname\":\"Lee\",\"motivation\":\"\\\\\"for their penetrating investigation of the so-called parity laws which has led to important discoveries regarding the elementary particles\\\\\"\",\"share\":\"2\"}]},{\"year\":\"1957\",\"category\":\"chemistry\",\"laureates\":[{\"id\":\"221\",\"firstname\":\"Lord (Alexander R.)\",\"surname\":\"Todd\",\"motivation\":\"\\\\\"for his work on nucleotides and nucleotide co-enzymes\\\\\"\",\"share\":\"1\"}]},{\"year\":\"1957\",\"category\":\"medicine\",\"laureates\":[{\"id\":\"363\",\"firstname\":\"Daniel\",\"surname\":\"Bovet\",\"motivation\":\"\\\\\"for his discoveries relating to synthetic compounds that inhibit the action of certain body substances, and especially their action on the vascular system and the skeletal muscles\\\\\"\",\"share\":\"1\"}]},{\"year\":\"1957\",\"category\":\"literature\",\"laureates\":[{\"id\":\"628\",\"firstname\":\"Albert\",\"surname\":\"Camus\",\"motivation\":\"\\\\\"for his important literary production, which with clear-sighted earnestness illuminates the problems of the human conscience in our times\\\\\"\",\"share\":\"1\"}]},{\"year\":\"1957\",\"category\":\"peace\",\"laureates\":[{\"id\":\"516\",\"firstname\":\"Lester Bowles\",\"surname\":\"Pearson\",\"share\":\"1\"}]},{\"year\":\"1956\",\"category\":\"physics\",\"laureates\":[{\"id\":\"65\",\"firstname\":\"William Bradford\",\"surname\":\"Shockley\",\"motivation\":\"\\\\\"for their researches on semiconductors and their discovery of the transistor effect\\\\\"\",\"share\":\"3\"},{\"id\":\"66\",\"firstname\":\"John\",\"surname\":\"Bardeen\",\"motivation\":\"\\\\\"for their researches on semiconductors and their discovery of the transistor effect\\\\\"\",\"share\":\"3\"},{\"id\":\"67\",\"firstname\":\"Walter Houser\",\"surname\":\"Brattain\",\"motivation\":\"\\\\\"for their researches on semiconductors and their discovery of the transistor effect\\\\\"\",\"share\":\"3\"}]},{\"year\":\"1956\",\"category\":\"chemistry\",\"laureates\":[{\"id\":\"219\",\"firstname\":\"Sir Cyril Norman\",\"surname\":\"Hinshelwood\",\"motivation\":\"\\\\\"for their researches into the mechanism of chemical reactions\\\\\"\",\"share\":\"2\"},{\"id\":\"220\",\"firstname\":\"Nikolay Nikolaevich\",\"surname\":\"Semenov\",\"motivation\":\"\\\\\"for their researches into the mechanism of chemical reactions\\\\\"\",\"share\":\"2\"}]},{\"year\":\"1956\",\"category\":\"medicine\",\"laureates\":[{\"id\":\"360\",\"firstname\":\"Andr\\\\u00e9 Fr\\\\u00e9d\\\\u00e9ric\",\"surname\":\"Cournand\",\"motivation\":\"\\\\\"for their discoveries concerning heart catheterization and pathological changes in the circulatory system\\\\\"\",\"share\":\"3\"},{\"id\":\"361\",\"firstname\":\"Werner\",\"surname\":\"Forssmann\",\"motivation\":\"\\\\\"for their discoveries concerning heart catheterization and pathological changes in the circulatory system\\\\\"\",\"share\":\"3\"},{\"id\":\"362\",\"firstname\":\"Dickinson W.\",\"surname\":\"Richards\",\"motivation\":\"\\\\\"for their discoveries concerning heart catheterization and pathological changes in the circulatory system\\\\\"\",\"share\":\"3\"}]},{\"year\":\"1956\",\"category\":\"literature\",\"laureates\":[{\"id\":\"627\",\"firstname\":\"Juan Ram\\\\u00f3n\",\"surname\":\"Jim\\\\u00e9nez\",\"motivation\":\"\\\\\"for his lyrical poetry, which in Spanish language constitutes an example of high spirit and artistical purity\\\\\"\",\"share\":\"1\"}]},{\"year\":\"1955\",\"category\":\"physics\",\"laureates\":[{\"id\":\"63\",\"firstname\":\"Willis Eugene\",\"surname\":\"Lamb\",\"motivation\":\"\\\\\"for his discoveries concerning the fine structure of the hydrogen spectrum\\\\\"\",\"share\":\"2\"},{\"id\":\"64\",\"firstname\":\"Polykarp\",\"surname\":\"Kusch\",\"motivation\":\"\\\\\"for his precision determination of the magnetic moment of the electron\\\\\"\",\"share\":\"2\"}]},{\"year\":\"1955\",\"category\":\"chemistry\",\"laureates\":[{\"id\":\"218\",\"firstname\":\"Vincent\",\"surname\":\"du Vigneaud\",\"motivation\":\"\\\\\"for his work on biochemically important sulphur compounds, especially for the first synthesis of a polypeptide hormone\\\\\"\",\"share\":\"1\"}]},{\"year\":\"1955\",\"category\":\"medicine\",\"laureates\":[{\"id\":\"359\",\"firstname\":\"Axel Hugo Theodor\",\"surname\":\"Theorell\",\"motivation\":\"\\\\\"for his discoveries concerning the nature and mode of action of oxidation enzymes\\\\\"\",\"share\":\"1\"}]},{\"year\":\"1955\",\"category\":\"literature\",\"laureates\":[{\"id\":\"626\",\"firstname\":\"Halld\\\\u00f3r Kiljan\",\"surname\":\"Laxness\",\"motivation\":\"\\\\\"for his vivid epic power which has renewed the great narrative art of Iceland\\\\\"\",\"share\":\"1\"}]},{\"year\":\"1954\",\"category\":\"physics\",\"laureates\":[{\"id\":\"61\",\"firstname\":\"Max\",\"surname\":\"Born\",\"motivation\":\"\\\\\"for his fundamental research in quantum mechanics, especially for his statistical interpretation of the wavefunction\\\\\"\",\"share\":\"2\"},{\"id\":\"62\",\"firstname\":\"Walther\",\"surname\":\"Bothe\",\"motivation\":\"\\\\\"for the coincidence method and his discoveries made therewith\\\\\"\",\"share\":\"2\"}]},{\"year\":\"1954\",\"category\":\"chemistry\",\"laureates\":[{\"id\":\"217\",\"firstname\":\"Linus Carl\",\"surname\":\"Pauling\",\"motivation\":\"\\\\\"for his research into the nature of the chemical bond and its application to the elucidation of the structure of complex substances\\\\\"\",\"share\":\"1\"}]},{\"year\":\"1954\",\"category\":\"medicine\",\"laureates\":[{\"id\":\"356\",\"firstname\":\"John Franklin\",\"surname\":\"Enders\",\"motivation\":\"\\\\\"for their discovery of the ability of poliomyelitis viruses to grow in cultures of various types of tissue\\\\\"\",\"share\":\"3\"},{\"id\":\"357\",\"firstname\":\"Thomas Huckle\",\"surname\":\"Weller\",\"motivation\":\"\\\\\"for their discovery of the ability of poliomyelitis viruses to grow in cultures of various types of tissue\\\\\"\",\"share\":\"3\"},{\"id\":\"358\",\"firstname\":\"Frederick Chapman\",\"surname\":\"Robbins\",\"motivation\":\"\\\\\"for their discovery of the ability of poliomyelitis viruses to grow in cultures of various types of tissue\\\\\"\",\"share\":\"3\"}]},{\"year\":\"1954\",\"category\":\"literature\",\"laureates\":[{\"id\":\"625\",\"firstname\":\"Ernest Miller\",\"surname\":\"Hemingway\",\"motivation\":\"\\\\\"for his mastery of the art of narrative, most recently demonstrated in <I>The Old Man and the Sea,<\\\\/I> and for the influence that he has exerted on contemporary style\\\\\"\",\"share\":\"1\"}]},{\"year\":\"1954\",\"category\":\"peace\",\"laureates\":[{\"id\":\"515\",\"firstname\":\"Office of the United Nations High Commissioner for Refugees (UNHCR)\",\"share\":\"1\",\"surname\":\"\"}]},{\"year\":\"1953\",\"category\":\"physics\",\"laureates\":[{\"id\":\"60\",\"firstname\":\"Frits\",\"surname\":\"Zernike\",\"motivation\":\"\\\\\"for his demonstration of the phase contrast method, especially for his invention of the phase contrast microscope\\\\\"\",\"share\":\"1\"}]},{\"year\":\"1953\",\"category\":\"chemistry\",\"laureates\":[{\"id\":\"216\",\"firstname\":\"Hermann\",\"surname\":\"Staudinger\",\"motivation\":\"\\\\\"for his discoveries in the field of macromolecular chemistry\\\\\"\",\"share\":\"1\"}]},{\"year\":\"1953\",\"category\":\"medicine\",\"laureates\":[{\"id\":\"354\",\"firstname\":\"Hans Adolf\",\"surname\":\"Krebs\",\"motivation\":\"\\\\\"for his discovery of the citric acid cycle\\\\\"\",\"share\":\"2\"},{\"id\":\"355\",\"firstname\":\"Fritz Albert\",\"surname\":\"Lipmann\",\"motivation\":\"\\\\\"for his discovery of co-enzyme A and its importance for intermediary metabolism\\\\\"\",\"share\":\"2\"}]},{\"year\":\"1953\",\"category\":\"literature\",\"laureates\":[{\"id\":\"624\",\"firstname\":\"Sir Winston Leonard Spencer\",\"surname\":\"Churchill\",\"motivation\":\"\\\\\"for his mastery of historical and biographical description as well as for brilliant oratory in defending exalted human values\\\\\"\",\"share\":\"1\"}]},{\"year\":\"1953\",\"category\":\"peace\",\"laureates\":[{\"id\":\"514\",\"firstname\":\"George Catlett\",\"surname\":\"Marshall\",\"share\":\"1\"}]},{\"year\":\"1952\",\"category\":\"physics\",\"laureates\":[{\"id\":\"58\",\"firstname\":\"Felix\",\"surname\":\"Bloch\",\"motivation\":\"\\\\\"for their development of new methods for nuclear magnetic precision measurements and discoveries in connection therewith\\\\\"\",\"share\":\"2\"},{\"id\":\"59\",\"firstname\":\"Edward Mills\",\"surname\":\"Purcell\",\"motivation\":\"\\\\\"for their development of new methods for nuclear magnetic precision measurements and discoveries in connection therewith\\\\\"\",\"share\":\"2\"}]},{\"year\":\"1952\",\"category\":\"chemistry\",\"laureates\":[{\"id\":\"214\",\"firstname\":\"Archer John Porter\",\"surname\":\"Martin\",\"motivation\":\"\\\\\"for their invention of partition chromatography\\\\\"\",\"share\":\"2\"},{\"id\":\"215\",\"firstname\":\"Richard Laurence Millington\",\"surname\":\"Synge\",\"motivation\":\"\\\\\"for their invention of partition chromatography\\\\\"\",\"share\":\"2\"}]},{\"year\":\"1952\",\"category\":\"medicine\",\"laureates\":[{\"id\":\"353\",\"firstname\":\"Selman Abraham\",\"surname\":\"Waksman\",\"motivation\":\"\\\\\"for his discovery of streptomycin, the first antibiotic effective against tuberculosis\\\\\"\",\"share\":\"1\"}]},{\"year\":\"1952\",\"category\":\"literature\",\"laureates\":[{\"id\":\"623\",\"firstname\":\"Fran\\\\u00e7ois\",\"surname\":\"Mauriac\",\"motivation\":\"\\\\\"for the deep spiritual insight and the artistic intensity with which he has in his novels penetrated the drama of human life\\\\\"\",\"share\":\"1\"}]},{\"year\":\"1952\",\"category\":\"peace\",\"laureates\":[{\"id\":\"513\",\"firstname\":\"Albert\",\"surname\":\"Schweitzer\",\"share\":\"1\"}]},{\"year\":\"1951\",\"category\":\"physics\",\"laureates\":[{\"id\":\"56\",\"firstname\":\"Sir John Douglas\",\"surname\":\"Cockcroft\",\"motivation\":\"\\\\\"for their pioneer work on the transmutation of atomic nuclei by artificially accelerated atomic particles\\\\\"\",\"share\":\"2\"},{\"id\":\"57\",\"firstname\":\"Ernest Thomas Sinton\",\"surname\":\"Walton\",\"motivation\":\"\\\\\"for their pioneer work on the transmutation of atomic nuclei by artificially accelerated atomic particles\\\\\"\",\"share\":\"2\"}]},{\"year\":\"1951\",\"category\":\"chemistry\",\"laureates\":[{\"id\":\"212\",\"firstname\":\"Edwin Mattison\",\"surname\":\"McMillan\",\"motivation\":\"\\\\\"for their discoveries in the chemistry of the transuranium elements\\\\\"\",\"share\":\"2\"},{\"id\":\"213\",\"firstname\":\"Glenn Theodore\",\"surname\":\"Seaborg\",\"motivation\":\"\\\\\"for their discoveries in the chemistry of the transuranium elements\\\\\"\",\"share\":\"2\"}]},{\"year\":\"1951\",\"category\":\"medicine\",\"laureates\":[{\"id\":\"352\",\"firstname\":\"Max\",\"surname\":\"Theiler\",\"motivation\":\"\\\\\"for his discoveries concerning yellow fever and how to combat it\\\\\"\",\"share\":\"1\"}]},{\"year\":\"1951\",\"category\":\"literature\",\"laureates\":[{\"id\":\"622\",\"firstname\":\"P\\\\u00e4r Fabian\",\"surname\":\"Lagerkvist\",\"motivation\":\"\\\\\"for the artistic vigour and true independence of mind with which he endeavours in his poetry to find answers to the eternal questions confronting mankind\\\\\"\",\"share\":\"1\"}]},{\"year\":\"1951\",\"category\":\"peace\",\"laureates\":[{\"id\":\"512\",\"firstname\":\"L\\\\u00e9on\",\"surname\":\"Jouhaux\",\"share\":\"1\"}]},{\"year\":\"1950\",\"category\":\"physics\",\"laureates\":[{\"id\":\"55\",\"firstname\":\"Cecil Frank\",\"surname\":\"Powell\",\"motivation\":\"\\\\\"for his development of the photographic method of studying nuclear processes and his discoveries regarding mesons made with this method\\\\\"\",\"share\":\"1\"}]},{\"year\":\"1950\",\"category\":\"chemistry\",\"laureates\":[{\"id\":\"210\",\"firstname\":\"Otto Paul Hermann\",\"surname\":\"Diels\",\"motivation\":\"\\\\\"for their discovery and development of the diene synthesis\\\\\"\",\"share\":\"2\"},{\"id\":\"211\",\"firstname\":\"Kurt\",\"surname\":\"Alder\",\"motivation\":\"\\\\\"for their discovery and development of the diene synthesis\\\\\"\",\"share\":\"2\"}]},{\"year\":\"1950\",\"category\":\"medicine\",\"laureates\":[{\"id\":\"349\",\"firstname\":\"Edward Calvin\",\"surname\":\"Kendall\",\"motivation\":\"\\\\\"for their discoveries relating to the hormones of the adrenal cortex, their structure and biological effects\\\\\"\",\"share\":\"3\"},{\"id\":\"350\",\"firstname\":\"Tadeus\",\"surname\":\"Reichstein\",\"motivation\":\"\\\\\"for their discoveries relating to the hormones of the adrenal cortex, their structure and biological effects\\\\\"\",\"share\":\"3\"},{\"id\":\"351\",\"firstname\":\"Philip Showalter\",\"surname\":\"Hench\",\"motivation\":\"\\\\\"for their discoveries relating to the hormones of the adrenal cortex, their structure and biological effects\\\\\"\",\"share\":\"3\"}]},{\"year\":\"1950\",\"category\":\"literature\",\"laureates\":[{\"id\":\"621\",\"firstname\":\"Earl (Bertrand Arthur William)\",\"surname\":\"Russell\",\"motivation\":\"\\\\\"in recognition of his varied and significant writings in which he champions humanitarian ideals and freedom of thought\\\\\"\",\"share\":\"1\"}]},{\"year\":\"1950\",\"category\":\"peace\",\"laureates\":[{\"id\":\"511\",\"firstname\":\"Ralph\",\"surname\":\"Bunche\",\"share\":\"1\"}]},{\"year\":\"1949\",\"category\":\"physics\",\"laureates\":[{\"id\":\"54\",\"firstname\":\"Hideki\",\"surname\":\"Yukawa\",\"motivation\":\"\\\\\"for his prediction of the existence of mesons on the basis of theoretical work on nuclear forces\\\\\"\",\"share\":\"1\"}]},{\"year\":\"1949\",\"category\":\"chemistry\",\"laureates\":[{\"id\":\"209\",\"firstname\":\"William Francis\",\"surname\":\"Giauque\",\"motivation\":\"\\\\\"for his contributions in the field of chemical thermodynamics, particularly concerning the behaviour of substances at extremely low temperatures\\\\\"\",\"share\":\"1\"}]},{\"year\":\"1949\",\"category\":\"medicine\",\"laureates\":[{\"id\":\"347\",\"firstname\":\"Walter Rudolf\",\"surname\":\"Hess\",\"motivation\":\"\\\\\"for his discovery of the functional organization of the interbrain as a coordinator of the activities of the internal organs\\\\\"\",\"share\":\"2\"},{\"id\":\"348\",\"firstname\":\"Antonio Caetano de Abreu Freire Egas\",\"surname\":\"Moniz\",\"motivation\":\"\\\\\"for his discovery of the therapeutic value of leucotomy in certain psychoses\\\\\"\",\"share\":\"2\"}]},{\"year\":\"1949\",\"category\":\"literature\",\"laureates\":[{\"id\":\"620\",\"firstname\":\"William\",\"surname\":\"Faulkner\",\"motivation\":\"\\\\\"for his powerful and artistically unique contribution to the modern American novel\\\\\"\",\"share\":\"1\"}]},{\"year\":\"1949\",\"category\":\"peace\",\"laureates\":[{\"id\":\"510\",\"firstname\":\"Lord (John)\",\"surname\":\"Boyd Orr of Brechin\",\"share\":\"1\"}]},{\"year\":\"1948\",\"category\":\"physics\",\"laureates\":[{\"id\":\"53\",\"firstname\":\"Patrick Maynard Stuart\",\"surname\":\"Blackett\",\"motivation\":\"\\\\\"for his development of the Wilson cloud chamber method, and his discoveries therewith in the fields of nuclear physics and cosmic radiation\\\\\"\",\"share\":\"1\"}]},{\"year\":\"1948\",\"category\":\"chemistry\",\"laureates\":[{\"id\":\"208\",\"firstname\":\"Arne Wilhelm Kaurin\",\"surname\":\"Tiselius\",\"motivation\":\"\\\\\"for his research on electrophoresis and adsorption analysis, especially for his discoveries concerning the complex nature of the serum proteins\\\\\"\",\"share\":\"1\"}]},{\"year\":\"1948\",\"category\":\"medicine\",\"laureates\":[{\"id\":\"346\",\"firstname\":\"Paul Hermann\",\"surname\":\"M\\\\u00fcller\",\"motivation\":\"\\\\\"for his discovery of the high efficiency of DDT as a contact poison against several arthropods\\\\\"\",\"share\":\"1\"}]},{\"year\":\"1948\",\"category\":\"literature\",\"laureates\":[{\"id\":\"619\",\"firstname\":\"Thomas Stearns\",\"surname\":\"Eliot\",\"motivation\":\"\\\\\"for his outstanding, pioneer contribution to present-day poetry\\\\\"\",\"share\":\"1\"}]},{\"year\":\"1947\",\"category\":\"physics\",\"laureates\":[{\"id\":\"52\",\"firstname\":\"Sir Edward Victor\",\"surname\":\"Appleton\",\"motivation\":\"\\\\\"for his investigations of the physics of the upper atmosphere especially for the discovery of the so-called Appleton layer\\\\\"\",\"share\":\"1\"}]},{\"year\":\"1947\",\"category\":\"chemistry\",\"laureates\":[{\"id\":\"207\",\"firstname\":\"Sir Robert\",\"surname\":\"Robinson\",\"motivation\":\"\\\\\"for his investigations on plant products of biological importance, especially the alkaloids\\\\\"\",\"share\":\"1\"}]},{\"year\":\"1947\",\"category\":\"medicine\",\"laureates\":[{\"id\":\"343\",\"firstname\":\"Carl Ferdinand\",\"surname\":\"Cori\",\"motivation\":\"\\\\\"for their discovery of the course of the catalytic conversion of glycogen\\\\\"\",\"share\":\"4\"},{\"id\":\"344\",\"firstname\":\"Gerty Theresa\",\"surname\":\"Cori, n\\\\u00e9e Radnitz\",\"motivation\":\"\\\\\"for their discovery of the course of the catalytic conversion of glycogen\\\\\"\",\"share\":\"4\"},{\"id\":\"345\",\"firstname\":\"Bernardo Alberto\",\"surname\":\"Houssay\",\"motivation\":\"\\\\\"for his discovery of the part played by the hormone of the anterior pituitary lobe in the metabolism of sugar\\\\\"\",\"share\":\"2\"}]},{\"year\":\"1947\",\"category\":\"literature\",\"laureates\":[{\"id\":\"618\",\"firstname\":\"Andr\\\\u00e9 Paul Guillaume\",\"surname\":\"Gide\",\"motivation\":\"\\\\\"for his comprehensive and artistically significant writings, in which human problems and conditions have been presented with a fearless love of truth and keen psychological insight\\\\\"\",\"share\":\"1\"}]},{\"year\":\"1947\",\"category\":\"peace\",\"laureates\":[{\"id\":\"508\",\"firstname\":\"Friends Service Council (The Quakers)\",\"share\":\"2\",\"surname\":\"\"},{\"id\":\"509\",\"firstname\":\"American Friends Service Committee (The Quakers)\",\"share\":\"2\",\"surname\":\"\"}]},{\"year\":\"1946\",\"category\":\"physics\",\"laureates\":[{\"id\":\"51\",\"firstname\":\"Percy Williams\",\"surname\":\"Bridgman\",\"motivation\":\"\\\\\"for the invention of an apparatus to produce extremely high pressures, and for the discoveries he made therewith in the field of high pressure physics\\\\\"\",\"share\":\"1\"}]},{\"year\":\"1946\",\"category\":\"chemistry\",\"laureates\":[{\"id\":\"204\",\"firstname\":\"James Batcheller\",\"surname\":\"Sumner\",\"motivation\":\"\\\\\"for his discovery that enzymes can be crystallized\\\\\"\",\"share\":\"2\"},{\"id\":\"205\",\"firstname\":\"John Howard\",\"surname\":\"Northrop\",\"motivation\":\"\\\\\"for their preparation of enzymes and virus proteins in a pure form\\\\\"\",\"share\":\"4\"},{\"id\":\"206\",\"firstname\":\"Wendell Meredith\",\"surname\":\"Stanley\",\"motivation\":\"\\\\\"for their preparation of enzymes and virus proteins in a pure form\\\\\"\",\"share\":\"4\"}]},{\"year\":\"1946\",\"category\":\"medicine\",\"laureates\":[{\"id\":\"342\",\"firstname\":\"Hermann Joseph\",\"surname\":\"Muller\",\"motivation\":\"\\\\\"for the discovery of the production of mutations by means of X-ray irradiation\\\\\"\",\"share\":\"1\"}]},{\"year\":\"1946\",\"category\":\"literature\",\"laureates\":[{\"id\":\"617\",\"firstname\":\"Hermann\",\"surname\":\"Hesse\",\"motivation\":\"\\\\\"for his inspired writings which, while growing in boldness and penetration, exemplify the classical humanitarian ideals and high qualities of style\\\\\"\",\"share\":\"1\"}]},{\"year\":\"1946\",\"category\":\"peace\",\"laureates\":[{\"id\":\"506\",\"firstname\":\"Emily Greene\",\"surname\":\"Balch\",\"share\":\"2\"},{\"id\":\"507\",\"firstname\":\"John Raleigh\",\"surname\":\"Mott\",\"share\":\"2\"}]},{\"year\":\"1945\",\"category\":\"physics\",\"laureates\":[{\"id\":\"50\",\"firstname\":\"Wolfgang\",\"surname\":\"Pauli\",\"motivation\":\"\\\\\"for the discovery of the Exclusion Principle, also called the Pauli Principle\\\\\"\",\"share\":\"1\"}]},{\"year\":\"1945\",\"category\":\"chemistry\",\"laureates\":[{\"id\":\"203\",\"firstname\":\"Artturi Ilmari\",\"surname\":\"Virtanen\",\"motivation\":\"\\\\\"for his research and inventions in agricultural and nutrition chemistry, especially for his fodder preservation method\\\\\"\",\"share\":\"1\"}]},{\"year\":\"1945\",\"category\":\"medicine\",\"laureates\":[{\"id\":\"339\",\"firstname\":\"Sir Alexander\",\"surname\":\"Fleming\",\"motivation\":\"\\\\\"for the discovery of penicillin and its curative effect in various infectious diseases\\\\\"\",\"share\":\"3\"},{\"id\":\"340\",\"firstname\":\"Ernst Boris\",\"surname\":\"Chain\",\"motivation\":\"\\\\\"for the discovery of penicillin and its curative effect in various infectious diseases\\\\\"\",\"share\":\"3\"},{\"id\":\"341\",\"firstname\":\"Sir Howard Walter\",\"surname\":\"Florey\",\"motivation\":\"\\\\\"for the discovery of penicillin and its curative effect in various infectious diseases\\\\\"\",\"share\":\"3\"}]},{\"year\":\"1945\",\"category\":\"literature\",\"laureates\":[{\"id\":\"615\",\"firstname\":\"Gabriela\",\"surname\":\"Mistral\",\"motivation\":\"\\\\\"for her lyric poetry which, inspired by powerful emotions, has made her name a symbol of the idealistic aspirations of the entire Latin American world\\\\\"\",\"share\":\"1\"}]},{\"year\":\"1945\",\"category\":\"peace\",\"laureates\":[{\"id\":\"505\",\"firstname\":\"Cordell\",\"surname\":\"Hull\",\"share\":\"1\"}]},{\"year\":\"1944\",\"category\":\"physics\",\"laureates\":[{\"id\":\"49\",\"firstname\":\"Isidor Isaac\",\"surname\":\"Rabi\",\"motivation\":\"\\\\\"for his resonance method for recording the magnetic properties of atomic nuclei\\\\\"\",\"share\":\"1\"}]},{\"year\":\"1944\",\"category\":\"chemistry\",\"laureates\":[{\"id\":\"202\",\"firstname\":\"Otto\",\"surname\":\"Hahn\",\"motivation\":\"\\\\\"for his discovery of the fission of heavy nuclei\\\\\"\",\"share\":\"1\"}]},{\"year\":\"1944\",\"category\":\"medicine\",\"laureates\":[{\"id\":\"337\",\"firstname\":\"Joseph\",\"surname\":\"Erlanger\",\"motivation\":\"\\\\\"for their discoveries relating to the highly differentiated functions of single nerve fibres\\\\\"\",\"share\":\"2\"},{\"id\":\"338\",\"firstname\":\"Herbert Spencer\",\"surname\":\"Gasser\",\"motivation\":\"\\\\\"for their discoveries relating to the highly differentiated functions of single nerve fibres\\\\\"\",\"share\":\"2\"}]},{\"year\":\"1944\",\"category\":\"literature\",\"laureates\":[{\"id\":\"614\",\"firstname\":\"Johannes Vilhelm\",\"surname\":\"Jensen\",\"motivation\":\"\\\\\"for the rare strength and fertility of his poetic imagination with which is combined an intellectual curiosity of wide scope and a bold, freshly creative style\\\\\"\",\"share\":\"1\"}]},{\"year\":\"1944\",\"category\":\"peace\",\"laureates\":[{\"id\":\"482\",\"firstname\":\"Comit\\\\u00e9 international de la Croix Rouge (International Committee of the Red Cross)\",\"share\":\"1\",\"surname\":\"\"}]},{\"year\":\"1943\",\"category\":\"physics\",\"laureates\":[{\"id\":\"48\",\"firstname\":\"Otto\",\"surname\":\"Stern\",\"motivation\":\"\\\\\"for his contribution to the development of the molecular ray method and his discovery of the magnetic moment of the proton\\\\\"\",\"share\":\"1\"}]},{\"year\":\"1943\",\"category\":\"chemistry\",\"laureates\":[{\"id\":\"201\",\"firstname\":\"George\",\"surname\":\"de Hevesy\",\"motivation\":\"\\\\\"for his work on the use of isotopes as tracers in the study of chemical processes\\\\\"\",\"share\":\"1\"}]},{\"year\":\"1943\",\"category\":\"medicine\",\"laureates\":[{\"id\":\"335\",\"firstname\":\"Henrik Carl Peter\",\"surname\":\"Dam\",\"motivation\":\"\\\\\"for his discovery of vitamin K\\\\\"\",\"share\":\"2\"},{\"id\":\"336\",\"firstname\":\"Edward Adelbert\",\"surname\":\"Doisy\",\"motivation\":\"\\\\\"for his discovery of the chemical nature of vitamin K\\\\\"\",\"share\":\"2\"}]},{\"year\":\"1939\",\"category\":\"physics\",\"laureates\":[{\"id\":\"47\",\"firstname\":\"Ernest Orlando\",\"surname\":\"Lawrence\",\"motivation\":\"\\\\\"for the invention and development of the cyclotron and for results obtained with it, especially with regard to artificial radioactive elements\\\\\"\",\"share\":\"1\"}]},{\"year\":\"1939\",\"category\":\"chemistry\",\"laureates\":[{\"id\":\"199\",\"firstname\":\"Adolf Friedrich Johann\",\"surname\":\"Butenandt\",\"motivation\":\"\\\\\"for his work on sex hormones\\\\\"\",\"share\":\"2\"},{\"id\":\"200\",\"firstname\":\"Leopold\",\"surname\":\"Ruzicka\",\"motivation\":\"\\\\\"for his work on polymethylenes and higher terpenes\\\\\"\",\"share\":\"2\"}]},{\"year\":\"1939\",\"category\":\"medicine\",\"laureates\":[{\"id\":\"334\",\"firstname\":\"Gerhard\",\"surname\":\"Domagk\",\"motivation\":\"\\\\\"for the discovery of the antibacterial effects of prontosil\\\\\"\",\"share\":\"1\"}]},{\"year\":\"1939\",\"category\":\"literature\",\"laureates\":[{\"id\":\"613\",\"firstname\":\"Frans Eemil\",\"surname\":\"Sillanp\\\\u00e4\\\\u00e4\",\"motivation\":\"\\\\\"for his deep understanding of his country\\'s peasantry and the exquisite art with which he has portrayed their way of life and their relationship with Nature\\\\\"\",\"share\":\"1\"}]},{\"year\":\"1938\",\"category\":\"physics\",\"laureates\":[{\"id\":\"46\",\"firstname\":\"Enrico\",\"surname\":\"Fermi\",\"motivation\":\"\\\\\"for his demonstrations of the existence of new radioactive elements produced by neutron irradiation, and for his related discovery of nuclear reactions brought about by slow neutrons\\\\\"\",\"share\":\"1\"}]},{\"year\":\"1938\",\"category\":\"chemistry\",\"laureates\":[{\"id\":\"198\",\"firstname\":\"Richard\",\"surname\":\"Kuhn\",\"motivation\":\"\\\\\"for his work on carotenoids and vitamins\\\\\"\",\"share\":\"1\"}]},{\"year\":\"1938\",\"category\":\"medicine\",\"laureates\":[{\"id\":\"333\",\"firstname\":\"Corneille Jean Fran\\\\u00e7ois\",\"surname\":\"Heymans\",\"motivation\":\"\\\\\"for the discovery of the role played by the sinus and aortic mechanisms in the regulation of respiration\\\\\"\",\"share\":\"1\"}]},{\"year\":\"1938\",\"category\":\"literature\",\"laureates\":[{\"id\":\"610\",\"firstname\":\"Pearl\",\"surname\":\"Buck\",\"motivation\":\"\\\\\"for her rich and truly epic descriptions of peasant life in China and for her biographical masterpieces\\\\\"\",\"share\":\"1\"}]},{\"year\":\"1938\",\"category\":\"peace\",\"laureates\":[{\"id\":\"503\",\"firstname\":\"Office international Nansen pour les R\\\\u00e9fugi\\\\u00e9s (Nansen International Office for Refugees)\",\"share\":\"1\",\"surname\":\"\"}]},{\"year\":\"1937\",\"category\":\"physics\",\"laureates\":[{\"id\":\"44\",\"firstname\":\"Clinton Joseph\",\"surname\":\"Davisson\",\"motivation\":\"\\\\\"for their experimental discovery of the diffraction of electrons by crystals\\\\\"\",\"share\":\"2\"},{\"id\":\"45\",\"firstname\":\"George Paget\",\"surname\":\"Thomson\",\"motivation\":\"\\\\\"for their experimental discovery of the diffraction of electrons by crystals\\\\\"\",\"share\":\"2\"}]},{\"year\":\"1937\",\"category\":\"chemistry\",\"laureates\":[{\"id\":\"196\",\"firstname\":\"Walter Norman\",\"surname\":\"Haworth\",\"motivation\":\"\\\\\"for his investigations on carbohydrates and vitamin C\\\\\"\",\"share\":\"2\"},{\"id\":\"197\",\"firstname\":\"Paul\",\"surname\":\"Karrer\",\"motivation\":\"\\\\\"for his investigations on carotenoids, flavins and vitamins A and B2\\\\\"\",\"share\":\"2\"}]},{\"year\":\"1937\",\"category\":\"medicine\",\"laureates\":[{\"id\":\"332\",\"firstname\":\"Albert\",\"surname\":\"von Szent-Gy\\\\u00f6rgyi Nagyr\\\\u00e1polt\",\"motivation\":\"\\\\\"for his discoveries in connection with the biological combustion processes, with special reference to vitamin C and the catalysis of fumaric acid\\\\\"\",\"share\":\"1\"}]},{\"year\":\"1937\",\"category\":\"literature\",\"laureates\":[{\"id\":\"609\",\"firstname\":\"Roger\",\"surname\":\"Martin du Gard\",\"motivation\":\"\\\\\"for the artistic power and truth with which he has depicted human conflict as well as some fundamental aspects of contemporary life in his novel-cycle <I>Les Thibault<\\\\/I>\\\\\"\",\"share\":\"1\"}]},{\"year\":\"1937\",\"category\":\"peace\",\"laureates\":[{\"id\":\"502\",\"firstname\":\"Cecil of Chelwood, Viscount\",\"surname\":\"(Lord Edgar Algernon Robert Gascoyne Cecil)\",\"share\":\"1\"}]},{\"year\":\"1936\",\"category\":\"physics\",\"laureates\":[{\"id\":\"42\",\"firstname\":\"Victor Franz\",\"surname\":\"Hess\",\"motivation\":\"\\\\\"for his discovery of cosmic radiation\\\\\"\",\"share\":\"2\"},{\"id\":\"43\",\"firstname\":\"Carl David\",\"surname\":\"Anderson\",\"motivation\":\"\\\\\"for his discovery of the positron\\\\\"\",\"share\":\"2\"}]},{\"year\":\"1936\",\"category\":\"chemistry\",\"laureates\":[{\"id\":\"195\",\"firstname\":\"Petrus (Peter) Josephus Wilhelmus\",\"surname\":\"Debye\",\"motivation\":\"\\\\\"for his contributions to our knowledge of molecular structure through his investigations on dipole moments and on the diffraction of X-rays and electrons in gases\\\\\"\",\"share\":\"1\"}]},{\"year\":\"1936\",\"category\":\"medicine\",\"laureates\":[{\"id\":\"330\",\"firstname\":\"Sir Henry Hallett\",\"surname\":\"Dale\",\"motivation\":\"\\\\\"for their discoveries relating to chemical transmission of nerve impulses\\\\\"\",\"share\":\"2\"},{\"id\":\"331\",\"firstname\":\"Otto\",\"surname\":\"Loewi\",\"motivation\":\"\\\\\"for their discoveries relating to chemical transmission of nerve impulses\\\\\"\",\"share\":\"2\"}]},{\"year\":\"1936\",\"category\":\"literature\",\"laureates\":[{\"id\":\"608\",\"firstname\":\"Eugene Gladstone\",\"surname\":\"O\\'Neill\",\"motivation\":\"\\\\\"for the power, honesty and deep-felt emotions of his dramatic works, which embody an original concept of tragedy\\\\\"\",\"share\":\"1\"}]},{\"year\":\"1936\",\"category\":\"peace\",\"laureates\":[{\"id\":\"501\",\"firstname\":\"Carlos\",\"surname\":\"Saavedra Lamas\",\"share\":\"1\"}]},{\"year\":\"1935\",\"category\":\"physics\",\"laureates\":[{\"id\":\"41\",\"firstname\":\"James\",\"surname\":\"Chadwick\",\"motivation\":\"\\\\\"for the discovery of the neutron\\\\\"\",\"share\":\"1\"}]},{\"year\":\"1935\",\"category\":\"chemistry\",\"laureates\":[{\"id\":\"193\",\"firstname\":\"Fr\\\\u00e9d\\\\u00e9ric\",\"surname\":\"Joliot\",\"motivation\":\"\\\\\"in recognition of their synthesis of new radioactive elements\\\\\"\",\"share\":\"2\"},{\"id\":\"194\",\"firstname\":\"Ir\\\\u00e8ne\",\"surname\":\"Joliot-Curie\",\"motivation\":\"\\\\\"in recognition of their synthesis of new radioactive elements\\\\\"\",\"share\":\"2\"}]},{\"year\":\"1935\",\"category\":\"medicine\",\"laureates\":[{\"id\":\"329\",\"firstname\":\"Hans\",\"surname\":\"Spemann\",\"motivation\":\"\\\\\"for his discovery of the organizer effect in embryonic development\\\\\"\",\"share\":\"1\"}]},{\"year\":\"1935\",\"category\":\"peace\",\"laureates\":[{\"id\":\"500\",\"firstname\":\"Carl\",\"surname\":\"von Ossietzky\",\"share\":\"1\"}]},{\"year\":\"1934\",\"category\":\"chemistry\",\"laureates\":[{\"id\":\"192\",\"firstname\":\"Harold Clayton\",\"surname\":\"Urey\",\"motivation\":\"\\\\\"for his discovery of heavy hydrogen\\\\\"\",\"share\":\"1\"}]},{\"year\":\"1934\",\"category\":\"medicine\",\"laureates\":[{\"id\":\"326\",\"firstname\":\"George Hoyt\",\"surname\":\"Whipple\",\"motivation\":\"\\\\\"for their discoveries concerning liver therapy in cases of anaemia\\\\\"\",\"share\":\"3\"},{\"id\":\"327\",\"firstname\":\"George Richards\",\"surname\":\"Minot\",\"motivation\":\"\\\\\"for their discoveries concerning liver therapy in cases of anaemia\\\\\"\",\"share\":\"3\"},{\"id\":\"328\",\"firstname\":\"William Parry\",\"surname\":\"Murphy\",\"motivation\":\"\\\\\"for their discoveries concerning liver therapy in cases of anaemia\\\\\"\",\"share\":\"3\"}]},{\"year\":\"1934\",\"category\":\"literature\",\"laureates\":[{\"id\":\"607\",\"firstname\":\"Luigi\",\"surname\":\"Pirandello\",\"motivation\":\"\\\\\"for his bold and ingenious revival of dramatic and scenic art\\\\\"\",\"share\":\"1\"}]},{\"year\":\"1934\",\"category\":\"peace\",\"laureates\":[{\"id\":\"499\",\"firstname\":\"Arthur\",\"surname\":\"Henderson\",\"share\":\"1\"}]},{\"year\":\"1933\",\"category\":\"physics\",\"laureates\":[{\"id\":\"39\",\"firstname\":\"Erwin\",\"surname\":\"Schr\\\\u00f6dinger\",\"motivation\":\"\\\\\"for the discovery of new productive forms of atomic theory\\\\\"\",\"share\":\"2\"},{\"id\":\"40\",\"firstname\":\"Paul Adrien Maurice\",\"surname\":\"Dirac\",\"motivation\":\"\\\\\"for the discovery of new productive forms of atomic theory\\\\\"\",\"share\":\"2\"}]},{\"year\":\"1933\",\"category\":\"medicine\",\"laureates\":[{\"id\":\"325\",\"firstname\":\"Thomas Hunt\",\"surname\":\"Morgan\",\"motivation\":\"\\\\\"for his discoveries concerning the role played by the chromosome in heredity\\\\\"\",\"share\":\"1\"}]},{\"year\":\"1933\",\"category\":\"literature\",\"laureates\":[{\"id\":\"606\",\"firstname\":\"Ivan Alekseyevich\",\"surname\":\"Bunin\",\"motivation\":\"\\\\\"for the strict artistry with which he has carried on the classical Russian traditions in prose writing\\\\\"\",\"share\":\"1\"}]},{\"year\":\"1933\",\"category\":\"peace\",\"laureates\":[{\"id\":\"498\",\"firstname\":\"Sir Norman\",\"surname\":\"Angell (Ralph Lane)\",\"share\":\"1\"}]},{\"year\":\"1932\",\"category\":\"physics\",\"laureates\":[{\"id\":\"38\",\"firstname\":\"Werner Karl\",\"surname\":\"Heisenberg\",\"motivation\":\"\\\\\"for the creation of quantum mechanics, the application of which has, inter alia, led to the discovery of the allotropic forms of hydrogen\\\\\"\",\"share\":\"1\"}]},{\"year\":\"1932\",\"category\":\"chemistry\",\"laureates\":[{\"id\":\"191\",\"firstname\":\"Irving\",\"surname\":\"Langmuir\",\"motivation\":\"\\\\\"for his discoveries and investigations in surface chemistry\\\\\"\",\"share\":\"1\"}]},{\"year\":\"1932\",\"category\":\"medicine\",\"laureates\":[{\"id\":\"323\",\"firstname\":\"Sir Charles Scott\",\"surname\":\"Sherrington\",\"motivation\":\"\\\\\"for their discoveries regarding the functions of neurons\\\\\"\",\"share\":\"2\"},{\"id\":\"324\",\"firstname\":\"Edgar Douglas\",\"surname\":\"Adrian\",\"motivation\":\"\\\\\"for their discoveries regarding the functions of neurons\\\\\"\",\"share\":\"2\"}]},{\"year\":\"1932\",\"category\":\"literature\",\"laureates\":[{\"id\":\"605\",\"firstname\":\"John\",\"surname\":\"Galsworthy\",\"motivation\":\"\\\\\"for his distinguished art of narration which takes its highest form in <I>The Forsyte Saga<\\\\/I>\\\\\"\",\"share\":\"1\"}]},{\"year\":\"1931\",\"category\":\"chemistry\",\"laureates\":[{\"id\":\"189\",\"firstname\":\"Carl\",\"surname\":\"Bosch\",\"motivation\":\"\\\\\"in recognition of their contributions to the invention and development of chemical high pressure methods\\\\\"\",\"share\":\"2\"},{\"id\":\"190\",\"firstname\":\"Friedrich\",\"surname\":\"Bergius\",\"motivation\":\"\\\\\"in recognition of their contributions to the invention and development of chemical high pressure methods\\\\\"\",\"share\":\"2\"}]},{\"year\":\"1931\",\"category\":\"medicine\",\"laureates\":[{\"id\":\"322\",\"firstname\":\"Otto Heinrich\",\"surname\":\"Warburg\",\"motivation\":\"\\\\\"for his discovery of the nature and mode of action of the respiratory enzyme\\\\\"\",\"share\":\"1\"}]},{\"year\":\"1931\",\"category\":\"literature\",\"laureates\":[{\"id\":\"604\",\"firstname\":\"Erik Axel\",\"surname\":\"Karlfeldt\",\"motivation\":\"\\\\\"The poetry of Erik Axel Karlfeldt\\\\\"\",\"share\":\"1\"}]},{\"year\":\"1931\",\"category\":\"peace\",\"laureates\":[{\"id\":\"496\",\"firstname\":\"Jane\",\"surname\":\"Addams\",\"share\":\"2\"},{\"id\":\"497\",\"firstname\":\"Nicholas Murray\",\"surname\":\"Butler\",\"share\":\"2\"}]},{\"year\":\"1930\",\"category\":\"physics\",\"laureates\":[{\"id\":\"37\",\"firstname\":\"Sir Chandrasekhara Venkata\",\"surname\":\"Raman\",\"motivation\":\"\\\\\"for his work on the scattering of light and for the discovery of the effect named after him\\\\\"\",\"share\":\"1\"}]},{\"year\":\"1930\",\"category\":\"chemistry\",\"laureates\":[{\"id\":\"188\",\"firstname\":\"Hans\",\"surname\":\"Fischer\",\"motivation\":\"\\\\\"for his researches into the constitution of haemin and chlorophyll and especially for his synthesis of haemin\\\\\"\",\"share\":\"1\"}]},{\"year\":\"1930\",\"category\":\"medicine\",\"laureates\":[{\"id\":\"321\",\"firstname\":\"Karl\",\"surname\":\"Landsteiner\",\"motivation\":\"\\\\\"for his discovery of human blood groups\\\\\"\",\"share\":\"1\"}]},{\"year\":\"1930\",\"category\":\"literature\",\"laureates\":[{\"id\":\"603\",\"firstname\":\"Sinclair\",\"surname\":\"Lewis\",\"motivation\":\"\\\\\"for his vigorous and graphic art of description and his ability to create, with wit and humour, new types of characters\\\\\"\",\"share\":\"1\"}]},{\"year\":\"1930\",\"category\":\"peace\",\"laureates\":[{\"id\":\"495\",\"firstname\":\"Lars Olof Jonathan (Nathan)\",\"surname\":\"S\\\\u00f6derblom\",\"share\":\"1\"}]},{\"year\":\"1929\",\"category\":\"physics\",\"laureates\":[{\"id\":\"36\",\"firstname\":\"Prince Louis-Victor Pierre Raymond\",\"surname\":\"de Broglie\",\"motivation\":\"\\\\\"for his discovery of the wave nature of electrons\\\\\"\",\"share\":\"1\"}]},{\"year\":\"1929\",\"category\":\"chemistry\",\"laureates\":[{\"id\":\"186\",\"firstname\":\"Arthur\",\"surname\":\"Harden\",\"motivation\":\"\\\\\"for their investigations on the fermentation of sugar and fermentative enzymes\\\\\"\",\"share\":\"2\"},{\"id\":\"187\",\"firstname\":\"Hans Karl August Simon\",\"surname\":\"von Euler-Chelpin\",\"motivation\":\"\\\\\"for their investigations on the fermentation of sugar and fermentative enzymes\\\\\"\",\"share\":\"2\"}]},{\"year\":\"1929\",\"category\":\"medicine\",\"laureates\":[{\"id\":\"319\",\"firstname\":\"Christiaan\",\"surname\":\"Eijkman\",\"motivation\":\"\\\\\"for his discovery of the antineuritic vitamin\\\\\"\",\"share\":\"2\"},{\"id\":\"320\",\"firstname\":\"Sir Frederick Gowland\",\"surname\":\"Hopkins\",\"motivation\":\"\\\\\"for his discovery of the growth-stimulating vitamins\\\\\"\",\"share\":\"2\"}]},{\"year\":\"1929\",\"category\":\"literature\",\"laureates\":[{\"id\":\"602\",\"firstname\":\"Thomas\",\"surname\":\"Mann\",\"motivation\":\"\\\\\"principally for his great novel, <I>Buddenbrooks<\\\\/I>, which has won steadily increased recognition as one of the classic works of contemporary literature\\\\\"\",\"share\":\"1\"}]},{\"year\":\"1929\",\"category\":\"peace\",\"laureates\":[{\"id\":\"494\",\"firstname\":\"Frank Billings\",\"surname\":\"Kellogg\",\"share\":\"1\"}]},{\"year\":\"1928\",\"category\":\"physics\",\"laureates\":[{\"id\":\"35\",\"firstname\":\"Owen Willans\",\"surname\":\"Richardson\",\"motivation\":\"\\\\\"for his work on the thermionic phenomenon and especially for the discovery of the law named after him\\\\\"\",\"share\":\"1\"}]},{\"year\":\"1928\",\"category\":\"chemistry\",\"laureates\":[{\"id\":\"185\",\"firstname\":\"Adolf Otto Reinhold\",\"surname\":\"Windaus\",\"motivation\":\"\\\\\"for the services rendered through his research into the constitution of the sterols and their connection with the vitamins\\\\\"\",\"share\":\"1\"}]},{\"year\":\"1928\",\"category\":\"medicine\",\"laureates\":[{\"id\":\"318\",\"firstname\":\"Charles Jules Henri\",\"surname\":\"Nicolle\",\"motivation\":\"\\\\\"for his work on typhus\\\\\"\",\"share\":\"1\"}]},{\"year\":\"1928\",\"category\":\"literature\",\"laureates\":[{\"id\":\"601\",\"firstname\":\"Sigrid\",\"surname\":\"Undset\",\"motivation\":\"\\\\\"principally for her powerful descriptions of Northern life during the Middle Ages\\\\\"\",\"share\":\"1\"}]},{\"year\":\"1927\",\"category\":\"physics\",\"laureates\":[{\"id\":\"33\",\"firstname\":\"Arthur Holly\",\"surname\":\"Compton\",\"motivation\":\"\\\\\"for his discovery of the effect named after him\\\\\"\",\"share\":\"2\"},{\"id\":\"34\",\"firstname\":\"Charles Thomson Rees\",\"surname\":\"Wilson\",\"motivation\":\"\\\\\"for his method of making the paths of electrically charged particles visible by condensation of vapour\\\\\"\",\"share\":\"2\"}]},{\"year\":\"1927\",\"category\":\"chemistry\",\"laureates\":[{\"id\":\"184\",\"firstname\":\"Heinrich Otto\",\"surname\":\"Wieland\",\"motivation\":\"\\\\\"for his investigations of the constitution of the bile acids and related substances\\\\\"\",\"share\":\"1\"}]},{\"year\":\"1927\",\"category\":\"medicine\",\"laureates\":[{\"id\":\"317\",\"firstname\":\"Julius\",\"surname\":\"Wagner-Jauregg\",\"motivation\":\"\\\\\"for his discovery of the therapeutic value of malaria inoculation in the treatment of dementia paralytica\\\\\"\",\"share\":\"1\"}]},{\"year\":\"1927\",\"category\":\"literature\",\"laureates\":[{\"id\":\"600\",\"firstname\":\"Henri\",\"surname\":\"Bergson\",\"motivation\":\"\\\\\"in recognition of his rich and vitalizing ideas and the brilliant skill with which they have been presented\\\\\"\",\"share\":\"1\"}]},{\"year\":\"1927\",\"category\":\"peace\",\"laureates\":[{\"id\":\"492\",\"firstname\":\"Ferdinand\",\"surname\":\"Buisson\",\"share\":\"2\"},{\"id\":\"493\",\"firstname\":\"Ludwig\",\"surname\":\"Quidde\",\"share\":\"2\"}]},{\"year\":\"1926\",\"category\":\"physics\",\"laureates\":[{\"id\":\"32\",\"firstname\":\"Jean Baptiste\",\"surname\":\"Perrin\",\"motivation\":\"\\\\\"for his work on the discontinuous structure of matter, and especially for his discovery of sedimentation equilibrium\\\\\"\",\"share\":\"1\"}]},{\"year\":\"1926\",\"category\":\"chemistry\",\"laureates\":[{\"id\":\"183\",\"firstname\":\"The (Theodor)\",\"surname\":\"Svedberg\",\"motivation\":\"\\\\\"for his work on disperse systems\\\\\"\",\"share\":\"1\"}]},{\"year\":\"1926\",\"category\":\"medicine\",\"laureates\":[{\"id\":\"316\",\"firstname\":\"Johannes Andreas Grib\",\"surname\":\"Fibiger\",\"motivation\":\"\\\\\"for his discovery of the Spiroptera carcinoma\\\\\"\",\"share\":\"1\"}]},{\"year\":\"1926\",\"category\":\"literature\",\"laureates\":[{\"id\":\"597\",\"firstname\":\"Grazia\",\"surname\":\"Deledda\",\"motivation\":\"\\\\\"for her idealistically inspired writings which with plastic clarity picture the life on her native island and with depth and sympathy deal with human problems in general\\\\\"\",\"share\":\"1\"}]},{\"year\":\"1926\",\"category\":\"peace\",\"laureates\":[{\"id\":\"490\",\"firstname\":\"Aristide\",\"surname\":\"Briand\",\"share\":\"2\"},{\"id\":\"491\",\"firstname\":\"Gustav\",\"surname\":\"Stresemann\",\"share\":\"2\"}]},{\"year\":\"1925\",\"category\":\"physics\",\"laureates\":[{\"id\":\"30\",\"firstname\":\"James\",\"surname\":\"Franck\",\"motivation\":\"\\\\\"for their discovery of the laws governing the impact of an electron upon an atom\\\\\"\",\"share\":\"2\"},{\"id\":\"31\",\"firstname\":\"Gustav Ludwig\",\"surname\":\"Hertz\",\"motivation\":\"\\\\\"for their discovery of the laws governing the impact of an electron upon an atom\\\\\"\",\"share\":\"2\"}]},{\"year\":\"1925\",\"category\":\"chemistry\",\"laureates\":[{\"id\":\"182\",\"firstname\":\"Richard Adolf\",\"surname\":\"Zsigmondy\",\"motivation\":\"\\\\\"for his demonstration of the heterogenous nature of colloid solutions and for the methods he used, which have since become fundamental in modern colloid chemistry\\\\\"\",\"share\":\"1\"}]},{\"year\":\"1925\",\"category\":\"literature\",\"laureates\":[{\"id\":\"596\",\"firstname\":\"George Bernard\",\"surname\":\"Shaw\",\"motivation\":\"\\\\\"for his work which is marked by both idealism and humanity, its stimulating satire often being infused with a singular poetic beauty\\\\\"\",\"share\":\"1\"}]},{\"year\":\"1925\",\"category\":\"peace\",\"laureates\":[{\"id\":\"488\",\"firstname\":\"Sir Austen\",\"surname\":\"Chamberlain\",\"share\":\"2\"},{\"id\":\"489\",\"firstname\":\"Charles Gates\",\"surname\":\"Dawes\",\"share\":\"2\"}]},{\"year\":\"1924\",\"category\":\"physics\",\"laureates\":[{\"id\":\"29\",\"firstname\":\"Karl Manne Georg\",\"surname\":\"Siegbahn\",\"motivation\":\"\\\\\"for his discoveries and research in the field of X-ray spectroscopy\\\\\"\",\"share\":\"1\"}]},{\"year\":\"1924\",\"category\":\"medicine\",\"laureates\":[{\"id\":\"315\",\"firstname\":\"Willem\",\"surname\":\"Einthoven\",\"motivation\":\"\\\\\"for his discovery of the mechanism of the electrocardiogram\\\\\"\",\"share\":\"1\"}]},{\"year\":\"1924\",\"category\":\"literature\",\"laureates\":[{\"id\":\"594\",\"firstname\":\"Wladyslaw Stanislaw\",\"surname\":\"Reymont\",\"motivation\":\"\\\\\"for his great national epic, <I>The Peasants<\\\\/I>\\\\\"\",\"share\":\"1\"}]},{\"year\":\"1923\",\"category\":\"physics\",\"laureates\":[{\"id\":\"28\",\"firstname\":\"Robert Andrews\",\"surname\":\"Millikan\",\"motivation\":\"\\\\\"for his work on the elementary charge of electricity and on the photoelectric effect\\\\\"\",\"share\":\"1\"}]},{\"year\":\"1923\",\"category\":\"chemistry\",\"laureates\":[{\"id\":\"181\",\"firstname\":\"Fritz\",\"surname\":\"Pregl\",\"motivation\":\"\\\\\"for his invention of the method of micro-analysis of organic substances\\\\\"\",\"share\":\"1\"}]},{\"year\":\"1923\",\"category\":\"medicine\",\"laureates\":[{\"id\":\"313\",\"firstname\":\"Frederick Grant\",\"surname\":\"Banting\",\"motivation\":\"\\\\\"for the discovery of insulin\\\\\"\",\"share\":\"2\"},{\"id\":\"314\",\"firstname\":\"John James Rickard\",\"surname\":\"Macleod\",\"motivation\":\"\\\\\"for the discovery of insulin\\\\\"\",\"share\":\"2\"}]},{\"year\":\"1923\",\"category\":\"literature\",\"laureates\":[{\"id\":\"593\",\"firstname\":\"William Butler\",\"surname\":\"Yeats\",\"motivation\":\"\\\\\"for his always inspired poetry, which in a highly artistic form gives expression to the spirit of a whole nation\\\\\"\",\"share\":\"1\"}]},{\"year\":\"1922\",\"category\":\"physics\",\"laureates\":[{\"id\":\"27\",\"firstname\":\"Niels Henrik David\",\"surname\":\"Bohr\",\"motivation\":\"\\\\\"for his services in the investigation of the structure of atoms and of the radiation emanating from them\\\\\"\",\"share\":\"1\"}]},{\"year\":\"1922\",\"category\":\"chemistry\",\"laureates\":[{\"id\":\"180\",\"firstname\":\"Francis William\",\"surname\":\"Aston\",\"motivation\":\"\\\\\"for his discovery, by means of his mass spectrograph, of isotopes, in a large number of non-radioactive elements, and for his enunciation of the whole-number rule\\\\\"\",\"share\":\"1\"}]},{\"year\":\"1922\",\"category\":\"medicine\",\"laureates\":[{\"id\":\"311\",\"firstname\":\"Archibald Vivian\",\"surname\":\"Hill\",\"motivation\":\"\\\\\"for his discovery relating to the production of heat in the muscle\\\\\"\",\"share\":\"2\"},{\"id\":\"312\",\"firstname\":\"Otto Fritz\",\"surname\":\"Meyerhof\",\"motivation\":\"\\\\\"for his discovery of the fixed relationship between the consumption of oxygen and the metabolism of lactic acid in the muscle\\\\\"\",\"share\":\"2\"}]},{\"year\":\"1922\",\"category\":\"literature\",\"laureates\":[{\"id\":\"592\",\"firstname\":\"Jacinto\",\"surname\":\"Benavente\",\"motivation\":\"\\\\\"for the happy manner in which he has continued the illustrious traditions of the Spanish drama\\\\\"\",\"share\":\"1\"}]},{\"year\":\"1922\",\"category\":\"peace\",\"laureates\":[{\"id\":\"487\",\"firstname\":\"Fridtjof\",\"surname\":\"Nansen\",\"share\":\"1\"}]},{\"year\":\"1921\",\"category\":\"physics\",\"laureates\":[{\"id\":\"26\",\"firstname\":\"Albert\",\"surname\":\"Einstein\",\"motivation\":\"\\\\\"for his services to Theoretical Physics, and especially for his discovery of the law of the photoelectric effect\\\\\"\",\"share\":\"1\"}]},{\"year\":\"1921\",\"category\":\"chemistry\",\"laureates\":[{\"id\":\"179\",\"firstname\":\"Frederick\",\"surname\":\"Soddy\",\"motivation\":\"\\\\\"for his contributions to our knowledge of the chemistry of radioactive substances, and his investigations into the origin and nature of isotopes\\\\\"\",\"share\":\"1\"}]},{\"year\":\"1921\",\"category\":\"literature\",\"laureates\":[{\"id\":\"590\",\"firstname\":\"Anatole\",\"surname\":\"France\",\"motivation\":\"\\\\\"in recognition of his brilliant literary achievements, characterized as they are by a nobility of style, a profound human sympathy, grace, and a true Gallic temperament\\\\\"\",\"share\":\"1\"}]},{\"year\":\"1921\",\"category\":\"peace\",\"laureates\":[{\"id\":\"485\",\"firstname\":\"Karl Hjalmar\",\"surname\":\"Branting\",\"share\":\"2\"},{\"id\":\"486\",\"firstname\":\"Christian Lous\",\"surname\":\"Lange\",\"share\":\"2\"}]},{\"year\":\"1920\",\"category\":\"physics\",\"laureates\":[{\"id\":\"25\",\"firstname\":\"Charles Edouard\",\"surname\":\"Guillaume\",\"motivation\":\"\\\\\"in recognition of the service he has rendered to precision measurements in Physics by his discovery of anomalies in nickel steel alloys\\\\\"\",\"share\":\"1\"}]},{\"year\":\"1920\",\"category\":\"chemistry\",\"laureates\":[{\"id\":\"178\",\"firstname\":\"Walther Hermann\",\"surname\":\"Nernst\",\"motivation\":\"\\\\\"in recognition of his work in thermochemistry\\\\\"\",\"share\":\"1\"}]},{\"year\":\"1920\",\"category\":\"medicine\",\"laureates\":[{\"id\":\"310\",\"firstname\":\"Schack August Steenberg\",\"surname\":\"Krogh\",\"motivation\":\"\\\\\"for his discovery of the capillary motor regulating mechanism\\\\\"\",\"share\":\"1\"}]},{\"year\":\"1920\",\"category\":\"literature\",\"laureates\":[{\"id\":\"589\",\"firstname\":\"Knut Pedersen\",\"surname\":\"Hamsun\",\"motivation\":\"\\\\\"for his monumental work, <I>Growth of the Soil<\\\\/I>\\\\\"\",\"share\":\"1\"}]},{\"year\":\"1920\",\"category\":\"peace\",\"laureates\":[{\"id\":\"484\",\"firstname\":\"L\\\\u00e9on Victor Auguste\",\"surname\":\"Bourgeois\",\"share\":\"1\"}]},{\"year\":\"1919\",\"category\":\"physics\",\"laureates\":[{\"id\":\"24\",\"firstname\":\"Johannes\",\"surname\":\"Stark\",\"motivation\":\"\\\\\"for his discovery of the Doppler effect in canal rays and the splitting of spectral lines in electric fields\\\\\"\",\"share\":\"1\"}]},{\"year\":\"1919\",\"category\":\"medicine\",\"laureates\":[{\"id\":\"309\",\"firstname\":\"Jules\",\"surname\":\"Bordet\",\"motivation\":\"\\\\\"for his discoveries relating to immunity\\\\\"\",\"share\":\"1\"}]},{\"year\":\"1919\",\"category\":\"literature\",\"laureates\":[{\"id\":\"588\",\"firstname\":\"Carl Friedrich Georg\",\"surname\":\"Spitteler\",\"motivation\":\"\\\\\"in special appreciation of his epic, <I>Olympian Spring<\\\\/I>\\\\\"\",\"share\":\"1\"}]},{\"year\":\"1919\",\"category\":\"peace\",\"laureates\":[{\"id\":\"483\",\"firstname\":\"Thomas Woodrow\",\"surname\":\"Wilson\",\"share\":\"1\"}]},{\"year\":\"1918\",\"category\":\"physics\",\"laureates\":[{\"id\":\"23\",\"firstname\":\"Max Karl Ernst Ludwig\",\"surname\":\"Planck\",\"motivation\":\"\\\\\"in recognition of the services he rendered to the advancement of Physics by his discovery of energy quanta\\\\\"\",\"share\":\"1\"}]},{\"year\":\"1918\",\"category\":\"chemistry\",\"laureates\":[{\"id\":\"177\",\"firstname\":\"Fritz\",\"surname\":\"Haber\",\"motivation\":\"\\\\\"for the synthesis of ammonia from its elements\\\\\"\",\"share\":\"1\"}]},{\"year\":\"1917\",\"category\":\"physics\",\"laureates\":[{\"id\":\"22\",\"firstname\":\"Charles Glover\",\"surname\":\"Barkla\",\"motivation\":\"\\\\\"for his discovery of the characteristic R&ouml;ntgen radiation of the elements\\\\\"\",\"share\":\"1\"}]},{\"year\":\"1917\",\"category\":\"literature\",\"laureates\":[{\"id\":\"586\",\"firstname\":\"Karl Adolph\",\"surname\":\"Gjellerup\",\"motivation\":\"\\\\\"for his varied and rich poetry, which is inspired by lofty ideals\\\\\"\",\"share\":\"2\"},{\"id\":\"587\",\"firstname\":\"Henrik\",\"surname\":\"Pontoppidan\",\"motivation\":\"\\\\\"for his authentic descriptions of present-day life in Denmark\\\\\"\",\"share\":\"2\"}]},{\"year\":\"1917\",\"category\":\"peace\",\"laureates\":[{\"id\":\"482\",\"firstname\":\"Comit\\\\u00e9 international de la Croix Rouge (International Committee of the Red Cross)\",\"share\":\"1\",\"surname\":\"\"}]},{\"year\":\"1916\",\"category\":\"literature\",\"laureates\":[{\"id\":\"585\",\"firstname\":\"Carl Gustaf Verner\",\"surname\":\"von Heidenstam\",\"motivation\":\"\\\\\"in recognition of his significance as the leading representative of a new era in our literature\\\\\"\",\"share\":\"1\"}]},{\"year\":\"1915\",\"category\":\"physics\",\"laureates\":[{\"id\":\"20\",\"firstname\":\"Sir William Henry\",\"surname\":\"Bragg\",\"motivation\":\"\\\\\"for their services in the analysis of crystal structure by means of X-rays\\\\\"\",\"share\":\"2\"},{\"id\":\"21\",\"firstname\":\"William Lawrence\",\"surname\":\"Bragg\",\"motivation\":\"\\\\\"for their services in the analysis of crystal structure by means of X-rays\\\\\"\",\"share\":\"2\"}]},{\"year\":\"1915\",\"category\":\"chemistry\",\"laureates\":[{\"id\":\"176\",\"firstname\":\"Richard Martin\",\"surname\":\"Willst\\\\u00e4tter\",\"motivation\":\"\\\\\"for his researches on plant pigments, especially chlorophyll\\\\\"\",\"share\":\"1\"}]},{\"year\":\"1915\",\"category\":\"literature\",\"laureates\":[{\"id\":\"584\",\"firstname\":\"Romain\",\"surname\":\"Rolland\",\"motivation\":\"\\\\\"as a tribute to the lofty idealism of his literary production and to the sympathy and love of truth with which he has described different types of human beings\\\\\"\",\"share\":\"1\"}]},{\"year\":\"1914\",\"category\":\"physics\",\"laureates\":[{\"id\":\"19\",\"firstname\":\"Max\",\"surname\":\"von Laue\",\"motivation\":\"\\\\\"for his discovery of the diffraction of X-rays by crystals\\\\\"\",\"share\":\"1\"}]},{\"year\":\"1914\",\"category\":\"chemistry\",\"laureates\":[{\"id\":\"175\",\"firstname\":\"Theodore William\",\"surname\":\"Richards\",\"motivation\":\"\\\\\"in recognition of his accurate determinations of the atomic weight of a large number of chemical elements\\\\\"\",\"share\":\"1\"}]},{\"year\":\"1914\",\"category\":\"medicine\",\"laureates\":[{\"id\":\"308\",\"firstname\":\"Robert\",\"surname\":\"B\\\\u00e1r\\\\u00e1ny\",\"motivation\":\"\\\\\"for his work on the physiology and pathology of the vestibular apparatus\\\\\"\",\"share\":\"1\"}]},{\"year\":\"1913\",\"category\":\"physics\",\"laureates\":[{\"id\":\"18\",\"firstname\":\"Heike\",\"surname\":\"Kamerlingh Onnes\",\"motivation\":\"\\\\\"for his investigations on the properties of matter at low temperatures which led, inter alia, to the production of liquid helium\\\\\"\",\"share\":\"1\"}]},{\"year\":\"1913\",\"category\":\"chemistry\",\"laureates\":[{\"id\":\"174\",\"firstname\":\"Alfred\",\"surname\":\"Werner\",\"motivation\":\"\\\\\"in recognition of his work on the linkage of atoms in molecules by which he has thrown new light on earlier investigations and opened up new fields of research especially in inorganic chemistry\\\\\"\",\"share\":\"1\"}]},{\"year\":\"1913\",\"category\":\"medicine\",\"laureates\":[{\"id\":\"307\",\"firstname\":\"Charles Robert\",\"surname\":\"Richet\",\"motivation\":\"\\\\\"in recognition of his work on anaphylaxis\\\\\"\",\"share\":\"1\"}]},{\"year\":\"1913\",\"category\":\"literature\",\"laureates\":[{\"id\":\"583\",\"firstname\":\"Rabindranath\",\"surname\":\"Tagore\",\"motivation\":\"\\\\\"because of his profoundly sensitive, fresh and beautiful verse, by which, with consummate skill, he has made his poetic thought, expressed in his own English words, a part of the literature of the West\\\\\"\",\"share\":\"1\"}]},{\"year\":\"1913\",\"category\":\"peace\",\"laureates\":[{\"id\":\"481\",\"firstname\":\"Henri\",\"surname\":\"La Fontaine\",\"share\":\"1\"}]},{\"year\":\"1912\",\"category\":\"physics\",\"laureates\":[{\"id\":\"17\",\"firstname\":\"Nils Gustaf\",\"surname\":\"Dal\\\\u00e9n\",\"motivation\":\"\\\\\"for his invention of automatic regulators for use in conjunction with gas accumulators for illuminating lighthouses and buoys\\\\\"\",\"share\":\"1\"}]},{\"year\":\"1912\",\"category\":\"chemistry\",\"laureates\":[{\"id\":\"172\",\"firstname\":\"Victor\",\"surname\":\"Grignard\",\"motivation\":\"\\\\\"for the discovery of the so-called Grignard reagent, which in recent years has greatly advanced the progress of organic chemistry\\\\\"\",\"share\":\"2\"},{\"id\":\"173\",\"firstname\":\"Paul\",\"surname\":\"Sabatier\",\"motivation\":\"\\\\\"for his method of hydrogenating organic compounds in the presence of finely disintegrated metals whereby the progress of organic chemistry has been greatly advanced in recent years\\\\\"\",\"share\":\"2\"}]},{\"year\":\"1912\",\"category\":\"medicine\",\"laureates\":[{\"id\":\"306\",\"firstname\":\"Alexis\",\"surname\":\"Carrel\",\"motivation\":\"\\\\\"in recognition of his work on vascular suture and the transplantation of blood vessels and organs\\\\\"\",\"share\":\"1\"}]},{\"year\":\"1912\",\"category\":\"literature\",\"laureates\":[{\"id\":\"582\",\"firstname\":\"Gerhart Johann Robert\",\"surname\":\"Hauptmann\",\"motivation\":\"\\\\\"primarily in recognition of his fruitful, varied and outstanding production in the realm of dramatic art\\\\\"\",\"share\":\"1\"}]},{\"year\":\"1912\",\"category\":\"peace\",\"laureates\":[{\"id\":\"480\",\"firstname\":\"Elihu\",\"surname\":\"Root\",\"share\":\"1\"}]},{\"year\":\"1911\",\"category\":\"physics\",\"laureates\":[{\"id\":\"16\",\"firstname\":\"Wilhelm\",\"surname\":\"Wien\",\"motivation\":\"\\\\\"for his discoveries regarding the laws governing the radiation of heat\\\\\"\",\"share\":\"1\"}]},{\"year\":\"1911\",\"category\":\"chemistry\",\"laureates\":[{\"id\":\"6\",\"firstname\":\"Marie\",\"surname\":\"Curie, n\\\\u00e9e Sklodowska\",\"motivation\":\"\\\\\"in recognition of her services to the advancement of chemistry by the discovery of the elements radium and polonium, by the isolation of radium and the study of the nature and compounds of this remarkable element\\\\\"\",\"share\":\"1\"}]},{\"year\":\"1911\",\"category\":\"medicine\",\"laureates\":[{\"id\":\"305\",\"firstname\":\"Allvar\",\"surname\":\"Gullstrand\",\"motivation\":\"\\\\\"for his work on the dioptrics of the eye\\\\\"\",\"share\":\"1\"}]},{\"year\":\"1911\",\"category\":\"literature\",\"laureates\":[{\"id\":\"581\",\"firstname\":\"Count Maurice (Mooris) Polidore Marie Bernhard\",\"surname\":\"Maeterlinck\",\"motivation\":\"\\\\\"in appreciation of his many-sided literary activities, and especially of his dramatic works, which are distinguished by a wealth of imagination and by a poetic fancy, which reveals, sometimes in the guise of a fairy tale, a deep inspiration, while in a mysterious way they appeal to the readers\\' own feelings and stimulate their imaginations\\\\\"\",\"share\":\"1\"}]},{\"year\":\"1911\",\"category\":\"peace\",\"laureates\":[{\"id\":\"478\",\"firstname\":\"Tobias Michael Carel\",\"surname\":\"Asser\",\"share\":\"2\"},{\"id\":\"479\",\"firstname\":\"Alfred Hermann\",\"surname\":\"Fried\",\"share\":\"2\"}]},{\"year\":\"1910\",\"category\":\"physics\",\"laureates\":[{\"id\":\"15\",\"firstname\":\"Johannes Diderik\",\"surname\":\"van der Waals\",\"motivation\":\"\\\\\"for his work on the equation of state for gases and liquids\\\\\"\",\"share\":\"1\"}]},{\"year\":\"1910\",\"category\":\"chemistry\",\"laureates\":[{\"id\":\"169\",\"firstname\":\"Otto\",\"surname\":\"Wallach\",\"motivation\":\"\\\\\"in recognition of his services to organic chemistry and the chemical industry by his pioneer work in the field of alicyclic compounds\\\\\"\",\"share\":\"1\"}]},{\"year\":\"1910\",\"category\":\"medicine\",\"laureates\":[{\"id\":\"304\",\"firstname\":\"Albrecht\",\"surname\":\"Kossel\",\"motivation\":\"\\\\\"in recognition of the contributions to our knowledge of cell chemistry made through his work on proteins, including the nucleic substances\\\\\"\",\"share\":\"1\"}]},{\"year\":\"1910\",\"category\":\"literature\",\"laureates\":[{\"id\":\"580\",\"firstname\":\"Paul Johann Ludwig\",\"surname\":\"Heyse\",\"motivation\":\"\\\\\"as a tribute to the consummate artistry, permeated with idealism, which he has demonstrated during his long productive career as a lyric poet, dramatist, novelist and writer of world-renowned short stories\\\\\"\",\"share\":\"1\"}]},{\"year\":\"1910\",\"category\":\"peace\",\"laureates\":[{\"id\":\"477\",\"firstname\":\"Bureau international permanent de la Paix (Permanent International Peace Bureau)\",\"share\":\"1\",\"surname\":\"\"}]},{\"year\":\"1909\",\"category\":\"physics\",\"laureates\":[{\"id\":\"13\",\"firstname\":\"Guglielmo\",\"surname\":\"Marconi\",\"motivation\":\"\\\\\"in recognition of their contributions to the development of wireless telegraphy\\\\\"\",\"share\":\"2\"},{\"id\":\"14\",\"firstname\":\"Karl Ferdinand\",\"surname\":\"Braun\",\"motivation\":\"\\\\\"in recognition of their contributions to the development of wireless telegraphy\\\\\"\",\"share\":\"2\"}]},{\"year\":\"1909\",\"category\":\"chemistry\",\"laureates\":[{\"id\":\"168\",\"firstname\":\"Wilhelm\",\"surname\":\"Ostwald\",\"motivation\":\"\\\\\"in recognition of his work on catalysis and for his investigations into the fundamental principles governing chemical equilibria and rates of reaction\\\\\"\",\"share\":\"1\"}]},{\"year\":\"1909\",\"category\":\"medicine\",\"laureates\":[{\"id\":\"303\",\"firstname\":\"Emil Theodor\",\"surname\":\"Kocher\",\"motivation\":\"\\\\\"for his work on the physiology, pathology and surgery of the thyroid gland\\\\\"\",\"share\":\"1\"}]},{\"year\":\"1909\",\"category\":\"literature\",\"laureates\":[{\"id\":\"579\",\"firstname\":\"Selma Ottilia Lovisa\",\"surname\":\"Lagerl\\\\u00f6f\",\"motivation\":\"\\\\\"in appreciation of the lofty idealism, vivid imagination and spiritual perception that characterize her writings\\\\\"\",\"share\":\"1\"}]},{\"year\":\"1909\",\"category\":\"peace\",\"laureates\":[{\"id\":\"475\",\"firstname\":\"Auguste Marie Fran\\\\u00e7ois\",\"surname\":\"Beernaert\",\"share\":\"2\"},{\"id\":\"476\",\"firstname\":\"Paul Henri Benjamin Balluet\",\"surname\":\"d\\'Estournelles de Constant, Baron de Constant de Rebecque\",\"share\":\"2\"}]},{\"year\":\"1908\",\"category\":\"physics\",\"laureates\":[{\"id\":\"12\",\"firstname\":\"Gabriel\",\"surname\":\"Lippmann\",\"motivation\":\"\\\\\"for his method of reproducing colours photographically based on the phenomenon of interference\\\\\"\",\"share\":\"1\"}]},{\"year\":\"1908\",\"category\":\"chemistry\",\"laureates\":[{\"id\":\"167\",\"firstname\":\"Ernest\",\"surname\":\"Rutherford\",\"motivation\":\"\\\\\"for his investigations into the disintegration of the elements, and the chemistry of radioactive substances\\\\\"\",\"share\":\"1\"}]},{\"year\":\"1908\",\"category\":\"medicine\",\"laureates\":[{\"id\":\"301\",\"firstname\":\"Ilya Ilyich\",\"surname\":\"Mechnikov\",\"motivation\":\"\\\\\"in recognition of their work on immunity\\\\\"\",\"share\":\"2\"},{\"id\":\"302\",\"firstname\":\"Paul\",\"surname\":\"Ehrlich\",\"motivation\":\"\\\\\"in recognition of their work on immunity\\\\\"\",\"share\":\"2\"}]},{\"year\":\"1908\",\"category\":\"literature\",\"laureates\":[{\"id\":\"578\",\"firstname\":\"Rudolf Christoph\",\"surname\":\"Eucken\",\"motivation\":\"\\\\\"in recognition of his earnest search for truth, his penetrating power of thought, his wide range of vision, and the warmth and strength in presentation with which in his numerous works he has vindicated and developed an idealistic philosophy of life\\\\\"\",\"share\":\"1\"}]},{\"year\":\"1908\",\"category\":\"peace\",\"laureates\":[{\"id\":\"473\",\"firstname\":\"Klas Pontus\",\"surname\":\"Arnoldson\",\"share\":\"2\"},{\"id\":\"474\",\"firstname\":\"Fredrik\",\"surname\":\"Bajer\",\"share\":\"2\"}]},{\"year\":\"1907\",\"category\":\"physics\",\"laureates\":[{\"id\":\"11\",\"firstname\":\"Albert Abraham\",\"surname\":\"Michelson\",\"motivation\":\"\\\\\"for his optical precision instruments and the spectroscopic and metrological investigations carried out with their aid\\\\\"\",\"share\":\"1\"}]},{\"year\":\"1907\",\"category\":\"chemistry\",\"laureates\":[{\"id\":\"166\",\"firstname\":\"Eduard\",\"surname\":\"Buchner\",\"motivation\":\"\\\\\"for his biochemical researches and his discovery of cell-free fermentation\\\\\"\",\"share\":\"1\"}]},{\"year\":\"1907\",\"category\":\"medicine\",\"laureates\":[{\"id\":\"300\",\"firstname\":\"Charles Louis Alphonse\",\"surname\":\"Laveran\",\"motivation\":\"\\\\\"in recognition of his work on the role played by protozoa in causing diseases\\\\\"\",\"share\":\"1\"}]},{\"year\":\"1907\",\"category\":\"literature\",\"laureates\":[{\"id\":\"577\",\"firstname\":\"Rudyard\",\"surname\":\"Kipling\",\"motivation\":\"\\\\\"in consideration of the power of observation, originality of imagination, virility of ideas and remarkable talent for narration which characterize the creations of this world-famous author\\\\\"\",\"share\":\"1\"}]},{\"year\":\"1907\",\"category\":\"peace\",\"laureates\":[{\"id\":\"471\",\"firstname\":\"Ernesto Teodoro\",\"surname\":\"Moneta\",\"share\":\"2\"},{\"id\":\"472\",\"firstname\":\"Louis\",\"surname\":\"Renault\",\"share\":\"2\"}]},{\"year\":\"1906\",\"category\":\"physics\",\"laureates\":[{\"id\":\"10\",\"firstname\":\"Joseph John\",\"surname\":\"Thomson\",\"motivation\":\"\\\\\"in recognition of the great merits of his theoretical and experimental investigations on the conduction of electricity by gases\\\\\"\",\"share\":\"1\"}]},{\"year\":\"1906\",\"category\":\"chemistry\",\"laureates\":[{\"id\":\"165\",\"firstname\":\"Henri\",\"surname\":\"Moissan\",\"motivation\":\"\\\\\"in recognition of the great services rendered by him in his investigation and isolation of the element fluorine, and for the adoption in the service of science of the electric furnace called after him\\\\\"\",\"share\":\"1\"}]},{\"year\":\"1906\",\"category\":\"medicine\",\"laureates\":[{\"id\":\"298\",\"firstname\":\"Camillo\",\"surname\":\"Golgi\",\"motivation\":\"\\\\\"in recognition of their work on the structure of the nervous system\\\\\"\",\"share\":\"2\"},{\"id\":\"299\",\"firstname\":\"Santiago\",\"surname\":\"Ram\\\\u00f3n y Cajal\",\"motivation\":\"\\\\\"in recognition of their work on the structure of the nervous system\\\\\"\",\"share\":\"2\"}]},{\"year\":\"1906\",\"category\":\"literature\",\"laureates\":[{\"id\":\"576\",\"firstname\":\"Giosu\\\\u00e8\",\"surname\":\"Carducci\",\"motivation\":\"\\\\\"not only in consideration of his deep learning and critical research, but above all as a tribute to the creative energy, freshness of style, and lyrical force which characterize his poetic masterpieces\\\\\"\",\"share\":\"1\"}]},{\"year\":\"1906\",\"category\":\"peace\",\"laureates\":[{\"id\":\"470\",\"firstname\":\"Theodore\",\"surname\":\"Roosevelt\",\"share\":\"1\"}]},{\"year\":\"1905\",\"category\":\"physics\",\"laureates\":[{\"id\":\"9\",\"firstname\":\"Philipp Eduard Anton\",\"surname\":\"von Lenard\",\"motivation\":\"\\\\\"for his work on cathode rays\\\\\"\",\"share\":\"1\"}]},{\"year\":\"1905\",\"category\":\"chemistry\",\"laureates\":[{\"id\":\"164\",\"firstname\":\"Johann Friedrich Wilhelm Adolf\",\"surname\":\"von Baeyer\",\"motivation\":\"\\\\\"in recognition of his services in the advancement of organic chemistry and the chemical industry, through his work on organic dyes and hydroaromatic compounds\\\\\"\",\"share\":\"1\"}]},{\"year\":\"1905\",\"category\":\"medicine\",\"laureates\":[{\"id\":\"297\",\"firstname\":\"Robert\",\"surname\":\"Koch\",\"motivation\":\"\\\\\"for his investigations and discoveries in relation to tuberculosis\\\\\"\",\"share\":\"1\"}]},{\"year\":\"1905\",\"category\":\"literature\",\"laureates\":[{\"id\":\"575\",\"firstname\":\"Henryk\",\"surname\":\"Sienkiewicz\",\"motivation\":\"\\\\\"because of his outstanding merits as an epic writer\\\\\"\",\"share\":\"1\"}]},{\"year\":\"1905\",\"category\":\"peace\",\"laureates\":[{\"id\":\"468\",\"firstname\":\"Baroness Bertha Sophie Felicita\",\"surname\":\"von Suttner, n\\\\u00e9e Countess Kinsky von Chinic und Tettau\",\"share\":\"1\"}]},{\"year\":\"1904\",\"category\":\"physics\",\"laureates\":[{\"id\":\"8\",\"firstname\":\"Lord Rayleigh\",\"surname\":\"(John William Strutt)\",\"motivation\":\"\\\\\"for his investigations of the densities of the most important gases and for his discovery of argon in connection with these studies\\\\\"\",\"share\":\"1\"}]},{\"year\":\"1904\",\"category\":\"chemistry\",\"laureates\":[{\"id\":\"163\",\"firstname\":\"Sir William\",\"surname\":\"Ramsay\",\"motivation\":\"\\\\\"in recognition of his services in the discovery of the inert gaseous elements in air, and his determination of their place in the periodic system\\\\\"\",\"share\":\"1\"}]},{\"year\":\"1904\",\"category\":\"medicine\",\"laureates\":[{\"id\":\"296\",\"firstname\":\"Ivan Petrovich\",\"surname\":\"Pavlov\",\"motivation\":\"\\\\\"in recognition of his work on the physiology of digestion, through which knowledge on vital aspects of the subject has been transformed and enlarged\\\\\"\",\"share\":\"1\"}]},{\"year\":\"1904\",\"category\":\"literature\",\"laureates\":[{\"id\":\"573\",\"firstname\":\"Fr\\\\u00e9d\\\\u00e9ric\",\"surname\":\"Mistral\",\"motivation\":\"\\\\\"in recognition of the fresh originality and true inspiration of his poetic production, which faithfully reflects the natural scenery and native spirit of his people, and, in addition, his significant work as a Proven&ccedil;al philologist\\\\\"\",\"share\":\"2\"},{\"id\":\"574\",\"firstname\":\"Jos\\\\u00e9\",\"surname\":\"Echegaray y Eizaguirre\",\"motivation\":\"\\\\\"in recognition of the numerous and brilliant compositions which, in an individual and original manner, have revived the great traditions of the Spanish drama\\\\\"\",\"share\":\"2\"}]},{\"year\":\"1904\",\"category\":\"peace\",\"laureates\":[{\"id\":\"467\",\"firstname\":\"Institut de droit international (Institute of International Law)\",\"share\":\"1\",\"surname\":\"\"}]},{\"year\":\"1903\",\"category\":\"physics\",\"laureates\":[{\"id\":\"4\",\"firstname\":\"Antoine Henri\",\"surname\":\"Becquerel\",\"motivation\":\"\\\\\"in recognition of the extraordinary services he has rendered by his discovery of spontaneous radioactivity\\\\\"\",\"share\":\"2\"},{\"id\":\"5\",\"firstname\":\"Pierre\",\"surname\":\"Curie\",\"motivation\":\"\\\\\"in recognition of the extraordinary services they have rendered by their joint researches on the radiation phenomena discovered by Professor Henri Becquerel\\\\\"\",\"share\":\"4\"},{\"id\":\"6\",\"firstname\":\"Marie\",\"surname\":\"Curie, n\\\\u00e9e Sklodowska\",\"motivation\":\"\\\\\"in recognition of the extraordinary services they have rendered by their joint researches on the radiation phenomena discovered by Professor Henri Becquerel\\\\\"\",\"share\":\"4\"}]},{\"year\":\"1903\",\"category\":\"chemistry\",\"laureates\":[{\"id\":\"162\",\"firstname\":\"Svante August\",\"surname\":\"Arrhenius\",\"motivation\":\"\\\\\"in recognition of the extraordinary services he has rendered to the advancement of chemistry by his electrolytic theory of dissociation\\\\\"\",\"share\":\"1\"}]},{\"year\":\"1903\",\"category\":\"medicine\",\"laureates\":[{\"id\":\"295\",\"firstname\":\"Niels Ryberg\",\"surname\":\"Finsen\",\"motivation\":\"\\\\\"in recognition of his contribution to the treatment of diseases, especially lupus vulgaris, with concentrated light radiation, whereby he has opened a new avenue for medical science\\\\\"\",\"share\":\"1\"}]},{\"year\":\"1903\",\"category\":\"literature\",\"laureates\":[{\"id\":\"572\",\"firstname\":\"Bj\\\\u00f8rnstjerne Martinus\",\"surname\":\"Bj\\\\u00f8rnson\",\"motivation\":\"\\\\\"as a tribute to his noble, magnificent and versatile poetry, which has always been distinguished by both the freshness of its inspiration and the rare purity of its spirit\\\\\"\",\"share\":\"1\"}]},{\"year\":\"1903\",\"category\":\"peace\",\"laureates\":[{\"id\":\"466\",\"firstname\":\"William Randal\",\"surname\":\"Cremer\",\"share\":\"1\"}]},{\"year\":\"1902\",\"category\":\"physics\",\"laureates\":[{\"id\":\"2\",\"firstname\":\"Hendrik Antoon\",\"surname\":\"Lorentz\",\"motivation\":\"\\\\\"in recognition of the extraordinary service they rendered by their researches into the influence of magnetism upon radiation phenomena\\\\\"\",\"share\":\"2\"},{\"id\":\"3\",\"firstname\":\"Pieter\",\"surname\":\"Zeeman\",\"motivation\":\"\\\\\"in recognition of the extraordinary service they rendered by their researches into the influence of magnetism upon radiation phenomena\\\\\"\",\"share\":\"2\"}]},{\"year\":\"1902\",\"category\":\"chemistry\",\"laureates\":[{\"id\":\"161\",\"firstname\":\"Hermann Emil\",\"surname\":\"Fischer\",\"motivation\":\"\\\\\"in recognition of the extraordinary services he has rendered by his work on sugar and purine syntheses\\\\\"\",\"share\":\"1\"}]},{\"year\":\"1902\",\"category\":\"medicine\",\"laureates\":[{\"id\":\"294\",\"firstname\":\"Ronald\",\"surname\":\"Ross\",\"motivation\":\"\\\\\"for his work on malaria, by which he has shown how it enters the organism and thereby has laid the foundation for successful research on this disease and methods of combating it\\\\\"\",\"share\":\"1\"}]},{\"year\":\"1902\",\"category\":\"literature\",\"laureates\":[{\"id\":\"571\",\"firstname\":\"Christian Matthias Theodor\",\"surname\":\"Mommsen\",\"motivation\":\"\\\\\"the greatest living master of the art of historical writing, with special reference to his monumental work, <I>A history of Rome<\\\\/I>\\\\\"\",\"share\":\"1\"}]},{\"year\":\"1902\",\"category\":\"peace\",\"laureates\":[{\"id\":\"464\",\"firstname\":\"\\\\u00c9lie\",\"surname\":\"Ducommun\",\"share\":\"2\"},{\"id\":\"465\",\"firstname\":\"Charles Albert\",\"surname\":\"Gobat\",\"share\":\"2\"}]},{\"year\":\"1901\",\"category\":\"physics\",\"laureates\":[{\"id\":\"1\",\"firstname\":\"Wilhelm Conrad\",\"surname\":\"R\\\\u00f6ntgen\",\"motivation\":\"\\\\\"in recognition of the extraordinary services he has rendered by the discovery of the remarkable rays subsequently named after him\\\\\"\",\"share\":\"1\"}]},{\"year\":\"1901\",\"category\":\"chemistry\",\"laureates\":[{\"id\":\"160\",\"firstname\":\"Jacobus Henricus\",\"surname\":\"van \\'t Hoff\",\"motivation\":\"\\\\\"in recognition of the extraordinary services he has rendered by the discovery of the laws of chemical dynamics and osmotic pressure in solutions\\\\\"\",\"share\":\"1\"}]},{\"year\":\"1901\",\"category\":\"medicine\",\"laureates\":[{\"id\":\"293\",\"firstname\":\"Emil Adolf\",\"surname\":\"von Behring\",\"motivation\":\"\\\\\"for his work on serum therapy, especially its application against diphtheria, by which he has opened a new road in the domain of medical science and thereby placed in the hands of the physician a victorious weapon against illness and deaths\\\\\"\",\"share\":\"1\"}]},{\"year\":\"1901\",\"category\":\"literature\",\"laureates\":[{\"id\":\"569\",\"firstname\":\"Sully\",\"surname\":\"Prudhomme\",\"motivation\":\"\\\\\"in special recognition of his poetic composition, which gives evidence of lofty idealism, artistic perfection and a rare combination of the qualities of both heart and intellect\\\\\"\",\"share\":\"1\"}]},{\"year\":\"1901\",\"category\":\"peace\",\"laureates\":[{\"id\":\"462\",\"firstname\":\"Jean Henry\",\"surname\":\"Dunant\",\"share\":\"2\"},{\"id\":\"463\",\"firstname\":\"Fr\\\\u00e9d\\\\u00e9ric\",\"surname\":\"Passy\",\"share\":\"2\"}]}]}'"
      ]
     },
     "execution_count": 878,
     "metadata": {},
     "output_type": "execute_result"
    }
   ],
   "source": [
    "request_get.text"
   ]
  },
  {
   "cell_type": "code",
   "execution_count": 879,
   "metadata": {},
   "outputs": [],
   "source": [
    "series = pd.Series(data_dict['prizes'])"
   ]
  },
  {
   "cell_type": "code",
   "execution_count": 880,
   "metadata": {},
   "outputs": [
    {
     "data": {
      "text/plain": [
       "0    {'year': '2018', 'category': 'physics', 'overa...\n",
       "1    {'year': '2018', 'category': 'chemistry', 'lau...\n",
       "2    {'year': '2018', 'category': 'medicine', 'laur...\n",
       "3    {'year': '2018', 'category': 'peace', 'laureat...\n",
       "4    {'year': '2018', 'category': 'economics', 'lau...\n",
       "dtype: object"
      ]
     },
     "execution_count": 880,
     "metadata": {},
     "output_type": "execute_result"
    }
   ],
   "source": [
    "series.head()"
   ]
  },
  {
   "cell_type": "markdown",
   "metadata": {},
   "source": [
    "Unfortunately I chose data that is mainly made up of text for my first json, however I can still do a number of things to analyze it. I can use .describe to try an analyze both the data in both the formats that I read in. "
   ]
  },
  {
   "cell_type": "code",
   "execution_count": 890,
   "metadata": {},
   "outputs": [
    {
     "data": {
      "text/html": [
       "<div>\n",
       "<style scoped>\n",
       "    .dataframe tbody tr th:only-of-type {\n",
       "        vertical-align: middle;\n",
       "    }\n",
       "\n",
       "    .dataframe tbody tr th {\n",
       "        vertical-align: top;\n",
       "    }\n",
       "\n",
       "    .dataframe thead th {\n",
       "        text-align: right;\n",
       "    }\n",
       "</style>\n",
       "<table border=\"1\" class=\"dataframe\">\n",
       "  <thead>\n",
       "    <tr style=\"text-align: right;\">\n",
       "      <th></th>\n",
       "      <th>category</th>\n",
       "      <th>laureates</th>\n",
       "      <th>overallMotivation</th>\n",
       "      <th>year</th>\n",
       "    </tr>\n",
       "  </thead>\n",
       "  <tbody>\n",
       "    <tr>\n",
       "      <th>count</th>\n",
       "      <td>590</td>\n",
       "      <td>590</td>\n",
       "      <td>7</td>\n",
       "      <td>590</td>\n",
       "    </tr>\n",
       "    <tr>\n",
       "      <th>unique</th>\n",
       "      <td>6</td>\n",
       "      <td>588</td>\n",
       "      <td>7</td>\n",
       "      <td>115</td>\n",
       "    </tr>\n",
       "    <tr>\n",
       "      <th>top</th>\n",
       "      <td>physics</td>\n",
       "      <td>[{'id': '482', 'firstname': 'Comité internatio...</td>\n",
       "      <td>\"for discoveries concerning channels in cell m...</td>\n",
       "      <td>1994</td>\n",
       "    </tr>\n",
       "    <tr>\n",
       "      <th>freq</th>\n",
       "      <td>112</td>\n",
       "      <td>2</td>\n",
       "      <td>1</td>\n",
       "      <td>6</td>\n",
       "    </tr>\n",
       "  </tbody>\n",
       "</table>\n",
       "</div>"
      ],
      "text/plain": [
       "       category                                          laureates  \\\n",
       "count       590                                                590   \n",
       "unique        6                                                588   \n",
       "top     physics  [{'id': '482', 'firstname': 'Comité internatio...   \n",
       "freq        112                                                  2   \n",
       "\n",
       "                                        overallMotivation  year  \n",
       "count                                                   7   590  \n",
       "unique                                                  7   115  \n",
       "top     \"for discoveries concerning channels in cell m...  1994  \n",
       "freq                                                    1     6  "
      ]
     },
     "execution_count": 890,
     "metadata": {},
     "output_type": "execute_result"
    }
   ],
   "source": [
    "Nobel.describe()"
   ]
  },
  {
   "cell_type": "code",
   "execution_count": 881,
   "metadata": {},
   "outputs": [
    {
     "data": {
      "text/plain": [
       "count                                                   590\n",
       "unique                                                  590\n",
       "top       {'year': '1954', 'category': 'medicine', 'laur...\n",
       "freq                                                      1\n",
       "dtype: object"
      ]
     },
     "execution_count": 881,
     "metadata": {},
     "output_type": "execute_result"
    }
   ],
   "source": [
    "series.describe()"
   ]
  },
  {
   "cell_type": "markdown",
   "metadata": {},
   "source": [
    "From this simple analysis I can determine that there are 6 categories that people won the nobel prize in, sifting through the data those are physics, chemistry, economics, medicine, peace, and literature. 588 won the Nobel prize, and two people won it twice for a total of 590 nobel prizes through 2018. There were 7 different types of motiviations, (with NaN (no answer) being the most popular motivation for groundbreaking research), and the nobel prizes have been awarded for 115 different years, starting in 1903. "
   ]
  },
  {
   "cell_type": "code",
   "execution_count": 882,
   "metadata": {},
   "outputs": [
    {
     "data": {
      "text/html": [
       "<div>\n",
       "<style scoped>\n",
       "    .dataframe tbody tr th:only-of-type {\n",
       "        vertical-align: middle;\n",
       "    }\n",
       "\n",
       "    .dataframe tbody tr th {\n",
       "        vertical-align: top;\n",
       "    }\n",
       "\n",
       "    .dataframe thead th {\n",
       "        text-align: right;\n",
       "    }\n",
       "</style>\n",
       "<table border=\"1\" class=\"dataframe\">\n",
       "  <thead>\n",
       "    <tr style=\"text-align: right;\">\n",
       "      <th></th>\n",
       "      <th>category</th>\n",
       "      <th>laureates</th>\n",
       "      <th>overallMotivation</th>\n",
       "      <th>year</th>\n",
       "    </tr>\n",
       "  </thead>\n",
       "  <tbody>\n",
       "    <tr>\n",
       "      <th>0</th>\n",
       "      <td>physics</td>\n",
       "      <td>[{'id': '960', 'firstname': 'Arthur', 'surname...</td>\n",
       "      <td>“for groundbreaking inventions in the field of...</td>\n",
       "      <td>2018</td>\n",
       "    </tr>\n",
       "    <tr>\n",
       "      <th>1</th>\n",
       "      <td>chemistry</td>\n",
       "      <td>[{'id': '963', 'firstname': 'Frances H.', 'sur...</td>\n",
       "      <td>NaN</td>\n",
       "      <td>2018</td>\n",
       "    </tr>\n",
       "    <tr>\n",
       "      <th>2</th>\n",
       "      <td>medicine</td>\n",
       "      <td>[{'id': '958', 'firstname': 'James P.', 'surna...</td>\n",
       "      <td>NaN</td>\n",
       "      <td>2018</td>\n",
       "    </tr>\n",
       "    <tr>\n",
       "      <th>3</th>\n",
       "      <td>peace</td>\n",
       "      <td>[{'id': '966', 'firstname': 'Denis', 'surname'...</td>\n",
       "      <td>NaN</td>\n",
       "      <td>2018</td>\n",
       "    </tr>\n",
       "    <tr>\n",
       "      <th>4</th>\n",
       "      <td>economics</td>\n",
       "      <td>[{'id': '968', 'firstname': 'William D.', 'sur...</td>\n",
       "      <td>NaN</td>\n",
       "      <td>2018</td>\n",
       "    </tr>\n",
       "    <tr>\n",
       "      <th>5</th>\n",
       "      <td>physics</td>\n",
       "      <td>[{'id': '941', 'firstname': 'Rainer', 'surname...</td>\n",
       "      <td>NaN</td>\n",
       "      <td>2017</td>\n",
       "    </tr>\n",
       "    <tr>\n",
       "      <th>6</th>\n",
       "      <td>chemistry</td>\n",
       "      <td>[{'id': '944', 'firstname': 'Jacques', 'surnam...</td>\n",
       "      <td>NaN</td>\n",
       "      <td>2017</td>\n",
       "    </tr>\n",
       "    <tr>\n",
       "      <th>7</th>\n",
       "      <td>medicine</td>\n",
       "      <td>[{'id': '938', 'firstname': 'Jeffrey C.', 'sur...</td>\n",
       "      <td>NaN</td>\n",
       "      <td>2017</td>\n",
       "    </tr>\n",
       "    <tr>\n",
       "      <th>8</th>\n",
       "      <td>literature</td>\n",
       "      <td>[{'id': '947', 'firstname': 'Kazuo', 'surname'...</td>\n",
       "      <td>NaN</td>\n",
       "      <td>2017</td>\n",
       "    </tr>\n",
       "    <tr>\n",
       "      <th>9</th>\n",
       "      <td>peace</td>\n",
       "      <td>[{'id': '948', 'firstname': 'International Cam...</td>\n",
       "      <td>NaN</td>\n",
       "      <td>2017</td>\n",
       "    </tr>\n",
       "    <tr>\n",
       "      <th>10</th>\n",
       "      <td>economics</td>\n",
       "      <td>[{'id': '949', 'firstname': 'Richard H.', 'sur...</td>\n",
       "      <td>NaN</td>\n",
       "      <td>2017</td>\n",
       "    </tr>\n",
       "    <tr>\n",
       "      <th>11</th>\n",
       "      <td>physics</td>\n",
       "      <td>[{'id': '928', 'firstname': 'David J.', 'surna...</td>\n",
       "      <td>NaN</td>\n",
       "      <td>2016</td>\n",
       "    </tr>\n",
       "    <tr>\n",
       "      <th>12</th>\n",
       "      <td>chemistry</td>\n",
       "      <td>[{'id': '931', 'firstname': 'Jean-Pierre', 'su...</td>\n",
       "      <td>NaN</td>\n",
       "      <td>2016</td>\n",
       "    </tr>\n",
       "    <tr>\n",
       "      <th>13</th>\n",
       "      <td>medicine</td>\n",
       "      <td>[{'id': '927', 'firstname': 'Yoshinori', 'surn...</td>\n",
       "      <td>NaN</td>\n",
       "      <td>2016</td>\n",
       "    </tr>\n",
       "    <tr>\n",
       "      <th>14</th>\n",
       "      <td>literature</td>\n",
       "      <td>[{'id': '937', 'firstname': 'Bob', 'surname': ...</td>\n",
       "      <td>NaN</td>\n",
       "      <td>2016</td>\n",
       "    </tr>\n",
       "    <tr>\n",
       "      <th>15</th>\n",
       "      <td>peace</td>\n",
       "      <td>[{'id': '934', 'firstname': 'Juan Manuel', 'su...</td>\n",
       "      <td>NaN</td>\n",
       "      <td>2016</td>\n",
       "    </tr>\n",
       "    <tr>\n",
       "      <th>16</th>\n",
       "      <td>economics</td>\n",
       "      <td>[{'id': '935', 'firstname': 'Oliver', 'surname...</td>\n",
       "      <td>NaN</td>\n",
       "      <td>2016</td>\n",
       "    </tr>\n",
       "    <tr>\n",
       "      <th>17</th>\n",
       "      <td>physics</td>\n",
       "      <td>[{'id': '919', 'firstname': 'Takaaki', 'surnam...</td>\n",
       "      <td>NaN</td>\n",
       "      <td>2015</td>\n",
       "    </tr>\n",
       "    <tr>\n",
       "      <th>18</th>\n",
       "      <td>chemistry</td>\n",
       "      <td>[{'id': '921', 'firstname': 'Tomas', 'surname'...</td>\n",
       "      <td>NaN</td>\n",
       "      <td>2015</td>\n",
       "    </tr>\n",
       "    <tr>\n",
       "      <th>19</th>\n",
       "      <td>medicine</td>\n",
       "      <td>[{'id': '916', 'firstname': 'William C.', 'sur...</td>\n",
       "      <td>NaN</td>\n",
       "      <td>2015</td>\n",
       "    </tr>\n",
       "    <tr>\n",
       "      <th>20</th>\n",
       "      <td>literature</td>\n",
       "      <td>[{'id': '924', 'firstname': 'Svetlana', 'surna...</td>\n",
       "      <td>NaN</td>\n",
       "      <td>2015</td>\n",
       "    </tr>\n",
       "    <tr>\n",
       "      <th>21</th>\n",
       "      <td>peace</td>\n",
       "      <td>[{'id': '925', 'firstname': 'National Dialogue...</td>\n",
       "      <td>NaN</td>\n",
       "      <td>2015</td>\n",
       "    </tr>\n",
       "    <tr>\n",
       "      <th>22</th>\n",
       "      <td>economics</td>\n",
       "      <td>[{'id': '926', 'firstname': 'Angus', 'surname'...</td>\n",
       "      <td>NaN</td>\n",
       "      <td>2015</td>\n",
       "    </tr>\n",
       "    <tr>\n",
       "      <th>23</th>\n",
       "      <td>physics</td>\n",
       "      <td>[{'id': '906', 'firstname': 'Isamu', 'surname'...</td>\n",
       "      <td>NaN</td>\n",
       "      <td>2014</td>\n",
       "    </tr>\n",
       "    <tr>\n",
       "      <th>24</th>\n",
       "      <td>chemistry</td>\n",
       "      <td>[{'id': '909', 'firstname': 'Eric', 'surname':...</td>\n",
       "      <td>NaN</td>\n",
       "      <td>2014</td>\n",
       "    </tr>\n",
       "    <tr>\n",
       "      <th>25</th>\n",
       "      <td>medicine</td>\n",
       "      <td>[{'id': '903', 'firstname': 'John', 'surname':...</td>\n",
       "      <td>NaN</td>\n",
       "      <td>2014</td>\n",
       "    </tr>\n",
       "    <tr>\n",
       "      <th>26</th>\n",
       "      <td>literature</td>\n",
       "      <td>[{'id': '912', 'firstname': 'Patrick', 'surnam...</td>\n",
       "      <td>NaN</td>\n",
       "      <td>2014</td>\n",
       "    </tr>\n",
       "    <tr>\n",
       "      <th>27</th>\n",
       "      <td>peace</td>\n",
       "      <td>[{'id': '913', 'firstname': 'Kailash', 'surnam...</td>\n",
       "      <td>NaN</td>\n",
       "      <td>2014</td>\n",
       "    </tr>\n",
       "    <tr>\n",
       "      <th>28</th>\n",
       "      <td>economics</td>\n",
       "      <td>[{'id': '915', 'firstname': 'Jean', 'surname':...</td>\n",
       "      <td>NaN</td>\n",
       "      <td>2014</td>\n",
       "    </tr>\n",
       "    <tr>\n",
       "      <th>29</th>\n",
       "      <td>physics</td>\n",
       "      <td>[{'id': '887', 'firstname': 'François', 'surna...</td>\n",
       "      <td>NaN</td>\n",
       "      <td>2013</td>\n",
       "    </tr>\n",
       "    <tr>\n",
       "      <th>...</th>\n",
       "      <td>...</td>\n",
       "      <td>...</td>\n",
       "      <td>...</td>\n",
       "      <td>...</td>\n",
       "    </tr>\n",
       "    <tr>\n",
       "      <th>560</th>\n",
       "      <td>physics</td>\n",
       "      <td>[{'id': '10', 'firstname': 'Joseph John', 'sur...</td>\n",
       "      <td>NaN</td>\n",
       "      <td>1906</td>\n",
       "    </tr>\n",
       "    <tr>\n",
       "      <th>561</th>\n",
       "      <td>chemistry</td>\n",
       "      <td>[{'id': '165', 'firstname': 'Henri', 'surname'...</td>\n",
       "      <td>NaN</td>\n",
       "      <td>1906</td>\n",
       "    </tr>\n",
       "    <tr>\n",
       "      <th>562</th>\n",
       "      <td>medicine</td>\n",
       "      <td>[{'id': '298', 'firstname': 'Camillo', 'surnam...</td>\n",
       "      <td>NaN</td>\n",
       "      <td>1906</td>\n",
       "    </tr>\n",
       "    <tr>\n",
       "      <th>563</th>\n",
       "      <td>literature</td>\n",
       "      <td>[{'id': '576', 'firstname': 'Giosuè', 'surname...</td>\n",
       "      <td>NaN</td>\n",
       "      <td>1906</td>\n",
       "    </tr>\n",
       "    <tr>\n",
       "      <th>564</th>\n",
       "      <td>peace</td>\n",
       "      <td>[{'id': '470', 'firstname': 'Theodore', 'surna...</td>\n",
       "      <td>NaN</td>\n",
       "      <td>1906</td>\n",
       "    </tr>\n",
       "    <tr>\n",
       "      <th>565</th>\n",
       "      <td>physics</td>\n",
       "      <td>[{'id': '9', 'firstname': 'Philipp Eduard Anto...</td>\n",
       "      <td>NaN</td>\n",
       "      <td>1905</td>\n",
       "    </tr>\n",
       "    <tr>\n",
       "      <th>566</th>\n",
       "      <td>chemistry</td>\n",
       "      <td>[{'id': '164', 'firstname': 'Johann Friedrich ...</td>\n",
       "      <td>NaN</td>\n",
       "      <td>1905</td>\n",
       "    </tr>\n",
       "    <tr>\n",
       "      <th>567</th>\n",
       "      <td>medicine</td>\n",
       "      <td>[{'id': '297', 'firstname': 'Robert', 'surname...</td>\n",
       "      <td>NaN</td>\n",
       "      <td>1905</td>\n",
       "    </tr>\n",
       "    <tr>\n",
       "      <th>568</th>\n",
       "      <td>literature</td>\n",
       "      <td>[{'id': '575', 'firstname': 'Henryk', 'surname...</td>\n",
       "      <td>NaN</td>\n",
       "      <td>1905</td>\n",
       "    </tr>\n",
       "    <tr>\n",
       "      <th>569</th>\n",
       "      <td>peace</td>\n",
       "      <td>[{'id': '468', 'firstname': 'Baroness Bertha S...</td>\n",
       "      <td>NaN</td>\n",
       "      <td>1905</td>\n",
       "    </tr>\n",
       "    <tr>\n",
       "      <th>570</th>\n",
       "      <td>physics</td>\n",
       "      <td>[{'id': '8', 'firstname': 'Lord Rayleigh', 'su...</td>\n",
       "      <td>NaN</td>\n",
       "      <td>1904</td>\n",
       "    </tr>\n",
       "    <tr>\n",
       "      <th>571</th>\n",
       "      <td>chemistry</td>\n",
       "      <td>[{'id': '163', 'firstname': 'Sir William', 'su...</td>\n",
       "      <td>NaN</td>\n",
       "      <td>1904</td>\n",
       "    </tr>\n",
       "    <tr>\n",
       "      <th>572</th>\n",
       "      <td>medicine</td>\n",
       "      <td>[{'id': '296', 'firstname': 'Ivan Petrovich', ...</td>\n",
       "      <td>NaN</td>\n",
       "      <td>1904</td>\n",
       "    </tr>\n",
       "    <tr>\n",
       "      <th>573</th>\n",
       "      <td>literature</td>\n",
       "      <td>[{'id': '573', 'firstname': 'Frédéric', 'surna...</td>\n",
       "      <td>NaN</td>\n",
       "      <td>1904</td>\n",
       "    </tr>\n",
       "    <tr>\n",
       "      <th>574</th>\n",
       "      <td>peace</td>\n",
       "      <td>[{'id': '467', 'firstname': 'Institut de droit...</td>\n",
       "      <td>NaN</td>\n",
       "      <td>1904</td>\n",
       "    </tr>\n",
       "    <tr>\n",
       "      <th>575</th>\n",
       "      <td>physics</td>\n",
       "      <td>[{'id': '4', 'firstname': 'Antoine Henri', 'su...</td>\n",
       "      <td>NaN</td>\n",
       "      <td>1903</td>\n",
       "    </tr>\n",
       "    <tr>\n",
       "      <th>576</th>\n",
       "      <td>chemistry</td>\n",
       "      <td>[{'id': '162', 'firstname': 'Svante August', '...</td>\n",
       "      <td>NaN</td>\n",
       "      <td>1903</td>\n",
       "    </tr>\n",
       "    <tr>\n",
       "      <th>577</th>\n",
       "      <td>medicine</td>\n",
       "      <td>[{'id': '295', 'firstname': 'Niels Ryberg', 's...</td>\n",
       "      <td>NaN</td>\n",
       "      <td>1903</td>\n",
       "    </tr>\n",
       "    <tr>\n",
       "      <th>578</th>\n",
       "      <td>literature</td>\n",
       "      <td>[{'id': '572', 'firstname': 'Bjørnstjerne Mart...</td>\n",
       "      <td>NaN</td>\n",
       "      <td>1903</td>\n",
       "    </tr>\n",
       "    <tr>\n",
       "      <th>579</th>\n",
       "      <td>peace</td>\n",
       "      <td>[{'id': '466', 'firstname': 'William Randal', ...</td>\n",
       "      <td>NaN</td>\n",
       "      <td>1903</td>\n",
       "    </tr>\n",
       "    <tr>\n",
       "      <th>580</th>\n",
       "      <td>physics</td>\n",
       "      <td>[{'id': '2', 'firstname': 'Hendrik Antoon', 's...</td>\n",
       "      <td>NaN</td>\n",
       "      <td>1902</td>\n",
       "    </tr>\n",
       "    <tr>\n",
       "      <th>581</th>\n",
       "      <td>chemistry</td>\n",
       "      <td>[{'id': '161', 'firstname': 'Hermann Emil', 's...</td>\n",
       "      <td>NaN</td>\n",
       "      <td>1902</td>\n",
       "    </tr>\n",
       "    <tr>\n",
       "      <th>582</th>\n",
       "      <td>medicine</td>\n",
       "      <td>[{'id': '294', 'firstname': 'Ronald', 'surname...</td>\n",
       "      <td>NaN</td>\n",
       "      <td>1902</td>\n",
       "    </tr>\n",
       "    <tr>\n",
       "      <th>583</th>\n",
       "      <td>literature</td>\n",
       "      <td>[{'id': '571', 'firstname': 'Christian Matthia...</td>\n",
       "      <td>NaN</td>\n",
       "      <td>1902</td>\n",
       "    </tr>\n",
       "    <tr>\n",
       "      <th>584</th>\n",
       "      <td>peace</td>\n",
       "      <td>[{'id': '464', 'firstname': 'Élie', 'surname':...</td>\n",
       "      <td>NaN</td>\n",
       "      <td>1902</td>\n",
       "    </tr>\n",
       "    <tr>\n",
       "      <th>585</th>\n",
       "      <td>physics</td>\n",
       "      <td>[{'id': '1', 'firstname': 'Wilhelm Conrad', 's...</td>\n",
       "      <td>NaN</td>\n",
       "      <td>1901</td>\n",
       "    </tr>\n",
       "    <tr>\n",
       "      <th>586</th>\n",
       "      <td>chemistry</td>\n",
       "      <td>[{'id': '160', 'firstname': 'Jacobus Henricus'...</td>\n",
       "      <td>NaN</td>\n",
       "      <td>1901</td>\n",
       "    </tr>\n",
       "    <tr>\n",
       "      <th>587</th>\n",
       "      <td>medicine</td>\n",
       "      <td>[{'id': '293', 'firstname': 'Emil Adolf', 'sur...</td>\n",
       "      <td>NaN</td>\n",
       "      <td>1901</td>\n",
       "    </tr>\n",
       "    <tr>\n",
       "      <th>588</th>\n",
       "      <td>literature</td>\n",
       "      <td>[{'id': '569', 'firstname': 'Sully', 'surname'...</td>\n",
       "      <td>NaN</td>\n",
       "      <td>1901</td>\n",
       "    </tr>\n",
       "    <tr>\n",
       "      <th>589</th>\n",
       "      <td>peace</td>\n",
       "      <td>[{'id': '462', 'firstname': 'Jean Henry', 'sur...</td>\n",
       "      <td>NaN</td>\n",
       "      <td>1901</td>\n",
       "    </tr>\n",
       "  </tbody>\n",
       "</table>\n",
       "<p>590 rows × 4 columns</p>\n",
       "</div>"
      ],
      "text/plain": [
       "       category                                          laureates  \\\n",
       "0       physics  [{'id': '960', 'firstname': 'Arthur', 'surname...   \n",
       "1     chemistry  [{'id': '963', 'firstname': 'Frances H.', 'sur...   \n",
       "2      medicine  [{'id': '958', 'firstname': 'James P.', 'surna...   \n",
       "3         peace  [{'id': '966', 'firstname': 'Denis', 'surname'...   \n",
       "4     economics  [{'id': '968', 'firstname': 'William D.', 'sur...   \n",
       "5       physics  [{'id': '941', 'firstname': 'Rainer', 'surname...   \n",
       "6     chemistry  [{'id': '944', 'firstname': 'Jacques', 'surnam...   \n",
       "7      medicine  [{'id': '938', 'firstname': 'Jeffrey C.', 'sur...   \n",
       "8    literature  [{'id': '947', 'firstname': 'Kazuo', 'surname'...   \n",
       "9         peace  [{'id': '948', 'firstname': 'International Cam...   \n",
       "10    economics  [{'id': '949', 'firstname': 'Richard H.', 'sur...   \n",
       "11      physics  [{'id': '928', 'firstname': 'David J.', 'surna...   \n",
       "12    chemistry  [{'id': '931', 'firstname': 'Jean-Pierre', 'su...   \n",
       "13     medicine  [{'id': '927', 'firstname': 'Yoshinori', 'surn...   \n",
       "14   literature  [{'id': '937', 'firstname': 'Bob', 'surname': ...   \n",
       "15        peace  [{'id': '934', 'firstname': 'Juan Manuel', 'su...   \n",
       "16    economics  [{'id': '935', 'firstname': 'Oliver', 'surname...   \n",
       "17      physics  [{'id': '919', 'firstname': 'Takaaki', 'surnam...   \n",
       "18    chemistry  [{'id': '921', 'firstname': 'Tomas', 'surname'...   \n",
       "19     medicine  [{'id': '916', 'firstname': 'William C.', 'sur...   \n",
       "20   literature  [{'id': '924', 'firstname': 'Svetlana', 'surna...   \n",
       "21        peace  [{'id': '925', 'firstname': 'National Dialogue...   \n",
       "22    economics  [{'id': '926', 'firstname': 'Angus', 'surname'...   \n",
       "23      physics  [{'id': '906', 'firstname': 'Isamu', 'surname'...   \n",
       "24    chemistry  [{'id': '909', 'firstname': 'Eric', 'surname':...   \n",
       "25     medicine  [{'id': '903', 'firstname': 'John', 'surname':...   \n",
       "26   literature  [{'id': '912', 'firstname': 'Patrick', 'surnam...   \n",
       "27        peace  [{'id': '913', 'firstname': 'Kailash', 'surnam...   \n",
       "28    economics  [{'id': '915', 'firstname': 'Jean', 'surname':...   \n",
       "29      physics  [{'id': '887', 'firstname': 'François', 'surna...   \n",
       "..          ...                                                ...   \n",
       "560     physics  [{'id': '10', 'firstname': 'Joseph John', 'sur...   \n",
       "561   chemistry  [{'id': '165', 'firstname': 'Henri', 'surname'...   \n",
       "562    medicine  [{'id': '298', 'firstname': 'Camillo', 'surnam...   \n",
       "563  literature  [{'id': '576', 'firstname': 'Giosuè', 'surname...   \n",
       "564       peace  [{'id': '470', 'firstname': 'Theodore', 'surna...   \n",
       "565     physics  [{'id': '9', 'firstname': 'Philipp Eduard Anto...   \n",
       "566   chemistry  [{'id': '164', 'firstname': 'Johann Friedrich ...   \n",
       "567    medicine  [{'id': '297', 'firstname': 'Robert', 'surname...   \n",
       "568  literature  [{'id': '575', 'firstname': 'Henryk', 'surname...   \n",
       "569       peace  [{'id': '468', 'firstname': 'Baroness Bertha S...   \n",
       "570     physics  [{'id': '8', 'firstname': 'Lord Rayleigh', 'su...   \n",
       "571   chemistry  [{'id': '163', 'firstname': 'Sir William', 'su...   \n",
       "572    medicine  [{'id': '296', 'firstname': 'Ivan Petrovich', ...   \n",
       "573  literature  [{'id': '573', 'firstname': 'Frédéric', 'surna...   \n",
       "574       peace  [{'id': '467', 'firstname': 'Institut de droit...   \n",
       "575     physics  [{'id': '4', 'firstname': 'Antoine Henri', 'su...   \n",
       "576   chemistry  [{'id': '162', 'firstname': 'Svante August', '...   \n",
       "577    medicine  [{'id': '295', 'firstname': 'Niels Ryberg', 's...   \n",
       "578  literature  [{'id': '572', 'firstname': 'Bjørnstjerne Mart...   \n",
       "579       peace  [{'id': '466', 'firstname': 'William Randal', ...   \n",
       "580     physics  [{'id': '2', 'firstname': 'Hendrik Antoon', 's...   \n",
       "581   chemistry  [{'id': '161', 'firstname': 'Hermann Emil', 's...   \n",
       "582    medicine  [{'id': '294', 'firstname': 'Ronald', 'surname...   \n",
       "583  literature  [{'id': '571', 'firstname': 'Christian Matthia...   \n",
       "584       peace  [{'id': '464', 'firstname': 'Élie', 'surname':...   \n",
       "585     physics  [{'id': '1', 'firstname': 'Wilhelm Conrad', 's...   \n",
       "586   chemistry  [{'id': '160', 'firstname': 'Jacobus Henricus'...   \n",
       "587    medicine  [{'id': '293', 'firstname': 'Emil Adolf', 'sur...   \n",
       "588  literature  [{'id': '569', 'firstname': 'Sully', 'surname'...   \n",
       "589       peace  [{'id': '462', 'firstname': 'Jean Henry', 'sur...   \n",
       "\n",
       "                                     overallMotivation  year  \n",
       "0    “for groundbreaking inventions in the field of...  2018  \n",
       "1                                                  NaN  2018  \n",
       "2                                                  NaN  2018  \n",
       "3                                                  NaN  2018  \n",
       "4                                                  NaN  2018  \n",
       "5                                                  NaN  2017  \n",
       "6                                                  NaN  2017  \n",
       "7                                                  NaN  2017  \n",
       "8                                                  NaN  2017  \n",
       "9                                                  NaN  2017  \n",
       "10                                                 NaN  2017  \n",
       "11                                                 NaN  2016  \n",
       "12                                                 NaN  2016  \n",
       "13                                                 NaN  2016  \n",
       "14                                                 NaN  2016  \n",
       "15                                                 NaN  2016  \n",
       "16                                                 NaN  2016  \n",
       "17                                                 NaN  2015  \n",
       "18                                                 NaN  2015  \n",
       "19                                                 NaN  2015  \n",
       "20                                                 NaN  2015  \n",
       "21                                                 NaN  2015  \n",
       "22                                                 NaN  2015  \n",
       "23                                                 NaN  2014  \n",
       "24                                                 NaN  2014  \n",
       "25                                                 NaN  2014  \n",
       "26                                                 NaN  2014  \n",
       "27                                                 NaN  2014  \n",
       "28                                                 NaN  2014  \n",
       "29                                                 NaN  2013  \n",
       "..                                                 ...   ...  \n",
       "560                                                NaN  1906  \n",
       "561                                                NaN  1906  \n",
       "562                                                NaN  1906  \n",
       "563                                                NaN  1906  \n",
       "564                                                NaN  1906  \n",
       "565                                                NaN  1905  \n",
       "566                                                NaN  1905  \n",
       "567                                                NaN  1905  \n",
       "568                                                NaN  1905  \n",
       "569                                                NaN  1905  \n",
       "570                                                NaN  1904  \n",
       "571                                                NaN  1904  \n",
       "572                                                NaN  1904  \n",
       "573                                                NaN  1904  \n",
       "574                                                NaN  1904  \n",
       "575                                                NaN  1903  \n",
       "576                                                NaN  1903  \n",
       "577                                                NaN  1903  \n",
       "578                                                NaN  1903  \n",
       "579                                                NaN  1903  \n",
       "580                                                NaN  1902  \n",
       "581                                                NaN  1902  \n",
       "582                                                NaN  1902  \n",
       "583                                                NaN  1902  \n",
       "584                                                NaN  1902  \n",
       "585                                                NaN  1901  \n",
       "586                                                NaN  1901  \n",
       "587                                                NaN  1901  \n",
       "588                                                NaN  1901  \n",
       "589                                                NaN  1901  \n",
       "\n",
       "[590 rows x 4 columns]"
      ]
     },
     "execution_count": 882,
     "metadata": {},
     "output_type": "execute_result"
    }
   ],
   "source": [
    "Nobel.apply(pd.to_numeric, errors='ignore')"
   ]
  },
  {
   "cell_type": "code",
   "execution_count": 883,
   "metadata": {},
   "outputs": [
    {
     "data": {
      "text/plain": [
       "0      2018\n",
       "1      2018\n",
       "2      2018\n",
       "3      2018\n",
       "4      2018\n",
       "5      2017\n",
       "6      2017\n",
       "7      2017\n",
       "8      2017\n",
       "9      2017\n",
       "10     2017\n",
       "11     2016\n",
       "12     2016\n",
       "13     2016\n",
       "14     2016\n",
       "15     2016\n",
       "16     2016\n",
       "17     2015\n",
       "18     2015\n",
       "19     2015\n",
       "20     2015\n",
       "21     2015\n",
       "22     2015\n",
       "23     2014\n",
       "24     2014\n",
       "25     2014\n",
       "26     2014\n",
       "27     2014\n",
       "28     2014\n",
       "29     2013\n",
       "       ... \n",
       "560    1906\n",
       "561    1906\n",
       "562    1906\n",
       "563    1906\n",
       "564    1906\n",
       "565    1905\n",
       "566    1905\n",
       "567    1905\n",
       "568    1905\n",
       "569    1905\n",
       "570    1904\n",
       "571    1904\n",
       "572    1904\n",
       "573    1904\n",
       "574    1904\n",
       "575    1903\n",
       "576    1903\n",
       "577    1903\n",
       "578    1903\n",
       "579    1903\n",
       "580    1902\n",
       "581    1902\n",
       "582    1902\n",
       "583    1902\n",
       "584    1902\n",
       "585    1901\n",
       "586    1901\n",
       "587    1901\n",
       "588    1901\n",
       "589    1901\n",
       "Name: year, Length: 590, dtype: int64"
      ]
     },
     "execution_count": 883,
     "metadata": {},
     "output_type": "execute_result"
    }
   ],
   "source": [
    "Nobel['year'].apply(pd.to_numeric, errors='ignore')"
   ]
  },
  {
   "cell_type": "code",
   "execution_count": 884,
   "metadata": {},
   "outputs": [
    {
     "data": {
      "text/plain": [
       "inf"
      ]
     },
     "execution_count": 884,
     "metadata": {},
     "output_type": "execute_result"
    }
   ],
   "source": [
    "Nobel['year'].mean()"
   ]
  },
  {
   "cell_type": "markdown",
   "metadata": {},
   "source": [
    "I have attempted to make the data into a more numerical workable format for further analysis, but unfortunately I have not had much success. However, I will next attempt to make categorical data numerical for more analysis. "
   ]
  },
  {
   "cell_type": "code",
   "execution_count": 894,
   "metadata": {},
   "outputs": [],
   "source": [
    "non_categorical_series=pd.Series(['economcs','medicine','peace','physics','literature','chemistry'])"
   ]
  },
  {
   "cell_type": "code",
   "execution_count": 895,
   "metadata": {},
   "outputs": [
    {
     "data": {
      "text/plain": [
       "dtype('O')"
      ]
     },
     "execution_count": 895,
     "metadata": {},
     "output_type": "execute_result"
    }
   ],
   "source": [
    "non_categorical_series.dtype"
   ]
  },
  {
   "cell_type": "code",
   "execution_count": 896,
   "metadata": {},
   "outputs": [
    {
     "data": {
      "text/plain": [
       "CategoricalDtype(categories=['chemistry', 'economcs', 'literature', 'medicine', 'peace',\n",
       "                  'physics'],\n",
       "                 ordered=False)"
      ]
     },
     "execution_count": 896,
     "metadata": {},
     "output_type": "execute_result"
    }
   ],
   "source": [
    "categorical_series=non_categorical_series.astype('category')\n",
    "categorical_series.dtype"
   ]
  },
  {
   "cell_type": "code",
   "execution_count": 897,
   "metadata": {},
   "outputs": [
    {
     "data": {
      "text/plain": [
       "0    1\n",
       "1    3\n",
       "2    4\n",
       "3    5\n",
       "4    2\n",
       "5    0\n",
       "dtype: int8"
      ]
     },
     "execution_count": 897,
     "metadata": {},
     "output_type": "execute_result"
    }
   ],
   "source": [
    "categorical_series.cat.codes"
   ]
  },
  {
   "cell_type": "markdown",
   "metadata": {},
   "source": [
    "I just need to put in a quick note here because I figured out how to make it numerical and I am stoked about that. Anways. Below I \"reverse\" the process to check that my series of integers translates to categories. "
   ]
  },
  {
   "cell_type": "code",
   "execution_count": 900,
   "metadata": {},
   "outputs": [
    {
     "data": {
      "text/plain": [
       "Index(['chemistry', 'economcs', 'literature', 'medicine', 'peace', 'physics'], dtype='object')"
      ]
     },
     "execution_count": 900,
     "metadata": {},
     "output_type": "execute_result"
    }
   ],
   "source": [
    "categorical_series.cat.categories"
   ]
  },
  {
   "cell_type": "code",
   "execution_count": 903,
   "metadata": {},
   "outputs": [
    {
     "data": {
      "text/plain": [
       "0     chemistry\n",
       "1      economcs\n",
       "2    literature\n",
       "3      medicine\n",
       "4         peace\n",
       "5       physics\n",
       "dtype: category\n",
       "Categories (6, object): [chemistry, economcs, literature, medicine, peace, physics]"
      ]
     },
     "execution_count": 903,
     "metadata": {},
     "output_type": "execute_result"
    }
   ],
   "source": [
    "categorical_series.mode()"
   ]
  },
  {
   "cell_type": "code",
   "execution_count": 906,
   "metadata": {},
   "outputs": [
    {
     "ename": "AttributeError",
     "evalue": "'numpy.dtype' object has no attribute 'mode'",
     "output_type": "error",
     "traceback": [
      "\u001b[0;31m---------------------------------------------------------------------------\u001b[0m",
      "\u001b[0;31mAttributeError\u001b[0m                            Traceback (most recent call last)",
      "\u001b[0;32m<ipython-input-906-2e21450c3424>\u001b[0m in \u001b[0;36m<module>\u001b[0;34m\u001b[0m\n\u001b[0;32m----> 1\u001b[0;31m \u001b[0mnon_categorical_series\u001b[0m\u001b[0;34m.\u001b[0m\u001b[0mdtype\u001b[0m\u001b[0;34m.\u001b[0m\u001b[0mmode\u001b[0m\u001b[0;34m(\u001b[0m\u001b[0;34m)\u001b[0m\u001b[0;34m\u001b[0m\u001b[0;34m\u001b[0m\u001b[0m\n\u001b[0m",
      "\u001b[0;31mAttributeError\u001b[0m: 'numpy.dtype' object has no attribute 'mode'"
     ]
    }
   ],
   "source": [
    "non_categorical_series.dtype.mode()"
   ]
  },
  {
   "cell_type": "markdown",
   "metadata": {},
   "source": [
    "So I managed to turn my categories into numeric values of 0-5, however I am still having issues analysing them further. Next I am going to try vizualising my categorical data that I have made numeric. "
   ]
  },
  {
   "cell_type": "code",
   "execution_count": 915,
   "metadata": {},
   "outputs": [
    {
     "ename": "TypeError",
     "evalue": "cannot perform reduce with flexible type",
     "output_type": "error",
     "traceback": [
      "\u001b[0;31m---------------------------------------------------------------------------\u001b[0m",
      "\u001b[0;31mTypeError\u001b[0m                                 Traceback (most recent call last)",
      "\u001b[0;32m<ipython-input-915-7233ada9fa93>\u001b[0m in \u001b[0;36m<module>\u001b[0;34m\u001b[0m\n\u001b[0;32m----> 1\u001b[0;31m \u001b[0msns\u001b[0m\u001b[0;34m.\u001b[0m\u001b[0mboxplot\u001b[0m\u001b[0;34m(\u001b[0m\u001b[0mcategorical_series\u001b[0m\u001b[0;34m)\u001b[0m\u001b[0;34m\u001b[0m\u001b[0;34m\u001b[0m\u001b[0m\n\u001b[0m",
      "\u001b[0;32m~/anaconda3/lib/python3.7/site-packages/seaborn/categorical.py\u001b[0m in \u001b[0;36mboxplot\u001b[0;34m(x, y, hue, data, order, hue_order, orient, color, palette, saturation, width, dodge, fliersize, linewidth, whis, notch, ax, **kwargs)\u001b[0m\n\u001b[1;32m   2235\u001b[0m     \u001b[0mkwargs\u001b[0m\u001b[0;34m.\u001b[0m\u001b[0mupdate\u001b[0m\u001b[0;34m(\u001b[0m\u001b[0mdict\u001b[0m\u001b[0;34m(\u001b[0m\u001b[0mwhis\u001b[0m\u001b[0;34m=\u001b[0m\u001b[0mwhis\u001b[0m\u001b[0;34m,\u001b[0m \u001b[0mnotch\u001b[0m\u001b[0;34m=\u001b[0m\u001b[0mnotch\u001b[0m\u001b[0;34m)\u001b[0m\u001b[0;34m)\u001b[0m\u001b[0;34m\u001b[0m\u001b[0;34m\u001b[0m\u001b[0m\n\u001b[1;32m   2236\u001b[0m \u001b[0;34m\u001b[0m\u001b[0m\n\u001b[0;32m-> 2237\u001b[0;31m     \u001b[0mplotter\u001b[0m\u001b[0;34m.\u001b[0m\u001b[0mplot\u001b[0m\u001b[0;34m(\u001b[0m\u001b[0max\u001b[0m\u001b[0;34m,\u001b[0m \u001b[0mkwargs\u001b[0m\u001b[0;34m)\u001b[0m\u001b[0;34m\u001b[0m\u001b[0;34m\u001b[0m\u001b[0m\n\u001b[0m\u001b[1;32m   2238\u001b[0m     \u001b[0;32mreturn\u001b[0m \u001b[0max\u001b[0m\u001b[0;34m\u001b[0m\u001b[0;34m\u001b[0m\u001b[0m\n\u001b[1;32m   2239\u001b[0m \u001b[0;34m\u001b[0m\u001b[0m\n",
      "\u001b[0;32m~/anaconda3/lib/python3.7/site-packages/seaborn/categorical.py\u001b[0m in \u001b[0;36mplot\u001b[0;34m(self, ax, boxplot_kws)\u001b[0m\n\u001b[1;32m    547\u001b[0m     \u001b[0;32mdef\u001b[0m \u001b[0mplot\u001b[0m\u001b[0;34m(\u001b[0m\u001b[0mself\u001b[0m\u001b[0;34m,\u001b[0m \u001b[0max\u001b[0m\u001b[0;34m,\u001b[0m \u001b[0mboxplot_kws\u001b[0m\u001b[0;34m)\u001b[0m\u001b[0;34m:\u001b[0m\u001b[0;34m\u001b[0m\u001b[0;34m\u001b[0m\u001b[0m\n\u001b[1;32m    548\u001b[0m         \u001b[0;34m\"\"\"Make the plot.\"\"\"\u001b[0m\u001b[0;34m\u001b[0m\u001b[0;34m\u001b[0m\u001b[0m\n\u001b[0;32m--> 549\u001b[0;31m         \u001b[0mself\u001b[0m\u001b[0;34m.\u001b[0m\u001b[0mdraw_boxplot\u001b[0m\u001b[0;34m(\u001b[0m\u001b[0max\u001b[0m\u001b[0;34m,\u001b[0m \u001b[0mboxplot_kws\u001b[0m\u001b[0;34m)\u001b[0m\u001b[0;34m\u001b[0m\u001b[0;34m\u001b[0m\u001b[0m\n\u001b[0m\u001b[1;32m    550\u001b[0m         \u001b[0mself\u001b[0m\u001b[0;34m.\u001b[0m\u001b[0mannotate_axes\u001b[0m\u001b[0;34m(\u001b[0m\u001b[0max\u001b[0m\u001b[0;34m)\u001b[0m\u001b[0;34m\u001b[0m\u001b[0;34m\u001b[0m\u001b[0m\n\u001b[1;32m    551\u001b[0m         \u001b[0;32mif\u001b[0m \u001b[0mself\u001b[0m\u001b[0;34m.\u001b[0m\u001b[0morient\u001b[0m \u001b[0;34m==\u001b[0m \u001b[0;34m\"h\"\u001b[0m\u001b[0;34m:\u001b[0m\u001b[0;34m\u001b[0m\u001b[0;34m\u001b[0m\u001b[0m\n",
      "\u001b[0;32m~/anaconda3/lib/python3.7/site-packages/seaborn/categorical.py\u001b[0m in \u001b[0;36mdraw_boxplot\u001b[0;34m(self, ax, kws)\u001b[0m\n\u001b[1;32m    484\u001b[0m                                          \u001b[0mpositions\u001b[0m\u001b[0;34m=\u001b[0m\u001b[0;34m[\u001b[0m\u001b[0mi\u001b[0m\u001b[0;34m]\u001b[0m\u001b[0;34m,\u001b[0m\u001b[0;34m\u001b[0m\u001b[0;34m\u001b[0m\u001b[0m\n\u001b[1;32m    485\u001b[0m                                          \u001b[0mwidths\u001b[0m\u001b[0;34m=\u001b[0m\u001b[0mself\u001b[0m\u001b[0;34m.\u001b[0m\u001b[0mwidth\u001b[0m\u001b[0;34m,\u001b[0m\u001b[0;34m\u001b[0m\u001b[0;34m\u001b[0m\u001b[0m\n\u001b[0;32m--> 486\u001b[0;31m                                          **kws)\n\u001b[0m\u001b[1;32m    487\u001b[0m                 \u001b[0mcolor\u001b[0m \u001b[0;34m=\u001b[0m \u001b[0mself\u001b[0m\u001b[0;34m.\u001b[0m\u001b[0mcolors\u001b[0m\u001b[0;34m[\u001b[0m\u001b[0mi\u001b[0m\u001b[0;34m]\u001b[0m\u001b[0;34m\u001b[0m\u001b[0;34m\u001b[0m\u001b[0m\n\u001b[1;32m    488\u001b[0m                 \u001b[0mself\u001b[0m\u001b[0;34m.\u001b[0m\u001b[0mrestyle_boxplot\u001b[0m\u001b[0;34m(\u001b[0m\u001b[0martist_dict\u001b[0m\u001b[0;34m,\u001b[0m \u001b[0mcolor\u001b[0m\u001b[0;34m,\u001b[0m \u001b[0mprops\u001b[0m\u001b[0;34m)\u001b[0m\u001b[0;34m\u001b[0m\u001b[0;34m\u001b[0m\u001b[0m\n",
      "\u001b[0;32m~/anaconda3/lib/python3.7/site-packages/matplotlib/__init__.py\u001b[0m in \u001b[0;36minner\u001b[0;34m(ax, data, *args, **kwargs)\u001b[0m\n\u001b[1;32m   1808\u001b[0m                         \u001b[0;34m\"the Matplotlib list!)\"\u001b[0m \u001b[0;34m%\u001b[0m \u001b[0;34m(\u001b[0m\u001b[0mlabel_namer\u001b[0m\u001b[0;34m,\u001b[0m \u001b[0mfunc\u001b[0m\u001b[0;34m.\u001b[0m\u001b[0m__name__\u001b[0m\u001b[0;34m)\u001b[0m\u001b[0;34m,\u001b[0m\u001b[0;34m\u001b[0m\u001b[0;34m\u001b[0m\u001b[0m\n\u001b[1;32m   1809\u001b[0m                         RuntimeWarning, stacklevel=2)\n\u001b[0;32m-> 1810\u001b[0;31m             \u001b[0;32mreturn\u001b[0m \u001b[0mfunc\u001b[0m\u001b[0;34m(\u001b[0m\u001b[0max\u001b[0m\u001b[0;34m,\u001b[0m \u001b[0;34m*\u001b[0m\u001b[0margs\u001b[0m\u001b[0;34m,\u001b[0m \u001b[0;34m**\u001b[0m\u001b[0mkwargs\u001b[0m\u001b[0;34m)\u001b[0m\u001b[0;34m\u001b[0m\u001b[0;34m\u001b[0m\u001b[0m\n\u001b[0m\u001b[1;32m   1811\u001b[0m \u001b[0;34m\u001b[0m\u001b[0m\n\u001b[1;32m   1812\u001b[0m         inner.__doc__ = _add_data_doc(inner.__doc__,\n",
      "\u001b[0;32m~/anaconda3/lib/python3.7/site-packages/matplotlib/axes/_axes.py\u001b[0m in \u001b[0;36mboxplot\u001b[0;34m(self, x, notch, sym, vert, whis, positions, widths, patch_artist, bootstrap, usermedians, conf_intervals, meanline, showmeans, showcaps, showbox, showfliers, boxprops, labels, flierprops, medianprops, meanprops, capprops, whiskerprops, manage_xticks, autorange, zorder)\u001b[0m\n\u001b[1;32m   3501\u001b[0m \u001b[0;34m\u001b[0m\u001b[0m\n\u001b[1;32m   3502\u001b[0m         bxpstats = cbook.boxplot_stats(x, whis=whis, bootstrap=bootstrap,\n\u001b[0;32m-> 3503\u001b[0;31m                                        labels=labels, autorange=autorange)\n\u001b[0m\u001b[1;32m   3504\u001b[0m         \u001b[0;32mif\u001b[0m \u001b[0mnotch\u001b[0m \u001b[0;32mis\u001b[0m \u001b[0;32mNone\u001b[0m\u001b[0;34m:\u001b[0m\u001b[0;34m\u001b[0m\u001b[0;34m\u001b[0m\u001b[0m\n\u001b[1;32m   3505\u001b[0m             \u001b[0mnotch\u001b[0m \u001b[0;34m=\u001b[0m \u001b[0mrcParams\u001b[0m\u001b[0;34m[\u001b[0m\u001b[0;34m'boxplot.notch'\u001b[0m\u001b[0;34m]\u001b[0m\u001b[0;34m\u001b[0m\u001b[0;34m\u001b[0m\u001b[0m\n",
      "\u001b[0;32m~/anaconda3/lib/python3.7/site-packages/matplotlib/cbook/__init__.py\u001b[0m in \u001b[0;36mboxplot_stats\u001b[0;34m(X, whis, bootstrap, labels, autorange)\u001b[0m\n\u001b[1;32m   1213\u001b[0m \u001b[0;34m\u001b[0m\u001b[0m\n\u001b[1;32m   1214\u001b[0m         \u001b[0;31m# arithmetic mean\u001b[0m\u001b[0;34m\u001b[0m\u001b[0;34m\u001b[0m\u001b[0;34m\u001b[0m\u001b[0m\n\u001b[0;32m-> 1215\u001b[0;31m         \u001b[0mstats\u001b[0m\u001b[0;34m[\u001b[0m\u001b[0;34m'mean'\u001b[0m\u001b[0;34m]\u001b[0m \u001b[0;34m=\u001b[0m \u001b[0mnp\u001b[0m\u001b[0;34m.\u001b[0m\u001b[0mmean\u001b[0m\u001b[0;34m(\u001b[0m\u001b[0mx\u001b[0m\u001b[0;34m)\u001b[0m\u001b[0;34m\u001b[0m\u001b[0;34m\u001b[0m\u001b[0m\n\u001b[0m\u001b[1;32m   1216\u001b[0m \u001b[0;34m\u001b[0m\u001b[0m\n\u001b[1;32m   1217\u001b[0m         \u001b[0;31m# medians and quartiles\u001b[0m\u001b[0;34m\u001b[0m\u001b[0;34m\u001b[0m\u001b[0;34m\u001b[0m\u001b[0m\n",
      "\u001b[0;32m~/anaconda3/lib/python3.7/site-packages/numpy/core/fromnumeric.py\u001b[0m in \u001b[0;36mmean\u001b[0;34m(a, axis, dtype, out, keepdims)\u001b[0m\n\u001b[1;32m   2918\u001b[0m \u001b[0;34m\u001b[0m\u001b[0m\n\u001b[1;32m   2919\u001b[0m     return _methods._mean(a, axis=axis, dtype=dtype,\n\u001b[0;32m-> 2920\u001b[0;31m                           out=out, **kwargs)\n\u001b[0m\u001b[1;32m   2921\u001b[0m \u001b[0;34m\u001b[0m\u001b[0m\n\u001b[1;32m   2922\u001b[0m \u001b[0;34m\u001b[0m\u001b[0m\n",
      "\u001b[0;32m~/anaconda3/lib/python3.7/site-packages/numpy/core/_methods.py\u001b[0m in \u001b[0;36m_mean\u001b[0;34m(a, axis, dtype, out, keepdims)\u001b[0m\n\u001b[1;32m     73\u001b[0m             \u001b[0mis_float16_result\u001b[0m \u001b[0;34m=\u001b[0m \u001b[0;32mTrue\u001b[0m\u001b[0;34m\u001b[0m\u001b[0;34m\u001b[0m\u001b[0m\n\u001b[1;32m     74\u001b[0m \u001b[0;34m\u001b[0m\u001b[0m\n\u001b[0;32m---> 75\u001b[0;31m     \u001b[0mret\u001b[0m \u001b[0;34m=\u001b[0m \u001b[0mumr_sum\u001b[0m\u001b[0;34m(\u001b[0m\u001b[0marr\u001b[0m\u001b[0;34m,\u001b[0m \u001b[0maxis\u001b[0m\u001b[0;34m,\u001b[0m \u001b[0mdtype\u001b[0m\u001b[0;34m,\u001b[0m \u001b[0mout\u001b[0m\u001b[0;34m,\u001b[0m \u001b[0mkeepdims\u001b[0m\u001b[0;34m)\u001b[0m\u001b[0;34m\u001b[0m\u001b[0;34m\u001b[0m\u001b[0m\n\u001b[0m\u001b[1;32m     76\u001b[0m     \u001b[0;32mif\u001b[0m \u001b[0misinstance\u001b[0m\u001b[0;34m(\u001b[0m\u001b[0mret\u001b[0m\u001b[0;34m,\u001b[0m \u001b[0mmu\u001b[0m\u001b[0;34m.\u001b[0m\u001b[0mndarray\u001b[0m\u001b[0;34m)\u001b[0m\u001b[0;34m:\u001b[0m\u001b[0;34m\u001b[0m\u001b[0;34m\u001b[0m\u001b[0m\n\u001b[1;32m     77\u001b[0m         ret = um.true_divide(\n",
      "\u001b[0;31mTypeError\u001b[0m: cannot perform reduce with flexible type"
     ]
    },
    {
     "data": {
      "image/png": "[encoded data removed]",
      "text/plain": [
       "<Figure size 432x288 with 1 Axes>"
      ]
     },
     "metadata": {
      "needs_background": "light"
     },
     "output_type": "display_data"
    }
   ],
   "source": [
    "sns.boxplot(categorical_series)"
   ]
  },
  {
   "cell_type": "markdown",
   "metadata": {},
   "source": [
    "I am again having difficulty with my now \"numeric\" data in getting it to visualize. "
   ]
  },
  {
   "cell_type": "markdown",
   "metadata": {},
   "source": [
    "# CSV"
   ]
  },
  {
   "cell_type": "markdown",
   "metadata": {},
   "source": [
    "My next file type is this CSV concerning Chicago employee overtime and supplemental earnings. In hypothetical Chicago, using data from real world chicago, the government is wanting to determine how much overtime and supplemental income employees are earning, in order to determine what percentage of their income comes from wages paid by employers for 40 hours a week, and what percentage comes from overtime and side hustles (supplemental income)."
   ]
  },
  {
   "cell_type": "code",
   "execution_count": 829,
   "metadata": {},
   "outputs": [],
   "source": [
    "import pandas as pd\n",
    "import numpy as np"
   ]
  },
  {
   "cell_type": "code",
   "execution_count": 830,
   "metadata": {},
   "outputs": [],
   "source": [
    "chicago_df = pd.read_csv(\"file:///Users/moirafacer/Desktop/employee-overtime-and-supplemental-earnings-2012.csv\")\n"
   ]
  },
  {
   "cell_type": "code",
   "execution_count": 831,
   "metadata": {},
   "outputs": [
    {
     "data": {
      "text/html": [
       "<div>\n",
       "<style scoped>\n",
       "    .dataframe tbody tr th:only-of-type {\n",
       "        vertical-align: middle;\n",
       "    }\n",
       "\n",
       "    .dataframe tbody tr th {\n",
       "        vertical-align: top;\n",
       "    }\n",
       "\n",
       "    .dataframe thead th {\n",
       "        text-align: right;\n",
       "    }\n",
       "</style>\n",
       "<table border=\"1\" class=\"dataframe\">\n",
       "  <thead>\n",
       "    <tr style=\"text-align: right;\">\n",
       "      <th></th>\n",
       "      <th>Department Name</th>\n",
       "      <th>Employee Name</th>\n",
       "      <th>Title</th>\n",
       "      <th>Jan 2012</th>\n",
       "      <th>Feb 2012</th>\n",
       "      <th>Mar 2012</th>\n",
       "      <th>Apr 2012</th>\n",
       "      <th>May 2012</th>\n",
       "      <th>Jun 2012</th>\n",
       "      <th>Jul 2012</th>\n",
       "      <th>Aug 2012</th>\n",
       "      <th>Sept 2012</th>\n",
       "      <th>Oct 2012</th>\n",
       "      <th>Nov 2012</th>\n",
       "      <th>Dec 2012</th>\n",
       "      <th>2012 Total</th>\n",
       "    </tr>\n",
       "  </thead>\n",
       "  <tbody>\n",
       "    <tr>\n",
       "      <th>0</th>\n",
       "      <td>Administrative Hearings</td>\n",
       "      <td>WOODRIDGE, RACHENETTE</td>\n",
       "      <td>ADMINISTRATIVE ASST II</td>\n",
       "      <td>0.0</td>\n",
       "      <td>0.0</td>\n",
       "      <td>0.0</td>\n",
       "      <td>0.0</td>\n",
       "      <td>0.0</td>\n",
       "      <td>0.0</td>\n",
       "      <td>0.0</td>\n",
       "      <td>0.0</td>\n",
       "      <td>0.0</td>\n",
       "      <td>0.0</td>\n",
       "      <td>445.0</td>\n",
       "      <td>0.0</td>\n",
       "      <td>445.0</td>\n",
       "    </tr>\n",
       "    <tr>\n",
       "      <th>1</th>\n",
       "      <td>Animal Care and Control</td>\n",
       "      <td>HOLLOWAY, EFREM J</td>\n",
       "      <td>ANIMAL CARE AIDE II</td>\n",
       "      <td>278.0</td>\n",
       "      <td>670.0</td>\n",
       "      <td>1040.0</td>\n",
       "      <td>0.0</td>\n",
       "      <td>0.0</td>\n",
       "      <td>0.0</td>\n",
       "      <td>0.0</td>\n",
       "      <td>0.0</td>\n",
       "      <td>0.0</td>\n",
       "      <td>0.0</td>\n",
       "      <td>0.0</td>\n",
       "      <td>287.0</td>\n",
       "      <td>2275.0</td>\n",
       "    </tr>\n",
       "    <tr>\n",
       "      <th>2</th>\n",
       "      <td>Animal Care and Control</td>\n",
       "      <td>EDGECOMBE, CHERYL K</td>\n",
       "      <td>ANIMAL CONTROL OFFICER</td>\n",
       "      <td>404.0</td>\n",
       "      <td>0.0</td>\n",
       "      <td>771.0</td>\n",
       "      <td>0.0</td>\n",
       "      <td>147.0</td>\n",
       "      <td>637.0</td>\n",
       "      <td>1114.0</td>\n",
       "      <td>478.0</td>\n",
       "      <td>257.0</td>\n",
       "      <td>539.0</td>\n",
       "      <td>257.0</td>\n",
       "      <td>514.0</td>\n",
       "      <td>5118.0</td>\n",
       "    </tr>\n",
       "    <tr>\n",
       "      <th>3</th>\n",
       "      <td>Animal Care and Control</td>\n",
       "      <td>RUGLIC, MARY S</td>\n",
       "      <td>ANIMAL CONTROL OFFICER</td>\n",
       "      <td>0.0</td>\n",
       "      <td>147.0</td>\n",
       "      <td>0.0</td>\n",
       "      <td>0.0</td>\n",
       "      <td>0.0</td>\n",
       "      <td>0.0</td>\n",
       "      <td>0.0</td>\n",
       "      <td>0.0</td>\n",
       "      <td>0.0</td>\n",
       "      <td>0.0</td>\n",
       "      <td>0.0</td>\n",
       "      <td>0.0</td>\n",
       "      <td>147.0</td>\n",
       "    </tr>\n",
       "    <tr>\n",
       "      <th>4</th>\n",
       "      <td>Animal Care and Control</td>\n",
       "      <td>WASHINGTON, MONTESE DAJUAN</td>\n",
       "      <td>VETERINARY ASST</td>\n",
       "      <td>575.0</td>\n",
       "      <td>780.0</td>\n",
       "      <td>1135.0</td>\n",
       "      <td>492.0</td>\n",
       "      <td>657.0</td>\n",
       "      <td>913.0</td>\n",
       "      <td>1552.0</td>\n",
       "      <td>821.0</td>\n",
       "      <td>780.0</td>\n",
       "      <td>954.0</td>\n",
       "      <td>855.0</td>\n",
       "      <td>472.0</td>\n",
       "      <td>9985.0</td>\n",
       "    </tr>\n",
       "  </tbody>\n",
       "</table>\n",
       "</div>"
      ],
      "text/plain": [
       "           Department Name               Employee Name  \\\n",
       "0  Administrative Hearings       WOODRIDGE, RACHENETTE   \n",
       "1  Animal Care and Control           HOLLOWAY, EFREM J   \n",
       "2  Animal Care and Control         EDGECOMBE, CHERYL K   \n",
       "3  Animal Care and Control              RUGLIC, MARY S   \n",
       "4  Animal Care and Control  WASHINGTON, MONTESE DAJUAN   \n",
       "\n",
       "                    Title  Jan 2012  Feb 2012  Mar 2012  Apr 2012  May 2012  \\\n",
       "0  ADMINISTRATIVE ASST II       0.0       0.0       0.0       0.0       0.0   \n",
       "1     ANIMAL CARE AIDE II     278.0     670.0    1040.0       0.0       0.0   \n",
       "2  ANIMAL CONTROL OFFICER     404.0       0.0     771.0       0.0     147.0   \n",
       "3  ANIMAL CONTROL OFFICER       0.0     147.0       0.0       0.0       0.0   \n",
       "4         VETERINARY ASST     575.0     780.0    1135.0     492.0     657.0   \n",
       "\n",
       "   Jun 2012  Jul 2012  Aug 2012  Sept 2012  Oct 2012  Nov 2012  Dec 2012  \\\n",
       "0       0.0       0.0       0.0        0.0       0.0     445.0       0.0   \n",
       "1       0.0       0.0       0.0        0.0       0.0       0.0     287.0   \n",
       "2     637.0    1114.0     478.0      257.0     539.0     257.0     514.0   \n",
       "3       0.0       0.0       0.0        0.0       0.0       0.0       0.0   \n",
       "4     913.0    1552.0     821.0      780.0     954.0     855.0     472.0   \n",
       "\n",
       "   2012 Total  \n",
       "0       445.0  \n",
       "1      2275.0  \n",
       "2      5118.0  \n",
       "3       147.0  \n",
       "4      9985.0  "
      ]
     },
     "execution_count": 831,
     "metadata": {},
     "output_type": "execute_result"
    }
   ],
   "source": [
    "chicago_df.head()"
   ]
  },
  {
   "cell_type": "markdown",
   "metadata": {},
   "source": [
    "The data appears to have read in correctly, so we can move onto the description portion. "
   ]
  },
  {
   "cell_type": "code",
   "execution_count": 832,
   "metadata": {},
   "outputs": [
    {
     "data": {
      "text/plain": [
       "<bound method NDFrame.describe of                Department Name                Employee Name  \\\n",
       "0      Administrative Hearings        WOODRIDGE, RACHENETTE   \n",
       "1      Animal Care and Control            HOLLOWAY, EFREM J   \n",
       "2      Animal Care and Control          EDGECOMBE, CHERYL K   \n",
       "3      Animal Care and Control               RUGLIC, MARY S   \n",
       "4      Animal Care and Control   WASHINGTON, MONTESE DAJUAN   \n",
       "5      Animal Care and Control              CEHAJIC, TIHANA   \n",
       "6      Animal Care and Control               ZAVALA, VICTOR   \n",
       "7      Animal Care and Control             HAMILTON, ARTHUR   \n",
       "8      Animal Care and Control     MCDONALD, KOLLEEN DENISE   \n",
       "9      Animal Care and Control     MCDONALD, KOLLEEN DENISE   \n",
       "10     Animal Care and Control  NORRIS, MICHAELIA CONSTANCE   \n",
       "11     Animal Care and Control          SAUNDERS, JASMINE M   \n",
       "12     Animal Care and Control              DEUTSCH, DANA K   \n",
       "13     Animal Care and Control            MCCALL, GOVANNI D   \n",
       "14     Animal Care and Control              HORTON, KAITLIN   \n",
       "15     Animal Care and Control      BRADFORD, MONA MICHELLE   \n",
       "16     Animal Care and Control               ROBSON, KIRA B   \n",
       "17     Animal Care and Control          CHRISTENSEN, ALTHEA   \n",
       "18     Animal Care and Control     MROFCZA, BENJAMIN JOSEPH   \n",
       "19     Animal Care and Control            MURPHY II, OTIS A   \n",
       "20     Animal Care and Control                BRADY, DIANNE   \n",
       "21     Animal Care and Control            STRONG, ALLISON R   \n",
       "22     Animal Care and Control              DEL RIO, JOSE A   \n",
       "23     Animal Care and Control              THOMAS, CHARLES   \n",
       "24     Animal Care and Control          WATSON, FRANCES ANN   \n",
       "25     Animal Care and Control               LOZANO, RENE P   \n",
       "26     Animal Care and Control         FITZPATRICK, LEONA P   \n",
       "27     Animal Care and Control             THOMAS, KELVIN B   \n",
       "28     Animal Care and Control            MARTINEZ, LYDIA C   \n",
       "29     Animal Care and Control           AGUILAR, RICARDO L   \n",
       "...                        ...                          ...   \n",
       "24240         Water Management              ROGERS, ALLAN D   \n",
       "24241         Water Management            RODRIGUEZ, WILLIE   \n",
       "24242         Water Management             MORRIS, LAVELL C   \n",
       "24243         Water Management            DAVIDSON, LUCAS P   \n",
       "24244         Water Management             GARDNER, NANETTE   \n",
       "24245         Water Management              JEFFERSON, ARCO   \n",
       "24246         Water Management              KEKOS, LABROS T   \n",
       "24247         Water Management                PARKER, ANDRE   \n",
       "24248         Water Management               MC GEE, JOHN L   \n",
       "24249         Water Management        RICHARDSON, KENNETH L   \n",
       "24250         Water Management           BENFORD, ABRAHAM J   \n",
       "24251         Water Management               JONES, COREY D   \n",
       "24252         Water Management              ROMERO, MICHAEL   \n",
       "24253         Water Management                ORTIZ, JOHN M   \n",
       "24254         Water Management              REYES, JOSEPH L   \n",
       "24255         Water Management         ARREDONDO, TIMOTHY J   \n",
       "24256         Water Management           PEARSON, MICHAEL E   \n",
       "24257         Water Management             LEWIS, DOUGLAS R   \n",
       "24258         Water Management           STANKUS, WILLIAM A   \n",
       "24259         Water Management               PRATT, DAVID A   \n",
       "24260         Water Management        ARCHER, CHRISTOPHER J   \n",
       "24261         Water Management          ESTRADA, NORBERTO G   \n",
       "24262         Water Management           GIANNOLA, ROBERT J   \n",
       "24263         Water Management              HENDEE, DAVID A   \n",
       "24264         Water Management             JEFFRIES, SEAN V   \n",
       "24265         Water Management               GUEVARA, JESUS   \n",
       "24266         Water Management              LOGAN, ERNEST L   \n",
       "24267         Water Management           WOODS JR, JOHNNY L   \n",
       "24268         Water Management              JOHNSON, JOEY E   \n",
       "24269         Water Management          DECALUWE, STANLEY J   \n",
       "\n",
       "                                    Title  Jan 2012  Feb 2012  Mar 2012  \\\n",
       "0                  ADMINISTRATIVE ASST II       0.0       0.0       0.0   \n",
       "1                     ANIMAL CARE AIDE II     278.0     670.0    1040.0   \n",
       "2                  ANIMAL CONTROL OFFICER     404.0       0.0     771.0   \n",
       "3                  ANIMAL CONTROL OFFICER       0.0     147.0       0.0   \n",
       "4                         VETERINARY ASST     575.0     780.0    1135.0   \n",
       "5             SUPVSR OF ANIMAL CARE AIDES    1950.0    1808.0     330.0   \n",
       "6                  ANIMAL CONTROL OFFICER       0.0       0.0    1310.0   \n",
       "7                     ANIMAL CARE AIDE II     542.0    2392.0     665.0   \n",
       "8                  ANIMAL CONTROL OFFICER       0.0       0.0       0.0   \n",
       "9                     ANIMAL CARE AIDE II     179.0     875.0     418.0   \n",
       "10                    ANIMAL CARE AIDE II     235.0     318.0     239.0   \n",
       "11                    ANIMAL CARE AIDE II     632.0    1330.0     338.0   \n",
       "12      SUPVSR OF ANIMAL CONTROL OFFICERS       0.0       0.0       0.0   \n",
       "13                    ANIMAL CARE AIDE II       0.0       0.0       0.0   \n",
       "14                    ANIMAL CARE AIDE II       0.0       0.0       0.0   \n",
       "15                    ANIMAL CARE AIDE II       0.0       0.0       0.0   \n",
       "16            SUPVSR OF ANIMAL CARE AIDES       0.0       0.0       0.0   \n",
       "17                    ANIMAL CARE AIDE II       0.0       0.0       0.0   \n",
       "18                    ANIMAL CARE AIDE II       0.0       0.0       0.0   \n",
       "19                 ANIMAL CONTROL OFFICER    1182.0     739.0     886.0   \n",
       "20                 ANIMAL CONTROL OFFICER    1351.0    1590.0    4253.0   \n",
       "21            SUPVSR OF ANIMAL CARE AIDES     791.0     403.0     537.0   \n",
       "22               ANIMAL CONTROL INSPECTOR    1694.0       0.0     899.0   \n",
       "23                 ANIMAL CONTROL OFFICER     656.0       0.0       0.0   \n",
       "24                         DISPATCH CLERK     183.0     837.0     732.0   \n",
       "25                 ANIMAL CONTROL OFFICER     712.0    1419.0    2847.0   \n",
       "26                      ANIMAL CARE CLERK       0.0     304.0       0.0   \n",
       "27                     ANIMAL CARE AIDE I    1641.0       0.0       0.0   \n",
       "28                     ANIMAL CARE AIDE I    1044.0       0.0       0.0   \n",
       "29                 ANIMAL CONTROL OFFICER     679.0     340.0     679.0   \n",
       "...                                   ...       ...       ...       ...   \n",
       "24240             POOL MOTOR TRUCK DRIVER       0.0     432.0       0.0   \n",
       "24241             POOL MOTOR TRUCK DRIVER     102.0      51.0       0.0   \n",
       "24242             POOL MOTOR TRUCK DRIVER       0.0       0.0       0.0   \n",
       "24243             POOL MOTOR TRUCK DRIVER       0.0     305.0       0.0   \n",
       "24244             POOL MOTOR TRUCK DRIVER       0.0       0.0       0.0   \n",
       "24245             POOL MOTOR TRUCK DRIVER       0.0     995.0       0.0   \n",
       "24246             POOL MOTOR TRUCK DRIVER     715.0    1244.0       0.0   \n",
       "24247             POOL MOTOR TRUCK DRIVER       0.0     559.0       0.0   \n",
       "24248             POOL MOTOR TRUCK DRIVER     155.0     561.0       0.0   \n",
       "24249             POOL MOTOR TRUCK DRIVER       0.0       0.0       0.0   \n",
       "24250             POOL MOTOR TRUCK DRIVER     330.0    1307.0     228.0   \n",
       "24251             POOL MOTOR TRUCK DRIVER       0.0       0.0       0.0   \n",
       "24252             POOL MOTOR TRUCK DRIVER     381.0      25.0       0.0   \n",
       "24253                 ELECTRICAL MECHANIC     646.0       0.0     485.0   \n",
       "24254                 ELECTRICAL MECHANIC     323.0     808.0     545.0   \n",
       "24255                 ELECTRICAL MECHANIC     364.0     808.0     485.0   \n",
       "24256                  MOTOR TRUCK DRIVER     381.0     880.0       0.0   \n",
       "24257          OPERATING ENGINEER-GROUP C    2004.0    2505.0    2004.0   \n",
       "24258                           MACHINIST       0.0       0.0       0.0   \n",
       "24259                           CARPENTER       0.0       0.0       0.0   \n",
       "24260             POOL MOTOR TRUCK DRIVER       0.0     102.0       0.0   \n",
       "24261             POOL MOTOR TRUCK DRIVER    1714.0    1777.0     423.0   \n",
       "24262             POOL MOTOR TRUCK DRIVER     812.0      76.0     406.0   \n",
       "24263             POOL MOTOR TRUCK DRIVER     482.0    1405.0     457.0   \n",
       "24264             POOL MOTOR TRUCK DRIVER     736.0     330.0     102.0   \n",
       "24265                         STEAMFITTER       0.0       0.0       0.0   \n",
       "24266             POOL MOTOR TRUCK DRIVER     296.0     271.0     406.0   \n",
       "24267             POOL MOTOR TRUCK DRIVER      51.0    1350.0     838.0   \n",
       "24268             POOL MOTOR TRUCK DRIVER      25.0       0.0       0.0   \n",
       "24269  FOREMAN OF WATER PIPE CONSTRUCTION      70.0    1040.0    2583.0   \n",
       "\n",
       "       Apr 2012  May 2012  Jun 2012  Jul 2012  Aug 2012  Sept 2012  Oct 2012  \\\n",
       "0           0.0       0.0       0.0       0.0       0.0        0.0       0.0   \n",
       "1           0.0       0.0       0.0       0.0       0.0        0.0       0.0   \n",
       "2           0.0     147.0     637.0    1114.0     478.0      257.0     539.0   \n",
       "3           0.0       0.0       0.0       0.0       0.0        0.0       0.0   \n",
       "4         492.0     657.0     913.0    1552.0     821.0      780.0     954.0   \n",
       "5           0.0       0.0       0.0       0.0       0.0        0.0       0.0   \n",
       "6         245.0       0.0       0.0     987.0     385.0     1355.0     736.0   \n",
       "7         250.0     286.0     512.0    1250.0    1190.0      637.0     250.0   \n",
       "8           0.0       0.0       0.0     399.0     651.0     1862.0    1006.0   \n",
       "9          60.0      71.0     411.0     179.0       0.0        0.0       0.0   \n",
       "10        290.0       0.0     125.0       0.0       0.0        0.0       0.0   \n",
       "11          0.0     361.0     855.0     678.0     946.0        0.0       0.0   \n",
       "12          0.0       0.0     409.0       0.0       0.0        0.0       0.0   \n",
       "13          0.0       0.0       0.0       0.0       0.0     1636.0       0.0   \n",
       "14         43.0     318.0       0.0       0.0       0.0        0.0       0.0   \n",
       "15        170.0     261.0     253.0     767.0       0.0      443.0       0.0   \n",
       "16          0.0       0.0       0.0       0.0       0.0      315.0     834.0   \n",
       "17          0.0       0.0       0.0       0.0       0.0        0.0       0.0   \n",
       "18          0.0       0.0       0.0       0.0       0.0        0.0       0.0   \n",
       "19          0.0     535.0    1541.0    2617.0    1660.0      295.0     366.0   \n",
       "20       3750.0    3015.0    2139.0    3366.0    4175.0     4615.0    2406.0   \n",
       "21       1279.0    4408.0    2271.0    5836.0    3278.0     1711.0    2655.0   \n",
       "22       1536.0    2055.0    1680.0     619.0    2645.0     2785.0       0.0   \n",
       "23        290.0     324.0     386.0    2930.0     540.0     2895.0    3243.0   \n",
       "24          0.0    1573.0     366.0       0.0    1273.0        0.0     183.0   \n",
       "25       1394.0    2360.0    1208.0    2763.0    1830.0     4347.0    4860.0   \n",
       "26          0.0       0.0       0.0       0.0       0.0        0.0       0.0   \n",
       "27          0.0       0.0       0.0       0.0       0.0        0.0       0.0   \n",
       "28          0.0       0.0       0.0       0.0       0.0        0.0       0.0   \n",
       "29       1310.0       0.0    2025.0    1391.0    2474.0     3735.0    3428.0   \n",
       "...         ...       ...       ...       ...       ...        ...       ...   \n",
       "24240       0.0     615.0    1055.0     406.0     432.0      258.0     355.0   \n",
       "24241       0.0     413.0       0.0       0.0     563.0      181.0     362.0   \n",
       "24242       0.0       0.0     190.0     381.0       0.0      379.0      39.0   \n",
       "24243       0.0       0.0       4.0    1151.0    1777.0      406.0       0.0   \n",
       "24244       0.0     413.0     232.0       0.0       0.0      190.0      38.0   \n",
       "24245     228.0     508.0     279.0     584.0     330.0        0.0       0.0   \n",
       "24246       0.0       0.0     155.0       0.0     102.0        0.0     683.0   \n",
       "24247       0.0     127.0       0.0       0.0     254.0        0.0     355.0   \n",
       "24248       0.0       0.0       0.0       0.0     749.0        0.0       0.0   \n",
       "24249       0.0       0.0       0.0     406.0     508.0      127.0     460.0   \n",
       "24250       0.0     259.0    1261.0       0.0     758.0        0.0     232.0   \n",
       "24251       0.0       0.0       0.0       0.0     559.0       76.0       0.0   \n",
       "24252       0.0       0.0      51.0     863.0     711.0      355.0     584.0   \n",
       "24253     970.0       0.0    1212.0    1528.0     504.0     1008.0    1680.0   \n",
       "24254       0.0       0.0     485.0    1493.0    1008.0     1008.0    1008.0   \n",
       "24255     455.0       0.0    1454.0    1080.0    1575.0     1071.0    2016.0   \n",
       "24256     406.0       0.0     279.0    1117.0       0.0      203.0     939.0   \n",
       "24257    1628.0     532.0    1002.0      32.0     157.0        0.0       0.0   \n",
       "24258       0.0       0.0       0.0       0.0     294.0        0.0       0.0   \n",
       "24259       0.0       0.0       0.0       0.0       0.0       62.0       0.0   \n",
       "24260       0.0       0.0       0.0       0.0       0.0      667.0       0.0   \n",
       "24261       0.0       0.0     310.0       0.0       0.0      455.0       0.0   \n",
       "24262     406.0     152.0     207.0       0.0       0.0      413.0       0.0   \n",
       "24263       0.0       0.0       0.0       0.0       0.0      127.0       0.0   \n",
       "24264      63.0     152.0       0.0     355.0     609.0        0.0       0.0   \n",
       "24265     683.0       0.0       0.0     198.0       0.0        0.0       0.0   \n",
       "24266     381.0     432.0     965.0     127.0     355.0       76.0       0.0   \n",
       "24267       0.0       0.0       0.0     127.0     228.0      787.0     406.0   \n",
       "24268       0.0       0.0       0.0       0.0     508.0      102.0       0.0   \n",
       "24269    1052.0     245.0     923.0     210.0     917.0     3519.0    1857.0   \n",
       "\n",
       "       Nov 2012  Dec 2012  2012 Total  \n",
       "0         445.0       0.0       445.0  \n",
       "1           0.0     287.0      2275.0  \n",
       "2         257.0     514.0      5118.0  \n",
       "3           0.0       0.0       147.0  \n",
       "4         855.0     472.0      9985.0  \n",
       "5           0.0       0.0      4089.0  \n",
       "6         385.0       0.0      5404.0  \n",
       "7           0.0     643.0      8615.0  \n",
       "8         293.0     736.0      4948.0  \n",
       "9           0.0       0.0      2192.0  \n",
       "10          0.0     250.0      1456.0  \n",
       "11          0.0       0.0      5140.0  \n",
       "12          0.0       0.0       409.0  \n",
       "13          0.0       0.0      1636.0  \n",
       "14          0.0       0.0       361.0  \n",
       "15          0.0     250.0      2145.0  \n",
       "16        556.0    1051.0      2756.0  \n",
       "17          0.0     375.0       375.0  \n",
       "18          0.0     912.0       912.0  \n",
       "19          0.0    1477.0     11299.0  \n",
       "20       1998.0    1492.0     34149.0  \n",
       "21       2976.0    3335.0     29479.0  \n",
       "22        818.0       0.0     14729.0  \n",
       "23       1780.0    3088.0     16132.0  \n",
       "24        776.0    1804.0      7727.0  \n",
       "25       3491.0    4169.0     31401.0  \n",
       "26          0.0       0.0       304.0  \n",
       "27          0.0       0.0      1641.0  \n",
       "28          0.0       0.0      1044.0  \n",
       "29       2143.0     340.0     18543.0  \n",
       "...         ...       ...         ...  \n",
       "24240     742.0    1480.0      5775.0  \n",
       "24241       0.0       0.0      1671.0  \n",
       "24242     426.0       0.0      1415.0  \n",
       "24243     965.0     406.0      5014.0  \n",
       "24244       0.0       0.0       874.0  \n",
       "24245     584.0       0.0      3508.0  \n",
       "24246     465.0       0.0      3364.0  \n",
       "24247     127.0     152.0      1574.0  \n",
       "24248     432.0       0.0      1897.0  \n",
       "24249     439.0     254.0      2194.0  \n",
       "24250     400.0     757.0      5533.0  \n",
       "24251       0.0       0.0       635.0  \n",
       "24252     564.0     609.0      4144.0  \n",
       "24253    1512.0    1008.0     10553.0  \n",
       "24254    2184.0    1008.0      9870.0  \n",
       "24255    1680.0    2352.0     13339.0  \n",
       "24256       0.0     533.0      4739.0  \n",
       "24257       0.0       0.0      9864.0  \n",
       "24258       0.0       0.0       294.0  \n",
       "24259     125.0       0.0       187.0  \n",
       "24260       0.0     254.0      1023.0  \n",
       "24261     129.0     207.0      5015.0  \n",
       "24262     504.0     114.0      3091.0  \n",
       "24263     232.0       0.0      2704.0  \n",
       "24264     102.0       0.0      2450.0  \n",
       "24265       0.0       0.0       881.0  \n",
       "24266       0.0     406.0      3715.0  \n",
       "24267     784.0       0.0      4571.0  \n",
       "24268       0.0       0.0       635.0  \n",
       "24269    1763.0    1375.0     15554.0  \n",
       "\n",
       "[24270 rows x 16 columns]>"
      ]
     },
     "execution_count": 832,
     "metadata": {},
     "output_type": "execute_result"
    }
   ],
   "source": [
    "chicago_df.describe"
   ]
  },
  {
   "cell_type": "code",
   "execution_count": 833,
   "metadata": {},
   "outputs": [
    {
     "data": {
      "text/plain": [
       "<bound method NDFrame.describe of 0           0.0\n",
       "1         278.0\n",
       "2         404.0\n",
       "3           0.0\n",
       "4         575.0\n",
       "5        1950.0\n",
       "6           0.0\n",
       "7         542.0\n",
       "8           0.0\n",
       "9         179.0\n",
       "10        235.0\n",
       "11        632.0\n",
       "12          0.0\n",
       "13          0.0\n",
       "14          0.0\n",
       "15          0.0\n",
       "16          0.0\n",
       "17          0.0\n",
       "18          0.0\n",
       "19       1182.0\n",
       "20       1351.0\n",
       "21        791.0\n",
       "22       1694.0\n",
       "23        656.0\n",
       "24        183.0\n",
       "25        712.0\n",
       "26          0.0\n",
       "27       1641.0\n",
       "28       1044.0\n",
       "29        679.0\n",
       "          ...  \n",
       "24240       0.0\n",
       "24241     102.0\n",
       "24242       0.0\n",
       "24243       0.0\n",
       "24244       0.0\n",
       "24245       0.0\n",
       "24246     715.0\n",
       "24247       0.0\n",
       "24248     155.0\n",
       "24249       0.0\n",
       "24250     330.0\n",
       "24251       0.0\n",
       "24252     381.0\n",
       "24253     646.0\n",
       "24254     323.0\n",
       "24255     364.0\n",
       "24256     381.0\n",
       "24257    2004.0\n",
       "24258       0.0\n",
       "24259       0.0\n",
       "24260       0.0\n",
       "24261    1714.0\n",
       "24262     812.0\n",
       "24263     482.0\n",
       "24264     736.0\n",
       "24265       0.0\n",
       "24266     296.0\n",
       "24267      51.0\n",
       "24268      25.0\n",
       "24269      70.0\n",
       "Name: Jan 2012, Length: 24270, dtype: float64>"
      ]
     },
     "execution_count": 833,
     "metadata": {},
     "output_type": "execute_result"
    }
   ],
   "source": [
    "chicago_df['Jan 2012'].describe"
   ]
  },
  {
   "cell_type": "markdown",
   "metadata": {},
   "source": [
    " Since I was unable to analyze neither the total data nor a single column, I have to change the type of data to be numeric. "
   ]
  },
  {
   "cell_type": "raw",
   "metadata": {},
   "source": [
    "chicago_df.apply(pd.to_numeric, errors='ignore')"
   ]
  },
  {
   "cell_type": "markdown",
   "metadata": {},
   "source": [
    "Once transformed, the data can then be analyzed. "
   ]
  },
  {
   "cell_type": "code",
   "execution_count": 834,
   "metadata": {},
   "outputs": [
    {
     "data": {
      "text/html": [
       "<div>\n",
       "<style scoped>\n",
       "    .dataframe tbody tr th:only-of-type {\n",
       "        vertical-align: middle;\n",
       "    }\n",
       "\n",
       "    .dataframe tbody tr th {\n",
       "        vertical-align: top;\n",
       "    }\n",
       "\n",
       "    .dataframe thead th {\n",
       "        text-align: right;\n",
       "    }\n",
       "</style>\n",
       "<table border=\"1\" class=\"dataframe\">\n",
       "  <thead>\n",
       "    <tr style=\"text-align: right;\">\n",
       "      <th></th>\n",
       "      <th>Jan 2012</th>\n",
       "      <th>Feb 2012</th>\n",
       "      <th>Mar 2012</th>\n",
       "      <th>Apr 2012</th>\n",
       "      <th>May 2012</th>\n",
       "      <th>Jun 2012</th>\n",
       "      <th>Jul 2012</th>\n",
       "      <th>Aug 2012</th>\n",
       "      <th>Sept 2012</th>\n",
       "      <th>Oct 2012</th>\n",
       "      <th>Nov 2012</th>\n",
       "      <th>Dec 2012</th>\n",
       "      <th>2012 Total</th>\n",
       "    </tr>\n",
       "  </thead>\n",
       "  <tbody>\n",
       "    <tr>\n",
       "      <th>count</th>\n",
       "      <td>24269.000000</td>\n",
       "      <td>24264.000000</td>\n",
       "      <td>24266.000000</td>\n",
       "      <td>24247.000000</td>\n",
       "      <td>24265.000000</td>\n",
       "      <td>24266.000000</td>\n",
       "      <td>24261.000000</td>\n",
       "      <td>24242.000000</td>\n",
       "      <td>24267.000000</td>\n",
       "      <td>24265.000000</td>\n",
       "      <td>24251.000000</td>\n",
       "      <td>24265.000000</td>\n",
       "      <td>24268.000000</td>\n",
       "    </tr>\n",
       "    <tr>\n",
       "      <th>mean</th>\n",
       "      <td>350.614323</td>\n",
       "      <td>388.003215</td>\n",
       "      <td>344.017226</td>\n",
       "      <td>420.095888</td>\n",
       "      <td>310.766413</td>\n",
       "      <td>457.383829</td>\n",
       "      <td>397.584477</td>\n",
       "      <td>432.061505</td>\n",
       "      <td>415.146372</td>\n",
       "      <td>590.777334</td>\n",
       "      <td>500.922189</td>\n",
       "      <td>495.024562</td>\n",
       "      <td>5097.667669</td>\n",
       "    </tr>\n",
       "    <tr>\n",
       "      <th>std</th>\n",
       "      <td>710.526882</td>\n",
       "      <td>803.828773</td>\n",
       "      <td>733.881846</td>\n",
       "      <td>976.293421</td>\n",
       "      <td>725.134549</td>\n",
       "      <td>944.546444</td>\n",
       "      <td>829.093212</td>\n",
       "      <td>968.348960</td>\n",
       "      <td>841.778383</td>\n",
       "      <td>1061.509749</td>\n",
       "      <td>922.997795</td>\n",
       "      <td>962.850610</td>\n",
       "      <td>7287.914850</td>\n",
       "    </tr>\n",
       "    <tr>\n",
       "      <th>min</th>\n",
       "      <td>0.000000</td>\n",
       "      <td>0.000000</td>\n",
       "      <td>0.000000</td>\n",
       "      <td>0.000000</td>\n",
       "      <td>0.000000</td>\n",
       "      <td>0.000000</td>\n",
       "      <td>0.000000</td>\n",
       "      <td>0.000000</td>\n",
       "      <td>0.000000</td>\n",
       "      <td>0.000000</td>\n",
       "      <td>0.000000</td>\n",
       "      <td>0.000000</td>\n",
       "      <td>0.000000</td>\n",
       "    </tr>\n",
       "    <tr>\n",
       "      <th>25%</th>\n",
       "      <td>0.000000</td>\n",
       "      <td>0.000000</td>\n",
       "      <td>0.000000</td>\n",
       "      <td>0.000000</td>\n",
       "      <td>0.000000</td>\n",
       "      <td>0.000000</td>\n",
       "      <td>0.000000</td>\n",
       "      <td>0.000000</td>\n",
       "      <td>0.000000</td>\n",
       "      <td>0.000000</td>\n",
       "      <td>0.000000</td>\n",
       "      <td>0.000000</td>\n",
       "      <td>715.000000</td>\n",
       "    </tr>\n",
       "    <tr>\n",
       "      <th>50%</th>\n",
       "      <td>0.000000</td>\n",
       "      <td>0.000000</td>\n",
       "      <td>0.000000</td>\n",
       "      <td>0.000000</td>\n",
       "      <td>0.000000</td>\n",
       "      <td>0.000000</td>\n",
       "      <td>0.000000</td>\n",
       "      <td>0.000000</td>\n",
       "      <td>0.000000</td>\n",
       "      <td>0.000000</td>\n",
       "      <td>0.000000</td>\n",
       "      <td>0.000000</td>\n",
       "      <td>2509.000000</td>\n",
       "    </tr>\n",
       "    <tr>\n",
       "      <th>75%</th>\n",
       "      <td>413.000000</td>\n",
       "      <td>450.000000</td>\n",
       "      <td>373.000000</td>\n",
       "      <td>441.500000</td>\n",
       "      <td>281.000000</td>\n",
       "      <td>492.000000</td>\n",
       "      <td>410.000000</td>\n",
       "      <td>489.000000</td>\n",
       "      <td>445.000000</td>\n",
       "      <td>788.000000</td>\n",
       "      <td>609.000000</td>\n",
       "      <td>541.000000</td>\n",
       "      <td>6441.250000</td>\n",
       "    </tr>\n",
       "    <tr>\n",
       "      <th>max</th>\n",
       "      <td>11686.000000</td>\n",
       "      <td>23230.000000</td>\n",
       "      <td>11408.000000</td>\n",
       "      <td>15025.000000</td>\n",
       "      <td>11785.000000</td>\n",
       "      <td>13114.000000</td>\n",
       "      <td>14804.000000</td>\n",
       "      <td>62689.000000</td>\n",
       "      <td>17427.000000</td>\n",
       "      <td>14291.000000</td>\n",
       "      <td>9727.000000</td>\n",
       "      <td>11521.000000</td>\n",
       "      <td>105102.000000</td>\n",
       "    </tr>\n",
       "  </tbody>\n",
       "</table>\n",
       "</div>"
      ],
      "text/plain": [
       "           Jan 2012      Feb 2012      Mar 2012      Apr 2012      May 2012  \\\n",
       "count  24269.000000  24264.000000  24266.000000  24247.000000  24265.000000   \n",
       "mean     350.614323    388.003215    344.017226    420.095888    310.766413   \n",
       "std      710.526882    803.828773    733.881846    976.293421    725.134549   \n",
       "min        0.000000      0.000000      0.000000      0.000000      0.000000   \n",
       "25%        0.000000      0.000000      0.000000      0.000000      0.000000   \n",
       "50%        0.000000      0.000000      0.000000      0.000000      0.000000   \n",
       "75%      413.000000    450.000000    373.000000    441.500000    281.000000   \n",
       "max    11686.000000  23230.000000  11408.000000  15025.000000  11785.000000   \n",
       "\n",
       "           Jun 2012      Jul 2012      Aug 2012     Sept 2012      Oct 2012  \\\n",
       "count  24266.000000  24261.000000  24242.000000  24267.000000  24265.000000   \n",
       "mean     457.383829    397.584477    432.061505    415.146372    590.777334   \n",
       "std      944.546444    829.093212    968.348960    841.778383   1061.509749   \n",
       "min        0.000000      0.000000      0.000000      0.000000      0.000000   \n",
       "25%        0.000000      0.000000      0.000000      0.000000      0.000000   \n",
       "50%        0.000000      0.000000      0.000000      0.000000      0.000000   \n",
       "75%      492.000000    410.000000    489.000000    445.000000    788.000000   \n",
       "max    13114.000000  14804.000000  62689.000000  17427.000000  14291.000000   \n",
       "\n",
       "           Nov 2012      Dec 2012     2012 Total  \n",
       "count  24251.000000  24265.000000   24268.000000  \n",
       "mean     500.922189    495.024562    5097.667669  \n",
       "std      922.997795    962.850610    7287.914850  \n",
       "min        0.000000      0.000000       0.000000  \n",
       "25%        0.000000      0.000000     715.000000  \n",
       "50%        0.000000      0.000000    2509.000000  \n",
       "75%      609.000000    541.000000    6441.250000  \n",
       "max     9727.000000  11521.000000  105102.000000  "
      ]
     },
     "execution_count": 834,
     "metadata": {},
     "output_type": "execute_result"
    }
   ],
   "source": [
    "chicago_df.describe()"
   ]
  },
  {
   "cell_type": "markdown",
   "metadata": {},
   "source": [
    "Now that the data has been succesfully transformed, the function .describe has worked. This basic analysis tells us a few things, firstly, October 2012 has the highest mean, meaning that October was the month when chicago employees made the most extra cash. (you know, Halloween bonuses, a very common thing.) The month when the least supplemenatal income was made was May.  \n",
    "This analysis also tells us about the wide difference in amounts of supplemental income, each month some employees made no supplemental income while others made more than 10,000. Which is due either to an obscene amount of overtime, increbily high wages, or a serious side hustle.  "
   ]
  },
  {
   "cell_type": "code",
   "execution_count": 835,
   "metadata": {},
   "outputs": [
    {
     "name": "stdout",
     "output_type": "stream",
     "text": [
      "<class 'pandas.core.frame.DataFrame'>\n",
      "RangeIndex: 24270 entries, 0 to 24269\n",
      "Data columns (total 16 columns):\n",
      "Department Name    24270 non-null object\n",
      "Employee Name      24270 non-null object\n",
      "Title              24270 non-null object\n",
      "Jan 2012           24269 non-null float64\n",
      "Feb 2012           24264 non-null float64\n",
      "Mar 2012           24266 non-null float64\n",
      "Apr 2012           24247 non-null float64\n",
      "May 2012           24265 non-null float64\n",
      "Jun 2012           24266 non-null float64\n",
      "Jul 2012           24261 non-null float64\n",
      "Aug 2012           24242 non-null float64\n",
      "Sept 2012          24267 non-null float64\n",
      "Oct 2012           24265 non-null float64\n",
      "Nov 2012           24251 non-null float64\n",
      "Dec 2012           24265 non-null float64\n",
      "2012 Total         24268 non-null float64\n",
      "dtypes: float64(13), object(3)\n",
      "memory usage: 3.0+ MB\n"
     ]
    }
   ],
   "source": [
    "chicago_df.info()"
   ]
  },
  {
   "cell_type": "markdown",
   "metadata": {},
   "source": [
    "However if I wanted to, I could take a closer look at each individual column, such as Jan 2012. "
   ]
  },
  {
   "cell_type": "code",
   "execution_count": 836,
   "metadata": {},
   "outputs": [
    {
     "data": {
      "text/plain": [
       "350.614322798632"
      ]
     },
     "execution_count": 836,
     "metadata": {},
     "output_type": "execute_result"
    }
   ],
   "source": [
    "chicago_df['Jan 2012'].mean()"
   ]
  },
  {
   "cell_type": "code",
   "execution_count": 837,
   "metadata": {},
   "outputs": [
    {
     "data": {
      "text/plain": [
       "array([   0.,  278.,  404., ..., 3614., 3296., 1676.])"
      ]
     },
     "execution_count": 837,
     "metadata": {},
     "output_type": "execute_result"
    }
   ],
   "source": [
    "chicago_df['Jan 2012'].unique()"
   ]
  },
  {
   "cell_type": "markdown",
   "metadata": {},
   "source": [
    "The next step is to visualize the data. "
   ]
  },
  {
   "cell_type": "code",
   "execution_count": 838,
   "metadata": {},
   "outputs": [],
   "source": [
    "import seaborn as sns"
   ]
  },
  {
   "cell_type": "markdown",
   "metadata": {},
   "source": [
    "I attempted multiple kinds of other graphs, however I recieved an error message on all that I tried except for boxplots. So I shall be using boxplots. In order to better understand the distribution of supplemental income for employees of Chicago, I am going to create a series of boxplots. January, May, October and the whole year. "
   ]
  },
  {
   "cell_type": "code",
   "execution_count": 839,
   "metadata": {},
   "outputs": [
    {
     "data": {
      "text/plain": [
       "<matplotlib.axes._subplots.AxesSubplot at 0x1a351fb2e8>"
      ]
     },
     "execution_count": 839,
     "metadata": {},
     "output_type": "execute_result"
    },
    {
     "data": {
      "image/png": "[encoded data removed]",
      "text/plain": [
       "<Figure size 432x288 with 1 Axes>"
      ]
     },
     "metadata": {
      "needs_background": "light"
     },
     "output_type": "display_data"
    }
   ],
   "source": [
    "sns.boxplot(chicago_df['Jan 2012'])"
   ]
  },
  {
   "cell_type": "code",
   "execution_count": 840,
   "metadata": {},
   "outputs": [
    {
     "data": {
      "text/plain": [
       "<matplotlib.axes._subplots.AxesSubplot at 0x1a346cada0>"
      ]
     },
     "execution_count": 840,
     "metadata": {},
     "output_type": "execute_result"
    },
    {
     "data": {
      "image/png": "[encoded data removed]",
      "text/plain": [
       "<Figure size 432x288 with 1 Axes>"
      ]
     },
     "metadata": {
      "needs_background": "light"
     },
     "output_type": "display_data"
    }
   ],
   "source": [
    "sns.boxplot(chicago_df['May 2012'])"
   ]
  },
  {
   "cell_type": "code",
   "execution_count": 841,
   "metadata": {},
   "outputs": [
    {
     "data": {
      "text/plain": [
       "<matplotlib.axes._subplots.AxesSubplot at 0x1a347b36d8>"
      ]
     },
     "execution_count": 841,
     "metadata": {},
     "output_type": "execute_result"
    },
    {
     "data": {
      "image/png": "[encoded data removed]",
      "text/plain": [
       "<Figure size 432x288 with 1 Axes>"
      ]
     },
     "metadata": {
      "needs_background": "light"
     },
     "output_type": "display_data"
    }
   ],
   "source": [
    "sns.boxplot(chicago_df['Oct 2012'])"
   ]
  },
  {
   "cell_type": "markdown",
   "metadata": {},
   "source": [
    "As evident in the above and below graphs, there are a massive amount of outliers in the data. However the scale of the graph below is slightly different as it totals the yearly supplemental income for individuals, however the theme of some individuals make large amounts in overtime or supplemental income is very clear. In relation to the earlier idea of comparing which percentage of income is related to wage and which is realted to supplemental income, it could be said that some Chicago employees have low wages and are working very hard via overtime and other means to supplement their income, as evidenced by the reported high levels of overtime/supplemental income."
   ]
  },
  {
   "cell_type": "code",
   "execution_count": 842,
   "metadata": {},
   "outputs": [
    {
     "data": {
      "text/plain": [
       "<matplotlib.axes._subplots.AxesSubplot at 0x1a34454a90>"
      ]
     },
     "execution_count": 842,
     "metadata": {},
     "output_type": "execute_result"
    },
    {
     "data": {
      "image/png": "[encoded data removed]",
      "text/plain": [
       "<Figure size 432x288 with 1 Axes>"
      ]
     },
     "metadata": {
      "needs_background": "light"
     },
     "output_type": "display_data"
    }
   ],
   "source": [
    "sns.boxplot(chicago_df['2012 Total'])"
   ]
  },
  {
   "cell_type": "code",
   "execution_count": 843,
   "metadata": {},
   "outputs": [
    {
     "data": {
      "text/plain": [
       "<matplotlib.axes._subplots.AxesSubplot at 0x1a34c28c88>"
      ]
     },
     "execution_count": 843,
     "metadata": {},
     "output_type": "execute_result"
    },
    {
     "data": {
      "image/png": "[encoded data removed]",
      "text/plain": [
       "<Figure size 432x288 with 1 Axes>"
      ]
     },
     "metadata": {
      "needs_background": "light"
     },
     "output_type": "display_data"
    }
   ],
   "source": [
    "sns.violinplot(chicago_df[['May 2012', 'Oct 2012']])"
   ]
  },
  {
   "cell_type": "markdown",
   "metadata": {},
   "source": [
    "# Excel"
   ]
  },
  {
   "cell_type": "markdown",
   "metadata": {},
   "source": [
    "My final file type is an excel file concerning the fascinating subject of seabird avoidance of windturbines. It's a nailbiter. As we all known, passenger pigeons, and seabirds are our main way of carrying information from place to place, especially long distance over oceans. However a tragic epidemic is stopping our aviators from reaching their destinations and bringing their valuable information. The wind turbine. "
   ]
  },
  {
   "cell_type": "code",
   "execution_count": 983,
   "metadata": {},
   "outputs": [],
   "source": [
    "import pandas as pd \n",
    "import seaborn as sns \n",
    "import xlrd\n",
    "from pandas import ExcelWriter \n",
    "from pandas import ExcelFile"
   ]
  },
  {
   "cell_type": "code",
   "execution_count": 989,
   "metadata": {},
   "outputs": [],
   "source": [
    "df=pd.read_excel('Table S3.xlsx')"
   ]
  },
  {
   "cell_type": "code",
   "execution_count": 991,
   "metadata": {},
   "outputs": [
    {
     "data": {
      "text/html": [
       "<div>\n",
       "<style scoped>\n",
       "    .dataframe tbody tr th:only-of-type {\n",
       "        vertical-align: middle;\n",
       "    }\n",
       "\n",
       "    .dataframe tbody tr th {\n",
       "        vertical-align: top;\n",
       "    }\n",
       "\n",
       "    .dataframe thead th {\n",
       "        text-align: right;\n",
       "    }\n",
       "</style>\n",
       "<table border=\"1\" class=\"dataframe\">\n",
       "  <thead>\n",
       "    <tr style=\"text-align: right;\">\n",
       "      <th></th>\n",
       "      <th>Species</th>\n",
       "      <th>length</th>\n",
       "      <th>wingspan</th>\n",
       "      <th>speed</th>\n",
       "      <th>Flight mode</th>\n",
       "      <th>Site</th>\n",
       "      <th>Collision Rate</th>\n",
       "      <th>N Birds Passing</th>\n",
       "      <th>Hours Survey</th>\n",
       "      <th>Birds/Hr</th>\n",
       "      <th>...</th>\n",
       "      <th>Rotor Diameter</th>\n",
       "      <th>Rotor Speed**</th>\n",
       "      <th>Pitch**</th>\n",
       "      <th>Hub Height</th>\n",
       "      <th>N Turbines</th>\n",
       "      <th>Rotor Swept Area</th>\n",
       "      <th>P(Coll) Options 1 &amp;2</th>\n",
       "      <th>Predicted Collisions Option 1</th>\n",
       "      <th>Avoidance Rate Option 1</th>\n",
       "      <th>Non-Avoidance Rate Option 1</th>\n",
       "    </tr>\n",
       "  </thead>\n",
       "  <tbody>\n",
       "    <tr>\n",
       "      <th>0</th>\n",
       "      <td>Herring Gull</td>\n",
       "      <td>0.61</td>\n",
       "      <td>1.44</td>\n",
       "      <td>12.8</td>\n",
       "      <td>flap</td>\n",
       "      <td>Boudwijnkanaal (October 2001)</td>\n",
       "      <td>1.0</td>\n",
       "      <td>812.00</td>\n",
       "      <td>17.0</td>\n",
       "      <td>47.764706</td>\n",
       "      <td>...</td>\n",
       "      <td>48.0</td>\n",
       "      <td>43.0</td>\n",
       "      <td>10.0</td>\n",
       "      <td>55.0</td>\n",
       "      <td>5.0</td>\n",
       "      <td>9047.786842</td>\n",
       "      <td>0.137860</td>\n",
       "      <td>103.181218</td>\n",
       "      <td>0.990308</td>\n",
       "      <td>0.009692</td>\n",
       "    </tr>\n",
       "    <tr>\n",
       "      <th>1</th>\n",
       "      <td>Black-headed Gull</td>\n",
       "      <td>0.36</td>\n",
       "      <td>1.05</td>\n",
       "      <td>9.5</td>\n",
       "      <td>flap</td>\n",
       "      <td>Boudwijnkanaal (October 2005)</td>\n",
       "      <td>6.0</td>\n",
       "      <td>696.00</td>\n",
       "      <td>17.0</td>\n",
       "      <td>40.941176</td>\n",
       "      <td>...</td>\n",
       "      <td>48.0</td>\n",
       "      <td>43.0</td>\n",
       "      <td>10.0</td>\n",
       "      <td>55.0</td>\n",
       "      <td>7.0</td>\n",
       "      <td>12666.901579</td>\n",
       "      <td>0.117458</td>\n",
       "      <td>144.956697</td>\n",
       "      <td>0.958608</td>\n",
       "      <td>0.041392</td>\n",
       "    </tr>\n",
       "    <tr>\n",
       "      <th>2</th>\n",
       "      <td>Herring/Lesser-black-backed Gull</td>\n",
       "      <td>0.61</td>\n",
       "      <td>1.44</td>\n",
       "      <td>12.8</td>\n",
       "      <td>flap</td>\n",
       "      <td>Boudwijnkanaal (October 2005)</td>\n",
       "      <td>4.0</td>\n",
       "      <td>339.00</td>\n",
       "      <td>17.0</td>\n",
       "      <td>19.941176</td>\n",
       "      <td>...</td>\n",
       "      <td>48.0</td>\n",
       "      <td>43.0</td>\n",
       "      <td>10.0</td>\n",
       "      <td>55.0</td>\n",
       "      <td>7.0</td>\n",
       "      <td>12666.901579</td>\n",
       "      <td>0.137860</td>\n",
       "      <td>90.073455</td>\n",
       "      <td>0.955592</td>\n",
       "      <td>0.044408</td>\n",
       "    </tr>\n",
       "    <tr>\n",
       "      <th>3</th>\n",
       "      <td>All Species</td>\n",
       "      <td>0.61</td>\n",
       "      <td>1.44</td>\n",
       "      <td>12.8</td>\n",
       "      <td>flap</td>\n",
       "      <td>Boudwijnkanaal (October 2005)</td>\n",
       "      <td>11.0</td>\n",
       "      <td>1035.00</td>\n",
       "      <td>17.0</td>\n",
       "      <td>60.882353</td>\n",
       "      <td>...</td>\n",
       "      <td>48.0</td>\n",
       "      <td>43.0</td>\n",
       "      <td>10.0</td>\n",
       "      <td>55.0</td>\n",
       "      <td>7.0</td>\n",
       "      <td>12666.901579</td>\n",
       "      <td>0.137860</td>\n",
       "      <td>260.336199</td>\n",
       "      <td>0.957747</td>\n",
       "      <td>0.042253</td>\n",
       "    </tr>\n",
       "    <tr>\n",
       "      <th>4</th>\n",
       "      <td>Black-headed Gull</td>\n",
       "      <td>0.36</td>\n",
       "      <td>1.05</td>\n",
       "      <td>9.5</td>\n",
       "      <td>flap</td>\n",
       "      <td>Bouin</td>\n",
       "      <td>28.0</td>\n",
       "      <td>5769.92</td>\n",
       "      <td>370.0</td>\n",
       "      <td>15.594378</td>\n",
       "      <td>...</td>\n",
       "      <td>80.0</td>\n",
       "      <td>18.0</td>\n",
       "      <td>10.0</td>\n",
       "      <td>60.0</td>\n",
       "      <td>8.0</td>\n",
       "      <td>40212.385966</td>\n",
       "      <td>0.106177</td>\n",
       "      <td>583.659614</td>\n",
       "      <td>0.952027</td>\n",
       "      <td>0.047973</td>\n",
       "    </tr>\n",
       "  </tbody>\n",
       "</table>\n",
       "<p>5 rows × 35 columns</p>\n",
       "</div>"
      ],
      "text/plain": [
       "                            Species  length  wingspan  speed Flight mode  \\\n",
       "0                      Herring Gull    0.61      1.44   12.8        flap   \n",
       "1                 Black-headed Gull    0.36      1.05    9.5        flap   \n",
       "2  Herring/Lesser-black-backed Gull    0.61      1.44   12.8        flap   \n",
       "3                       All Species    0.61      1.44   12.8        flap   \n",
       "4                 Black-headed Gull    0.36      1.05    9.5        flap   \n",
       "\n",
       "                            Site  Collision Rate  N Birds Passing  \\\n",
       "0  Boudwijnkanaal (October 2001)             1.0           812.00   \n",
       "1  Boudwijnkanaal (October 2005)             6.0           696.00   \n",
       "2  Boudwijnkanaal (October 2005)             4.0           339.00   \n",
       "3  Boudwijnkanaal (October 2005)            11.0          1035.00   \n",
       "4                          Bouin            28.0          5769.92   \n",
       "\n",
       "   Hours Survey   Birds/Hr             ...               Rotor Diameter  \\\n",
       "0          17.0  47.764706             ...                         48.0   \n",
       "1          17.0  40.941176             ...                         48.0   \n",
       "2          17.0  19.941176             ...                         48.0   \n",
       "3          17.0  60.882353             ...                         48.0   \n",
       "4         370.0  15.594378             ...                         80.0   \n",
       "\n",
       "   Rotor Speed**  Pitch**  Hub Height  N Turbines  Rotor Swept Area  \\\n",
       "0           43.0     10.0        55.0         5.0       9047.786842   \n",
       "1           43.0     10.0        55.0         7.0      12666.901579   \n",
       "2           43.0     10.0        55.0         7.0      12666.901579   \n",
       "3           43.0     10.0        55.0         7.0      12666.901579   \n",
       "4           18.0     10.0        60.0         8.0      40212.385966   \n",
       "\n",
       "   P(Coll) Options 1 &2  Predicted Collisions Option 1  \\\n",
       "0              0.137860                     103.181218   \n",
       "1              0.117458                     144.956697   \n",
       "2              0.137860                      90.073455   \n",
       "3              0.137860                     260.336199   \n",
       "4              0.106177                     583.659614   \n",
       "\n",
       "   Avoidance Rate Option 1  Non-Avoidance Rate Option 1  \n",
       "0                 0.990308                     0.009692  \n",
       "1                 0.958608                     0.041392  \n",
       "2                 0.955592                     0.044408  \n",
       "3                 0.957747                     0.042253  \n",
       "4                 0.952027                     0.047973  \n",
       "\n",
       "[5 rows x 35 columns]"
      ]
     },
     "execution_count": 991,
     "metadata": {},
     "output_type": "execute_result"
    }
   ],
   "source": [
    "df.head()"
   ]
  },
  {
   "cell_type": "markdown",
   "metadata": {},
   "source": [
    "With the development of new technology has come the wind turbine. While our renewable energy sources have grown, our messenger seabird populations have dwindled due to the fact that they tragically crash into the turbines.  Because of this, it is of the upmost importance that we are able to predict the rates at which the seabirds will crash into the wind turbines, and the rates of how many will crash into the turbines in order to prevent as many tragic deaths as possible. "
   ]
  },
  {
   "cell_type": "code",
   "execution_count": 996,
   "metadata": {},
   "outputs": [
    {
     "data": {
      "text/html": [
       "<div>\n",
       "<style scoped>\n",
       "    .dataframe tbody tr th:only-of-type {\n",
       "        vertical-align: middle;\n",
       "    }\n",
       "\n",
       "    .dataframe tbody tr th {\n",
       "        vertical-align: top;\n",
       "    }\n",
       "\n",
       "    .dataframe thead th {\n",
       "        text-align: right;\n",
       "    }\n",
       "</style>\n",
       "<table border=\"1\" class=\"dataframe\">\n",
       "  <thead>\n",
       "    <tr style=\"text-align: right;\">\n",
       "      <th></th>\n",
       "      <th>length</th>\n",
       "      <th>wingspan</th>\n",
       "      <th>speed</th>\n",
       "      <th>Collision Rate</th>\n",
       "      <th>N Birds Passing</th>\n",
       "      <th>Hours Survey</th>\n",
       "      <th>Birds/Hr</th>\n",
       "      <th>N Days</th>\n",
       "      <th>Hours Daylight</th>\n",
       "      <th>Nocturnal Correction</th>\n",
       "      <th>...</th>\n",
       "      <th>Rotor Diameter</th>\n",
       "      <th>Rotor Speed**</th>\n",
       "      <th>Pitch**</th>\n",
       "      <th>Hub Height</th>\n",
       "      <th>N Turbines</th>\n",
       "      <th>Rotor Swept Area</th>\n",
       "      <th>P(Coll) Options 1 &amp;2</th>\n",
       "      <th>Predicted Collisions Option 1</th>\n",
       "      <th>Avoidance Rate Option 1</th>\n",
       "      <th>Non-Avoidance Rate Option 1</th>\n",
       "    </tr>\n",
       "  </thead>\n",
       "  <tbody>\n",
       "    <tr>\n",
       "      <th>count</th>\n",
       "      <td>57.000000</td>\n",
       "      <td>57.000000</td>\n",
       "      <td>57.000000</td>\n",
       "      <td>57.000000</td>\n",
       "      <td>49.000000</td>\n",
       "      <td>55.000000</td>\n",
       "      <td>55.000000</td>\n",
       "      <td>55.000000</td>\n",
       "      <td>55.000000</td>\n",
       "      <td>55.00</td>\n",
       "      <td>...</td>\n",
       "      <td>57.000000</td>\n",
       "      <td>57.000000</td>\n",
       "      <td>57.0</td>\n",
       "      <td>57.000000</td>\n",
       "      <td>57.000000</td>\n",
       "      <td>57.000000</td>\n",
       "      <td>57.000000</td>\n",
       "      <td>57.000000</td>\n",
       "      <td>57.000000</td>\n",
       "      <td>57.000000</td>\n",
       "    </tr>\n",
       "    <tr>\n",
       "      <th>mean</th>\n",
       "      <td>0.515789</td>\n",
       "      <td>1.301754</td>\n",
       "      <td>11.582456</td>\n",
       "      <td>2.076667</td>\n",
       "      <td>5115.467592</td>\n",
       "      <td>64.592727</td>\n",
       "      <td>25.365804</td>\n",
       "      <td>171.690909</td>\n",
       "      <td>10.620727</td>\n",
       "      <td>0.25</td>\n",
       "      <td>...</td>\n",
       "      <td>70.000000</td>\n",
       "      <td>24.684211</td>\n",
       "      <td>10.0</td>\n",
       "      <td>68.122807</td>\n",
       "      <td>8.473684</td>\n",
       "      <td>36308.323264</td>\n",
       "      <td>0.113001</td>\n",
       "      <td>180.921854</td>\n",
       "      <td>0.898886</td>\n",
       "      <td>0.101114</td>\n",
       "    </tr>\n",
       "    <tr>\n",
       "      <th>std</th>\n",
       "      <td>0.125995</td>\n",
       "      <td>0.197634</td>\n",
       "      <td>1.688948</td>\n",
       "      <td>6.348224</td>\n",
       "      <td>23368.809965</td>\n",
       "      <td>83.029758</td>\n",
       "      <td>71.377217</td>\n",
       "      <td>316.311314</td>\n",
       "      <td>2.140563</td>\n",
       "      <td>0.00</td>\n",
       "      <td>...</td>\n",
       "      <td>20.829238</td>\n",
       "      <td>11.572995</td>\n",
       "      <td>0.0</td>\n",
       "      <td>18.315753</td>\n",
       "      <td>6.987502</td>\n",
       "      <td>36595.612255</td>\n",
       "      <td>0.017688</td>\n",
       "      <td>488.752163</td>\n",
       "      <td>0.654735</td>\n",
       "      <td>0.654735</td>\n",
       "    </tr>\n",
       "    <tr>\n",
       "      <th>min</th>\n",
       "      <td>0.260000</td>\n",
       "      <td>0.775000</td>\n",
       "      <td>9.500000</td>\n",
       "      <td>0.000000</td>\n",
       "      <td>1.000000</td>\n",
       "      <td>11.700000</td>\n",
       "      <td>0.026316</td>\n",
       "      <td>31.000000</td>\n",
       "      <td>9.200000</td>\n",
       "      <td>0.25</td>\n",
       "      <td>...</td>\n",
       "      <td>30.000000</td>\n",
       "      <td>15.000000</td>\n",
       "      <td>10.0</td>\n",
       "      <td>34.000000</td>\n",
       "      <td>2.000000</td>\n",
       "      <td>3619.114737</td>\n",
       "      <td>0.065554</td>\n",
       "      <td>0.074879</td>\n",
       "      <td>-3.952360</td>\n",
       "      <td>0.000000</td>\n",
       "    </tr>\n",
       "    <tr>\n",
       "      <th>25%</th>\n",
       "      <td>0.360000</td>\n",
       "      <td>1.050000</td>\n",
       "      <td>9.500000</td>\n",
       "      <td>0.000000</td>\n",
       "      <td>39.000000</td>\n",
       "      <td>27.000000</td>\n",
       "      <td>1.093150</td>\n",
       "      <td>61.000000</td>\n",
       "      <td>9.300000</td>\n",
       "      <td>0.25</td>\n",
       "      <td>...</td>\n",
       "      <td>48.000000</td>\n",
       "      <td>18.000000</td>\n",
       "      <td>10.0</td>\n",
       "      <td>55.000000</td>\n",
       "      <td>4.000000</td>\n",
       "      <td>12723.450247</td>\n",
       "      <td>0.106177</td>\n",
       "      <td>2.652812</td>\n",
       "      <td>0.986083</td>\n",
       "      <td>0.000000</td>\n",
       "    </tr>\n",
       "    <tr>\n",
       "      <th>50%</th>\n",
       "      <td>0.590000</td>\n",
       "      <td>1.440000</td>\n",
       "      <td>12.800000</td>\n",
       "      <td>0.000000</td>\n",
       "      <td>182.000000</td>\n",
       "      <td>38.000000</td>\n",
       "      <td>5.062500</td>\n",
       "      <td>61.000000</td>\n",
       "      <td>10.000000</td>\n",
       "      <td>0.25</td>\n",
       "      <td>...</td>\n",
       "      <td>80.000000</td>\n",
       "      <td>18.000000</td>\n",
       "      <td>10.0</td>\n",
       "      <td>80.000000</td>\n",
       "      <td>4.000000</td>\n",
       "      <td>16231.823843</td>\n",
       "      <td>0.113323</td>\n",
       "      <td>31.796994</td>\n",
       "      <td>1.000000</td>\n",
       "      <td>0.000000</td>\n",
       "    </tr>\n",
       "    <tr>\n",
       "      <th>75%</th>\n",
       "      <td>0.610000</td>\n",
       "      <td>1.440000</td>\n",
       "      <td>12.800000</td>\n",
       "      <td>1.000000</td>\n",
       "      <td>1021.000000</td>\n",
       "      <td>57.000000</td>\n",
       "      <td>17.247222</td>\n",
       "      <td>152.000000</td>\n",
       "      <td>10.000000</td>\n",
       "      <td>0.25</td>\n",
       "      <td>...</td>\n",
       "      <td>82.000000</td>\n",
       "      <td>43.000000</td>\n",
       "      <td>10.0</td>\n",
       "      <td>80.000000</td>\n",
       "      <td>19.000000</td>\n",
       "      <td>95504.416669</td>\n",
       "      <td>0.117458</td>\n",
       "      <td>101.058006</td>\n",
       "      <td>1.000000</td>\n",
       "      <td>0.013917</td>\n",
       "    </tr>\n",
       "    <tr>\n",
       "      <th>max</th>\n",
       "      <td>0.710000</td>\n",
       "      <td>1.575000</td>\n",
       "      <td>13.700000</td>\n",
       "      <td>37.000000</td>\n",
       "      <td>158600.000000</td>\n",
       "      <td>370.000000</td>\n",
       "      <td>507.178082</td>\n",
       "      <td>1461.000000</td>\n",
       "      <td>16.300000</td>\n",
       "      <td>0.25</td>\n",
       "      <td>...</td>\n",
       "      <td>92.000000</td>\n",
       "      <td>43.000000</td>\n",
       "      <td>10.0</td>\n",
       "      <td>80.000000</td>\n",
       "      <td>19.000000</td>\n",
       "      <td>95504.416669</td>\n",
       "      <td>0.146262</td>\n",
       "      <td>3349.553647</td>\n",
       "      <td>1.000000</td>\n",
       "      <td>4.952360</td>\n",
       "    </tr>\n",
       "  </tbody>\n",
       "</table>\n",
       "<p>8 rows × 32 columns</p>\n",
       "</div>"
      ],
      "text/plain": [
       "          length   wingspan      speed  Collision Rate  N Birds Passing  \\\n",
       "count  57.000000  57.000000  57.000000       57.000000        49.000000   \n",
       "mean    0.515789   1.301754  11.582456        2.076667      5115.467592   \n",
       "std     0.125995   0.197634   1.688948        6.348224     23368.809965   \n",
       "min     0.260000   0.775000   9.500000        0.000000         1.000000   \n",
       "25%     0.360000   1.050000   9.500000        0.000000        39.000000   \n",
       "50%     0.590000   1.440000  12.800000        0.000000       182.000000   \n",
       "75%     0.610000   1.440000  12.800000        1.000000      1021.000000   \n",
       "max     0.710000   1.575000  13.700000       37.000000    158600.000000   \n",
       "\n",
       "       Hours Survey    Birds/Hr       N Days  Hours Daylight  \\\n",
       "count     55.000000   55.000000    55.000000       55.000000   \n",
       "mean      64.592727   25.365804   171.690909       10.620727   \n",
       "std       83.029758   71.377217   316.311314        2.140563   \n",
       "min       11.700000    0.026316    31.000000        9.200000   \n",
       "25%       27.000000    1.093150    61.000000        9.300000   \n",
       "50%       38.000000    5.062500    61.000000       10.000000   \n",
       "75%       57.000000   17.247222   152.000000       10.000000   \n",
       "max      370.000000  507.178082  1461.000000       16.300000   \n",
       "\n",
       "       Nocturnal Correction             ...               Rotor Diameter  \\\n",
       "count                 55.00             ...                    57.000000   \n",
       "mean                   0.25             ...                    70.000000   \n",
       "std                    0.00             ...                    20.829238   \n",
       "min                    0.25             ...                    30.000000   \n",
       "25%                    0.25             ...                    48.000000   \n",
       "50%                    0.25             ...                    80.000000   \n",
       "75%                    0.25             ...                    82.000000   \n",
       "max                    0.25             ...                    92.000000   \n",
       "\n",
       "       Rotor Speed**  Pitch**  Hub Height  N Turbines  Rotor Swept Area  \\\n",
       "count      57.000000     57.0   57.000000   57.000000         57.000000   \n",
       "mean       24.684211     10.0   68.122807    8.473684      36308.323264   \n",
       "std        11.572995      0.0   18.315753    6.987502      36595.612255   \n",
       "min        15.000000     10.0   34.000000    2.000000       3619.114737   \n",
       "25%        18.000000     10.0   55.000000    4.000000      12723.450247   \n",
       "50%        18.000000     10.0   80.000000    4.000000      16231.823843   \n",
       "75%        43.000000     10.0   80.000000   19.000000      95504.416669   \n",
       "max        43.000000     10.0   80.000000   19.000000      95504.416669   \n",
       "\n",
       "       P(Coll) Options 1 &2  Predicted Collisions Option 1  \\\n",
       "count             57.000000                      57.000000   \n",
       "mean               0.113001                     180.921854   \n",
       "std                0.017688                     488.752163   \n",
       "min                0.065554                       0.074879   \n",
       "25%                0.106177                       2.652812   \n",
       "50%                0.113323                      31.796994   \n",
       "75%                0.117458                     101.058006   \n",
       "max                0.146262                    3349.553647   \n",
       "\n",
       "       Avoidance Rate Option 1  Non-Avoidance Rate Option 1  \n",
       "count                57.000000                    57.000000  \n",
       "mean                  0.898886                     0.101114  \n",
       "std                   0.654735                     0.654735  \n",
       "min                  -3.952360                     0.000000  \n",
       "25%                   0.986083                     0.000000  \n",
       "50%                   1.000000                     0.000000  \n",
       "75%                   1.000000                     0.013917  \n",
       "max                   1.000000                     4.952360  \n",
       "\n",
       "[8 rows x 32 columns]"
      ]
     },
     "execution_count": 996,
     "metadata": {},
     "output_type": "execute_result"
    }
   ],
   "source": [
    "df.describe()"
   ]
  },
  {
   "cell_type": "code",
   "execution_count": 994,
   "metadata": {},
   "outputs": [
    {
     "data": {
      "text/plain": [
       "5115.467591836735"
      ]
     },
     "execution_count": 994,
     "metadata": {},
     "output_type": "execute_result"
    }
   ],
   "source": [
    "df['N Birds Passing'].mean()"
   ]
  },
  {
   "cell_type": "code",
   "execution_count": 995,
   "metadata": {},
   "outputs": [
    {
     "data": {
      "text/plain": [
       "2.0766666666666667"
      ]
     },
     "execution_count": 995,
     "metadata": {},
     "output_type": "execute_result"
    }
   ],
   "source": [
    "df['Collision Rate'].mean()"
   ]
  },
  {
   "cell_type": "code",
   "execution_count": 993,
   "metadata": {},
   "outputs": [
    {
     "data": {
      "text/plain": [
       "11.582456140350878"
      ]
     },
     "execution_count": 993,
     "metadata": {},
     "output_type": "execute_result"
    }
   ],
   "source": [
    "df['speed'].mean()"
   ]
  },
  {
   "cell_type": "code",
   "execution_count": 992,
   "metadata": {},
   "outputs": [
    {
     "data": {
      "text/plain": [
       "2.0766666666666667"
      ]
     },
     "execution_count": 992,
     "metadata": {},
     "output_type": "execute_result"
    }
   ],
   "source": [
    "df['Collision Rate'].mean()"
   ]
  },
  {
   "cell_type": "markdown",
   "metadata": {},
   "source": [
    "This brings us to the good news, and the bad news. The bad news, our data clearly shows that birds are definitely smacking into wind turbines. The good news, is that on average only 2% of birds passing by smack the turbines. Other bad news, the turbines spin almost twice as fast as the birds fly, so avoidance can be difficult if the birds get too close, however, the data shows on average on two percent of the birds get to close... \n",
    "It is important to understand the magnitude of this issue, and so we will visualize our data. "
   ]
  },
  {
   "cell_type": "code",
   "execution_count": 997,
   "metadata": {},
   "outputs": [
    {
     "data": {
      "text/plain": [
       "<seaborn.axisgrid.FacetGrid at 0x1a37070860>"
      ]
     },
     "execution_count": 997,
     "metadata": {},
     "output_type": "execute_result"
    },
    {
     "data": {
      "image/png": "[encoded data removed]",
      "text/plain": [
       "<Figure size 360x360 with 1 Axes>"
      ]
     },
     "metadata": {
      "needs_background": "light"
     },
     "output_type": "display_data"
    }
   ],
   "source": [
    "sns.lmplot(x=\"Collision Rate\", y=\"N Birds Passing\", data=df)"
   ]
  },
  {
   "cell_type": "markdown",
   "metadata": {},
   "source": [
    "This graph suggest that the more birds that fly by the turbines, the more birds smack into the turbines. However, it is also necessary to determine the relationship between the percentage of bird collisions and the rate that the turbines turn. "
   ]
  },
  {
   "cell_type": "code",
   "execution_count": 998,
   "metadata": {},
   "outputs": [
    {
     "data": {
      "text/plain": [
       "<seaborn.axisgrid.FacetGrid at 0x1a370bb9e8>"
      ]
     },
     "execution_count": 998,
     "metadata": {},
     "output_type": "execute_result"
    },
    {
     "data": {
      "image/png": "[encoded data removed]",
      "text/plain": [
       "<Figure size 360x360 with 1 Axes>"
      ]
     },
     "metadata": {
      "needs_background": "light"
     },
     "output_type": "display_data"
    }
   ],
   "source": [
    "sns.lmplot(x=\"Collision Rate\", y=\"Rotor Speed**\", data=df)"
   ]
  },
  {
   "cell_type": "markdown",
   "metadata": {},
   "source": [
    "This scatter plot is very unclear, however if we change the axis..."
   ]
  },
  {
   "cell_type": "code",
   "execution_count": 1000,
   "metadata": {},
   "outputs": [
    {
     "data": {
      "text/plain": [
       "<seaborn.axisgrid.FacetGrid at 0x1a36928358>"
      ]
     },
     "execution_count": 1000,
     "metadata": {},
     "output_type": "execute_result"
    },
    {
     "data": {
      "image/png": "[encoded data removed]",
      "text/plain": [
       "<Figure size 360x360 with 1 Axes>"
      ]
     },
     "metadata": {
      "needs_background": "light"
     },
     "output_type": "display_data"
    }
   ],
   "source": [
    "sns.lmplot(x=\"Rotor Speed**\", y=\"Collision Rate\", data=df)"
   ]
  },
  {
   "cell_type": "markdown",
   "metadata": {},
   "source": [
    "A very strange but clear relationship is shown. Collisions appear clustered at rotor speeds betwen 15-20 mph,and are essentially non existent until rotor speeds over 40 mph. This tracks with the idea that if they fly too slow they can't turn away in time, and if they fly too quickly they smack into the turbines before they can change their course. It is our recommendation that rotor speeds be changed to 30mph where essentially no bird collisions occur in order to save lives. "
   ]
  },
  {
   "cell_type": "code",
   "execution_count": null,
   "metadata": {},
   "outputs": [],
   "source": []
  }
 ],
 "metadata": {
  "kernelspec": {
   "display_name": "Python 3",
   "language": "python",
   "name": "python3"
  },
  "language_info": {
   "codemirror_mode": {
    "name": "ipython",
    "version": 3
   },
   "file_extension": ".py",
   "mimetype": "text/x-python",
   "name": "python",
   "nbconvert_exporter": "python",
   "pygments_lexer": "ipython3",
   "version": "3.7.1"
  }
 },
 "nbformat": 4,
 "nbformat_minor": 2
}
